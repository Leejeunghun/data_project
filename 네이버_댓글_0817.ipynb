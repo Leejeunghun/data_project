{
 "cells": [
  {
   "cell_type": "code",
   "execution_count": 3,
   "metadata": {},
   "outputs": [],
   "source": []
  },
  {
   "cell_type": "code",
   "execution_count": 23,
   "metadata": {},
   "outputs": [],
   "source": [
    "# 댓글을 달 빈 리스트를 생성합니다.\n",
    "List=[] \n",
    "# 라이브러리를 로드합니다.\n",
    "from bs4 import BeautifulSoup \n",
    "import requests \n",
    "import re \n",
    "import sys \n",
    "import pprint \n",
    "import pandas as pd\n",
    "\n",
    "\n",
    "# 네이버 뉴스 url을 입력합니다.\n",
    "url=\"https://entertain.naver.com/ranking/read?oid=109&aid=0004059697\" \n",
    "oid=url.split(\"oid=\")[1].split(\"&\")[0] \n",
    "aid=url.split(\"aid=\")[1] \n",
    "page=1     \n",
    "\n",
    "header = { \n",
    "    \"User-agent\":\"Mozilla/5.0 (Windows NT 10.0; Win64; x64) AppleWebKit/537.36 (KHTML, like Gecko) Chrome/65.0.3325.181 Safari/537.36\", \n",
    "    \"referer\":url,      \n",
    "}  \n",
    "\n",
    "\n",
    "while True : \n",
    "    c_url=\"https://apis.naver.com/commentBox/cbox/web_neo_list_jsonp.json?ticket=news&templateId=default_society&pool=cbox5&_callback=jQuery1707138182064460843_1523512042464&lang=ko&country=&objectId=news\"+oid+\"%2C\"+aid+\"&categoryId=&pageSize=20&indexSize=10&groupId=&listType=OBJECT&pageType=more&page=\"+str(page)+\"&refresh=false&sort=FAVORITE\"  \n",
    "# 파싱하는 단계입니다.\n",
    "    r=requests.get(c_url,headers=header) \n",
    "    cont=BeautifulSoup(r.content,\"html.parser\")      \n",
    "    total_comm=str(cont).split('comment\":')[1].split(\",\")[0]     \n",
    "    match=re.findall('\"contents\":([^\\*]*),\"userIdNo\"', str(cont)) \n",
    "    \n",
    "    \n",
    "# 댓글을 리스트에 중첩합니다.\n",
    "    List.append(match) \n",
    "# 한번에 댓글이 20개씩 보이기 때문에 한 페이지씩 몽땅 댓글을 긁어 옵니다.\n",
    "    if int(total_comm) <= ((page) * 20): \n",
    "        break \n",
    "    else :  \n",
    "        page+=1\n",
    "\n",
    "\n",
    "        \n",
    "        \n",
    "        \n",
    "# 여러 리스트들을 하나로 묶어 주는 함수입니다.\n",
    "def flatten(l): \n",
    "    flatList = [] \n",
    "    for elem in l: \n",
    "        # if an element of a list is a list \n",
    "        # iterate over this list and add elements to flatList  \n",
    "        if type(elem) == list: \n",
    "            for e in elem: \n",
    "                flatList.append(e) \n",
    "        else: \n",
    "            flatList.append(elem) \n",
    "    return flatList\n",
    "\n",
    "\n",
    "# 리스트 결과입니다.\n",
    "#flatten(List)\n",
    "\n",
    "df1 = flatten(List)\n",
    "df=pd.DataFrame(df1)\n",
    "\n",
    "df.to_csv(\"ccc1.csv\")"
   ]
  },
  {
   "cell_type": "code",
   "execution_count": 24,
   "metadata": {},
   "outputs": [
    {
     "data": {
      "text/plain": [
       "'0010995904'"
      ]
     },
     "execution_count": 24,
     "metadata": {},
     "output_type": "execute_result"
    }
   ],
   "source": [
    "aid"
   ]
  },
  {
   "cell_type": "code",
   "execution_count": 14,
   "metadata": {},
   "outputs": [
    {
     "ename": "WebDriverException",
     "evalue": "Message: chrome not reachable\n  (Session info: chrome=76.0.3809.100)\n",
     "output_type": "error",
     "traceback": [
      "\u001b[1;31m---------------------------------------------------------------------------\u001b[0m",
      "\u001b[1;31mWebDriverException\u001b[0m                        Traceback (most recent call last)",
      "\u001b[1;32m<ipython-input-14-d66ed453e3b0>\u001b[0m in \u001b[0;36m<module>\u001b[1;34m\u001b[0m\n\u001b[0;32m     20\u001b[0m \u001b[1;32mfor\u001b[0m \u001b[0mday\u001b[0m \u001b[1;32min\u001b[0m \u001b[0mdays\u001b[0m\u001b[1;33m:\u001b[0m\u001b[1;33m\u001b[0m\u001b[1;33m\u001b[0m\u001b[0m\n\u001b[0;32m     21\u001b[0m     \u001b[0marticle\u001b[0m\u001b[1;33m=\u001b[0m\u001b[1;34m'https://news.naver.com/main/ranking/popularDay.nhn?rankingType=popular_day&sectionId=100&date=201901'\u001b[0m\u001b[1;33m+\u001b[0m\u001b[0mday\u001b[0m\u001b[1;33m\u001b[0m\u001b[1;33m\u001b[0m\u001b[0m\n\u001b[1;32m---> 22\u001b[1;33m     \u001b[0mdriver\u001b[0m\u001b[1;33m.\u001b[0m\u001b[0mget\u001b[0m\u001b[1;33m(\u001b[0m\u001b[0marticle\u001b[0m\u001b[1;33m)\u001b[0m\u001b[1;33m\u001b[0m\u001b[1;33m\u001b[0m\u001b[0m\n\u001b[0m\u001b[0;32m     23\u001b[0m     \u001b[0mhtml\u001b[0m \u001b[1;33m=\u001b[0m \u001b[0mdriver\u001b[0m\u001b[1;33m.\u001b[0m\u001b[0mpage_source\u001b[0m\u001b[1;33m\u001b[0m\u001b[1;33m\u001b[0m\u001b[0m\n\u001b[0;32m     24\u001b[0m     \u001b[0mbs\u001b[0m \u001b[1;33m=\u001b[0m \u001b[0mBeautifulSoup\u001b[0m\u001b[1;33m(\u001b[0m\u001b[0mhtml\u001b[0m\u001b[1;33m,\u001b[0m \u001b[1;34m'html.parser'\u001b[0m\u001b[1;33m)\u001b[0m\u001b[1;33m\u001b[0m\u001b[1;33m\u001b[0m\u001b[0m\n",
      "\u001b[1;32m~\\Anaconda3\\lib\\site-packages\\selenium\\webdriver\\remote\\webdriver.py\u001b[0m in \u001b[0;36mget\u001b[1;34m(self, url)\u001b[0m\n\u001b[0;32m    331\u001b[0m         \u001b[0mLoads\u001b[0m \u001b[0ma\u001b[0m \u001b[0mweb\u001b[0m \u001b[0mpage\u001b[0m \u001b[1;32min\u001b[0m \u001b[0mthe\u001b[0m \u001b[0mcurrent\u001b[0m \u001b[0mbrowser\u001b[0m \u001b[0msession\u001b[0m\u001b[1;33m.\u001b[0m\u001b[1;33m\u001b[0m\u001b[1;33m\u001b[0m\u001b[0m\n\u001b[0;32m    332\u001b[0m         \"\"\"\n\u001b[1;32m--> 333\u001b[1;33m         \u001b[0mself\u001b[0m\u001b[1;33m.\u001b[0m\u001b[0mexecute\u001b[0m\u001b[1;33m(\u001b[0m\u001b[0mCommand\u001b[0m\u001b[1;33m.\u001b[0m\u001b[0mGET\u001b[0m\u001b[1;33m,\u001b[0m \u001b[1;33m{\u001b[0m\u001b[1;34m'url'\u001b[0m\u001b[1;33m:\u001b[0m \u001b[0murl\u001b[0m\u001b[1;33m}\u001b[0m\u001b[1;33m)\u001b[0m\u001b[1;33m\u001b[0m\u001b[1;33m\u001b[0m\u001b[0m\n\u001b[0m\u001b[0;32m    334\u001b[0m \u001b[1;33m\u001b[0m\u001b[0m\n\u001b[0;32m    335\u001b[0m     \u001b[1;33m@\u001b[0m\u001b[0mproperty\u001b[0m\u001b[1;33m\u001b[0m\u001b[1;33m\u001b[0m\u001b[0m\n",
      "\u001b[1;32m~\\Anaconda3\\lib\\site-packages\\selenium\\webdriver\\remote\\webdriver.py\u001b[0m in \u001b[0;36mexecute\u001b[1;34m(self, driver_command, params)\u001b[0m\n\u001b[0;32m    319\u001b[0m         \u001b[0mresponse\u001b[0m \u001b[1;33m=\u001b[0m \u001b[0mself\u001b[0m\u001b[1;33m.\u001b[0m\u001b[0mcommand_executor\u001b[0m\u001b[1;33m.\u001b[0m\u001b[0mexecute\u001b[0m\u001b[1;33m(\u001b[0m\u001b[0mdriver_command\u001b[0m\u001b[1;33m,\u001b[0m \u001b[0mparams\u001b[0m\u001b[1;33m)\u001b[0m\u001b[1;33m\u001b[0m\u001b[1;33m\u001b[0m\u001b[0m\n\u001b[0;32m    320\u001b[0m         \u001b[1;32mif\u001b[0m \u001b[0mresponse\u001b[0m\u001b[1;33m:\u001b[0m\u001b[1;33m\u001b[0m\u001b[1;33m\u001b[0m\u001b[0m\n\u001b[1;32m--> 321\u001b[1;33m             \u001b[0mself\u001b[0m\u001b[1;33m.\u001b[0m\u001b[0merror_handler\u001b[0m\u001b[1;33m.\u001b[0m\u001b[0mcheck_response\u001b[0m\u001b[1;33m(\u001b[0m\u001b[0mresponse\u001b[0m\u001b[1;33m)\u001b[0m\u001b[1;33m\u001b[0m\u001b[1;33m\u001b[0m\u001b[0m\n\u001b[0m\u001b[0;32m    322\u001b[0m             response['value'] = self._unwrap_value(\n\u001b[0;32m    323\u001b[0m                 response.get('value', None))\n",
      "\u001b[1;32m~\\Anaconda3\\lib\\site-packages\\selenium\\webdriver\\remote\\errorhandler.py\u001b[0m in \u001b[0;36mcheck_response\u001b[1;34m(self, response)\u001b[0m\n\u001b[0;32m    240\u001b[0m                 \u001b[0malert_text\u001b[0m \u001b[1;33m=\u001b[0m \u001b[0mvalue\u001b[0m\u001b[1;33m[\u001b[0m\u001b[1;34m'alert'\u001b[0m\u001b[1;33m]\u001b[0m\u001b[1;33m.\u001b[0m\u001b[0mget\u001b[0m\u001b[1;33m(\u001b[0m\u001b[1;34m'text'\u001b[0m\u001b[1;33m)\u001b[0m\u001b[1;33m\u001b[0m\u001b[1;33m\u001b[0m\u001b[0m\n\u001b[0;32m    241\u001b[0m             \u001b[1;32mraise\u001b[0m \u001b[0mexception_class\u001b[0m\u001b[1;33m(\u001b[0m\u001b[0mmessage\u001b[0m\u001b[1;33m,\u001b[0m \u001b[0mscreen\u001b[0m\u001b[1;33m,\u001b[0m \u001b[0mstacktrace\u001b[0m\u001b[1;33m,\u001b[0m \u001b[0malert_text\u001b[0m\u001b[1;33m)\u001b[0m\u001b[1;33m\u001b[0m\u001b[1;33m\u001b[0m\u001b[0m\n\u001b[1;32m--> 242\u001b[1;33m         \u001b[1;32mraise\u001b[0m \u001b[0mexception_class\u001b[0m\u001b[1;33m(\u001b[0m\u001b[0mmessage\u001b[0m\u001b[1;33m,\u001b[0m \u001b[0mscreen\u001b[0m\u001b[1;33m,\u001b[0m \u001b[0mstacktrace\u001b[0m\u001b[1;33m)\u001b[0m\u001b[1;33m\u001b[0m\u001b[1;33m\u001b[0m\u001b[0m\n\u001b[0m\u001b[0;32m    243\u001b[0m \u001b[1;33m\u001b[0m\u001b[0m\n\u001b[0;32m    244\u001b[0m     \u001b[1;32mdef\u001b[0m \u001b[0m_value_or_default\u001b[0m\u001b[1;33m(\u001b[0m\u001b[0mself\u001b[0m\u001b[1;33m,\u001b[0m \u001b[0mobj\u001b[0m\u001b[1;33m,\u001b[0m \u001b[0mkey\u001b[0m\u001b[1;33m,\u001b[0m \u001b[0mdefault\u001b[0m\u001b[1;33m)\u001b[0m\u001b[1;33m:\u001b[0m\u001b[1;33m\u001b[0m\u001b[1;33m\u001b[0m\u001b[0m\n",
      "\u001b[1;31mWebDriverException\u001b[0m: Message: chrome not reachable\n  (Session info: chrome=76.0.3809.100)\n"
     ]
    }
   ],
   "source": [
    "# 댓글을 달 빈 리스트를 생성합니다.\n",
    "List=[] \n",
    "Like=[]\n",
    "Hate=[]\n",
    "import time\n",
    "import pandas as pd\n",
    "from selenium import webdriver\n",
    "from bs4 import BeautifulSoup as bs\n",
    "from bs4 import BeautifulSoup \n",
    "import requests \n",
    "import re \n",
    "import sys \n",
    "import pprint \n",
    "browser = 'chromedriver.exe'\n",
    "driver = webdriver.Chrome(browser)\n",
    "news_link=[]\n",
    "oid=[]\n",
    "aid=[]\n",
    "days=['01','02','03','04','05','06','07','08','09','10','11','12','13','14','15','16','17','18','19','20','21','22','23','24','25','26','27','28','29','30','31']\n",
    "for day in days:\n",
    "    article='https://news.naver.com/main/ranking/popularDay.nhn?rankingType=popular_day&sectionId=100&date=201901'+day\n",
    "    driver.get(article)    \n",
    "    html = driver.page_source\n",
    "    bs = BeautifulSoup(html, 'html.parser')\n",
    "    contents = bs.find_all(\"a\", {\"class\" : \"nclicks(rnk.gov)\"})\n",
    "    for i in [0,2,4,6,8]:\n",
    "        link=str(contents[i])\n",
    "        href=link.split('href=\"')[1].split('\"')\n",
    "        news_link.append(href[0])\n",
    "    for cnt in range(len(news_link)):\n",
    "        url=news_link[cnt]\n",
    "        oid=(url.split(\"oid=\")[1].split(\"&\")[0]) \n",
    "        aid=(url.split(\"aid=\")[1].split(\"&\")[0])    \n",
    "        url=article+news_link[cnt]\n",
    "        page=1     \n",
    "        header = { \n",
    "            \"User-agent\":\"Mozilla/5.0 (Windows NT 10.0; Win64; x64) AppleWebKit/537.36 (KHTML, like Gecko) Chrome/65.0.3325.181 Safari/537.36\", \n",
    "            \"referer\":url,      \n",
    "        }  \n",
    "        while True : \n",
    "            c_url=\"https://apis.naver.com/commentBox/cbox/web_neo_list_jsonp.json?ticket=news&templateId=default_society&pool=cbox5&_callback=jQuery1707138182064460843_1523512042464&lang=ko&country=&objectId=news\"+oid+\"%2C\"+aid+\"&categoryId=&pageSize=20&indexSize=10&groupId=&listType=OBJECT&pageType=more&page=\"+str(page)+\"&refresh=false&sort=FAVORITE\"              # 파싱하는 단계입니다.\n",
    "            r=requests.get(c_url,headers=header) \n",
    "            cont=BeautifulSoup(r.content,\"html.parser\")      \n",
    "            total_comm='20'\n",
    "            match=re.findall('\"contents\":([^\\*]*),\"userIdNo\"', str(cont))\n",
    "            like =re.findall('\"sympathyCount\":([^\\*]*),\"antipathyCount\"', str(cont))\n",
    "            hate =re.findall('\"antipathyCount\":([^\\*]*),\"userBlind\"', str(cont))\n",
    "    \n",
    "    # 댓글을 리스트에 중첩합니다.\n",
    "            List.append(match)\n",
    "            Like.append(like)\n",
    "            Hate.append(hate)\n",
    "    # 한번에 댓글이 20개씩 보이기 때문에 한 페이지씩 몽땅 댓글을 긁어 옵니다.\n",
    "            if int(total_comm) <= ((page) * 20): \n",
    "                break \n",
    "            else :  \n",
    "                page+=1\n",
    "        df1 = flatten(List)\n",
    "        df2 = flatten(Like)\n",
    "        df3 = flatten(Hate)\n",
    "        s1=pd.Series(df1,name='댓글')\n",
    "        s2=pd.Series(df2,name='좋아요')\n",
    "        s3=pd.Series(df3,name='싫아요')    \n",
    "        df=pd.concat([s1,s2,s3],axis=1)\n",
    "        df.to_excel(\"1월.xlsx\")"
   ]
  },
  {
   "cell_type": "code",
   "execution_count": 16,
   "metadata": {},
   "outputs": [],
   "source": [
    "        df1 = flatten(List)\n",
    "        df2 = flatten(Like)\n",
    "        df3 = flatten(Hate)\n",
    "        s1=pd.Series(df1,name='댓글')\n",
    "        s2=pd.Series(df2,name='좋아요')\n",
    "        s3=pd.Series(df3,name='싫아요')    \n",
    "        df=pd.concat([s1,s2,s3],axis=1)\n",
    "        df.to_excel(\"1월.xlsx\")"
   ]
  },
  {
   "cell_type": "code",
   "execution_count": 16,
   "metadata": {
    "scrolled": false
   },
   "outputs": [],
   "source": [
    "# 댓글을 달 빈 리스트를 생성합니다.\n",
    "List=[] \n",
    "Like=[]\n",
    "Hate=[]\n",
    "# 라이브러리를 로드합니다.\n",
    "from bs4 import BeautifulSoup \n",
    "import requests \n",
    "import re \n",
    "import sys \n",
    "import pprint \n",
    "import pandas as pd\n",
    "\n",
    "# 네이버 뉴스 url을 입력합니다.\n",
    "\n",
    "\n",
    "\n",
    "        \n",
    "        \n",
    "    \n",
    "\n",
    "\n",
    "# 리스트 결과입니다.\n",
    "#flatten(List)"
   ]
  },
  {
   "cell_type": "code",
   "execution_count": 1,
   "metadata": {},
   "outputs": [],
   "source": [
    "# 여러 리스트들을 하나로 묶어 주는 함수입니다.\n",
    "def flatten(l): \n",
    "    flatList = [] \n",
    "    for elem in l: \n",
    "        # if an element of a list is a list \n",
    "        # iterate over this list and add elements to flatList  \n",
    "        if type(elem) == list: \n",
    "            for e in elem: \n",
    "                flatList.append(e) \n",
    "        else: \n",
    "            flatList.append(elem) \n",
    "    return flatList"
   ]
  },
  {
   "cell_type": "code",
   "execution_count": 142,
   "metadata": {},
   "outputs": [
    {
     "name": "stdout",
     "output_type": "stream",
     "text": [
      "/main/ranking/read.nhn?rankingType=popular_day&amp;oid=417&amp;aid=0000439272&amp;date=20190816&amp;type=1&amp;rankingSectionId=100&amp;rankingSeq=2\n",
      "/main/ranking/read.nhn?rankingType=popular_day&amp;oid=417&amp;aid=0000439272&amp;date=20190816&amp;type=1&amp;rankingSectionId=100&amp;rankingSeq=2\n",
      "/main/ranking/read.nhn?rankingType=popular_day&amp;oid=417&amp;aid=0000439272&amp;date=20190816&amp;type=1&amp;rankingSectionId=100&amp;rankingSeq=2\n",
      "/main/ranking/read.nhn?rankingType=popular_day&amp;oid=417&amp;aid=0000439272&amp;date=20190816&amp;type=1&amp;rankingSectionId=100&amp;rankingSeq=2\n",
      "/main/ranking/read.nhn?rankingType=popular_day&amp;oid=417&amp;aid=0000439272&amp;date=20190816&amp;type=1&amp;rankingSectionId=100&amp;rankingSeq=2\n"
     ]
    }
   ],
   "source": [
    "for i in [0,1,2,3,4]:\n",
    "    link=str(contents[2])\n",
    "    href=link.split('href=\"')[1].split('\"')\n",
    "    print(href[0])"
   ]
  },
  {
   "cell_type": "code",
   "execution_count": 71,
   "metadata": {},
   "outputs": [
    {
     "data": {
      "text/plain": [
       "<a class=\"nclicks(rnk.gov)\" href=\"/main/ranking/read.nhn?rankingType=popular_day&amp;oid=022&amp;aid=0003389731&amp;date=20190816&amp;type=1&amp;rankingSectionId=100&amp;rankingSeq=1\" title=\"이념·재산부터 자녀병역 문제까지…각종 의혹 휩싸인 조국\">\n",
       "<img alt=\"\" height=\"72\" onerror=\"javascript:this.src='https://imgnews.pstatic.net/image/news/2009/noimage_106x72.png';\" src=\"https://imgnews.pstatic.net/image/origin/022/2019/08/16/3389731.jpg?type=nf106_72\" title=\"이념·재산부터 자녀병역 문제까지…각종 의혹 휩싸인 조국\" width=\"106\"/>\n",
       "</a>"
      ]
     },
     "execution_count": 71,
     "metadata": {},
     "output_type": "execute_result"
    }
   ],
   "source": [
    "url=\"https://entertain.naver.com/ranking/read?oid=109&aid=0004059697\" \n",
    "oid=url.split(\"oid=\")[1].split(\"&\")[0] \n",
    "aid=url.split(\"aid=\")[1] "
   ]
  }
 ],
 "metadata": {
  "kernelspec": {
   "display_name": "Python 3",
   "language": "python",
   "name": "python3"
  },
  "language_info": {
   "codemirror_mode": {
    "name": "ipython",
    "version": 3
   },
   "file_extension": ".py",
   "mimetype": "text/x-python",
   "name": "python",
   "nbconvert_exporter": "python",
   "pygments_lexer": "ipython3",
   "version": "3.7.3"
  }
 },
 "nbformat": 4,
 "nbformat_minor": 2
}
