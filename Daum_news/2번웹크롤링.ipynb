{
 "cells": [
  {
   "cell_type": "code",
   "execution_count": null,
   "metadata": {},
   "outputs": [],
   "source": [
    "#2번"
   ]
  },
  {
   "cell_type": "code",
   "execution_count": 2,
   "metadata": {},
   "outputs": [],
   "source": [
    "import pandas as pd\n",
    "df=pd.read_excel('뉴스링크/2.xlsx')"
   ]
  },
  {
   "cell_type": "code",
   "execution_count": 3,
   "metadata": {},
   "outputs": [],
   "source": [
    "import re\n",
    "news_link=df['URL ']\n",
    "news_num=[]\n",
    "for cnt in range(len(news_link)):\n",
    "    news_num.append(re.findall('\\d+',news_link[cnt])[0])\n"
   ]
  },
  {
   "cell_type": "code",
   "execution_count": 4,
   "metadata": {},
   "outputs": [
    {
     "name": "stdout",
     "output_type": "stream",
     "text": [
      "에러발생20190224132536548\n",
      "에러발생20190224203420642\n",
      "에러발생20190225123029421\n",
      "에러발생20190225120214581\n",
      "에러발생20190226112813537\n",
      "에러발생20190226142320037\n",
      "에러발생20190309113417910\n",
      "에러발생20190310203110467\n",
      "에러발생20190311213752925\n",
      "에러발생20190312140114711\n",
      "에러발생20190321093003003\n",
      "에러발생20190322111145650\n"
     ]
    }
   ],
   "source": [
    "import time\n",
    "import pandas as pd\n",
    "from selenium import webdriver\n",
    "from bs4 import BeautifulSoup\n",
    "import re\n",
    "comments = open(\"comments.txt\", 'w' , encoding='utf-8' )\n",
    "browser = 'chromedriver.exe'\n",
    "driver = webdriver.Chrome(browser)\n",
    "news_number=news_num\n",
    "df1 =pd.DataFrame([],columns=['기사번호','내용','좋아요','싫어요']) \n",
    "for cnt in range(len(news_number)):\n",
    "    article_box='https://news.v.daum.net/v/{0}'.format(news_number[cnt])\n",
    "    driver.get(article_box)\n",
    "    comments = open(\"2번/제목/Article_{0}.txt\".format(news_number[cnt]),'w', encoding='utf-8')\n",
    "    html = driver.page_source\n",
    "    bs = BeautifulSoup(html, 'html.parser')\n",
    "    contents = bs.find(\"h3\", {\"class\" : \"tit_view\"})\n",
    "    contents=contents.text.replace(\"\\n\",'',5)\n",
    "    contents.replace(\"\\'\",'')\n",
    "    comments.write(contents)\n",
    "    comments.close()\n",
    "    time.sleep(3)\n",
    "    try :\n",
    "        for i in range(0, 6) :\n",
    "            driver.find_element_by_css_selector(\"#alex-area > div > div > div > div.cmt_box > div.alex_more > a\").click()\n",
    "            time.sleep(2)\n",
    "            i +=1\n",
    "    except :\n",
    "        print(\"데이터 누락 발생\"+news_number[cnt])\n",
    "    html = driver.page_source\n",
    "    bs = BeautifulSoup(html, 'html.parser')\n",
    "    contents = bs.find_all(\"p\", {\"class\" : \"desc_txt font_size_17\"})\n",
    "    like = bs.find_all(\"button\", {\"class\" : \"btn_g btn_recomm #like ?c_title=%EB%8C%93%EA%B8%80%EC%B0%AC%EC%84%B1\"})\n",
    "    hate = bs.find_all(\"button\", {\"class\" : \"btn_g btn_oppose #dislike ?c_title=%EB%8C%93%EA%B8%80%EB%B0%98%EB%8C%80\"})\n",
    "    try:\n",
    "        for i in range(40):\n",
    "            s_1 = like[i].text\n",
    "            like_num = int(re.findall('\\d+', s_1)[0])\n",
    "            s_2 = hate[i].text\n",
    "            hate_num = int(re.findall('\\d+', s_2)[0])\n",
    "            df2 =pd.DataFrame([[news_number[cnt],contents[i].text,like_num,hate_num]],columns=['기사번호','내용','좋아요','싫어요'])\n",
    "            df1= pd.merge(df1,df2,how=\"outer\")\n",
    "    except:\n",
    "        print(\"에러발생\"+news_number[cnt])\n",
    "df1.to_excel(\"2번/Article_comments_2.xlsx\")\n"
   ]
  },
  {
   "cell_type": "code",
   "execution_count": 14,
   "metadata": {},
   "outputs": [],
   "source": [
    "df1.to_excel(\"2번/Article_comments_2.xlsx\")\n"
   ]
  }
 ],
 "metadata": {
  "kernelspec": {
   "display_name": "Python 3",
   "language": "python",
   "name": "python3"
  },
  "language_info": {
   "codemirror_mode": {
    "name": "ipython",
    "version": 3
   },
   "file_extension": ".py",
   "mimetype": "text/x-python",
   "name": "python",
   "nbconvert_exporter": "python",
   "pygments_lexer": "ipython3",
   "version": "3.7.3"
  }
 },
 "nbformat": 4,
 "nbformat_minor": 2
}
