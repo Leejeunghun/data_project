{
 "cells": [
  {
   "cell_type": "code",
   "execution_count": 6,
   "metadata": {},
   "outputs": [
    {
     "ename": "ElementClickInterceptedException",
     "evalue": "Message: element click intercepted: Element <a href=\"#more\" class=\"link_fold #more\" data-alex-tracker=\"MORE_COMMENT\" data-reactid=\".0.0.0.3.3.0\">...</a> is not clickable at point (369, 26). Other element would receive the click: <a href=\"https://media.daum.net/culture/\" class=\"link_gnb link_gnb6 #media_culture\">...</a>\n  (Session info: chrome=76.0.3809.100)\n",
     "output_type": "error",
     "traceback": [
      "\u001b[1;31m---------------------------------------------------------------------------\u001b[0m",
      "\u001b[1;31mElementClickInterceptedException\u001b[0m          Traceback (most recent call last)",
      "\u001b[1;32m<ipython-input-6-4ba38c7cec0b>\u001b[0m in \u001b[0;36m<module>\u001b[1;34m\u001b[0m\n\u001b[0;32m     24\u001b[0m     \u001b[0mtime\u001b[0m\u001b[1;33m.\u001b[0m\u001b[0msleep\u001b[0m\u001b[1;33m(\u001b[0m\u001b[1;36m3\u001b[0m\u001b[1;33m)\u001b[0m\u001b[1;33m\u001b[0m\u001b[1;33m\u001b[0m\u001b[0m\n\u001b[0;32m     25\u001b[0m     \u001b[1;32mfor\u001b[0m \u001b[0mi\u001b[0m \u001b[1;32min\u001b[0m \u001b[0mrange\u001b[0m\u001b[1;33m(\u001b[0m\u001b[1;36m0\u001b[0m\u001b[1;33m,\u001b[0m \u001b[1;36m7\u001b[0m\u001b[1;33m)\u001b[0m \u001b[1;33m:\u001b[0m\u001b[1;33m\u001b[0m\u001b[1;33m\u001b[0m\u001b[0m\n\u001b[1;32m---> 26\u001b[1;33m         \u001b[0mdriver\u001b[0m\u001b[1;33m.\u001b[0m\u001b[0mfind_element_by_css_selector\u001b[0m\u001b[1;33m(\u001b[0m\u001b[1;34m\"#alex-area > div > div > div > div.cmt_box > div.alex_more > a\"\u001b[0m\u001b[1;33m)\u001b[0m\u001b[1;33m.\u001b[0m\u001b[0mclick\u001b[0m\u001b[1;33m(\u001b[0m\u001b[1;33m)\u001b[0m\u001b[1;33m\u001b[0m\u001b[1;33m\u001b[0m\u001b[0m\n\u001b[0m\u001b[0;32m     27\u001b[0m         \u001b[0mtime\u001b[0m\u001b[1;33m.\u001b[0m\u001b[0msleep\u001b[0m\u001b[1;33m(\u001b[0m\u001b[1;36m3\u001b[0m\u001b[1;33m)\u001b[0m\u001b[1;33m\u001b[0m\u001b[1;33m\u001b[0m\u001b[0m\n\u001b[0;32m     28\u001b[0m         \u001b[0mi\u001b[0m \u001b[1;33m+=\u001b[0m\u001b[1;36m1\u001b[0m\u001b[1;33m\u001b[0m\u001b[1;33m\u001b[0m\u001b[0m\n",
      "\u001b[1;32m~\\Anaconda3\\lib\\site-packages\\selenium\\webdriver\\remote\\webelement.py\u001b[0m in \u001b[0;36mclick\u001b[1;34m(self)\u001b[0m\n\u001b[0;32m     78\u001b[0m     \u001b[1;32mdef\u001b[0m \u001b[0mclick\u001b[0m\u001b[1;33m(\u001b[0m\u001b[0mself\u001b[0m\u001b[1;33m)\u001b[0m\u001b[1;33m:\u001b[0m\u001b[1;33m\u001b[0m\u001b[1;33m\u001b[0m\u001b[0m\n\u001b[0;32m     79\u001b[0m         \u001b[1;34m\"\"\"Clicks the element.\"\"\"\u001b[0m\u001b[1;33m\u001b[0m\u001b[1;33m\u001b[0m\u001b[0m\n\u001b[1;32m---> 80\u001b[1;33m         \u001b[0mself\u001b[0m\u001b[1;33m.\u001b[0m\u001b[0m_execute\u001b[0m\u001b[1;33m(\u001b[0m\u001b[0mCommand\u001b[0m\u001b[1;33m.\u001b[0m\u001b[0mCLICK_ELEMENT\u001b[0m\u001b[1;33m)\u001b[0m\u001b[1;33m\u001b[0m\u001b[1;33m\u001b[0m\u001b[0m\n\u001b[0m\u001b[0;32m     81\u001b[0m \u001b[1;33m\u001b[0m\u001b[0m\n\u001b[0;32m     82\u001b[0m     \u001b[1;32mdef\u001b[0m \u001b[0msubmit\u001b[0m\u001b[1;33m(\u001b[0m\u001b[0mself\u001b[0m\u001b[1;33m)\u001b[0m\u001b[1;33m:\u001b[0m\u001b[1;33m\u001b[0m\u001b[1;33m\u001b[0m\u001b[0m\n",
      "\u001b[1;32m~\\Anaconda3\\lib\\site-packages\\selenium\\webdriver\\remote\\webelement.py\u001b[0m in \u001b[0;36m_execute\u001b[1;34m(self, command, params)\u001b[0m\n\u001b[0;32m    631\u001b[0m             \u001b[0mparams\u001b[0m \u001b[1;33m=\u001b[0m \u001b[1;33m{\u001b[0m\u001b[1;33m}\u001b[0m\u001b[1;33m\u001b[0m\u001b[1;33m\u001b[0m\u001b[0m\n\u001b[0;32m    632\u001b[0m         \u001b[0mparams\u001b[0m\u001b[1;33m[\u001b[0m\u001b[1;34m'id'\u001b[0m\u001b[1;33m]\u001b[0m \u001b[1;33m=\u001b[0m \u001b[0mself\u001b[0m\u001b[1;33m.\u001b[0m\u001b[0m_id\u001b[0m\u001b[1;33m\u001b[0m\u001b[1;33m\u001b[0m\u001b[0m\n\u001b[1;32m--> 633\u001b[1;33m         \u001b[1;32mreturn\u001b[0m \u001b[0mself\u001b[0m\u001b[1;33m.\u001b[0m\u001b[0m_parent\u001b[0m\u001b[1;33m.\u001b[0m\u001b[0mexecute\u001b[0m\u001b[1;33m(\u001b[0m\u001b[0mcommand\u001b[0m\u001b[1;33m,\u001b[0m \u001b[0mparams\u001b[0m\u001b[1;33m)\u001b[0m\u001b[1;33m\u001b[0m\u001b[1;33m\u001b[0m\u001b[0m\n\u001b[0m\u001b[0;32m    634\u001b[0m \u001b[1;33m\u001b[0m\u001b[0m\n\u001b[0;32m    635\u001b[0m     \u001b[1;32mdef\u001b[0m \u001b[0mfind_element\u001b[0m\u001b[1;33m(\u001b[0m\u001b[0mself\u001b[0m\u001b[1;33m,\u001b[0m \u001b[0mby\u001b[0m\u001b[1;33m=\u001b[0m\u001b[0mBy\u001b[0m\u001b[1;33m.\u001b[0m\u001b[0mID\u001b[0m\u001b[1;33m,\u001b[0m \u001b[0mvalue\u001b[0m\u001b[1;33m=\u001b[0m\u001b[1;32mNone\u001b[0m\u001b[1;33m)\u001b[0m\u001b[1;33m:\u001b[0m\u001b[1;33m\u001b[0m\u001b[1;33m\u001b[0m\u001b[0m\n",
      "\u001b[1;32m~\\Anaconda3\\lib\\site-packages\\selenium\\webdriver\\remote\\webdriver.py\u001b[0m in \u001b[0;36mexecute\u001b[1;34m(self, driver_command, params)\u001b[0m\n\u001b[0;32m    319\u001b[0m         \u001b[0mresponse\u001b[0m \u001b[1;33m=\u001b[0m \u001b[0mself\u001b[0m\u001b[1;33m.\u001b[0m\u001b[0mcommand_executor\u001b[0m\u001b[1;33m.\u001b[0m\u001b[0mexecute\u001b[0m\u001b[1;33m(\u001b[0m\u001b[0mdriver_command\u001b[0m\u001b[1;33m,\u001b[0m \u001b[0mparams\u001b[0m\u001b[1;33m)\u001b[0m\u001b[1;33m\u001b[0m\u001b[1;33m\u001b[0m\u001b[0m\n\u001b[0;32m    320\u001b[0m         \u001b[1;32mif\u001b[0m \u001b[0mresponse\u001b[0m\u001b[1;33m:\u001b[0m\u001b[1;33m\u001b[0m\u001b[1;33m\u001b[0m\u001b[0m\n\u001b[1;32m--> 321\u001b[1;33m             \u001b[0mself\u001b[0m\u001b[1;33m.\u001b[0m\u001b[0merror_handler\u001b[0m\u001b[1;33m.\u001b[0m\u001b[0mcheck_response\u001b[0m\u001b[1;33m(\u001b[0m\u001b[0mresponse\u001b[0m\u001b[1;33m)\u001b[0m\u001b[1;33m\u001b[0m\u001b[1;33m\u001b[0m\u001b[0m\n\u001b[0m\u001b[0;32m    322\u001b[0m             response['value'] = self._unwrap_value(\n\u001b[0;32m    323\u001b[0m                 response.get('value', None))\n",
      "\u001b[1;32m~\\Anaconda3\\lib\\site-packages\\selenium\\webdriver\\remote\\errorhandler.py\u001b[0m in \u001b[0;36mcheck_response\u001b[1;34m(self, response)\u001b[0m\n\u001b[0;32m    240\u001b[0m                 \u001b[0malert_text\u001b[0m \u001b[1;33m=\u001b[0m \u001b[0mvalue\u001b[0m\u001b[1;33m[\u001b[0m\u001b[1;34m'alert'\u001b[0m\u001b[1;33m]\u001b[0m\u001b[1;33m.\u001b[0m\u001b[0mget\u001b[0m\u001b[1;33m(\u001b[0m\u001b[1;34m'text'\u001b[0m\u001b[1;33m)\u001b[0m\u001b[1;33m\u001b[0m\u001b[1;33m\u001b[0m\u001b[0m\n\u001b[0;32m    241\u001b[0m             \u001b[1;32mraise\u001b[0m \u001b[0mexception_class\u001b[0m\u001b[1;33m(\u001b[0m\u001b[0mmessage\u001b[0m\u001b[1;33m,\u001b[0m \u001b[0mscreen\u001b[0m\u001b[1;33m,\u001b[0m \u001b[0mstacktrace\u001b[0m\u001b[1;33m,\u001b[0m \u001b[0malert_text\u001b[0m\u001b[1;33m)\u001b[0m\u001b[1;33m\u001b[0m\u001b[1;33m\u001b[0m\u001b[0m\n\u001b[1;32m--> 242\u001b[1;33m         \u001b[1;32mraise\u001b[0m \u001b[0mexception_class\u001b[0m\u001b[1;33m(\u001b[0m\u001b[0mmessage\u001b[0m\u001b[1;33m,\u001b[0m \u001b[0mscreen\u001b[0m\u001b[1;33m,\u001b[0m \u001b[0mstacktrace\u001b[0m\u001b[1;33m)\u001b[0m\u001b[1;33m\u001b[0m\u001b[1;33m\u001b[0m\u001b[0m\n\u001b[0m\u001b[0;32m    243\u001b[0m \u001b[1;33m\u001b[0m\u001b[0m\n\u001b[0;32m    244\u001b[0m     \u001b[1;32mdef\u001b[0m \u001b[0m_value_or_default\u001b[0m\u001b[1;33m(\u001b[0m\u001b[0mself\u001b[0m\u001b[1;33m,\u001b[0m \u001b[0mobj\u001b[0m\u001b[1;33m,\u001b[0m \u001b[0mkey\u001b[0m\u001b[1;33m,\u001b[0m \u001b[0mdefault\u001b[0m\u001b[1;33m)\u001b[0m\u001b[1;33m:\u001b[0m\u001b[1;33m\u001b[0m\u001b[1;33m\u001b[0m\u001b[0m\n",
      "\u001b[1;31mElementClickInterceptedException\u001b[0m: Message: element click intercepted: Element <a href=\"#more\" class=\"link_fold #more\" data-alex-tracker=\"MORE_COMMENT\" data-reactid=\".0.0.0.3.3.0\">...</a> is not clickable at point (369, 26). Other element would receive the click: <a href=\"https://media.daum.net/culture/\" class=\"link_gnb link_gnb6 #media_culture\">...</a>\n  (Session info: chrome=76.0.3809.100)\n"
     ]
    }
   ],
   "source": [
    "import time\n",
    "import pandas as pd\n",
    "from selenium import webdriver\n",
    "from bs4 import BeautifulSoup\n",
    "import re\n",
    "comments = open(\"comments.txt\", 'w' , encoding='utf-8' )\n",
    "browser = 'chromedriver.exe'\n",
    "driver = webdriver.Chrome(browser)\n",
    "news_number=['20190101170051381','20190101204503916','20190101091257619','20190101221621617','20190101144925631','20190102112721620','20190102014101826','20190102093354947','20190102200604089','20190102190441962','20190103141939411','20190103164205427','20190103122115010','20190103203704049','20190103225602719','20190104100714475','20190104163203758','20190104145915816','20190104171218981','20190104191336082','20190105090406612','20190105145528940','20190105111812004','20190105171110931','20190105124018779','20190106213626157','20190106104248737','20190106103412604','20190106184557182','20190106210933894','20190107155200552','20190107205024835','20190107000457449','20190107150414832','20190107203102651','20190108203003570','20190108173051059','20190108192240625','20190108113808133',\n",
    "             '20190108174346546','20190109080913971','20190109174252608','20190109082555337','20190109155107375','20190109050602610','20190110132407229','20190110160615836','20190110110048435','20190110101824129','20190110120615761','20190111110129647','20190111110129647','20190111205420250','20190111100018147','20190111004513909','20190111092726566','20190112090042893','20190112110246116','20190112110246116','20190112201207317','20190112023347035','20190113083105728','20190113202813550','20190113132706026','20190113103918542','20190113153121281','20190114122557215','20190114205624398','20190114115048299','20190114112207019','20190114204023113','20190115153714232','20190115205731656','20190115102102886','20190115220439977','20190115072518995','20190116062948003','20190116062948003',\n",
    "             '20190116144602327','20190116210031547','20190116123550475','20190116060103603','20190117100443310','20190117112940926','20190117170753140','20190117093915324','20190117114945900','20190118124452995','20190118213158478','20190118100603286','20190118150902622','20190118204206104','20190119120217115','20190119050007343','20190119215246508','20190119172519771','20190119142147414','20190120172113192','20190120150240274','20190120114630496','20190120121421218','20190120124938765','20190121031507036','20190121155834392','20190121162226367','20190121142737913','20190121085134725','20190122202710587','20190122175946168','20190122082634191','20190122144854278','20190123171706951','20190123100727737','20190123044320621','20190123030856070','20190123105455049','20190123143158139','20190124094446849',\n",
    "             '20190124030111593','20190124090900265','20190124171219728','20190124203000324','20190125163513222','20190125150629418','20190125032155336','20190125053900196','20190125201310846','20190126172037114','20190126183352780','20190126214020153','20190126175735415','20190126130207572','20190127164519269','20190127070015069','20190127053005528','20190127115328785','20190127154431193','20190128202411614','20190128120900244','20190128030840917','20190128221449851','20190128030041682','20190129122424529','20190129165145361','20190129103008543','20190129172745611','20190129115851651','20190130154122637','20190130151437414','20190130043607994','20190130195332857','20190130164352007','20190130094823558','20190131163428267','20190131140642309','20190131050604553','20190131114007102']\n",
    "for cnt in range(len(news_number)):\n",
    "    article_box='https://news.v.daum.net/v/{0}'.format(news_number[cnt])\n",
    "    driver.get(article_box)\n",
    "    comments = open(\"Article_{0}.txt\".format(news_number[cnt]),'w', encoding='utf-8')\n",
    "    html = driver.page_source\n",
    "    bs = BeautifulSoup(html, 'html.parser')\n",
    "    contents = bs.find(\"h3\", {\"class\" : \"tit_view\"})\n",
    "    contents=contents.text.replace(\"\\n\",'',5)\n",
    "    contents.replace(\"\\'\",'')\n",
    "    comments.write(contents)\n",
    "    comments.close()\n",
    "    time.sleep(3)\n",
    "    for i in range(0, 7) :\n",
    "        driver.find_element_by_css_selector(\"#alex-area > div > div > div > div.cmt_box > div.alex_more > a\").click()\n",
    "        time.sleep(3)\n",
    "        i +=1\n",
    "    html = driver.page_source\n",
    "    bs = BeautifulSoup(html, 'html.parser')\n",
    "    contents = bs.find_all(\"p\", {\"class\" : \"desc_txt font_size_17\"})\n",
    "    like = bs.find_all(\"button\", {\"class\" : \"btn_g btn_recomm #like ?c_title=%EB%8C%93%EA%B8%80%EC%B0%AC%EC%84%B1\"})\n",
    "    hate = bs.find_all(\"button\", {\"class\" : \"btn_g btn_oppose #dislike ?c_title=%EB%8C%93%EA%B8%80%EB%B0%98%EB%8C%80\"})\n",
    "    df1 =pd.DataFrame([],columns=['내용','좋아요','싫어요'])\n",
    "    for i in range(40):\n",
    "        s_1 = like[i].text\n",
    "        like_num = int(re.findall('\\d+', s_1)[0])\n",
    "        s_2 = hate[i].text\n",
    "        hate_num = int(re.findall('\\d+', s_2)[0])\n",
    "        df2 =pd.DataFrame([[contents[i].text,like_num,hate_num]],columns=['내용','좋아요','싫어요'])\n",
    "        df1= pd.merge(df1,df2,how=\"outer\")\n",
    "    df1.to_excel(\"Article_comments_{0}.xlsx\".format(news_number[cnt]))\n"
   ]
  },
  {
   "cell_type": "code",
   "execution_count": 4,
   "metadata": {},
   "outputs": [
    {
     "data": {
      "text/plain": [
       "'[KBS 여론조사] \"대통령 국정지지\" 55.2%, \"경제 성과없어\" 65%'"
      ]
     },
     "execution_count": 4,
     "metadata": {},
     "output_type": "execute_result"
    }
   ],
   "source": [
    "contents"
   ]
  }
 ],
 "metadata": {
  "kernelspec": {
   "display_name": "Python 3",
   "language": "python",
   "name": "python3"
  },
  "language_info": {
   "codemirror_mode": {
    "name": "ipython",
    "version": 3
   },
   "file_extension": ".py",
   "mimetype": "text/x-python",
   "name": "python",
   "nbconvert_exporter": "python",
   "pygments_lexer": "ipython3",
   "version": "3.7.3"
  }
 },
 "nbformat": 4,
 "nbformat_minor": 2
}
