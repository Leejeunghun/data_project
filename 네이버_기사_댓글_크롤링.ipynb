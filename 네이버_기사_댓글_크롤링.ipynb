{
 "cells": [
  {
   "cell_type": "code",
   "execution_count": 7,
   "metadata": {},
   "outputs": [],
   "source": [
    "# 좋아요 싫어요 추가 버젼 \n",
    "import time\n",
    "import pandas as pd\n",
    "from selenium import webdriver\n",
    "\n",
    "from bs4 import BeautifulSoup\n",
    "comments = open(\"comments.txt\", 'w' , encoding='utf-8' )\n",
    "browser = 'chromedriver.exe'\n",
    "driver = webdriver.Chrome(browser)\n",
    "#article=['https://entertain.naver.com/ranking/comment/list?oid=609&aid=0000152588','https://entertain.naver.com/ranking/comment/list?oid=144&aid=0000625444']\n",
    "#https://entertain.naver.com/ranking/read?oid=609&aid=0000152588\n",
    "oid=['609','057','469','410']\n",
    "aid=['0000152588','0001374194','0000412447','0000613010']\n",
    "comment=[10,10,10,0]   #페이지 넘길 횟수( 댓글 갯수/20 정도 너무 길면 데이터 전송이 안됨 )\n",
    "for cnt in range(len(oid)):\n",
    "    article_box='https://entertain.naver.com/ranking/read?oid={0}&aid={1}'.format(oid[cnt],aid[cnt])\n",
    "    driver.get(article_box)\n",
    "    comments = open(\"Article_{0}.txt\".format(cnt), 'w' , encoding='utf-8' )\n",
    "    html = driver.page_source\n",
    "    bs = BeautifulSoup(html, 'html.parser')\n",
    "    contents = bs.find(\"div\", {\"class\" : \"article_body font1 size3\"})\n",
    "    contents=contents.text.replace(\"\\n\",'',5)\n",
    "    contents.replace(\"\\'\",'')\n",
    "    comments.write(contents)\n",
    "    comments.close()\n",
    "    \n",
    "    comments = open(\"Title_{0}.txt\".format(cnt), 'w' , encoding='utf-8' )\n",
    "    contents = bs.find(\"h2\", {\"class\" : \"end_tit\"})\n",
    "    contents=contents.text.replace(\"\\n\",'',5)\n",
    "    comments.write(contents)\n",
    "    comments.close()\n",
    "    \n",
    "    time.sleep(5)\n",
    "    article='https://entertain.naver.com/ranking/comment/list?oid={0}&aid={1}'.format(oid[cnt],aid[cnt])\n",
    "    driver.get(article)\n",
    "    time.sleep(3)\n",
    "    for i in range(comment[cnt]) :\n",
    "        driver.find_element_by_css_selector(\".u_cbox_btn_more\").click()\n",
    "        time.sleep(3)\n",
    "        i +=1\n",
    "    html = driver.page_source\n",
    "    bs = BeautifulSoup(html, 'html.parser')\n",
    "    contents = bs.find_all(\"span\", {\"class\" : \"u_cbox_contents\"})\n",
    "    like = bs.find_all(\"em\", {\"class\" : \"u_cbox_cnt_recomm\"})\n",
    "    hate =bs.find_all( \"em\", {\"class\" : \"u_cbox_cnt_unrecomm\"})\n",
    "    df1 =pd.DataFrame([],columns=['내용','좋아요','싫어요'])\n",
    "    for i in range(len(like)):\n",
    "        df2 =pd.DataFrame([[contents[i].text,like[i].text,hate[i].text]],columns=['내용','좋아요','싫어요'])\n",
    "        df1= pd.merge(df1,df2,how=\"outer\")\n",
    "    df1.to_excel(\"Article_comments_{0}.xlsx\".format(cnt))\n",
    "\n"
   ]
  },
  {
   "cell_type": "code",
   "execution_count": 6,
   "metadata": {},
   "outputs": [
    {
     "data": {
      "text/plain": [
       "<h2 class=\"end_tit\">\n",
       "\t\t\t방탄소년단 뷔, 新 자작곡 ‘Winter Bear’ 발표 “처음 써본 영어 가사”\n",
       "\t\t</h2>"
      ]
     },
     "execution_count": 6,
     "metadata": {},
     "output_type": "execute_result"
    }
   ],
   "source": [
    "contents"
   ]
  }
 ],
 "metadata": {
  "kernelspec": {
   "display_name": "Python 3",
   "language": "python",
   "name": "python3"
  },
  "language_info": {
   "codemirror_mode": {
    "name": "ipython",
    "version": 3
   },
   "file_extension": ".py",
   "mimetype": "text/x-python",
   "name": "python",
   "nbconvert_exporter": "python",
   "pygments_lexer": "ipython3",
   "version": "3.7.3"
  }
 },
 "nbformat": 4,
 "nbformat_minor": 2
}
