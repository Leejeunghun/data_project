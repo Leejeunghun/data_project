{
 "cells": [
  {
   "cell_type": "code",
   "execution_count": 268,
   "metadata": {},
   "outputs": [],
   "source": [
    "# 댓글을 달 빈 리스트를 생성합니다.\n",
    "List=[] \n",
    "Like=[]\n",
    "Hate=[]\n",
    "contents=[]\n",
    "import time\n",
    "import pandas as pd\n",
    "from selenium import webdriver\n",
    "from bs4 import BeautifulSoup as bs\n",
    "from bs4 import BeautifulSoup \n",
    "import requests \n",
    "import re \n",
    "import sys \n",
    "import pprint\n",
    "result = []        \n",
    "browser = 'chromedriver.exe'\n",
    "driver = webdriver.Chrome(browser)\n",
    "news_link=[]\n",
    "oid=[]\n",
    "aid=[]\n",
    "url=[]\n",
    "days=['01','02','03','04','05','06','07','08','09','10','11','12','13','14','15','16','17','18','19','20','21','22','23','24','25','26','27','28','29','30','31']\n",
    "#임시\n",
    "df=[]\n",
    "days=['08']\n",
    "for day in days:\n",
    "    result=[]\n",
    "    aid=[]\n",
    "    oid=[]\n",
    "    article='https://news.naver.com/main/ranking/popularDay.nhn?rankingType=popular_day&sectionId=100&date=201907'+day\n",
    "    driver.get(article)    \n",
    "    html = driver.page_source\n",
    "    bs = BeautifulSoup(html, 'html.parser')\n",
    "    for i in range(30):  #contents안의 기사 내용 넣기 \n",
    "        contents.append(bs.find_all(\"li\", {\"class\" : \"ranking_item is_num{0}\".format(i+1)}))\n",
    "        link=str(contents[i])\n",
    "        href=link.split('href=\"')[1].split('\"')\n",
    "        news_link.append(href[0])\n",
    "        oid.append((href[0].split(\"oid=\")[1].split(\"&\")[0])) \n",
    "        aid.append((href[0].split(\"aid=\")[1].split(\"&\")[0]))        \n",
    "        url=(article+news_link[i])\n",
    "        page=1     \n",
    "        header = { \n",
    "            \"User-agent\":\"Mozilla/5.0 (Windows NT 10.0; Win64; x64) AppleWebKit/537.36 (KHTML, like Gecko) Chrome/65.0.3325.181 Safari/537.36\", \n",
    "            \"referer\":url,      \n",
    "        }  \n",
    "        while True : \n",
    "            c_url=\"https://apis.naver.com/commentBox/cbox/web_neo_list_jsonp.json?ticket=news&templateId=default_society&pool=cbox5&_callback=jQuery1707138182064460843_1523512042464&lang=ko&country=&objectId=news\"+oid[i]+\"%2C\"+aid[i]+\"&categoryId=&pageSize=20&indexSize=10&groupId=&listType=OBJECT&pageType=more&page=\"+str(page)+\"&refresh=false&sort=FAVORITE\"              # 파싱하는 단계입니다.\n",
    "            r=requests.get(c_url,headers=header)  \n",
    "            cont=BeautifulSoup(r.content,\"html.parser\")      \n",
    "            total_comm='40'\n",
    "            match=re.findall('\"contents\":([^\\*]*),\"userIdNo\"', str(cont))\n",
    "            like =re.findall('\"sympathyCount\":([^\\*]*),\"antipathyCount\"', str(cont))\n",
    "            hate =re.findall('\"antipathyCount\":([^\\*]*),\"userBlind\"', str(cont))\n",
    "            result.extend(match)\n",
    "            if int(total_comm) <= ((page) * 20): \n",
    "                break \n",
    "            else :  \n",
    "                page+=1\n",
    "    # 댓글을 리스트에 중첩합니다.\n",
    "    # 한번에 댓글이 20개씩 보이기 때문에 한 페이지씩 몽땅 댓글을 긁어 옵니다.\n",
    "    df2 = pd.DataFrame(result)\n",
    "    df2.to_excel('{0}.xlsx'.format(day))\n"
   ]
  },
  {
   "cell_type": "code",
   "execution_count": 258,
   "metadata": {},
   "outputs": [
    {
     "data": {
      "text/plain": [
       "30"
      ]
     },
     "execution_count": 258,
     "metadata": {},
     "output_type": "execute_result"
    }
   ],
   "source": [
    "len(aid)"
   ]
  },
  {
   "cell_type": "code",
   "execution_count": 237,
   "metadata": {},
   "outputs": [],
   "source": [
    "df2 = pd.DataFrame(result)\n",
    "df2.to_excel('a.xlsx')"
   ]
  },
  {
   "cell_type": "code",
   "execution_count": 160,
   "metadata": {},
   "outputs": [
    {
     "ename": "TypeError",
     "evalue": "__init__() got an unexpected keyword argument 'orient'",
     "output_type": "error",
     "traceback": [
      "\u001b[1;31m---------------------------------------------------------------------------\u001b[0m",
      "\u001b[1;31mTypeError\u001b[0m                                 Traceback (most recent call last)",
      "\u001b[1;32m<ipython-input-160-3f53a90a6618>\u001b[0m in \u001b[0;36m<module>\u001b[1;34m\u001b[0m\n\u001b[1;32m----> 1\u001b[1;33m \u001b[0mdf2\u001b[0m \u001b[1;33m=\u001b[0m \u001b[0mpd\u001b[0m\u001b[1;33m.\u001b[0m\u001b[0mDataFrame\u001b[0m\u001b[1;33m(\u001b[0m\u001b[1;33m{\u001b[0m\u001b[1;34m\"c1\"\u001b[0m\u001b[1;33m:\u001b[0m\u001b[0mdf1\u001b[0m\u001b[1;33m,\u001b[0m \u001b[1;34m\"c2\"\u001b[0m\u001b[1;33m:\u001b[0m\u001b[0mdf2\u001b[0m\u001b[1;33m,\u001b[0m \u001b[1;34m\"c3\"\u001b[0m\u001b[1;33m:\u001b[0m\u001b[0mdf3\u001b[0m\u001b[1;33m}\u001b[0m\u001b[1;33m,\u001b[0m\u001b[0morient\u001b[0m\u001b[1;33m=\u001b[0m\u001b[1;34m'index'\u001b[0m\u001b[1;33m)\u001b[0m\u001b[1;33m\u001b[0m\u001b[1;33m\u001b[0m\u001b[0m\n\u001b[0m\u001b[0;32m      2\u001b[0m \u001b[1;33m\u001b[0m\u001b[0m\n",
      "\u001b[1;31mTypeError\u001b[0m: __init__() got an unexpected keyword argument 'orient'"
     ]
    }
   ],
   "source": [
    "df2 = pd.DataFrame({\"c1\":df1, \"c2\":df2, \"c3\":df3})\n",
    "\n"
   ]
  },
  {
   "cell_type": "code",
   "execution_count": null,
   "metadata": {},
   "outputs": [],
   "source": []
  },
  {
   "cell_type": "code",
   "execution_count": 143,
   "metadata": {},
   "outputs": [
    {
     "ename": "SyntaxError",
     "evalue": "invalid syntax (<ipython-input-143-2a6cd31fbe87>, line 4)",
     "output_type": "error",
     "traceback": [
      "\u001b[1;36m  File \u001b[1;32m\"<ipython-input-143-2a6cd31fbe87>\"\u001b[1;36m, line \u001b[1;32m4\u001b[0m\n\u001b[1;33m    k.as.data.frame()\u001b[0m\n\u001b[1;37m       ^\u001b[0m\n\u001b[1;31mSyntaxError\u001b[0m\u001b[1;31m:\u001b[0m invalid syntax\n"
     ]
    }
   ],
   "source": [
    "k=[]\n",
    "for i in range(len(s1)):\n",
    "    k.append([s1[i],s2[i],s3[i]])\n"
   ]
  },
  {
   "cell_type": "code",
   "execution_count": 1,
   "metadata": {},
   "outputs": [],
   "source": [
    "# 여러 리스트들을 하나로 묶어 주는 함수입니다.\n",
    "def flatten(l): \n",
    "    flatList = [] \n",
    "    for elem in l: \n",
    "        # if an element of a list is a list \n",
    "        # iterate over this list and add elements to flatList  \n",
    "        if type(elem) == list: \n",
    "            for e in elem: \n",
    "                flatList.append(e) \n",
    "        else: \n",
    "            flatList.append(elem) \n",
    "    return flatList"
   ]
  }
 ],
 "metadata": {
  "kernelspec": {
   "display_name": "Python 3",
   "language": "python",
   "name": "python3"
  },
  "language_info": {
   "codemirror_mode": {
    "name": "ipython",
    "version": 3
   },
   "file_extension": ".py",
   "mimetype": "text/x-python",
   "name": "python",
   "nbconvert_exporter": "python",
   "pygments_lexer": "ipython3",
   "version": "3.7.3"
  }
 },
 "nbformat": 4,
 "nbformat_minor": 2
}
