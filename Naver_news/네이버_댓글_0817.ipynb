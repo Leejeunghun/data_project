{
 "cells": [
  {
   "cell_type": "code",
   "execution_count": 54,
   "metadata": {},
   "outputs": [
    {
     "ename": "IndexError",
     "evalue": "list index out of range",
     "output_type": "error",
     "traceback": [
      "\u001b[1;31m---------------------------------------------------------------------------\u001b[0m",
      "\u001b[1;31mIndexError\u001b[0m                                Traceback (most recent call last)",
      "\u001b[1;32m<ipython-input-54-3f3ce0d5787c>\u001b[0m in \u001b[0;36m<module>\u001b[1;34m\u001b[0m\n\u001b[0;32m     29\u001b[0m     \u001b[0mPress\u001b[0m   \u001b[1;33m=\u001b[0m  \u001b[0mbs\u001b[0m\u001b[1;33m.\u001b[0m\u001b[0mfind_all\u001b[0m\u001b[1;33m(\u001b[0m\u001b[1;34m\"div\"\u001b[0m\u001b[1;33m,\u001b[0m\u001b[1;33m{\u001b[0m\u001b[1;34m\"class\"\u001b[0m \u001b[1;33m:\u001b[0m \u001b[1;34m\"ranking_office\"\u001b[0m\u001b[1;33m}\u001b[0m\u001b[1;33m)\u001b[0m\u001b[1;33m\u001b[0m\u001b[1;33m\u001b[0m\u001b[0m\n\u001b[0;32m     30\u001b[0m     \u001b[1;32mfor\u001b[0m \u001b[0mi\u001b[0m \u001b[1;32min\u001b[0m \u001b[0ma\u001b[0m\u001b[1;33m:\u001b[0m\u001b[1;33m\u001b[0m\u001b[1;33m\u001b[0m\u001b[0m\n\u001b[1;32m---> 31\u001b[1;33m         \u001b[0mlink\u001b[0m\u001b[1;33m=\u001b[0m\u001b[0mstr\u001b[0m\u001b[1;33m(\u001b[0m\u001b[0mcontents\u001b[0m\u001b[1;33m[\u001b[0m\u001b[0mi\u001b[0m\u001b[1;33m]\u001b[0m\u001b[1;33m)\u001b[0m\u001b[1;33m\u001b[0m\u001b[1;33m\u001b[0m\u001b[0m\n\u001b[0m\u001b[0;32m     32\u001b[0m         \u001b[0mhref\u001b[0m\u001b[1;33m=\u001b[0m\u001b[0mlink\u001b[0m\u001b[1;33m.\u001b[0m\u001b[0msplit\u001b[0m\u001b[1;33m(\u001b[0m\u001b[1;34m'href=\"'\u001b[0m\u001b[1;33m)\u001b[0m\u001b[1;33m[\u001b[0m\u001b[1;36m1\u001b[0m\u001b[1;33m]\u001b[0m\u001b[1;33m.\u001b[0m\u001b[0msplit\u001b[0m\u001b[1;33m(\u001b[0m\u001b[1;34m'\"'\u001b[0m\u001b[1;33m)\u001b[0m\u001b[1;33m\u001b[0m\u001b[1;33m\u001b[0m\u001b[0m\n\u001b[0;32m     33\u001b[0m         \u001b[0mnews_link\u001b[0m\u001b[1;33m.\u001b[0m\u001b[0mappend\u001b[0m\u001b[1;33m(\u001b[0m\u001b[0mhref\u001b[0m\u001b[1;33m[\u001b[0m\u001b[1;36m0\u001b[0m\u001b[1;33m]\u001b[0m\u001b[1;33m)\u001b[0m\u001b[1;33m\u001b[0m\u001b[1;33m\u001b[0m\u001b[0m\n",
      "\u001b[1;31mIndexError\u001b[0m: list index out of range"
     ]
    }
   ],
   "source": [
    "# 댓글을 달 빈 리스트를 생성합니다.\n",
    "List=[] \n",
    "Like=[]\n",
    "Hate=[]\n",
    "import time\n",
    "import pandas as pd\n",
    "from selenium import webdriver\n",
    "from bs4 import BeautifulSoup as bs\n",
    "from bs4 import BeautifulSoup \n",
    "import requests \n",
    "import re \n",
    "import sys \n",
    "import pprint \n",
    "browser = 'chromedriver.exe'\n",
    "driver = webdriver.Chrome(browser)\n",
    "news_link=[]\n",
    "oid=[]\n",
    "aid=[]\n",
    "days=['01','02','03','04','05','06','07','08','09','10','11','12','13','14','15','16','17','18','19','20','21','22','23','24','25','26','27','28','29','30','31']\n",
    "#임시\n",
    "\n",
    "days=['01']\n",
    "for day in days:\n",
    "    article='https://news.naver.com/main/ranking/popularDay.nhn?rankingType=popular_day&sectionId=100&date=201907'+day\n",
    "    driver.get(article)    \n",
    "    html = driver.page_source\n",
    "    bs = BeautifulSoup(html, 'html.parser')\n",
    "    contents = bs.find_all(\"li\", {\"class\" : \"ranking_item is_num1\"})\n",
    "    Press   =  bs.find_all(\"div\",{\"class\" : \"ranking_office\"})\n",
    "    for i in a:\n",
    "        link=str(contents[i])\n",
    "        href=link.split('href=\"')[1].split('\"')\n",
    "        news_link.append(href[0])\n",
    "    for cnt in range(len(news_link)):\n",
    "        oid=(url.split(\"oid=\")[1].split(\"&\")[0]) \n",
    "        aid=(url.split(\"aid=\")[1].split(\"&\")[0])        \n",
    "        url=article+news_link[cnt]\n",
    "        page=1     \n",
    "        header = { \n",
    "           \"User-agent\":\"Mozilla/5.0 (Windows NT 10.0; Win64; x64) AppleWebKit/537.36 (KHTML, like Gecko) Chrome/65.0.3325.181 Safari/537.36\", \n",
    "            \"referer\":url,      \n",
    "        }  \n",
    "        while True : \n",
    "            c_url=\"https://apis.naver.com/commentBox/cbox/web_neo_list_jsonp.json?ticket=news&templateId=default_society&pool=cbox5&_callback=jQuery1707138182064460843_1523512042464&lang=ko&country=&objectId=news\"+oid+\"%2C\"+aid+\"&categoryId=&pageSize=20&indexSize=10&groupId=&listType=OBJECT&pageType=more&page=\"+str(page)+\"&refresh=false&sort=FAVORITE\"              # 파싱하는 단계입니다.\n",
    "            r=requests.get(c_url,headers=header)  \n",
    "            cont=BeautifulSoup(r.content,\"html.parser\")      \n",
    "            total_comm='40'\n",
    "            match=re.findall('\"contents\":([^\\*]*),\"userIdNo\"', str(cont))\n",
    "            like =re.findall('\"sympathyCount\":([^\\*]*),\"antipathyCount\"', str(cont))\n",
    "            hate =re.findall('\"antipathyCount\":([^\\*]*),\"userBlind\"', str(cont))\n",
    "    \n",
    "    # 댓글을 리스트에 중첩합니다.\n",
    "            List.append(match)\n",
    "            Like.append(like)\n",
    "            Hate.append(hate)\n",
    "    # 한번에 댓글이 20개씩 보이기 때문에 한 페이지씩 몽땅 댓글을 긁어 옵니다.\n",
    "            if int(total_comm) <= ((page) * 20): \n",
    "                break \n",
    "            else :  \n",
    "                page+=1\n",
    "        df1 = flatten(List)\n",
    "        df2 = flatten(Like)\n",
    "        df3 = flatten(Hate)\n",
    "        s1=pd.Series(df1,name='댓글')\n",
    "        s2=pd.Series(df2,name='좋아요')\n",
    "        s3=pd.Series(df3,name='싫아요')    \n",
    "        df.append(pd.concat([s1,s2,s3],axis=1))\n",
    "    df.to_excel(\"test.xlsx\")"
   ]
  },
  {
   "cell_type": "code",
   "execution_count": 45,
   "metadata": {},
   "outputs": [],
   "source": [
    "a=[]\n",
    "for i in range(29):\n",
    "    a.append(2*i)"
   ]
  },
  {
   "cell_type": "code",
   "execution_count": 53,
   "metadata": {},
   "outputs": [
    {
     "data": {
      "text/plain": [
       "<a class=\"nclicks(rnk.gov)\" href=\"/main/ranking/read.nhn?rankingType=popular_day&amp;oid=001&amp;aid=0010940087&amp;date=20190709&amp;type=1&amp;rankingSectionId=100&amp;rankingSeq=2\" title=\"'北목선 경계실패' 23사단 초소 근무병 한강 투신해 사망\">'北목선 경계실패' 23사단 초소 근무병 한강 투신해 사망</a>"
      ]
     },
     "execution_count": 53,
     "metadata": {},
     "output_type": "execute_result"
    }
   ],
   "source": [
    "contents[2]"
   ]
  },
  {
   "cell_type": "code",
   "execution_count": 52,
   "metadata": {},
   "outputs": [
    {
     "data": {
      "text/plain": [
       "<a class=\"nclicks(rnk.gov)\" href=\"/main/ranking/read.nhn?rankingType=popular_day&amp;oid=001&amp;aid=0010940087&amp;date=20190709&amp;type=1&amp;rankingSectionId=100&amp;rankingSeq=2\" title=\"'北목선 경계실패' 23사단 초소 근무병 한강 투신해 사망\">\n",
       "<img alt=\"\" height=\"72\" onerror=\"javascript:this.src='https://imgnews.pstatic.net/image/news/2009/noimage_106x72.png';\" src=\"https://imgnews.pstatic.net/image/origin/001/2019/07/09/10940087.jpg?type=nf106_72\" title=\"'北목선 경계실패' 23사단 초소 근무병 한강 투신해 사망\" width=\"106\"/>\n",
       "</a>"
      ]
     },
     "execution_count": 52,
     "metadata": {},
     "output_type": "execute_result"
    }
   ],
   "source": [
    "contents[1]"
   ]
  },
  {
   "cell_type": "code",
   "execution_count": 29,
   "metadata": {},
   "outputs": [
    {
     "data": {
      "text/plain": [
       "58"
      ]
     },
     "execution_count": 29,
     "metadata": {},
     "output_type": "execute_result"
    }
   ],
   "source": [
    "len(contents)"
   ]
  },
  {
   "cell_type": "code",
   "execution_count": 36,
   "metadata": {},
   "outputs": [
    {
     "data": {
      "text/plain": [
       "<a class=\"nclicks(rnk.gov)\" href=\"/main/ranking/read.nhn?rankingType=popular_day&amp;oid=469&amp;aid=0000353806&amp;date=20190101&amp;type=1&amp;rankingSectionId=100&amp;rankingSeq=3\" title=\"김정은 파격 변신… 원고 들고 집무실 소파에 앉아 토크쇼 연출\">\n",
       "<img alt=\"\" height=\"72\" onerror=\"javascript:this.src='https://imgnews.pstatic.net/image/news/2009/noimage_106x72.png';\" src=\"https://imgnews.pstatic.net/image/origin/469/2019/01/01/353806.jpg?type=nf106_72\" title=\"김정은 파격 변신… 원고 들고 집무실 소파에 앉아 토크쇼 연출\" width=\"106\"/>\n",
       "</a>"
      ]
     },
     "execution_count": 36,
     "metadata": {},
     "output_type": "execute_result"
    }
   ],
   "source": [
    "contents[4]"
   ]
  },
  {
   "cell_type": "code",
   "execution_count": 16,
   "metadata": {},
   "outputs": [],
   "source": [
    "# 여러 리스트들을 하나로 묶어 주는 함수입니다.\n",
    "def flatten(l): \n",
    "    flatList = [] \n",
    "    for elem in l: \n",
    "        # if an element of a list is a list \n",
    "        # iterate over this list and add elements to flatList  \n",
    "        if type(elem) == list: \n",
    "            for e in elem: \n",
    "                flatList.append(e) \n",
    "        else: \n",
    "            flatList.append(elem) \n",
    "    return flatList"
   ]
  },
  {
   "cell_type": "code",
   "execution_count": 8,
   "metadata": {},
   "outputs": [
    {
     "data": {
      "text/plain": [
       "<a class=\"nclicks(rnk.gov)\" href=\"/main/ranking/read.nhn?rankingType=popular_day&amp;oid=016&amp;aid=0001482526&amp;date=20190102&amp;type=1&amp;rankingSectionId=100&amp;rankingSeq=1\" title=\"공군 역사상 42명 배출된 정예 ‘테스트 파일럿’에 첫 여성 선발\">공군 역사상 42명 배출된 정예 ‘테스트 파일럿’에 첫 여성 선발</a>"
      ]
     },
     "execution_count": 8,
     "metadata": {},
     "output_type": "execute_result"
    }
   ],
   "source": [
    "contents[1]\n"
   ]
  }
 ],
 "metadata": {
  "kernelspec": {
   "display_name": "Python 3",
   "language": "python",
   "name": "python3"
  },
  "language_info": {
   "codemirror_mode": {
    "name": "ipython",
    "version": 3
   },
   "file_extension": ".py",
   "mimetype": "text/x-python",
   "name": "python",
   "nbconvert_exporter": "python",
   "pygments_lexer": "ipython3",
   "version": "3.7.3"
  }
 },
 "nbformat": 4,
 "nbformat_minor": 2
}
