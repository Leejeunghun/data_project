{
 "cells": [
  {
   "cell_type": "code",
   "execution_count": 52,
   "metadata": {},
   "outputs": [],
   "source": [
    "# 댓글을 달 빈 리스트를 생성합니다.\n",
    "List=[] \n",
    "Like=[]\n",
    "Hate=[]\n",
    "link=[]\n",
    "a=[]\n",
    "import time\n",
    "import pandas as pd\n",
    "from selenium import webdriver\n",
    "from bs4 import BeautifulSoup as bs\n",
    "from bs4 import BeautifulSoup \n",
    "import requests \n",
    "import re \n",
    "import sys \n",
    "import pprint \n",
    "browser = 'chromedriver.exe'\n",
    "driver = webdriver.Chrome(browser)\n",
    "news_link=[]\n",
    "oid=[]\n",
    "aid=[]\n",
    "href=[]\n",
    "days=['01','02','03','04','05','06','07','08','09','10','11','12','13','14','15','16','17','18','19','20','21','22','23','24','25','26','27','28','29','30','31']\n",
    "for day in days:\n",
    "    article='https://news.naver.com/main/ranking/popularDay.nhn?rankingType=popular_day&sectionId=100&date=201901'+day\n",
    "    driver.get(article)    \n",
    "    html = driver.page_source\n",
    "    bs = BeautifulSoup(html, 'html.parser')\n",
    "    contents = bs.find_all(\"a\", {\"class\" : \"nclicks(rnk.gov)\"})\n",
    "\n"
   ]
  },
  {
   "cell_type": "code",
   "execution_count": 56,
   "metadata": {},
   "outputs": [],
   "source": [
    "for i in range(len(contents)):\n",
    "    link=str(contents[i])\n",
    "    href=link.split('title=')[1].split('\"')\n",
    "    news_link.append(href[0])"
   ]
  },
  {
   "cell_type": "code",
   "execution_count": 63,
   "metadata": {},
   "outputs": [],
   "source": [
    "a=[]\n",
    "for i in range(len(contents)):\n",
    "    a.append(contents[i].text)"
   ]
  },
  {
   "cell_type": "code",
   "execution_count": 76,
   "metadata": {},
   "outputs": [
    {
     "data": {
      "text/plain": [
       "['北김정은 \"조선반도 항구적 평화지대로 만들려는 확고한 의지\"(종합…',\n",
       " \"문대통령, 의인 6명과 75분간 남산 등반 '새해맞이'\",\n",
       " '김정은 파격 변신… 원고 들고 집무실 소파에 앉아 토크쇼 연출',\n",
       " \"軍, 日 레이더 영상 공개에 맞대응…'반박 영상' 제작\",\n",
       " '김정은 신년사, 정상국가 이미지 강조…김여정·조용원 실세 재확인',\n",
       " \"'블랙 수트' 입고 집무실 소파에서…파격 연출\",\n",
       " '與, \"한 방 없었다\" vs 野, 국정조사·특검 만지작',\n",
       " '文대통령, 새해 인사 \"한분 한분 삶이 나아지도록 노력\"',\n",
       " '김정은 \"언제든 美대통령과 마주앉을 준비…오판시 새 길 모색\"(종…',\n",
       " '\"우려불식\" vs \"핵보유국논리\"…김정은 \\'핵무기 4불\\' 언급 주목',\n",
       " '[신년인터뷰] 김현미 \"경기띄우기용 부동산 부양책 절대 안쓸 것\"',\n",
       " '문대통령, 의인들과 \\'새해맞이\\' 남산 등반…\"풍요·복 가득하길\"(종…',\n",
       " \"金, 비핵화 확인하되 '플랜B'도 첫 거론…북미관계 어디로\"]"
      ]
     },
     "execution_count": 76,
     "metadata": {},
     "output_type": "execute_result"
    }
   ],
   "source": [
    "b=[]\n",
    "for i in range(13):\n",
    "    b.append(a[2*i+1])\n",
    "b"
   ]
  },
  {
   "cell_type": "code",
   "execution_count": 77,
   "metadata": {},
   "outputs": [],
   "source": [
    "data = pd.DataFrame(b)  \n",
    "data.to_excel(\"test.xlsx\")"
   ]
  }
 ],
 "metadata": {
  "kernelspec": {
   "display_name": "Python 3",
   "language": "python",
   "name": "python3"
  },
  "language_info": {
   "codemirror_mode": {
    "name": "ipython",
    "version": 3
   },
   "file_extension": ".py",
   "mimetype": "text/x-python",
   "name": "python",
   "nbconvert_exporter": "python",
   "pygments_lexer": "ipython3",
   "version": "3.7.3"
  }
 },
 "nbformat": 4,
 "nbformat_minor": 2
}
