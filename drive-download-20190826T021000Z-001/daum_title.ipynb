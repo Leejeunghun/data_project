{
 "cells": [
  {
   "cell_type": "code",
   "execution_count": 1,
   "metadata": {
    "colab": {},
    "colab_type": "code",
    "id": "FY9vIW0Srr68"
   },
   "outputs": [],
   "source": [
    "import numpy as np # linear algebra\n",
    "import pandas as pd # data processing, CSV file I/O (e.g. pd.read_csv)\n",
    "import matplotlib.pyplot as plt\n",
    "import seaborn as sns\n",
    "%matplotlib inline\n",
    "import nltk\n",
    "from nltk import wordpunct_tokenize\n",
    "from nltk.corpus import stopwords\n",
    "from wordcloud import WordCloud,STOPWORDS\n",
    "from nltk.stem.wordnet import WordNetLemmatizer\n",
    "from sklearn.feature_extraction.text import TfidfVectorizer, CountVectorizer\n",
    "from sklearn.decomposition import NMF, LatentDirichletAllocation\n",
    "import string\n",
    "\n",
    "import textblob as tb\n",
    "from tqdm import tqdm\n",
    "\n",
    "# Input data files are available in the \"../input/\" directory.\n",
    "# For example, running this (by clicking run or pressing Shift+Enter) will list the files in the input directory"
   ]
  },
  {
   "cell_type": "code",
   "execution_count": 212,
   "metadata": {
    "colab": {},
    "colab_type": "code",
    "id": "f_CnN8NJrr6-",
    "outputId": "ae2f22f9-c7f8-4282-cdc1-168b1281bf78"
   },
   "outputs": [
    {
     "name": "stdout",
     "output_type": "stream",
     "text": [
      "                                  title\n",
      "0            \"팔짱 낀 김정숙 여사 외교 결례\"? 진실은..\n",
      "1                     독이 된 황교안의 '가벼운 입'\n",
      "2                  밀착 보좌' 현송월..지켜보는 김여정\n",
      "3        합참 \"중부전선 DMZ서 레이더에 정체불명 항적 포착\"\n",
      "4  '김영철 후임' 北장금철, 판문점회동 참석한 듯..남측에 '첫선'\n",
      "300\n"
     ]
    }
   ],
   "source": [
    "# 데이터 읽기\n",
    "\n",
    "df = pd.read_csv('daum_title.csv', encoding='utf-8')\n",
    "df.columns = ['title']\n",
    "\n",
    "print(df.head())\n",
    "print(len(df))"
   ]
  },
  {
   "cell_type": "code",
   "execution_count": 213,
   "metadata": {
    "colab": {},
    "colab_type": "code",
    "id": "ZqYsjyOsrr7B",
    "outputId": "f403e226-7bb8-4023-f970-f333380878e3"
   },
   "outputs": [
    {
     "data": {
      "text/plain": [
       "False"
      ]
     },
     "execution_count": 213,
     "metadata": {},
     "output_type": "execute_result"
    }
   ],
   "source": [
    "df['title'].isnull().values.any()"
   ]
  },
  {
   "cell_type": "code",
   "execution_count": 214,
   "metadata": {
    "colab": {},
    "colab_type": "code",
    "id": "C5kLsa47rr7E"
   },
   "outputs": [],
   "source": [
    "# 5 데이터\n",
    "\n",
    "df1 = df.loc[270:299]"
   ]
  },
  {
   "cell_type": "code",
   "execution_count": null,
   "metadata": {},
   "outputs": [],
   "source": []
  },
  {
   "cell_type": "code",
   "execution_count": 215,
   "metadata": {
    "colab": {},
    "colab_type": "code",
    "id": "AXISca4Xrr7F"
   },
   "outputs": [],
   "source": [
    "# 한자 한국어로 매칭\n",
    "\n",
    "def change_string(x):\n",
    "    return x.replace('靑','청와대').replace('軍','군대').replace('北','북한').replace('美','미국').replace('日','일본').replace('韓', '한국').replace('與', '여당').replace('野', '야당').replace('中', '중국').replace('黃', '황교안').replace('文', '문재인')"
   ]
  },
  {
   "cell_type": "code",
   "execution_count": 216,
   "metadata": {
    "colab": {},
    "colab_type": "code",
    "id": "Tx8s3-v3rr7H",
    "outputId": "8700f54b-d106-40f7-f362-1f5c06c55424"
   },
   "outputs": [
    {
     "name": "stderr",
     "output_type": "stream",
     "text": [
      "C:\\Users\\LeeJeungHun\\Anaconda3\\lib\\site-packages\\ipykernel_launcher.py:1: SettingWithCopyWarning: \n",
      "A value is trying to be set on a copy of a slice from a DataFrame.\n",
      "Try using .loc[row_indexer,col_indexer] = value instead\n",
      "\n",
      "See the caveats in the documentation: http://pandas.pydata.org/pandas-docs/stable/indexing.html#indexing-view-versus-copy\n",
      "  \"\"\"Entry point for launching an IPython kernel.\n"
     ]
    }
   ],
   "source": [
    "df1['title'] = df1['title'].map(lambda x : change_string(x))"
   ]
  },
  {
   "cell_type": "code",
   "execution_count": 217,
   "metadata": {
    "colab": {},
    "colab_type": "code",
    "id": "J5XYr-Pvrr7J",
    "outputId": "5c6b1097-64ea-488d-e318-652af3da07cd"
   },
   "outputs": [
    {
     "data": {
      "text/plain": [
       "30"
      ]
     },
     "execution_count": 217,
     "metadata": {},
     "output_type": "execute_result"
    }
   ],
   "source": [
    "news_title = [] # 리스트 선언\n",
    "news_title.extend(list(df1.title.values)) # 헤드라인의 값들을 리스트로 저장\n",
    "# news_title = [n for n in news_title if len(n) >=10]\n",
    "len(news_title) # 제거 후 샘플의 개수"
   ]
  },
  {
   "cell_type": "code",
   "execution_count": 218,
   "metadata": {
    "colab": {},
    "colab_type": "code",
    "id": "SAxh-zVBrr7L"
   },
   "outputs": [],
   "source": [
    "# 특수문자, 숫자 제거\n",
    "\n",
    "from string import punctuation\n",
    "import re\n",
    "\n",
    "def clean_text(text):\n",
    "#     cleaned_text = [''.join(c for c in text).lower()]\n",
    "#     cleaned_text = re.sub('[^가-힣a-zA-Z文 ]', '', text)\n",
    "    cleaned_text = re.sub('[0-9]', ' ', text)\n",
    "    cleaned_text = re.sub('[\\{\\}\\[\\]\\/?.,;:|\\)*~`!^\\-_+<>@\\#$%&\\\\\\=\\(\\'\\\"\\'\\·]',\n",
    "                          ' ', cleaned_text)\n",
    "    cleaned_text = re.sub(r'\\s+', ' ', cleaned_text)\n",
    "    return cleaned_text"
   ]
  },
  {
   "cell_type": "code",
   "execution_count": 219,
   "metadata": {
    "colab": {},
    "colab_type": "code",
    "id": "D0erWgE-rr7M",
    "outputId": "df2a9a2c-423a-4f67-8482-8136613ce20e"
   },
   "outputs": [
    {
     "data": {
      "text/html": [
       "<div>\n",
       "<style scoped>\n",
       "    .dataframe tbody tr th:only-of-type {\n",
       "        vertical-align: middle;\n",
       "    }\n",
       "\n",
       "    .dataframe tbody tr th {\n",
       "        vertical-align: top;\n",
       "    }\n",
       "\n",
       "    .dataframe thead th {\n",
       "        text-align: right;\n",
       "    }\n",
       "</style>\n",
       "<table border=\"1\" class=\"dataframe\">\n",
       "  <thead>\n",
       "    <tr style=\"text-align: right;\">\n",
       "      <th></th>\n",
       "      <th>title</th>\n",
       "    </tr>\n",
       "  </thead>\n",
       "  <tbody>\n",
       "    <tr>\n",
       "      <th>0</th>\n",
       "      <td>위증으로 역전된 윤석열 검증 한국 바른미래 공조 카드는</td>\n",
       "    </tr>\n",
       "    <tr>\n",
       "      <th>1</th>\n",
       "      <td>파묻었던 일제 만행 봉인 열릴까 두려운 아베</td>\n",
       "    </tr>\n",
       "    <tr>\n",
       "      <th>2</th>\n",
       "      <td>홍남기 반도체 몇개월치 완제품 재고 기업 걱정은 소재 부품</td>\n",
       "    </tr>\n",
       "    <tr>\n",
       "      <th>3</th>\n",
       "      <td>박지원 조국 법무장관 기용될 것 윤석열 임명돼야</td>\n",
       "    </tr>\n",
       "    <tr>\n",
       "      <th>4</th>\n",
       "      <td>홍준표 윤석열 변호사법 위반 논란에 단순 정보제공 별 문제 안 돼</td>\n",
       "    </tr>\n",
       "  </tbody>\n",
       "</table>\n",
       "</div>"
      ],
      "text/plain": [
       "                                   title\n",
       "0         위증으로 역전된 윤석열 검증 한국 바른미래 공조 카드는\n",
       "1               파묻었던 일제 만행 봉인 열릴까 두려운 아베\n",
       "2      홍남기 반도체 몇개월치 완제품 재고 기업 걱정은 소재 부품 \n",
       "3            박지원 조국 법무장관 기용될 것 윤석열 임명돼야 \n",
       "4  홍준표 윤석열 변호사법 위반 논란에 단순 정보제공 별 문제 안 돼 "
      ]
     },
     "execution_count": 219,
     "metadata": {},
     "output_type": "execute_result"
    }
   ],
   "source": [
    "text = [clean_text(x) for x in news_title]\n",
    "text = pd.DataFrame(text, columns=['title'])\n",
    "text.head()"
   ]
  },
  {
   "cell_type": "code",
   "execution_count": 220,
   "metadata": {
    "colab": {},
    "colab_type": "code",
    "id": "zhczrOgArr7O",
    "outputId": "a4d47f70-686b-4ee2-be38-341d1d90c3c1"
   },
   "outputs": [
    {
     "data": {
      "text/html": [
       "<div>\n",
       "<style scoped>\n",
       "    .dataframe tbody tr th:only-of-type {\n",
       "        vertical-align: middle;\n",
       "    }\n",
       "\n",
       "    .dataframe tbody tr th {\n",
       "        vertical-align: top;\n",
       "    }\n",
       "\n",
       "    .dataframe thead th {\n",
       "        text-align: right;\n",
       "    }\n",
       "</style>\n",
       "<table border=\"1\" class=\"dataframe\">\n",
       "  <thead>\n",
       "    <tr style=\"text-align: right;\">\n",
       "      <th></th>\n",
       "      <th>title</th>\n",
       "    </tr>\n",
       "  </thead>\n",
       "  <tbody>\n",
       "    <tr>\n",
       "      <th>0</th>\n",
       "      <td>[위증, 역전, 윤석열, 검증, 한국, 바른, 미래, 공조, 카드]</td>\n",
       "    </tr>\n",
       "    <tr>\n",
       "      <th>1</th>\n",
       "      <td>[일제, 만행, 봉인, 아베]</td>\n",
       "    </tr>\n",
       "    <tr>\n",
       "      <th>2</th>\n",
       "      <td>[홍, 남, 반도체, 개월, 완제품, 재고, 기업, 걱정, 소재, 부품]</td>\n",
       "    </tr>\n",
       "    <tr>\n",
       "      <th>3</th>\n",
       "      <td>[박지원, 조국, 법무장관, 기용, 윤석열, 임명]</td>\n",
       "    </tr>\n",
       "    <tr>\n",
       "      <th>4</th>\n",
       "      <td>[홍준표, 윤석열, 변호사법, 위반, 논란, 정보, 제공, 문제]</td>\n",
       "    </tr>\n",
       "  </tbody>\n",
       "</table>\n",
       "</div>"
      ],
      "text/plain": [
       "                                      title\n",
       "0     [위증, 역전, 윤석열, 검증, 한국, 바른, 미래, 공조, 카드]\n",
       "1                          [일제, 만행, 봉인, 아베]\n",
       "2  [홍, 남, 반도체, 개월, 완제품, 재고, 기업, 걱정, 소재, 부품]\n",
       "3              [박지원, 조국, 법무장관, 기용, 윤석열, 임명]\n",
       "4      [홍준표, 윤석열, 변호사법, 위반, 논란, 정보, 제공, 문제]"
      ]
     },
     "execution_count": 220,
     "metadata": {},
     "output_type": "execute_result"
    }
   ],
   "source": [
    "from konlpy.tag import Komoran\n",
    "\n",
    "stopwords = set(['신문', '종합', '단독', '상보', '속보', '것', '내일'])\n",
    "dicpath = 'user_dict.txt' # 텍스트 파일주소로, 사용자 사전의 구조는 위와 같습니다.\n",
    "\n",
    "komoran = Komoran(userdic=dicpath)\n",
    "text['title'] = text.apply(lambda row: komoran.nouns(row['title']), axis=1)\n",
    "text['title'] = text['title'].apply(lambda x: [word for word in x if word not in stopwords])\n",
    "text.head()"
   ]
  },
  {
   "cell_type": "code",
   "execution_count": 221,
   "metadata": {
    "colab": {},
    "colab_type": "code",
    "id": "eHWwlzEdrr7Q",
    "outputId": "9a387c4b-b56d-4f74-e737-9a292eca76b9"
   },
   "outputs": [
    {
     "data": {
      "text/plain": [
       "0    [위증, 역전, 윤석열, 검증, 한국, 바른, 미래, 공조, 카드]\n",
       "1                         [일제, 만행, 봉인, 아베]\n",
       "2       [반도체, 개월, 완제품, 재고, 기업, 걱정, 소재, 부품]\n",
       "3             [박지원, 조국, 법무장관, 기용, 윤석열, 임명]\n",
       "4     [홍준표, 윤석열, 변호사법, 위반, 논란, 정보, 제공, 문제]\n",
       "Name: title, dtype: object"
      ]
     },
     "execution_count": 221,
     "metadata": {},
     "output_type": "execute_result"
    }
   ],
   "source": [
    "# 한 글자 단어 제거\n",
    "\n",
    "tokenized_doc = text['title'].apply(lambda x: [word for word in x if len(word) >1])\n",
    "tokenized_doc.head()"
   ]
  },
  {
   "cell_type": "code",
   "execution_count": 222,
   "metadata": {
    "colab": {},
    "colab_type": "code",
    "id": "QF4T7BOarr7S",
    "outputId": "e80d3d68-4ab8-4255-d657-7cd4d5ff3bb6"
   },
   "outputs": [
    {
     "data": {
      "text/plain": [
       "['위증 역전 윤석열 검증 한국 바른 미래 공조 카드',\n",
       " '일제 만행 봉인 아베',\n",
       " '반도체 개월 완제품 재고 기업 걱정 소재 부품',\n",
       " '박지원 조국 법무장관 기용 윤석열 임명',\n",
       " '홍준표 윤석열 변호사법 위반 논란 정보 제공 문제']"
      ]
     },
     "execution_count": 222,
     "metadata": {},
     "output_type": "execute_result"
    }
   ],
   "source": [
    "# 역 토큰화\n",
    "\n",
    "documents = []\n",
    "for i in range(len(text)):\n",
    "    t = ' '.join(tokenized_doc[i])\n",
    "    documents.append(t)\n",
    "    \n",
    "documents[:5]"
   ]
  },
  {
   "cell_type": "code",
   "execution_count": 223,
   "metadata": {
    "colab": {},
    "colab_type": "code",
    "id": "VtswePS_rr7U"
   },
   "outputs": [],
   "source": [
    "import re\n",
    "import numpy as np\n",
    "import pandas as pd\n",
    "from pprint import pprint\n",
    "\n",
    "# Gensim\n",
    "import gensim\n",
    "import gensim.corpora as corpora\n",
    "from gensim.utils import simple_preprocess\n",
    "from gensim.models import CoherenceModel\n",
    "\n",
    "# spacy for lemmatization\n",
    "import spacy\n",
    "\n",
    "# Plotting tools\n",
    "import pyLDAvis\n",
    "import pyLDAvis.gensim  # don't skip this\n",
    "import matplotlib.pyplot as plt\n",
    "%matplotlib inline\n",
    "\n",
    "# Enable logging for gensim - optional\n",
    "import logging\n",
    "logging.basicConfig(format='%(asctime)s : %(levelname)s : %(message)s', level=logging.ERROR)\n",
    "\n",
    "import warnings\n",
    "warnings.filterwarnings(\"ignore\",category=DeprecationWarning)"
   ]
  },
  {
   "cell_type": "code",
   "execution_count": 224,
   "metadata": {
    "colab": {},
    "colab_type": "code",
    "id": "O6_LwmQqrr7W",
    "outputId": "824330c3-974c-4d0f-cb3a-9aaabdf0cc10"
   },
   "outputs": [
    {
     "name": "stdout",
     "output_type": "stream",
     "text": [
      "[[(0, 1), (1, 1), (2, 1), (3, 1), (4, 1), (5, 1), (6, 1), (7, 1), (8, 1)]]\n"
     ]
    }
   ],
   "source": [
    "id2word = corpora.Dictionary(tokenized_doc)\n",
    "\n",
    "texts = tokenized_doc\n",
    "\n",
    "corpus = [id2word.doc2bow(text) for text in texts]\n",
    "\n",
    "print(corpus[:1])"
   ]
  },
  {
   "cell_type": "code",
   "execution_count": 225,
   "metadata": {
    "colab": {},
    "colab_type": "code",
    "id": "vnVDRujJrr7X",
    "outputId": "67ba03f7-60c6-4eed-d023-1e5ea08cdaeb"
   },
   "outputs": [
    {
     "data": {
      "text/plain": [
       "[[('검증', 1),\n",
       "  ('공조', 1),\n",
       "  ('미래', 1),\n",
       "  ('바른', 1),\n",
       "  ('역전', 1),\n",
       "  ('위증', 1),\n",
       "  ('윤석열', 1),\n",
       "  ('카드', 1),\n",
       "  ('한국', 1)]]"
      ]
     },
     "execution_count": 225,
     "metadata": {},
     "output_type": "execute_result"
    }
   ],
   "source": [
    "# Human readable format of corpus (term-frequency)\n",
    "[[(id2word[id], freq) for id, freq in cp] for cp in corpus[:1]]"
   ]
  },
  {
   "cell_type": "code",
   "execution_count": 226,
   "metadata": {
    "colab": {},
    "colab_type": "code",
    "id": "PnQ-eU7wrr7a"
   },
   "outputs": [],
   "source": [
    "import os\n",
    "from gensim.models.wrappers import LdaMallet\n",
    "\n",
    "# os.environ['MALLET_HOME'] = 'C:\\\\Users\\\\camel\\\\mallet-2.0.8'\n",
    "os.environ['MALLET_HOME'] = 'C:/Users\\LeeJeungHun/Desktop/데이터_프로젝트/drive-download-20190826T021000Z-001/mallet-2.0.8'\n",
    "\n",
    "# mallet_path = 'C:/Users/camel/mallet-2.0.8/bin/mallet'\n",
    "mallet_path = 'C:/Users/LeeJeungHun/Desktop/데이터_프로젝트/drive-download-20190826T021000Z-001/mallet-2.0.8/bin/mallet'"
   ]
  },
  {
   "cell_type": "code",
   "execution_count": 227,
   "metadata": {
    "colab": {},
    "colab_type": "code",
    "id": "awX6i5W2rr7c"
   },
   "outputs": [],
   "source": [
    "def compute_coherence_values(dictionary, corpus, texts, limit, start=2, step=3):\n",
    "    \"\"\"\n",
    "    Compute c_v coherence for various number of topics\n",
    "\n",
    "    Parameters:\n",
    "    ----------\n",
    "    dictionary : Gensim dictionary\n",
    "    corpus : Gensim corpus\n",
    "    texts : List of input texts\n",
    "    limit : Max num of topics\n",
    "\n",
    "    Returns:\n",
    "    -------\n",
    "    model_list : List of LDA topic models\n",
    "    coherence_values : Coherence values corresponding to the LDA model with respective number of topics\n",
    "    \"\"\"\n",
    "    coherence_values = []\n",
    "    model_list = []\n",
    "    for num_topics in range(start, limit, step):\n",
    "        model = gensim.models.wrappers.LdaMallet(mallet_path, corpus=corpus, num_topics=num_topics, id2word=id2word)\n",
    "        model_list.append(model)\n",
    "        coherencemodel = CoherenceModel(model=model, texts=texts, dictionary=dictionary, coherence='c_v')\n",
    "        coherence_values.append(coherencemodel.get_coherence())\n",
    "\n",
    "    return model_list, coherence_values"
   ]
  },
  {
   "cell_type": "code",
   "execution_count": 228,
   "metadata": {
    "colab": {},
    "colab_type": "code",
    "id": "GQT1Fq0trr7f"
   },
   "outputs": [],
   "source": [
    "model_list, coherence_values = compute_coherence_values(dictionary=id2word, corpus=corpus, texts=tokenized_doc, start=1, limit=16, step=3)"
   ]
  },
  {
   "cell_type": "code",
   "execution_count": null,
   "metadata": {},
   "outputs": [],
   "source": []
  },
  {
   "cell_type": "code",
   "execution_count": 229,
   "metadata": {
    "colab": {},
    "colab_type": "code",
    "id": "VYbCJTddrr7h",
    "outputId": "b14fc517-ad12-43c4-cdac-e489bc039a00"
   },
   "outputs": [
    {
     "data": {
      "image/png": "[encoded data removed]",
      "text/plain": [
       "<Figure size 432x288 with 1 Axes>"
      ]
     },
     "metadata": {
      "needs_background": "light"
     },
     "output_type": "display_data"
    }
   ],
   "source": [
    "# Show graph\n",
    "limit = 16; start=1; step=3;\n",
    "x = range(start, limit, step)\n",
    "plt.plot(x, coherence_values)\n",
    "plt.xlabel('Num Topics')\n",
    "plt.ylabel('Coherence score')\n",
    "plt.legend(('coherence_values'), loc='best')\n",
    "plt.show()"
   ]
  },
  {
   "cell_type": "code",
   "execution_count": 230,
   "metadata": {
    "colab": {},
    "colab_type": "code",
    "id": "4kASa2S4rr7k",
    "outputId": "2eb43d06-af9a-4cd5-b648-5806d336c7b4"
   },
   "outputs": [
    {
     "name": "stdout",
     "output_type": "stream",
     "text": [
      "Num Topics = 1  has Coherence Value of 0.584\n",
      "Num Topics = 4  has Coherence Value of 0.721\n",
      "Num Topics = 7  has Coherence Value of 0.7511\n",
      "Num Topics = 10  has Coherence Value of 0.7395\n",
      "Num Topics = 13  has Coherence Value of 0.6937\n"
     ]
    }
   ],
   "source": [
    "for m, cv in zip(x, coherence_values):\n",
    "    print('Num Topics =', m, \" has Coherence Value of\", round(cv, 4))"
   ]
  },
  {
   "cell_type": "code",
   "execution_count": 231,
   "metadata": {
    "colab": {},
    "colab_type": "code",
    "id": "tuTNaY8xrr7n"
   },
   "outputs": [],
   "source": [
    "# # Select the model and print the topics\n",
    "# optimal_model = model_list[3]\n",
    "# model_topics = optimal_model.show_topics(formatted=False)\n",
    "# pprint(optimal_model.print_topics(num_words=10))"
   ]
  },
  {
   "cell_type": "code",
   "execution_count": 177,
   "metadata": {
    "colab": {},
    "colab_type": "code",
    "id": "m2vAElM8rr7r"
   },
   "outputs": [],
   "source": [
    "# ldamallet = gensim.models.wrappers.LdaMallet(mallet_path, corpus=corpus, num_topics=7, id2word=id2word)\n",
    "\n",
    "# import gensim    \n",
    "# mallet_model = gensim.models.wrappers.ldamallet.malletmodel2ldamodel(ldamallet)"
   ]
  },
  {
   "cell_type": "code",
   "execution_count": 178,
   "metadata": {
    "colab": {},
    "colab_type": "code",
    "id": "gSkDk53mrr7v"
   },
   "outputs": [],
   "source": [
    "# # Visualize the topics\n",
    "# pyLDAvis.enable_notebook()\n",
    "# vis = pyLDAvis.gensim.prepare(mallet_model, corpus, id2word)\n",
    "# vis"
   ]
  },
  {
   "cell_type": "code",
   "execution_count": 232,
   "metadata": {
    "colab": {},
    "colab_type": "code",
    "id": "SoIhkhojrr7z"
   },
   "outputs": [],
   "source": [
    "# Build LDA model\n",
    "#num_topics를 바꿔줘야함 그래프의 최대값 시작에 따라\n",
    "lda_model = gensim.models.ldamodel.LdaModel(corpus=corpus,\n",
    "                                           id2word=id2word,\n",
    "                                           num_topics=4, \n",
    "                                           random_state=100,\n",
    "                                           update_every=1,\n",
    "                                           chunksize=100,\n",
    "                                           passes=7,\n",
    "                                           alpha='auto',\n",
    "                                           per_word_topics=True)"
   ]
  },
  {
   "cell_type": "code",
   "execution_count": 233,
   "metadata": {
    "colab": {},
    "colab_type": "code",
    "id": "m3hrbou6rr77",
    "outputId": "9e0327df-0bb8-4723-e02a-e7ffe8bafce1"
   },
   "outputs": [
    {
     "name": "stdout",
     "output_type": "stream",
     "text": [
      "[(0,\n",
      "  '0.045*\"일본\" + 0.028*\"반도체\" + 0.028*\"소재\" + 0.028*\"한국\" + 0.019*\"윤석열\" + '\n",
      "  '0.019*\"완제품\" + 0.019*\"재고\" + 0.019*\"개월\" + 0.019*\"기업\" + 0.019*\"부품\"'),\n",
      " (1,\n",
      "  '0.049*\"윤석열\" + 0.038*\"임명\" + 0.026*\"논란\" + 0.026*\"아베\" + 0.026*\"만행\" + '\n",
      "  '0.026*\"봉인\" + 0.026*\"일제\" + 0.015*\"위증\" + 0.015*\"홍준표\" + 0.015*\"비상\"'),\n",
      " (2,\n",
      "  '0.043*\"일본\" + 0.030*\"한국\" + 0.017*\"수출규제\" + 0.017*\"생각\" + 0.017*\"문재인대통령\" + '\n",
      "  '0.017*\"허심탄회\" + 0.017*\"반대\" + 0.017*\"이야기\" + 0.017*\"사린\" + 0.017*\"우려\"'),\n",
      " (3,\n",
      "  '0.044*\"문재인대통령\" + 0.030*\"수출규제\" + 0.030*\"일본\" + 0.017*\"대응\" + 0.017*\"위반\" + '\n",
      "  '0.017*\"대기업\" + 0.017*\"비상\" + 0.017*\"외교\" + 0.017*\"생각\" + 0.017*\"기업인\"')]\n"
     ]
    }
   ],
   "source": [
    "# Print the Keyword in the 10 topics\n",
    "pprint(lda_model.print_topics())\n",
    "doc_lda = lda_model[corpus]"
   ]
  },
  {
   "cell_type": "code",
   "execution_count": 234,
   "metadata": {
    "colab": {},
    "colab_type": "code",
    "id": "o1r2b7g4rr79",
    "outputId": "51d4fb74-c36b-4980-b59b-1830baf89fed"
   },
   "outputs": [
    {
     "name": "stdout",
     "output_type": "stream",
     "text": [
      "\n",
      "Perplexity:  -5.427914769033303\n",
      "\n",
      "Coherence Score:  0.407516606744426\n"
     ]
    }
   ],
   "source": [
    "# Compute Perplexity\n",
    "print('\\nPerplexity: ', lda_model.log_perplexity(corpus))  # a measure of how good the model is. lower the better.\n",
    "\n",
    "# Compute Coherence Score\n",
    "coherence_model_lda = CoherenceModel(model=lda_model, texts=tokenized_doc, dictionary=id2word, coherence='c_v')\n",
    "coherence_lda = coherence_model_lda.get_coherence()\n",
    "print('\\nCoherence Score: ', coherence_lda)"
   ]
  },
  {
   "cell_type": "code",
   "execution_count": 235,
   "metadata": {
    "colab": {},
    "colab_type": "code",
    "id": "bCDIg2kXrr7-",
    "outputId": "9568eb80-8134-4df0-e168-909f99cac3f4"
   },
   "outputs": [
    {
     "name": "stderr",
     "output_type": "stream",
     "text": [
      "C:\\Users\\LeeJeungHun\\Anaconda3\\lib\\site-packages\\pyLDAvis\\_prepare.py:257: FutureWarning: Sorting because non-concatenation axis is not aligned. A future version\n",
      "of pandas will change to not sort by default.\n",
      "\n",
      "To accept the future behavior, pass 'sort=False'.\n",
      "\n",
      "To retain the current behavior and silence the warning, pass 'sort=True'.\n",
      "\n",
      "  return pd.concat([default_term_info] + list(topic_dfs))\n"
     ]
    },
    {
     "data": {
      "text/plain": [
       "PreparedData(topic_coordinates=              x         y  topics  cluster       Freq\n",
       "topic                                                \n",
       "0     -0.095681  0.090135       1        1  38.441547\n",
       "1      0.135541  0.042586       2        1  24.111885\n",
       "2     -0.029902 -0.076735       3        1  18.938070\n",
       "3     -0.009958 -0.055986       4        1  18.508490, topic_info=    Category      Freq    Term     Total  loglift  logprob\n",
       "24   Default  2.000000      임명  2.000000  30.0000  30.0000\n",
       "63   Default  3.000000  문재인대통령  3.000000  29.0000  29.0000\n",
       "50   Default  6.000000      일본  6.000000  28.0000  28.0000\n",
       "6    Default  4.000000     윤석열  4.000000  27.0000  27.0000\n",
       "8    Default  3.000000      한국  3.000000  26.0000  26.0000\n",
       "43   Default  2.000000    수출규제  2.000000  25.0000  25.0000\n",
       "26   Default  1.000000      논란  1.000000  24.0000  24.0000\n",
       "11   Default  1.000000      아베  1.000000  23.0000  23.0000\n",
       "9    Default  1.000000      만행  1.000000  22.0000  22.0000\n",
       "10   Default  1.000000      봉인  1.000000  21.0000  21.0000\n",
       "12   Default  1.000000      일제  1.000000  20.0000  20.0000\n",
       "42   Default  1.000000      생각  1.000000  19.0000  19.0000\n",
       "122  Default  1.000000    허심탄회  1.000000  18.0000  18.0000\n",
       "118  Default  1.000000     대기업  1.000000  17.0000  17.0000\n",
       "97   Default  1.000000      대응  1.000000  16.0000  16.0000\n",
       "29   Default  1.000000      위반  1.000000  15.0000  15.0000\n",
       "16   Default  2.000000     반도체  2.000000  14.0000  14.0000\n",
       "18   Default  2.000000      소재  2.000000  13.0000  13.0000\n",
       "32   Default  1.000000     홍준표  1.000000  12.0000  12.0000\n",
       "131  Default  1.000000      외교  1.000000  11.0000  11.0000\n",
       "60   Default  1.000000     기업인  1.000000  10.0000  10.0000\n",
       "130  Default  1.000000      선포  1.000000   9.0000   9.0000\n",
       "41   Default  1.000000      맞지  1.000000   8.0000   8.0000\n",
       "121  Default  1.000000      해법  1.000000   7.0000   7.0000\n",
       "132  Default  1.000000      해결  1.000000   6.0000   6.0000\n",
       "46   Default  1.000000      철회  1.000000   5.0000   5.0000\n",
       "45   Default  1.000000      지적  1.000000   4.0000   4.0000\n",
       "120  Default  1.000000      토론  1.000000   3.0000   3.0000\n",
       "62   Default  1.000000      모든  1.000000   2.0000   2.0000\n",
       "44   Default  1.000000    일본정부  1.000000   1.0000   1.0000\n",
       "..       ...       ...     ...       ...      ...      ...\n",
       "130   Topic4  0.647048      선포  1.094388   1.1614  -4.0811\n",
       "41    Topic4  0.647047      맞지  1.094388   1.1614  -4.0811\n",
       "121   Topic4  0.647044      해법  1.094385   1.1614  -4.0811\n",
       "46    Topic4  0.647041      철회  1.094389   1.1614  -4.0811\n",
       "132   Topic4  0.647041      해결  1.094390   1.1614  -4.0811\n",
       "120   Topic4  0.647033      토론  1.094391   1.1614  -4.0811\n",
       "45    Topic4  0.647033      지적  1.094391   1.1614  -4.0811\n",
       "62    Topic4  0.647028      모든  1.094390   1.1614  -4.0811\n",
       "44    Topic4  0.647025    일본정부  1.094388   1.1614  -4.0811\n",
       "64    Topic4  0.647025      정부  1.094392   1.1614  -4.0811\n",
       "124   Topic4  0.647024     금태섭  1.094390   1.1614  -4.0812\n",
       "119   Topic4  0.647023      시간  1.094390   1.1614  -4.0812\n",
       "128   Topic4  0.647023      강조  1.094393   1.1614  -4.0812\n",
       "66    Topic4  0.647011      최대  1.094390   1.1614  -4.0812\n",
       "123   Topic4  0.647010     거짓말  1.094394   1.1613  -4.0812\n",
       "127   Topic4  0.647005      상식  1.094391   1.1613  -4.0812\n",
       "61    Topic4  0.647004     뒷받침  1.094390   1.1613  -4.0812\n",
       "126   Topic4  0.646990      사과  1.094396   1.1613  -4.0812\n",
       "125   Topic4  0.646953     민주당  1.094407   1.1612  -4.0813\n",
       "63    Topic4  1.682439  문재인대통령  3.339056   1.0015  -3.1255\n",
       "43    Topic4  1.164710    수출규제  2.821346   0.8022  -3.4933\n",
       "118   Topic4  0.647076     대기업  1.616635   0.7713  -4.0811\n",
       "42    Topic4  0.647061      생각  1.616630   0.7713  -4.0811\n",
       "122   Topic4  0.647046    허심탄회  1.616636   0.7713  -4.0811\n",
       "97    Topic4  0.647103      대응  1.617718   0.7707  -4.0810\n",
       "29    Topic4  0.647081      위반  1.674065   0.7364  -4.0811\n",
       "129   Topic4  0.647039      경고  1.781351   0.6742  -4.0811\n",
       "40    Topic4  0.647000     WTO  1.781379   0.6741  -4.0812\n",
       "50    Topic4  1.164460      일본  6.615061  -0.0502  -3.4935\n",
       "34    Topic4  0.647069      비상  2.361050   0.3925  -4.0811\n",
       "\n",
       "[173 rows x 6 columns], token_table=      Topic      Freq  Term\n",
       "term                       \n",
       "95        3  0.908730   IMF\n",
       "40        1  0.561363   WTO\n",
       "40        4  0.561363   WTO\n",
       "47        3  0.910002    가스\n",
       "74        3  0.909996    가슴\n",
       "136       2  0.864799    가열\n",
       "138       1  0.791376    각오\n",
       "133       3  0.909996   간담회\n",
       "96        3  0.908767    감정\n",
       "104       1  0.791375    강도\n",
       "128       4  0.913749    강조\n",
       "13        1  1.025732    개월\n",
       "123       4  0.913748   거짓말\n",
       "14        1  1.025882    걱정\n",
       "0         1  1.026345    검증\n",
       "67        1  0.791371    격론\n",
       "52        2  0.864798    결성\n",
       "129       1  0.561372    경고\n",
       "129       4  0.561372    경고\n",
       "101       3  0.910002    경제\n",
       "1         1  1.026000    공조\n",
       "102       3  0.909996    교체\n",
       "68        1  0.791375    금수\n",
       "124       4  0.913751   금태섭\n",
       "15        1  1.025776    기업\n",
       "60        4  0.913753   기업인\n",
       "21        2  0.864801    기용\n",
       "53        2  0.864798  기정사실\n",
       "75        3  0.909996   김일성\n",
       "76        3  0.910001   김정은\n",
       "...     ...       ...   ...\n",
       "25        2  0.864800    조국\n",
       "110       1  0.791375    조선\n",
       "65        1  0.561364    조치\n",
       "65        4  0.561364    조치\n",
       "45        4  0.913750    지적\n",
       "111       1  0.791375    지하\n",
       "58        2  0.864798    창당\n",
       "46        4  0.913752    철회\n",
       "38        2  0.864799    총리\n",
       "135       3  0.909997   총출동\n",
       "66        4  0.913751    최대\n",
       "7         1  0.809211    카드\n",
       "7         3  0.404605    카드\n",
       "120       4  0.913751    토론\n",
       "116       3  0.909998   특별법\n",
       "59        2  0.864797    평화\n",
       "99        3  0.908581    하면\n",
       "117       3  0.910001    학살\n",
       "8         1  0.543683    한국\n",
       "8         3  0.271842    한국\n",
       "70        1  0.791375    한일\n",
       "39        2  0.864798   핫라인\n",
       "132       4  0.913751    해결\n",
       "121       4  0.913755    해법\n",
       "140       1  0.791376    해진\n",
       "122       3  0.618568  허심탄회\n",
       "122       4  0.618568  허심탄회\n",
       "100       3  0.908928    혼란\n",
       "32        2  0.595289   홍준표\n",
       "32        3  0.595289   홍준표\n",
       "\n",
       "[146 rows x 3 columns], R=30, lambda_step=0.01, plot_opts={'xlab': 'PC1', 'ylab': 'PC2'}, topic_order=[1, 2, 3, 4])"
      ]
     },
     "execution_count": 235,
     "metadata": {},
     "output_type": "execute_result"
    }
   ],
   "source": [
    "# Visualize the topics\n",
    "#p = pyLDAvis.gensim.prepare(topic_model, corpus, dictionary)\n",
    "#pyLDAvis.save_html(p, 'lda_2.html').enable_notebook()\n",
    "vis = pyLDAvis.gensim.prepare(lda_model, corpus, id2word)\n",
    "vis"
   ]
  },
  {
   "cell_type": "markdown",
   "metadata": {
    "colab_type": "text",
    "id": "ppnke_mErr8A"
   },
   "source": [
    "blahblah"
   ]
  },
  {
   "cell_type": "code",
   "execution_count": 236,
   "metadata": {},
   "outputs": [],
   "source": [
    "pyLDAvis.save_html(vis, 'daum_title_10.html')"
   ]
  },
  {
   "cell_type": "code",
   "execution_count": 39,
   "metadata": {},
   "outputs": [],
   "source": []
  }
 ],
 "metadata": {
  "colab": {
   "name": "daum_title.ipynb",
   "provenance": [],
   "version": "0.3.2"
  },
  "kernelspec": {
   "display_name": "Python 3",
   "language": "python",
   "name": "python3"
  },
  "language_info": {
   "codemirror_mode": {
    "name": "ipython",
    "version": 3
   },
   "file_extension": ".py",
   "mimetype": "text/x-python",
   "name": "python",
   "nbconvert_exporter": "python",
   "pygments_lexer": "ipython3",
   "version": "3.7.3"
  }
 },
 "nbformat": 4,
 "nbformat_minor": 1
}
