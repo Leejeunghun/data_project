{
 "cells": [
  {
   "cell_type": "code",
   "execution_count": 111,
   "metadata": {},
   "outputs": [],
   "source": [
    "import numpy as np # linear algebra\n",
    "import pandas as pd # data processing, CSV file I/O (e.g. pd.read_csv)\n",
    "import matplotlib.pyplot as plt\n",
    "import seaborn as sns\n",
    "%matplotlib inline\n",
    "import nltk\n",
    "from nltk import wordpunct_tokenize\n",
    "from nltk.corpus import stopwords\n",
    "from wordcloud import WordCloud,STOPWORDS\n",
    "from nltk.stem.wordnet import WordNetLemmatizer\n",
    "from sklearn.feature_extraction.text import TfidfVectorizer, CountVectorizer\n",
    "from sklearn.decomposition import NMF, LatentDirichletAllocation\n",
    "import string\n",
    "\n",
    "import textblob as tb\n",
    "from tqdm import tqdm\n",
    "\n",
    "# Input data files are available in the \"../input/\" directory.\n",
    "# For example, running this (by clicking run or pressing Shift+Enter) will list the files in the input directory"
   ]
  },
  {
   "cell_type": "code",
   "execution_count": 238,
   "metadata": {},
   "outputs": [
    {
     "name": "stdout",
     "output_type": "stream",
     "text": [
      "                                         title\n",
      "0                            독이 된 황교안의 ‘가벼운 입’\n",
      "1  “Fantastic Woman” 틈만 나면 김정숙 여사 특급 칭찬한 트럼프 …\n",
      "2                              강효상 ‘빗나간 예측’ 망신\n",
      "3      \"민주당, 나경원 살리고 심상정 버렸다\" 정의당 반발에… 與, 공조 …\n",
      "4             탁현민 \"준비안된 남북미 만남…인공기·성조기 바닥에 끌려\"\n",
      "300\n"
     ]
    }
   ],
   "source": [
    "# 데이터 읽기\n",
    "\n",
    "colnames = ['title']\n",
    "df = pd.read_csv('naver_title.csv', encoding='utf-8', header=None, names=colnames)\n",
    "\n",
    "print(df.head())\n",
    "print(len(df))"
   ]
  },
  {
   "cell_type": "code",
   "execution_count": 239,
   "metadata": {},
   "outputs": [
    {
     "data": {
      "text/plain": [
       "False"
      ]
     },
     "execution_count": 239,
     "metadata": {},
     "output_type": "execute_result"
    }
   ],
   "source": [
    "df['title'].isnull().values.any()"
   ]
  },
  {
   "cell_type": "code",
   "execution_count": 240,
   "metadata": {},
   "outputs": [],
   "source": [
    "# 3일 데이터\n",
    "\n",
    "df1 = df.loc[270:299]"
   ]
  },
  {
   "cell_type": "code",
   "execution_count": 241,
   "metadata": {},
   "outputs": [],
   "source": [
    "# 한자 한국어로 매칭\n",
    "\n",
    "def change_string(x):\n",
    "    return x.replace('靑','청와대').replace('軍','군대').replace('北','북한').replace('美','미국').replace('日','일본').replace('韓', '한국').replace('與', '여당').replace('野', '야당').replace('中', '중국').replace('黃', '황교안').replace('文', '문재인')"
   ]
  },
  {
   "cell_type": "code",
   "execution_count": 242,
   "metadata": {},
   "outputs": [
    {
     "name": "stderr",
     "output_type": "stream",
     "text": [
      "C:\\Users\\LeeJeungHun\\Anaconda3\\lib\\site-packages\\ipykernel_launcher.py:1: SettingWithCopyWarning: \n",
      "A value is trying to be set on a copy of a slice from a DataFrame.\n",
      "Try using .loc[row_indexer,col_indexer] = value instead\n",
      "\n",
      "See the caveats in the documentation: http://pandas.pydata.org/pandas-docs/stable/indexing.html#indexing-view-versus-copy\n",
      "  \"\"\"Entry point for launching an IPython kernel.\n"
     ]
    }
   ],
   "source": [
    "df1['title'] = df1['title'].map(lambda x : change_string(x))"
   ]
  },
  {
   "cell_type": "code",
   "execution_count": 243,
   "metadata": {},
   "outputs": [
    {
     "data": {
      "text/plain": [
       "30"
      ]
     },
     "execution_count": 243,
     "metadata": {},
     "output_type": "execute_result"
    }
   ],
   "source": [
    "news_title = [] # 리스트 선언\n",
    "news_title.extend(list(df1.title.values)) # 헤드라인의 값들을 리스트로 저장\n",
    "# news_title = [n for n in news_title if len(n) >=10]\n",
    "len(news_title) # 제거 후 샘플의 개수"
   ]
  },
  {
   "cell_type": "code",
   "execution_count": 244,
   "metadata": {},
   "outputs": [],
   "source": [
    "# 특수문자, 숫자 제거\n",
    "\n",
    "from string import punctuation\n",
    "import re\n",
    "\n",
    "def clean_text(text):\n",
    "#     cleaned_text = [''.join(c for c in text).lower()]\n",
    "#     cleaned_text = re.sub('[^가-힣a-zA-Z文 ]', '', text)\n",
    "    cleaned_text = re.sub('[0-9]', ' ', text)\n",
    "    cleaned_text = re.sub('[\\{\\}\\[\\]\\/?.,;:|\\)*~`!^\\-_+<>@\\#$%&\\\\\\=\\(\\'\\\"\\'\\·]',\n",
    "                          ' ', cleaned_text)\n",
    "    cleaned_text = re.sub(r'\\s+', ' ', cleaned_text)\n",
    "    return cleaned_text"
   ]
  },
  {
   "cell_type": "code",
   "execution_count": 245,
   "metadata": {},
   "outputs": [
    {
     "data": {
      "text/html": [
       "<div>\n",
       "<style scoped>\n",
       "    .dataframe tbody tr th:only-of-type {\n",
       "        vertical-align: middle;\n",
       "    }\n",
       "\n",
       "    .dataframe tbody tr th {\n",
       "        vertical-align: top;\n",
       "    }\n",
       "\n",
       "    .dataframe thead th {\n",
       "        text-align: right;\n",
       "    }\n",
       "</style>\n",
       "<table border=\"1\" class=\"dataframe\">\n",
       "  <thead>\n",
       "    <tr style=\"text-align: right;\">\n",
       "      <th></th>\n",
       "      <th>title</th>\n",
       "    </tr>\n",
       "  </thead>\n",
       "  <tbody>\n",
       "    <tr>\n",
       "      <th>0</th>\n",
       "      <td>일본극우언론이 단독 입수 했다는 조원진 의원실 자료</td>\n",
       "    </tr>\n",
       "    <tr>\n",
       "      <th>1</th>\n",
       "      <td>속보 문 대통령 윤석열 청문보고서 재송부 요청…임명 강행 수순</td>\n",
       "    </tr>\n",
       "    <tr>\n",
       "      <th>2</th>\n",
       "      <td>속보 문 대통령 “일본 막다른 길 가지 말고 화답하라”</td>\n",
       "    </tr>\n",
       "    <tr>\n",
       "      <th>3</th>\n",
       "      <td>문 대통령 “전례 없는 비상 상황…일본은 막다른 길로 가지 말라” …</td>\n",
       "    </tr>\n",
       "    <tr>\n",
       "      <th>4</th>\n",
       "      <td>문재인대통령 외교적 해결 최선…일본 막다른 길 가지 말고 화답하라</td>\n",
       "    </tr>\n",
       "  </tbody>\n",
       "</table>\n",
       "</div>"
      ],
      "text/plain": [
       "                                    title\n",
       "0            일본극우언론이 단독 입수 했다는 조원진 의원실 자료\n",
       "1      속보 문 대통령 윤석열 청문보고서 재송부 요청…임명 강행 수순\n",
       "2          속보 문 대통령 “일본 막다른 길 가지 말고 화답하라”\n",
       "3  문 대통령 “전례 없는 비상 상황…일본은 막다른 길로 가지 말라” …\n",
       "4   문재인대통령 외교적 해결 최선…일본 막다른 길 가지 말고 화답하라 "
      ]
     },
     "execution_count": 245,
     "metadata": {},
     "output_type": "execute_result"
    }
   ],
   "source": [
    "text = [clean_text(x) for x in news_title]\n",
    "text = pd.DataFrame(text, columns=['title'])\n",
    "text.head()"
   ]
  },
  {
   "cell_type": "code",
   "execution_count": 246,
   "metadata": {},
   "outputs": [
    {
     "data": {
      "text/html": [
       "<div>\n",
       "<style scoped>\n",
       "    .dataframe tbody tr th:only-of-type {\n",
       "        vertical-align: middle;\n",
       "    }\n",
       "\n",
       "    .dataframe tbody tr th {\n",
       "        vertical-align: top;\n",
       "    }\n",
       "\n",
       "    .dataframe thead th {\n",
       "        text-align: right;\n",
       "    }\n",
       "</style>\n",
       "<table border=\"1\" class=\"dataframe\">\n",
       "  <thead>\n",
       "    <tr style=\"text-align: right;\">\n",
       "      <th></th>\n",
       "      <th>title</th>\n",
       "    </tr>\n",
       "  </thead>\n",
       "  <tbody>\n",
       "    <tr>\n",
       "      <th>0</th>\n",
       "      <td>[일본, 극우, 언론, 입수, 조원진, 의원실, 자료]</td>\n",
       "    </tr>\n",
       "    <tr>\n",
       "      <th>1</th>\n",
       "      <td>[문, 대통령, 윤석열, 청문, 보고서, 송부, 요청, 임명, 강행, 수순]</td>\n",
       "    </tr>\n",
       "    <tr>\n",
       "      <th>2</th>\n",
       "      <td>[문, 대통령, 일본, 길, 가지, 화답]</td>\n",
       "    </tr>\n",
       "    <tr>\n",
       "      <th>3</th>\n",
       "      <td>[문, 대통령, 전례, 비상, 상황, 일본, 길, 가지, 말라]</td>\n",
       "    </tr>\n",
       "    <tr>\n",
       "      <th>4</th>\n",
       "      <td>[문재인대통령, 외교적, 해결, 최선, 일본, 길, 가지, 화답]</td>\n",
       "    </tr>\n",
       "  </tbody>\n",
       "</table>\n",
       "</div>"
      ],
      "text/plain": [
       "                                        title\n",
       "0              [일본, 극우, 언론, 입수, 조원진, 의원실, 자료]\n",
       "1  [문, 대통령, 윤석열, 청문, 보고서, 송부, 요청, 임명, 강행, 수순]\n",
       "2                     [문, 대통령, 일본, 길, 가지, 화답]\n",
       "3         [문, 대통령, 전례, 비상, 상황, 일본, 길, 가지, 말라]\n",
       "4        [문재인대통령, 외교적, 해결, 최선, 일본, 길, 가지, 화답]"
      ]
     },
     "execution_count": 246,
     "metadata": {},
     "output_type": "execute_result"
    }
   ],
   "source": [
    "from konlpy.tag import Komoran\n",
    "\n",
    "stopwords = set(['신문', '종합', '단독', '상보', '속보', '것', '내일'])\n",
    "dicpath = 'user_dict.txt' # 텍스트 파일주소로, 사용자 사전의 구조는 위와 같습니다.\n",
    "\n",
    "komoran = Komoran(userdic=dicpath)\n",
    "text['title'] = text.apply(lambda row: komoran.nouns(row['title']), axis=1)\n",
    "text['title'] = text['title'].apply(lambda x: [word for word in x if word not in stopwords])\n",
    "text.head()"
   ]
  },
  {
   "cell_type": "code",
   "execution_count": 247,
   "metadata": {},
   "outputs": [
    {
     "data": {
      "text/plain": [
       "0             [일본, 극우, 언론, 입수, 조원진, 의원실, 자료]\n",
       "1    [대통령, 윤석열, 청문, 보고서, 송부, 요청, 임명, 강행, 수순]\n",
       "2                          [대통령, 일본, 가지, 화답]\n",
       "3              [대통령, 전례, 비상, 상황, 일본, 가지, 말라]\n",
       "4          [문재인대통령, 외교적, 해결, 최선, 일본, 가지, 화답]\n",
       "Name: title, dtype: object"
      ]
     },
     "execution_count": 247,
     "metadata": {},
     "output_type": "execute_result"
    }
   ],
   "source": [
    "# 한 글자 단어 제거\n",
    "\n",
    "tokenized_doc = text['title'].apply(lambda x: [word for word in x if len(word) >1])\n",
    "tokenized_doc.head()"
   ]
  },
  {
   "cell_type": "code",
   "execution_count": 248,
   "metadata": {},
   "outputs": [
    {
     "data": {
      "text/plain": [
       "['일본 극우 언론 입수 조원진 의원실 자료',\n",
       " '대통령 윤석열 청문 보고서 송부 요청 임명 강행 수순',\n",
       " '대통령 일본 가지 화답',\n",
       " '대통령 전례 비상 상황 일본 가지 말라',\n",
       " '문재인대통령 외교적 해결 최선 일본 가지 화답']"
      ]
     },
     "execution_count": 248,
     "metadata": {},
     "output_type": "execute_result"
    }
   ],
   "source": [
    "# 역 토큰화\n",
    "\n",
    "documents = []\n",
    "for i in range(len(text)):\n",
    "    t = ' '.join(tokenized_doc[i])\n",
    "    documents.append(t)\n",
    "    \n",
    "documents[:5]"
   ]
  },
  {
   "cell_type": "code",
   "execution_count": 249,
   "metadata": {},
   "outputs": [],
   "source": [
    "import re\n",
    "import numpy as np\n",
    "import pandas as pd\n",
    "from pprint import pprint\n",
    "\n",
    "# Gensim\n",
    "import gensim\n",
    "import gensim.corpora as corpora\n",
    "from gensim.utils import simple_preprocess\n",
    "from gensim.models import CoherenceModel\n",
    "\n",
    "# spacy for lemmatization\n",
    "import spacy\n",
    "\n",
    "# Plotting tools\n",
    "import pyLDAvis\n",
    "import pyLDAvis.gensim  # don't skip this\n",
    "import matplotlib.pyplot as plt\n",
    "%matplotlib inline\n",
    "\n",
    "# Enable logging for gensim - optional\n",
    "import logging\n",
    "logging.basicConfig(format='%(asctime)s : %(levelname)s : %(message)s', level=logging.ERROR)\n",
    "\n",
    "import warnings\n",
    "warnings.filterwarnings(\"ignore\",category=DeprecationWarning)"
   ]
  },
  {
   "cell_type": "code",
   "execution_count": 250,
   "metadata": {},
   "outputs": [
    {
     "name": "stdout",
     "output_type": "stream",
     "text": [
      "[[(0, 1), (1, 1), (2, 1), (3, 1), (4, 1), (5, 1), (6, 1)]]\n"
     ]
    }
   ],
   "source": [
    "id2word = corpora.Dictionary(tokenized_doc)\n",
    "\n",
    "texts = tokenized_doc\n",
    "\n",
    "corpus = [id2word.doc2bow(text) for text in texts]\n",
    "\n",
    "print(corpus[:1])"
   ]
  },
  {
   "cell_type": "code",
   "execution_count": 251,
   "metadata": {},
   "outputs": [
    {
     "data": {
      "text/plain": [
       "[[('극우', 1),\n",
       "  ('언론', 1),\n",
       "  ('의원실', 1),\n",
       "  ('일본', 1),\n",
       "  ('입수', 1),\n",
       "  ('자료', 1),\n",
       "  ('조원진', 1)]]"
      ]
     },
     "execution_count": 251,
     "metadata": {},
     "output_type": "execute_result"
    }
   ],
   "source": [
    "# Human readable format of corpus (term-frequency)\n",
    "[[(id2word[id], freq) for id, freq in cp] for cp in corpus[:1]]"
   ]
  },
  {
   "cell_type": "code",
   "execution_count": 252,
   "metadata": {},
   "outputs": [],
   "source": [
    "import os\n",
    "from gensim.models.wrappers import LdaMallet\n",
    "\n",
    "# os.environ['MALLET_HOME'] = 'C:\\\\Users\\\\camel\\\\mallet-2.0.8'\n",
    "os.environ['MALLET_HOME'] = 'C:/Users/LeeJeungHun/Desktop/데이터_프로젝트/drive-download-20190824T053948Z-001/mallet-2.0.8'\n",
    "\n",
    "# mallet_path = 'C:/Users/camel/mallet-2.0.8/bin/mallet'\n",
    "mallet_path = 'C:/Users\\LeeJeungHun/Desktop/데이터_프로젝트/drive-download-20190824T053948Z-001/mallet-2.0.8/bin/mallet'"
   ]
  },
  {
   "cell_type": "code",
   "execution_count": 253,
   "metadata": {},
   "outputs": [],
   "source": [
    "def compute_coherence_values(dictionary, corpus, texts, limit, start=2, step=3):\n",
    "    \"\"\"\n",
    "    Compute c_v coherence for various number of topics\n",
    "\n",
    "    Parameters:\n",
    "    ----------\n",
    "    dictionary : Gensim dictionary\n",
    "    corpus : Gensim corpus\n",
    "    texts : List of input texts\n",
    "    limit : Max num of topics\n",
    "\n",
    "    Returns:\n",
    "    -------\n",
    "    model_list : List of LDA topic models\n",
    "    coherence_values : Coherence values corresponding to the LDA model with respective number of topics\n",
    "    \"\"\"\n",
    "    coherence_values = []\n",
    "    model_list = []\n",
    "    for num_topics in range(start, limit, step):\n",
    "        model = gensim.models.wrappers.LdaMallet(mallet_path, corpus=corpus, num_topics=num_topics, id2word=id2word)\n",
    "        model_list.append(model)\n",
    "        coherencemodel = CoherenceModel(model=model, texts=texts, dictionary=dictionary, coherence='c_v')\n",
    "        coherence_values.append(coherencemodel.get_coherence())\n",
    "\n",
    "    return model_list, coherence_values"
   ]
  },
  {
   "cell_type": "code",
   "execution_count": 254,
   "metadata": {},
   "outputs": [],
   "source": [
    "model_list, coherence_values = compute_coherence_values(dictionary=id2word, corpus=corpus, texts=tokenized_doc, start=1, limit=16, step=3)"
   ]
  },
  {
   "cell_type": "code",
   "execution_count": 255,
   "metadata": {},
   "outputs": [
    {
     "data": {
      "image/png": "[encoded data removed]",
      "text/plain": [
       "<Figure size 432x288 with 1 Axes>"
      ]
     },
     "metadata": {
      "needs_background": "light"
     },
     "output_type": "display_data"
    }
   ],
   "source": [
    "# Show graph\n",
    "limit = 16; start=1; step=3;\n",
    "x = range(start, limit, step)\n",
    "plt.plot(x, coherence_values)\n",
    "plt.xlabel('Num Topics')\n",
    "plt.ylabel('Coherence score')\n",
    "plt.legend(('coherence_values'), loc='best')\n",
    "plt.show()"
   ]
  },
  {
   "cell_type": "code",
   "execution_count": 256,
   "metadata": {},
   "outputs": [
    {
     "name": "stdout",
     "output_type": "stream",
     "text": [
      "Num Topics = 1  has Coherence Value of 0.5074\n",
      "Num Topics = 4  has Coherence Value of 0.729\n",
      "Num Topics = 7  has Coherence Value of 0.7486\n",
      "Num Topics = 10  has Coherence Value of 0.7078\n",
      "Num Topics = 13  has Coherence Value of 0.6626\n"
     ]
    }
   ],
   "source": [
    "for m, cv in zip(x, coherence_values):\n",
    "    print('Num Topics =', m, \" has Coherence Value of\", round(cv, 4))"
   ]
  },
  {
   "cell_type": "code",
   "execution_count": 183,
   "metadata": {},
   "outputs": [],
   "source": [
    "# # Select the model and print the topics\n",
    "# optimal_model = model_list[3]\n",
    "# model_topics = optimal_model.show_topics(formatted=False)\n",
    "# pprint(optimal_model.print_topics(num_words=10))"
   ]
  },
  {
   "cell_type": "code",
   "execution_count": 48,
   "metadata": {},
   "outputs": [],
   "source": [
    "# ldamallet = gensim.models.wrappers.LdaMallet(mallet_path, corpus=corpus, num_topics=7, id2word=id2word)\n",
    "\n",
    "# import gensim    \n",
    "# mallet_model = gensim.models.wrappers.ldamallet.malletmodel2ldamodel(ldamallet)"
   ]
  },
  {
   "cell_type": "code",
   "execution_count": 49,
   "metadata": {},
   "outputs": [],
   "source": [
    "# # Visualize the topics\n",
    "# pyLDAvis.enable_notebook()\n",
    "# vis = pyLDAvis.gensim.prepare(mallet_model, corpus, id2word)\n",
    "# vis"
   ]
  },
  {
   "cell_type": "code",
   "execution_count": 257,
   "metadata": {},
   "outputs": [],
   "source": [
    "# Build LDA model\n",
    "lda_model = gensim.models.ldamodel.LdaModel(corpus=corpus,\n",
    "                                           id2word=id2word,\n",
    "                                           num_topics=4, \n",
    "                                           random_state=100,\n",
    "                                           update_every=1,\n",
    "                                           chunksize=100,\n",
    "                                           passes=7,\n",
    "                                           alpha='auto',\n",
    "                                           per_word_topics=True)"
   ]
  },
  {
   "cell_type": "code",
   "execution_count": 258,
   "metadata": {},
   "outputs": [
    {
     "name": "stdout",
     "output_type": "stream",
     "text": [
      "[(0,\n",
      "  '0.040*\"윤석열\" + 0.040*\"요청\" + 0.040*\"청문\" + 0.040*\"임명\" + 0.040*\"송부\" + '\n",
      "  '0.040*\"보고서\" + 0.028*\"북한\" + 0.028*\"대통령\" + 0.016*\"박순자\" + 0.016*\"논란\"'),\n",
      " (1,\n",
      "  '0.074*\"일본\" + 0.042*\"가지\" + 0.026*\"대통령\" + 0.026*\"비상\" + 0.026*\"전례\" + '\n",
      "  '0.026*\"문재인\" + 0.026*\"상황\" + 0.018*\"거짓말\" + 0.018*\"해결\" + 0.018*\"문재인대통령\"'),\n",
      " (2,\n",
      "  '0.060*\"일본\" + 0.023*\"대응\" + 0.023*\"선포\" + 0.023*\"묵과\" + 0.023*\"수준\" + 0.023*\"경고\" '\n",
      "  '+ 0.023*\"외교\" + 0.023*\"제재\" + 0.023*\"대북\" + 0.023*\"판단\"'),\n",
      " (3,\n",
      "  '0.027*\"윤석열\" + 0.027*\"생방송\" + 0.027*\"민경욱\" + 0.027*\"고민정\" + 0.027*\"거짓말\" + '\n",
      "  '0.015*\"위증\" + 0.015*\"청와대\" + 0.015*\"논란\" + 0.015*\"대변인\" + 0.015*\"한판\"')]\n"
     ]
    }
   ],
   "source": [
    "# Print the Keyword in the 10 topics\n",
    "pprint(lda_model.print_topics())\n",
    "doc_lda = lda_model[corpus]"
   ]
  },
  {
   "cell_type": "code",
   "execution_count": 259,
   "metadata": {},
   "outputs": [
    {
     "name": "stdout",
     "output_type": "stream",
     "text": [
      "\n",
      "Perplexity:  -5.298051148008269\n",
      "\n",
      "Coherence Score:  0.35520278620679213\n"
     ]
    }
   ],
   "source": [
    "# Compute Perplexity\n",
    "print('\\nPerplexity: ', lda_model.log_perplexity(corpus))  # a measure of how good the model is. lower the better.\n",
    "\n",
    "# Compute Coherence Score\n",
    "coherence_model_lda = CoherenceModel(model=lda_model, texts=tokenized_doc, dictionary=id2word, coherence='c_v')\n",
    "coherence_lda = coherence_model_lda.get_coherence()\n",
    "print('\\nCoherence Score: ', coherence_lda)"
   ]
  },
  {
   "cell_type": "code",
   "execution_count": 260,
   "metadata": {},
   "outputs": [
    {
     "name": "stderr",
     "output_type": "stream",
     "text": [
      "C:\\Users\\LeeJeungHun\\Anaconda3\\lib\\site-packages\\pyLDAvis\\_prepare.py:257: FutureWarning: Sorting because non-concatenation axis is not aligned. A future version\n",
      "of pandas will change to not sort by default.\n",
      "\n",
      "To accept the future behavior, pass 'sort=False'.\n",
      "\n",
      "To retain the current behavior and silence the warning, pass 'sort=True'.\n",
      "\n",
      "  return pd.concat([default_term_info] + list(topic_dfs))\n"
     ]
    },
    {
     "data": {
      "text/html": [
       "\n",
       "<link rel=\"stylesheet\" type=\"text/css\" href=\"https://cdn.rawgit.com/bmabey/pyLDAvis/files/ldavis.v1.0.0.css\">\n",
       "\n",
       "\n",
       "<div id=\"ldavis_el1550022206876437764794314941\"></div>\n",
       "<script type=\"text/javascript\">\n",
       "\n",
       "var ldavis_el1550022206876437764794314941_data = {\"mdsDat\": {\"x\": [0.12799090470723853, -0.054698733931625484, -0.10622107266820224, 0.032928901892589034], \"y\": [0.02045262937444249, -0.1051668917051106, 0.08019975593588648, 0.004514506394781634], \"topics\": [1, 2, 3, 4], \"cluster\": [1, 1, 1, 1], \"Freq\": [43.94344711303711, 23.955041885375977, 22.185441970825195, 9.916069984436035]}, \"tinfo\": {\"Category\": [\"Default\", \"Default\", \"Default\", \"Default\", \"Default\", \"Default\", \"Default\", \"Default\", \"Default\", \"Default\", \"Default\", \"Default\", \"Default\", \"Default\", \"Default\", \"Default\", \"Default\", \"Default\", \"Default\", \"Default\", \"Default\", \"Default\", \"Default\", \"Default\", \"Default\", \"Default\", \"Default\", \"Default\", \"Default\", \"Default\", \"Topic1\", \"Topic1\", \"Topic1\", \"Topic1\", \"Topic1\", \"Topic1\", \"Topic1\", \"Topic1\", \"Topic1\", \"Topic1\", \"Topic1\", \"Topic1\", \"Topic1\", \"Topic1\", \"Topic1\", \"Topic1\", \"Topic1\", \"Topic1\", \"Topic1\", \"Topic1\", \"Topic1\", \"Topic1\", \"Topic1\", \"Topic1\", \"Topic1\", \"Topic1\", \"Topic1\", \"Topic1\", \"Topic1\", \"Topic1\", \"Topic1\", \"Topic1\", \"Topic1\", \"Topic1\", \"Topic1\", \"Topic1\", \"Topic1\", \"Topic1\", \"Topic1\", \"Topic1\", \"Topic2\", \"Topic2\", \"Topic2\", \"Topic2\", \"Topic2\", \"Topic2\", \"Topic2\", \"Topic2\", \"Topic2\", \"Topic2\", \"Topic2\", \"Topic2\", \"Topic2\", \"Topic2\", \"Topic2\", \"Topic2\", \"Topic2\", \"Topic2\", \"Topic2\", \"Topic2\", \"Topic2\", \"Topic2\", \"Topic2\", \"Topic2\", \"Topic2\", \"Topic2\", \"Topic2\", \"Topic2\", \"Topic2\", \"Topic2\", \"Topic2\", \"Topic2\", \"Topic2\", \"Topic2\", \"Topic2\", \"Topic2\", \"Topic2\", \"Topic2\", \"Topic3\", \"Topic3\", \"Topic3\", \"Topic3\", \"Topic3\", \"Topic3\", \"Topic3\", \"Topic3\", \"Topic3\", \"Topic3\", \"Topic3\", \"Topic3\", \"Topic3\", \"Topic3\", \"Topic3\", \"Topic3\", \"Topic3\", \"Topic3\", \"Topic3\", \"Topic3\", \"Topic3\", \"Topic3\", \"Topic3\", \"Topic3\", \"Topic3\", \"Topic3\", \"Topic3\", \"Topic3\", \"Topic3\", \"Topic3\", \"Topic3\", \"Topic4\", \"Topic4\", \"Topic4\", \"Topic4\", \"Topic4\", \"Topic4\", \"Topic4\", \"Topic4\", \"Topic4\", \"Topic4\", \"Topic4\", \"Topic4\", \"Topic4\", \"Topic4\", \"Topic4\", \"Topic4\", \"Topic4\", \"Topic4\", \"Topic4\", \"Topic4\", \"Topic4\", \"Topic4\", \"Topic4\", \"Topic4\", \"Topic4\", \"Topic4\", \"Topic4\", \"Topic4\", \"Topic4\", \"Topic4\", \"Topic4\", \"Topic4\", \"Topic4\", \"Topic4\", \"Topic4\", \"Topic4\", \"Topic4\", \"Topic4\", \"Topic4\", \"Topic4\", \"Topic4\", \"Topic4\", \"Topic4\", \"Topic4\", \"Topic4\", \"Topic4\", \"Topic4\", \"Topic4\", \"Topic4\", \"Topic4\"], \"Freq\": [9.0, 2.0, 2.0, 2.0, 2.0, 2.0, 3.0, 2.0, 2.0, 4.0, 4.0, 1.0, 1.0, 1.0, 1.0, 1.0, 0.0, 0.0, 0.0, 0.0, 0.0, 0.0, 0.0, 0.0, 0.0, 0.0, 0.0, 0.0, 0.0, 1.0, 3.7951436042785645, 2.3495781421661377, 2.3495261669158936, 2.349416732788086, 1.6266429424285889, 1.6266191005706787, 1.6264712810516357, 1.6264601945877075, 1.6264309883117676, 2.349807024002075, 6.739610195159912, 0.9036846160888672, 0.9036780595779419, 0.9036753177642822, 0.9036753177642822, 0.9036704301834106, 0.9036687016487122, 0.9036645293235779, 0.9036585092544556, 0.9036597013473511, 0.9036561846733093, 0.9036551713943481, 0.9036583304405212, 0.903652012348175, 0.9036530256271362, 0.9036514163017273, 0.9036498665809631, 0.9036489725112915, 0.9036388397216797, 0.9036357402801514, 1.626948356628418, 1.626760721206665, 2.370579481124878, 1.6274374723434448, 0.9041212201118469, 0.9040156602859497, 0.9040082693099976, 0.9038325548171997, 0.9038158655166626, 0.9038073420524597, 1.3335652351379395, 1.3334999084472656, 1.3334847688674927, 0.7408689260482788, 0.7408555746078491, 0.7408592104911804, 0.7408533096313477, 0.7408545017242432, 0.740835964679718, 0.7408316731452942, 0.7408201098442078, 0.740814745426178, 0.7408079504966736, 0.7407978773117065, 0.740775465965271, 0.7407609820365906, 0.7407436370849609, 0.740740954875946, 0.7407069206237793, 0.740702748298645, 0.7406992316246033, 0.7406888008117676, 0.738244891166687, 0.7373755574226379, 0.7372318506240845, 0.7365034222602844, 0.7355480194091797, 0.7354287505149841, 0.7352848649024963, 0.7351969480514526, 1.332906723022461, 1.333587884902954, 0.7409071922302246, 0.7409016489982605, 0.7408871650695801, 0.7407770156860352, 0.7407405376434326, 0.740648627281189, 1.8680028915405273, 1.8679780960083008, 1.8679282665252686, 1.8679169416427612, 1.8679131269454956, 1.293096899986267, 0.7184721827507019, 0.7184516787528992, 0.718445897102356, 0.7184422016143799, 0.7184445261955261, 0.7184376120567322, 0.7184381484985352, 0.7184356451034546, 0.7184244394302368, 0.7184194326400757, 0.7184091806411743, 0.7184073328971863, 0.7184057235717773, 0.718390703201294, 0.7183893322944641, 0.7183746695518494, 0.7183777093887329, 0.7183734178543091, 0.7183408141136169, 1.8680888414382935, 0.7210935354232788, 0.7185147404670715, 0.7184782028198242, 0.7184703350067139, 1.2930206060409546, 0.4751429855823517, 0.47514259815216064, 0.4751273989677429, 0.475124329328537, 0.4751241207122803, 0.47512099146842957, 0.4751126170158386, 0.4750998020172119, 0.47510161995887756, 0.47510087490081787, 0.47503581643104553, 0.47500041127204895, 0.47497788071632385, 0.47507476806640625, 0.4750882089138031, 0.4749789834022522, 0.4750159978866577, 1.2345420122146606, 0.09508012235164642, 0.09507662057876587, 0.09507690370082855, 0.09507498145103455, 0.09507019072771072, 0.09506996721029282, 0.09506905823945999, 0.09506892412900925, 0.0950671061873436, 0.09506712853908539, 0.09506726264953613, 0.09506592899560928, 0.09510578215122223, 0.09510292112827301, 0.09509743750095367, 0.09509434551000595, 0.0950932428240776, 0.09508977830410004, 0.09508730471134186, 0.09508591145277023, 0.09522075206041336, 0.09516677260398865, 0.09514740109443665, 0.09513906389474869, 0.09513179212808609, 0.09512314200401306, 0.09512194991111755, 0.09511692821979523, 0.09511507302522659, 0.09511283785104752, 0.0951099544763565, 0.09510952234268188], \"Term\": [\"\\uc77c\\ubcf8\", \"\\uc694\\uccad\", \"\\uccad\\ubb38\", \"\\uc784\\uba85\", \"\\uc1a1\\ubd80\", \"\\ubcf4\\uace0\\uc11c\", \"\\ube44\\uc0c1\", \"\\ubb38\\uc7ac\\uc778\\ub300\\ud1b5\\ub839\", \"\\ud574\\uacb0\", \"\\uc724\\uc11d\\uc5f4\", \"\\uac00\\uc9c0\", \"\\ubd81\\ud55c\", \"\\uc815\\ubd80\", \"\\uc0dd\\ubc29\\uc1a1\", \"\\ubbfc\\uacbd\\uc6b1\", \"\\uace0\\ubbfc\\uc815\", \"\\uc120\\ud3ec\", \"\\ub300\\uc751\", \"\\ubb35\\uacfc\", \"\\uacbd\\uace0\", \"\\uc218\\uc900\", \"\\uc678\\uad50\", \"\\uc81c\\uc7ac\", \"\\ub300\\ubd81\", \"\\ud310\\ub2e8\", \"\\uac15\\uc870\", \"\\ube4c\\ubbf8\", \"\\ubc18\\uaca9\", \"\\uc0b0\\uc5c5\\ubd80\", \"\\ubc15\\uc21c\\uc790\", \"\\uac00\\uc9c0\", \"\\uc804\\ub840\", \"\\ubb38\\uc7ac\\uc778\", \"\\uc0c1\\ud669\", \"\\uc6b0\\ub9ac\", \"\\ub9d0\\ub77c\", \"\\uc678\\uad50\\uc801\", \"\\ucd5c\\uc120\", \"\\ud654\\ub2f5\", \"\\ube44\\uc0c1\", \"\\uc77c\\ubcf8\", \"\\ubcf4\\ud638\", \"\\ud544\\uc694\", \"\\uc5ec\\ub2f9\", \"\\uc815\\uce58\\uc801\", \"\\uc7ac\\ubc8c\", \"\\ubaa9\\uc801\", \"\\uc0ac\\ub78c\", \"\\uc0c1\\uc2dd\", \"\\ubcf4\\ubcf5\", \"\\ub2e8\\ud638\", \"\\uc790\\ub8cc\", \"\\uc120\\ubc30\", \"\\uc804\\uba74\", \"\\ucda9\\uc131\", \"\\uadfc\\ubcf8\", \"\\ub300\\ucc45\", \"\\uc758\\uc6d0\\uc2e4\", \"\\uacbd\\uc81c\\ubcf4\\ubcf5\", \"\\uc801\\uc5b4\\ub3c4\", \"\\ud574\\uacb0\", \"\\ubb38\\uc7ac\\uc778\\ub300\\ud1b5\\ub839\", \"\\ub300\\ud1b5\\ub839\", \"\\uac70\\uc9d3\\ub9d0\", \"\\uc758\\uc6d0\", \"\\uc724\\uc11d\\uc5f4\", \"\\uae08\\ud0dc\\uc12d\", \"\\uc0ac\\uacfc\", \"\\ubb38\\uc81c\", \"\\uc815\\ubd80\", \"\\uc0dd\\ubc29\\uc1a1\", \"\\ubbfc\\uacbd\\uc6b1\", \"\\uace0\\ubbfc\\uc815\", \"\\ub300\\ubcc0\\uc778\", \"\\uc815\\ubcf4\", \"\\ud55c\\ud310\", \"\\uc81c\\uacf5\", \"\\ubcc0\\ud638\\uc0ac\", \"\\uc2f8\\uc6c0\", \"\\ud604\\uc9c1\", \"\\uad00\\uc5ec\", \"\\ud64d\\uc900\\ud45c\", \"\\uc5f0\\ub77d\", \"\\uc18c\\uac1c\", \"\\ub2ec\\ub77c\", \"\\uc774\\uc815\", \"\\uc5b8\\uc81c\", \"\\uc624\\uc2e0\\ud658\", \"\\uacfc\\uac70\", \"\\uae40\\ud604\\ubbf8\", \"\\uae40\\ud604\\uc544\", \"\\ucd1d\\uc120\", \"\\uaca9\\ub178\", \"\\ud669\\uad50\\uc548\", \"\\ub098\\uacbd\\uc6d0\", \"\\uacf5\\ucc9c\", \"\\ubaa8\\ub4e0\", \"\\ub300\\ube44\", \"\\ubabb\\ud574\", \"\\ubc30\\uc81c\", \"\\uac70\\uc9d3\\ub9d0\", \"\\uc724\\uc11d\\uc5f4\", \"\\uc704\\uc99d\", \"\\uccad\\uc640\\ub300\", \"\\ub17c\\ub780\", \"\\ubb38\\uc81c\", \"\\uc0ac\\uacfc\", \"\\uae08\\ud0dc\\uc12d\", \"\\uc694\\uccad\", \"\\uccad\\ubb38\", \"\\uc784\\uba85\", \"\\uc1a1\\ubd80\", \"\\ubcf4\\uace0\\uc11c\", \"\\ubd81\\ud55c\", \"\\ub3d9\\uacb0\", \"\\uc81c\\uac70\", \"\\uc544\\ubca0\", \"\\ubbf8\\uad6d\", \"\\uc218\\uc218\", \"\\ub300\\ub7c9\\uc0b4\\uc0c1\\ubb34\\uae30\", \"\\uac15\\ud589\", \"\\uc2dc\\uc791\", \"\\uc9d5\\uacc4\", \"\\uc644\\uc804\", \"\\uad6d\\ubb34\\ubd80\", \"\\uce74\\ub4dc\", \"\\ubc29\\ud1b5\", \"\\uc218\\uc21c\", \"\\ube44\\ud310\", \"\\uc9c0\\uc5ed\\uad6c\", \"\\ub54c\\ubb38\\uc5d0\", \"\\uc77c\\ub2f9\", \"\\ucc29\\uacf5\\uc2dd\", \"\\uc724\\uc11d\\uc5f4\", \"\\ubc15\\uc21c\\uc790\", \"\\ub17c\\ub780\", \"\\uccad\\uc640\\ub300\", \"\\uc704\\uc99d\", \"\\ub300\\ud1b5\\ub839\", \"\\ub300\\uc751\", \"\\uc120\\ud3ec\", \"\\ubb35\\uacfc\", \"\\uc218\\uc900\", \"\\uacbd\\uace0\", \"\\uc678\\uad50\", \"\\uc81c\\uc7ac\", \"\\uac15\\uc870\", \"\\ub300\\ubd81\", \"\\ud310\\ub2e8\", \"\\ube4c\\ubbf8\", \"\\ubc18\\uaca9\", \"\\uc0b0\\uc5c5\\ubd80\", \"\\uc815\\ubd80\", \"\\ubb38\\uc7ac\\uc778\\ub300\\ud1b5\\ub839\", \"\\ud574\\uacb0\", \"\\ube44\\uc0c1\", \"\\uc77c\\ubcf8\", \"\\uc9c0\\uc5ed\\uad6c\", \"\\uad6d\\ubb34\\ubd80\", \"\\uc77c\\ub2f9\", \"\\ucc29\\uacf5\\uc2dd\", \"\\uce74\\ub4dc\", \"\\uc644\\uc804\", \"\\uc218\\uc21c\", \"\\ub54c\\ubb38\\uc5d0\", \"\\ubbf8\\uad6d\", \"\\uc2dc\\uc791\", \"\\ube44\\ud310\", \"\\ub300\\ub7c9\\uc0b4\\uc0c1\\ubb34\\uae30\", \"\\ucd1d\\uc120\", \"\\ub098\\uacbd\\uc6d0\", \"\\uae40\\ud604\\ubbf8\", \"\\uae40\\ud604\\uc544\", \"\\ud669\\uad50\\uc548\", \"\\uc5b8\\uc81c\", \"\\uacf5\\ucc9c\", \"\\ub2ec\\ub77c\", \"\\ub300\\ud1b5\\ub839\", \"\\uac00\\uc9c0\", \"\\uac70\\uc9d3\\ub9d0\", \"\\uc724\\uc11d\\uc5f4\", \"\\uc1a1\\ubd80\", \"\\ubc15\\uc21c\\uc790\", \"\\ubcf4\\uace0\\uc11c\", \"\\ud654\\ub2f5\", \"\\uc784\\uba85\", \"\\ucd5c\\uc120\", \"\\ubb38\\uc7ac\\uc778\", \"\\ubd81\\ud55c\"], \"Total\": [9.0, 2.0, 2.0, 2.0, 2.0, 2.0, 3.0, 2.0, 2.0, 4.0, 4.0, 1.0, 1.0, 1.0, 1.0, 1.0, 0.0, 0.0, 0.0, 0.0, 0.0, 0.0, 0.0, 0.0, 0.0, 0.0, 0.0, 0.0, 0.0, 1.0, 4.1826934814453125, 2.7367401123046875, 2.736725091934204, 2.7367050647735596, 2.01373291015625, 2.01373028755188, 2.013683557510376, 2.0136728286743164, 2.013665199279785, 3.117063045501709, 9.393067359924316, 1.2907077074050903, 1.2907085418701172, 1.2907052040100098, 1.2907058000564575, 1.290703535079956, 1.2907031774520874, 1.290703535079956, 1.2907006740570068, 1.2907047271728516, 1.2907006740570068, 1.2906992435455322, 1.2907055616378784, 1.2906992435455322, 1.2907013893127441, 1.2906999588012695, 1.2906988859176636, 1.2907021045684814, 1.2906948328018188, 1.290692687034607, 2.3940742015838623, 2.39397931098938, 4.482936859130859, 3.1993894577026367, 1.8835408687591553, 4.200831413269043, 1.88352632522583, 1.8834867477416992, 1.8834843635559082, 1.6709579229354858, 1.7532600164413452, 1.7532538175582886, 1.7532610893249512, 1.1604788303375244, 1.1604728698730469, 1.1604812145233154, 1.1604793071746826, 1.160484790802002, 1.160474181175232, 1.1604812145233154, 1.1604806184768677, 1.160474181175232, 1.1604726314544678, 1.1604783535003662, 1.1604704856872559, 1.16047203540802, 1.1604702472686768, 1.1604704856872559, 1.1604759693145752, 1.1604727506637573, 1.1604756116867065, 1.160468339920044, 1.1604032516479492, 1.1603695154190063, 1.1603608131408691, 1.160346508026123, 1.1616429090499878, 1.1616743803024292, 1.161706805229187, 1.1617205142974854, 3.1993894577026367, 4.200831413269043, 1.7353178262710571, 1.7353105545043945, 1.735329508781433, 1.8834843635559082, 1.8834867477416992, 1.88352632522583, 2.292243003845215, 2.2922492027282715, 2.2922403812408447, 2.2922277450561523, 2.292241334915161, 1.7173867225646973, 1.1425485610961914, 1.1425487995147705, 1.1425514221191406, 1.1425470113754272, 1.142551064491272, 1.142547845840454, 1.1425511837005615, 1.1425492763519287, 1.142553687095642, 1.1425482034683228, 1.1425442695617676, 1.1425502300262451, 1.1425528526306152, 1.1425515413284302, 1.1425515413284302, 1.1425457000732422, 1.142554521560669, 1.1425483226776123, 1.142558217048645, 4.200831413269043, 1.7352246046066284, 1.735329508781433, 1.7353105545043945, 1.7353178262710571, 4.482936859130859, 0.9478930234909058, 0.9478942155838013, 0.9479030966758728, 0.9479062557220459, 0.9479063749313354, 0.947907567024231, 0.9479119777679443, 0.9479179382324219, 0.9479221105575562, 0.9479224681854248, 0.9479644298553467, 0.9479838609695435, 0.9480050802230835, 1.6709579229354858, 2.39397931098938, 2.3940742015838623, 3.117063045501709, 9.393067359924316, 1.1425457000732422, 1.1425442695617676, 1.1425483226776123, 1.142558217048645, 1.1425502300262451, 1.1425482034683228, 1.1425515413284302, 1.142554521560669, 1.1425470113754272, 1.1425492763519287, 1.1425515413284302, 1.142547845840454, 1.160468339920044, 1.1603608131408691, 1.1604727506637573, 1.1604756116867065, 1.1603695154190063, 1.1604702472686768, 1.160346508026123, 1.1604704856872559, 4.482936859130859, 4.1826934814453125, 3.1993894577026367, 4.200831413269043, 2.2922277450561523, 1.7352246046066284, 2.292241334915161, 2.013665199279785, 2.2922403812408447, 2.0136728286743164, 2.736725091934204, 1.7173867225646973], \"loglift\": [30.0, 29.0, 28.0, 27.0, 26.0, 25.0, 24.0, 23.0, 22.0, 21.0, 20.0, 19.0, 18.0, 17.0, 16.0, 15.0, 14.0, 13.0, 12.0, 11.0, 10.0, 9.0, 8.0, 7.0, 6.0, 5.0, 4.0, 3.0, 2.0, 1.0, 0.7250000238418579, 0.669700026512146, 0.669700026512146, 0.669700026512146, 0.6087999939918518, 0.6087999939918518, 0.6086999773979187, 0.6086999773979187, 0.6086999773979187, 0.5396999716758728, 0.4902999997138977, 0.4657999873161316, 0.4657999873161316, 0.4657999873161316, 0.4657999873161316, 0.4657999873161316, 0.4657999873161316, 0.4657999873161316, 0.4657999873161316, 0.4657999873161316, 0.4657999873161316, 0.4657999873161316, 0.4657999873161316, 0.4657999873161316, 0.4657999873161316, 0.4657999873161316, 0.4657999873161316, 0.4657999873161316, 0.4657999873161316, 0.4657999873161316, 0.4359999895095825, 0.4359000027179718, 0.1851000040769577, 0.14630000293254852, 0.08829999715089798, -0.7139000296592712, 0.08820000290870667, 0.08799999952316284, 0.08799999952316284, 0.2076999992132187, 1.155400037765503, 1.1553000211715698, 1.1553000211715698, 0.9801999926567078, 0.9801999926567078, 0.9801999926567078, 0.9801999926567078, 0.9801999926567078, 0.9801999926567078, 0.9801999926567078, 0.9801999926567078, 0.9801999926567078, 0.9801999926567078, 0.9800999760627747, 0.9800999760627747, 0.9800999760627747, 0.9800999760627747, 0.9800999760627747, 0.9800000190734863, 0.9800000190734863, 0.9800000190734863, 0.9800000190734863, 0.9767000079154968, 0.975600004196167, 0.9753999710083008, 0.974399983882904, 0.972000002861023, 0.9718000292778015, 0.9715999960899353, 0.9714999794960022, 0.5533999800682068, 0.2815999984741211, 0.5778999924659729, 0.5778999924659729, 0.5778999924659729, 0.4957999885082245, 0.4957999885082245, 0.49559998512268066, 1.3011000156402588, 1.3011000156402588, 1.3009999990463257, 1.3009999990463257, 1.3009999990463257, 1.222000002861023, 1.0418000221252441, 1.0418000221252441, 1.0418000221252441, 1.0418000221252441, 1.0418000221252441, 1.0418000221252441, 1.0418000221252441, 1.0418000221252441, 1.0418000221252441, 1.0418000221252441, 1.0418000221252441, 1.0418000221252441, 1.041700005531311, 1.041700005531311, 1.041700005531311, 1.041700005531311, 1.041700005531311, 1.041700005531311, 1.041700005531311, 0.6953999996185303, 0.6276000142097473, 0.6240000128746033, 0.6238999962806702, 0.6238999962806702, 0.2624000012874603, 1.6203999519348145, 1.6203999519348145, 1.620300054550171, 1.620300054550171, 1.620300054550171, 1.620300054550171, 1.620300054550171, 1.620300054550171, 1.620300054550171, 1.620300054550171, 1.6201000213623047, 1.6200000047683716, 1.6198999881744385, 1.0533000230789185, 0.6937999725341797, 0.6934999823570251, 0.42969998717308044, 0.2816999852657318, -0.1753000020980835, -0.1753000020980835, -0.1753000020980835, -0.1753000020980835, -0.1754000037908554, -0.1754000037908554, -0.1754000037908554, -0.1754000037908554, -0.1754000037908554, -0.1754000037908554, -0.1754000037908554, -0.1754000037908554, -0.19059999287128448, -0.19050000607967377, -0.1906999945640564, -0.1906999945640564, -0.19059999287128448, -0.1906999945640564, -0.1906999945640564, -0.1907999962568283, -1.5407999753952026, -1.472100019454956, -1.204300045967102, -1.476699948310852, -0.8709999918937683, -0.5927000045776367, -0.8711000084877014, -0.741599977016449, -0.8712000250816345, -0.741599977016449, -1.0484999418258667, -0.5824999809265137], \"logprob\": [30.0, 29.0, 28.0, 27.0, 26.0, 25.0, 24.0, 23.0, 22.0, 21.0, 20.0, 19.0, 18.0, 17.0, 16.0, 15.0, 14.0, 13.0, 12.0, 11.0, 10.0, 9.0, 8.0, 7.0, 6.0, 5.0, 4.0, 3.0, 2.0, 1.0, -3.18149995803833, -3.6610000133514404, -3.661099910736084, -3.661099910736084, -4.028800010681152, -4.028800010681152, -4.028900146484375, -4.028900146484375, -4.028900146484375, -3.660900115966797, -2.607300043106079, -4.616499900817871, -4.616600036621094, -4.616600036621094, -4.616600036621094, -4.616600036621094, -4.616600036621094, -4.616600036621094, -4.616600036621094, -4.616600036621094, -4.616600036621094, -4.616600036621094, -4.616600036621094, -4.616600036621094, -4.616600036621094, -4.616600036621094, -4.616600036621094, -4.616600036621094, -4.616600036621094, -4.616600036621094, -4.028600215911865, -4.02869987487793, -3.652100086212158, -4.028299808502197, -4.616099834442139, -4.616199970245361, -4.616199970245361, -4.616399765014648, -4.616399765014648, -4.616399765014648, -3.620699882507324, -3.620699882507324, -3.620800018310547, -4.208499908447266, -4.208499908447266, -4.208499908447266, -4.208499908447266, -4.208499908447266, -4.208499908447266, -4.208499908447266, -4.208499908447266, -4.208600044250488, -4.208600044250488, -4.208600044250488, -4.208600044250488, -4.208600044250488, -4.208600044250488, -4.208700180053711, -4.208700180053711, -4.208700180053711, -4.208700180053711, -4.208700180053711, -4.211999893188477, -4.213200092315674, -4.213399887084961, -4.214399814605713, -4.215700149536133, -4.215799808502197, -4.216000080108643, -4.21619987487793, -3.6212000846862793, -3.620699882507324, -4.208399772644043, -4.208399772644043, -4.208499908447266, -4.208600044250488, -4.208700180053711, -4.208799839019775, -3.206899881362915, -3.206899881362915, -3.2070000171661377, -3.2070000171661377, -3.2070000171661377, -3.5748000144958496, -4.162399768829346, -4.162499904632568, -4.162499904632568, -4.162499904632568, -4.162499904632568, -4.162499904632568, -4.162499904632568, -4.162499904632568, -4.162499904632568, -4.162499904632568, -4.162499904632568, -4.162499904632568, -4.162499904632568, -4.162499904632568, -4.162499904632568, -4.162600040435791, -4.162600040435791, -4.162600040435791, -4.162600040435791, -3.206899881362915, -4.15880012512207, -4.162399768829346, -4.162399768829346, -4.162399768829346, -3.5748000144958496, -3.770699977874756, -3.770699977874756, -3.770699977874756, -3.770699977874756, -3.770699977874756, -3.770699977874756, -3.770699977874756, -3.7708001136779785, -3.7708001136779785, -3.7708001136779785, -3.770900011062622, -3.7709999084472656, -3.7709999084472656, -3.7708001136779785, -3.7708001136779785, -3.7709999084472656, -3.770900011062622, -2.8157999515533447, -5.3796000480651855, -5.3796000480651855, -5.3796000480651855, -5.3796000480651855, -5.379700183868408, -5.379700183868408, -5.379700183868408, -5.379700183868408, -5.379700183868408, -5.379700183868408, -5.379700183868408, -5.379700183868408, -5.379300117492676, -5.379300117492676, -5.37939977645874, -5.37939977645874, -5.37939977645874, -5.379499912261963, -5.379499912261963, -5.379499912261963, -5.3780999183654785, -5.378600120544434, -5.378900051116943, -5.378900051116943, -5.379000186920166, -5.3790998458862305, -5.3790998458862305, -5.379199981689453, -5.379199981689453, -5.379199981689453, -5.379199981689453, -5.379300117492676]}, \"token.table\": {\"Topic\": [1, 3, 1, 2, 2, 1, 2, 2, 2, 2, 3, 1, 1, 2, 2, 2, 2, 2, 3, 1, 2, 3, 2, 2, 1, 1, 2, 3, 3, 3, 1, 2, 1, 2, 1, 1, 1, 2, 3, 2, 2, 3, 3, 2, 2, 3, 1, 1, 3, 1, 3, 1, 2, 1, 1, 1, 2, 1, 2, 3, 3, 3, 3, 2, 3, 2, 1, 2, 2, 3, 1, 3, 1, 2, 3, 1, 2, 3, 1, 2, 1, 2, 3, 1, 2, 3, 4, 3, 1, 1, 1, 1, 1, 2, 1, 1, 3, 2, 3, 3, 3, 3, 2, 3, 2, 1, 1, 3, 1, 2, 1, 2, 2, 1, 2], \"Freq\": [0.9563215970993042, 0.8752343058586121, 0.6251192688941956, 0.3125596344470978, 0.8617693781852722, 0.7747764587402344, 0.5703657269477844, 0.8618115186691284, 0.8617153763771057, 0.8617119193077087, 0.8752396106719971, 0.7747734189033508, 0.530919075012207, 0.530919075012207, 0.8617177605628967, 0.8617156744003296, 0.8618009090423584, 0.576259434223175, 0.576259434223175, 0.7747730016708374, 0.8617194890975952, 0.8752368688583374, 0.8617132902145386, 0.8608264327049255, 0.7747740745544434, 0.44613611698150635, 0.22306805849075317, 0.22306805849075317, 0.8752363324165344, 0.8752317428588867, 0.9931816458702087, 0.8608497381210327, 0.7747714519500732, 0.860802412033081, 0.730800449848175, 0.8354291319847107, 0.5309308767318726, 0.5309308767318726, 0.8752375245094299, 0.5703680515289307, 0.5762942433357239, 0.5762942433357239, 0.8752330541610718, 0.8607922196388245, 0.8617088198661804, 0.8725084662437439, 0.7747705578804016, 0.7747687697410583, 0.5822800397872925, 0.6416296362876892, 0.875234067440033, 0.53093022108078, 0.53093022108078, 0.7747712731361389, 0.7747730016708374, 0.7308058142662048, 0.5703660845756531, 0.7747700214385986, 0.8617135882377625, 0.8725136518478394, 0.8752344250679016, 0.875234067440033, 0.8752357959747314, 0.8617166876792908, 0.8752341270446777, 0.8617196083068848, 0.7747702598571777, 0.8617178797721863, 0.8617194890975952, 0.8752365708351135, 0.9932047128677368, 0.8725078701972961, 0.9931803941726685, 0.5762633085250854, 0.5762633085250854, 0.23804812133312225, 0.23804812133312225, 0.4760962426662445, 0.5309149622917175, 0.5309149622917175, 0.7747721076011658, 0.8617182970046997, 0.8752365112304688, 0.745230495929718, 0.10646149516105652, 0.10646149516105652, 0.10646149516105652, 0.8725088238716125, 0.7747738361358643, 0.7747712731361389, 0.7747777700424194, 0.7307964563369751, 0.7747738361358643, 0.861717700958252, 0.5984591245651245, 0.7747699022293091, 0.8752361536026001, 0.8617129325866699, 0.8752385377883911, 0.8752323985099792, 0.8752289414405823, 0.8725054860115051, 0.5762657523155212, 0.5762657523155212, 0.8617210388183594, 0.9932100176811218, 0.7747725248336792, 0.8752350211143494, 0.7747682332992554, 0.8617115020751953, 0.8353959918022156, 0.8617115020751953, 0.8617166876792908, 0.9932137727737427, 0.8617944717407227], \"Term\": [\"\\uac00\\uc9c0\", \"\\uac15\\ud589\", \"\\uac70\\uc9d3\\ub9d0\", \"\\uac70\\uc9d3\\ub9d0\", \"\\uaca9\\ub178\", \"\\uacbd\\uc81c\\ubcf4\\ubcf5\", \"\\uace0\\ubbfc\\uc815\", \"\\uacf5\\ucc9c\", \"\\uacfc\\uac70\", \"\\uad00\\uc5ec\", \"\\uad6d\\ubb34\\ubd80\", \"\\uadfc\\ubcf8\", \"\\uae08\\ud0dc\\uc12d\", \"\\uae08\\ud0dc\\uc12d\", \"\\uae40\\ud604\\ubbf8\", \"\\uae40\\ud604\\uc544\", \"\\ub098\\uacbd\\uc6d0\", \"\\ub17c\\ub780\", \"\\ub17c\\ub780\", \"\\ub2e8\\ud638\", \"\\ub2ec\\ub77c\", \"\\ub300\\ub7c9\\uc0b4\\uc0c1\\ubb34\\uae30\", \"\\ub300\\ubcc0\\uc778\", \"\\ub300\\ube44\", \"\\ub300\\ucc45\", \"\\ub300\\ud1b5\\ub839\", \"\\ub300\\ud1b5\\ub839\", \"\\ub300\\ud1b5\\ub839\", \"\\ub3d9\\uacb0\", \"\\ub54c\\ubb38\\uc5d0\", \"\\ub9d0\\ub77c\", \"\\ubaa8\\ub4e0\", \"\\ubaa9\\uc801\", \"\\ubabb\\ud574\", \"\\ubb38\\uc7ac\\uc778\", \"\\ubb38\\uc7ac\\uc778\\ub300\\ud1b5\\ub839\", \"\\ubb38\\uc81c\", \"\\ubb38\\uc81c\", \"\\ubbf8\\uad6d\", \"\\ubbfc\\uacbd\\uc6b1\", \"\\ubc15\\uc21c\\uc790\", \"\\ubc15\\uc21c\\uc790\", \"\\ubc29\\ud1b5\", \"\\ubc30\\uc81c\", \"\\ubcc0\\ud638\\uc0ac\", \"\\ubcf4\\uace0\\uc11c\", \"\\ubcf4\\ubcf5\", \"\\ubcf4\\ud638\", \"\\ubd81\\ud55c\", \"\\ube44\\uc0c1\", \"\\ube44\\ud310\", \"\\uc0ac\\uacfc\", \"\\uc0ac\\uacfc\", \"\\uc0ac\\ub78c\", \"\\uc0c1\\uc2dd\", \"\\uc0c1\\ud669\", \"\\uc0dd\\ubc29\\uc1a1\", \"\\uc120\\ubc30\", \"\\uc18c\\uac1c\", \"\\uc1a1\\ubd80\", \"\\uc218\\uc218\", \"\\uc218\\uc21c\", \"\\uc2dc\\uc791\", \"\\uc2f8\\uc6c0\", \"\\uc544\\ubca0\", \"\\uc5b8\\uc81c\", \"\\uc5ec\\ub2f9\", \"\\uc5f0\\ub77d\", \"\\uc624\\uc2e0\\ud658\", \"\\uc644\\uc804\", \"\\uc678\\uad50\\uc801\", \"\\uc694\\uccad\", \"\\uc6b0\\ub9ac\", \"\\uc704\\uc99d\", \"\\uc704\\uc99d\", \"\\uc724\\uc11d\\uc5f4\", \"\\uc724\\uc11d\\uc5f4\", \"\\uc724\\uc11d\\uc5f4\", \"\\uc758\\uc6d0\", \"\\uc758\\uc6d0\", \"\\uc758\\uc6d0\\uc2e4\", \"\\uc774\\uc815\", \"\\uc77c\\ub2f9\", \"\\uc77c\\ubcf8\", \"\\uc77c\\ubcf8\", \"\\uc77c\\ubcf8\", \"\\uc77c\\ubcf8\", \"\\uc784\\uba85\", \"\\uc790\\ub8cc\", \"\\uc7ac\\ubc8c\", \"\\uc801\\uc5b4\\ub3c4\", \"\\uc804\\ub840\", \"\\uc804\\uba74\", \"\\uc815\\ubcf4\", \"\\uc815\\ubd80\", \"\\uc815\\uce58\\uc801\", \"\\uc81c\\uac70\", \"\\uc81c\\uacf5\", \"\\uc9c0\\uc5ed\\uad6c\", \"\\uc9d5\\uacc4\", \"\\ucc29\\uacf5\\uc2dd\", \"\\uccad\\ubb38\", \"\\uccad\\uc640\\ub300\", \"\\uccad\\uc640\\ub300\", \"\\ucd1d\\uc120\", \"\\ucd5c\\uc120\", \"\\ucda9\\uc131\", \"\\uce74\\ub4dc\", \"\\ud544\\uc694\", \"\\ud55c\\ud310\", \"\\ud574\\uacb0\", \"\\ud604\\uc9c1\", \"\\ud64d\\uc900\\ud45c\", \"\\ud654\\ub2f5\", \"\\ud669\\uad50\\uc548\"]}, \"R\": 30, \"lambda.step\": 0.01, \"plot.opts\": {\"xlab\": \"PC1\", \"ylab\": \"PC2\"}, \"topic.order\": [2, 4, 1, 3]};\n",
       "\n",
       "function LDAvis_load_lib(url, callback){\n",
       "  var s = document.createElement('script');\n",
       "  s.src = url;\n",
       "  s.async = true;\n",
       "  s.onreadystatechange = s.onload = callback;\n",
       "  s.onerror = function(){console.warn(\"failed to load library \" + url);};\n",
       "  document.getElementsByTagName(\"head\")[0].appendChild(s);\n",
       "}\n",
       "\n",
       "if(typeof(LDAvis) !== \"undefined\"){\n",
       "   // already loaded: just create the visualization\n",
       "   !function(LDAvis){\n",
       "       new LDAvis(\"#\" + \"ldavis_el1550022206876437764794314941\", ldavis_el1550022206876437764794314941_data);\n",
       "   }(LDAvis);\n",
       "}else if(typeof define === \"function\" && define.amd){\n",
       "   // require.js is available: use it to load d3/LDAvis\n",
       "   require.config({paths: {d3: \"https://cdnjs.cloudflare.com/ajax/libs/d3/3.5.5/d3.min\"}});\n",
       "   require([\"d3\"], function(d3){\n",
       "      window.d3 = d3;\n",
       "      LDAvis_load_lib(\"https://cdn.rawgit.com/bmabey/pyLDAvis/files/ldavis.v1.0.0.js\", function(){\n",
       "        new LDAvis(\"#\" + \"ldavis_el1550022206876437764794314941\", ldavis_el1550022206876437764794314941_data);\n",
       "      });\n",
       "    });\n",
       "}else{\n",
       "    // require.js not available: dynamically load d3 & LDAvis\n",
       "    LDAvis_load_lib(\"https://cdnjs.cloudflare.com/ajax/libs/d3/3.5.5/d3.min.js\", function(){\n",
       "         LDAvis_load_lib(\"https://cdn.rawgit.com/bmabey/pyLDAvis/files/ldavis.v1.0.0.js\", function(){\n",
       "                 new LDAvis(\"#\" + \"ldavis_el1550022206876437764794314941\", ldavis_el1550022206876437764794314941_data);\n",
       "            })\n",
       "         });\n",
       "}\n",
       "</script>"
      ],
      "text/plain": [
       "PreparedData(topic_coordinates=              x         y  topics  cluster       Freq\n",
       "topic                                                \n",
       "1      0.127991  0.020453       1        1  43.943447\n",
       "3     -0.054699 -0.105167       2        1  23.955042\n",
       "0     -0.106221  0.080200       3        1  22.185442\n",
       "2      0.032929  0.004515       4        1   9.916070, topic_info=    Category      Freq    Term     Total  loglift  logprob\n",
       "3    Default  9.000000      일본  9.000000  30.0000  30.0000\n",
       "12   Default  2.000000      요청  2.000000  29.0000  29.0000\n",
       "15   Default  2.000000      청문  2.000000  28.0000  28.0000\n",
       "14   Default  2.000000      임명  2.000000  27.0000  27.0000\n",
       "10   Default  2.000000      송부  2.000000  26.0000  26.0000\n",
       "9    Default  2.000000     보고서  2.000000  25.0000  25.0000\n",
       "19   Default  3.000000      비상  3.000000  24.0000  24.0000\n",
       "22   Default  2.000000  문재인대통령  2.000000  23.0000  23.0000\n",
       "25   Default  2.000000      해결  2.000000  22.0000  22.0000\n",
       "13   Default  4.000000     윤석열  4.000000  21.0000  21.0000\n",
       "16   Default  4.000000      가지  4.000000  20.0000  20.0000\n",
       "110  Default  1.000000      북한  1.000000  19.0000  19.0000\n",
       "90   Default  1.000000      정부  1.000000  18.0000  18.0000\n",
       "48   Default  1.000000     생방송  1.000000  17.0000  17.0000\n",
       "47   Default  1.000000     민경욱  1.000000  16.0000  16.0000\n",
       "45   Default  1.000000     고민정  1.000000  15.0000  15.0000\n",
       "70   Default  0.000000      선포  0.000000  14.0000  14.0000\n",
       "69   Default  0.000000      대응  0.000000  13.0000  13.0000\n",
       "128  Default  0.000000      묵과  0.000000  12.0000  12.0000\n",
       "68   Default  0.000000      경고  0.000000  11.0000  11.0000\n",
       "129  Default  0.000000      수준  0.000000  10.0000  10.0000\n",
       "71   Default  0.000000      외교  0.000000   9.0000   9.0000\n",
       "130  Default  0.000000      제재  0.000000   8.0000   8.0000\n",
       "127  Default  0.000000      대북  0.000000   7.0000   7.0000\n",
       "131  Default  0.000000      판단  0.000000   6.0000   6.0000\n",
       "67   Default  0.000000      강조  0.000000   5.0000   5.0000\n",
       "58   Default  0.000000      빌미  0.000000   4.0000   4.0000\n",
       "57   Default  0.000000      반격  0.000000   3.0000   3.0000\n",
       "59   Default  0.000000     산업부  0.000000   2.0000   2.0000\n",
       "29   Default  1.000000     박순자  1.000000   1.0000   1.0000\n",
       "..       ...       ...     ...       ...      ...      ...\n",
       "126   Topic4  0.095077      일당  1.142548  -0.1753  -5.3796\n",
       "121   Topic4  0.095075     착공식  1.142558  -0.1753  -5.3796\n",
       "122   Topic4  0.095070      카드  1.142550  -0.1754  -5.3797\n",
       "112   Topic4  0.095070      완전  1.142548  -0.1754  -5.3797\n",
       "11    Topic4  0.095069      수순  1.142552  -0.1754  -5.3797\n",
       "118   Topic4  0.095069     때문에  1.142555  -0.1754  -5.3797\n",
       "109   Topic4  0.095067      미국  1.142547  -0.1754  -5.3797\n",
       "111   Topic4  0.095067      시작  1.142549  -0.1754  -5.3797\n",
       "124   Topic4  0.095067      비판  1.142552  -0.1754  -5.3797\n",
       "107   Topic4  0.095066  대량살상무기  1.142548  -0.1754  -5.3797\n",
       "103   Topic4  0.095106      총선  1.160468  -0.1906  -5.3793\n",
       "28    Topic4  0.095103     나경원  1.160361  -0.1905  -5.3793\n",
       "101   Topic4  0.095097     김현미  1.160473  -0.1907  -5.3794\n",
       "102   Topic4  0.095094     김현아  1.160476  -0.1907  -5.3794\n",
       "30    Topic4  0.095093     황교안  1.160370  -0.1906  -5.3794\n",
       "49    Topic4  0.095090      언제  1.160470  -0.1907  -5.3795\n",
       "27    Topic4  0.095087      공천  1.160347  -0.1907  -5.3795\n",
       "46    Topic4  0.095086      달라  1.160470  -0.1908  -5.3795\n",
       "8     Topic4  0.095221     대통령  4.482937  -1.5408  -5.3781\n",
       "16    Topic4  0.095167      가지  4.182693  -1.4721  -5.3786\n",
       "31    Topic4  0.095147     거짓말  3.199389  -1.2043  -5.3789\n",
       "13    Topic4  0.095139     윤석열  4.200831  -1.4767  -5.3789\n",
       "10    Topic4  0.095132      송부  2.292228  -0.8710  -5.3790\n",
       "29    Topic4  0.095123     박순자  1.735225  -0.5927  -5.3791\n",
       "9     Topic4  0.095122     보고서  2.292241  -0.8711  -5.3791\n",
       "17    Topic4  0.095117      화답  2.013665  -0.7416  -5.3792\n",
       "14    Topic4  0.095115      임명  2.292240  -0.8712  -5.3792\n",
       "24    Topic4  0.095113      최선  2.013673  -0.7416  -5.3792\n",
       "38    Topic4  0.095110     문재인  2.736725  -1.0485  -5.3792\n",
       "110   Topic4  0.095110      북한  1.717387  -0.5825  -5.3793\n",
       "\n",
       "[189 rows x 6 columns], token_table=      Topic      Freq    Term\n",
       "term                         \n",
       "16        1  0.956322      가지\n",
       "7         3  0.875234      강행\n",
       "31        1  0.625119     거짓말\n",
       "31        2  0.312560     거짓말\n",
       "26        2  0.861769      격노\n",
       "94        1  0.774776    경제보복\n",
       "45        2  0.570366     고민정\n",
       "27        2  0.861812      공천\n",
       "83        2  0.861715      과거\n",
       "72        2  0.861712      관여\n",
       "106       3  0.875240     국무부\n",
       "78        1  0.774773      근본\n",
       "51        1  0.530919     금태섭\n",
       "51        2  0.530919     금태섭\n",
       "101       2  0.861718     김현미\n",
       "102       2  0.861716     김현아\n",
       "28        2  0.861801     나경원\n",
       "73        2  0.576259      논란\n",
       "73        3  0.576259      논란\n",
       "99        1  0.774773      단호\n",
       "46        2  0.861719      달라\n",
       "107       3  0.875237  대량살상무기\n",
       "114       2  0.861713     대변인\n",
       "61        2  0.860826      대비\n",
       "79        1  0.774774      대책\n",
       "8         1  0.446136     대통령\n",
       "8         2  0.223068     대통령\n",
       "8         3  0.223068     대통령\n",
       "108       3  0.875236      동결\n",
       "118       3  0.875232     때문에\n",
       "...     ...       ...     ...\n",
       "3         3  0.106461      일본\n",
       "3         4  0.106461      일본\n",
       "14        3  0.872509      임명\n",
       "5         1  0.774774      자료\n",
       "43        1  0.774771      재벌\n",
       "56        1  0.774778     적어도\n",
       "21        1  0.730796      전례\n",
       "80        1  0.774774      전면\n",
       "75        2  0.861718      정보\n",
       "90        1  0.598459      정부\n",
       "91        1  0.774770     정치적\n",
       "113       3  0.875236      제거\n",
       "76        2  0.861713      제공\n",
       "119       3  0.875239     지역구\n",
       "120       3  0.875232      징계\n",
       "121       3  0.875229     착공식\n",
       "15        3  0.872505      청문\n",
       "87        2  0.576266     청와대\n",
       "87        3  0.576266     청와대\n",
       "103       2  0.861721      총선\n",
       "24        1  0.993210      최선\n",
       "35        1  0.774773      충성\n",
       "122       3  0.875235      카드\n",
       "82        1  0.774768      필요\n",
       "116       2  0.861712      한판\n",
       "25        1  0.835396      해결\n",
       "117       2  0.861712      현직\n",
       "77        2  0.861717     홍준표\n",
       "17        1  0.993214      화답\n",
       "30        2  0.861794     황교안\n",
       "\n",
       "[115 rows x 3 columns], R=30, lambda_step=0.01, plot_opts={'xlab': 'PC1', 'ylab': 'PC2'}, topic_order=[2, 4, 1, 3])"
      ]
     },
     "execution_count": 260,
     "metadata": {},
     "output_type": "execute_result"
    }
   ],
   "source": [
    "# Visualize the topics\n",
    "pyLDAvis.enable_notebook()\n",
    "vis = pyLDAvis.gensim.prepare(lda_model, corpus, id2word)\n",
    "vis"
   ]
  },
  {
   "cell_type": "code",
   "execution_count": 261,
   "metadata": {},
   "outputs": [],
   "source": [
    "pyLDAvis.save_html(vis, 'Naver_title_10.html')"
   ]
  },
  {
   "cell_type": "markdown",
   "metadata": {},
   "source": [
    "blahblah"
   ]
  }
 ],
 "metadata": {
  "kernelspec": {
   "display_name": "Python 3",
   "language": "python",
   "name": "python3"
  },
  "language_info": {
   "codemirror_mode": {
    "name": "ipython",
    "version": 3
   },
   "file_extension": ".py",
   "mimetype": "text/x-python",
   "name": "python",
   "nbconvert_exporter": "python",
   "pygments_lexer": "ipython3",
   "version": "3.7.3"
  }
 },
 "nbformat": 4,
 "nbformat_minor": 2
}
