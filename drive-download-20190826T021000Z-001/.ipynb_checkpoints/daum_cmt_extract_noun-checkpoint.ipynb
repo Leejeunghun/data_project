{
 "cells": [
  {
   "cell_type": "code",
   "execution_count": 2,
   "metadata": {},
   "outputs": [],
   "source": [
    "import pandas as pd\n",
    "import soynlp\n",
    "import string"
   ]
  },
  {
   "cell_type": "code",
   "execution_count": 3,
   "metadata": {},
   "outputs": [],
   "source": [
    "# 데이터 읽기\n",
    "\n",
    "file_path = 'daum_comments.xlsx'\n",
    "corpus_path = 'daum_dic.csv'\n",
    "\n",
    "colnames = ['a', 'b', 'c', 'd', 'e']\n",
    "df = pd.read_excel(file_path, encoding='utf-8', names=colnames)\n",
    "df['c'] = df['c'].dropna().apply(lambda x:''.join([i for i in x \n",
    "                                                  if i not in string.punctuation]))\n",
    "df.iloc[:, 2:3].to_csv(corpus_path, encoding='utf-8', index=False)"
   ]
  },
  {
   "cell_type": "code",
   "execution_count": 4,
   "metadata": {},
   "outputs": [
    {
     "data": {
      "text/html": [
       "<div>\n",
       "<style scoped>\n",
       "    .dataframe tbody tr th:only-of-type {\n",
       "        vertical-align: middle;\n",
       "    }\n",
       "\n",
       "    .dataframe tbody tr th {\n",
       "        vertical-align: top;\n",
       "    }\n",
       "\n",
       "    .dataframe thead th {\n",
       "        text-align: right;\n",
       "    }\n",
       "</style>\n",
       "<table border=\"1\" class=\"dataframe\">\n",
       "  <thead>\n",
       "    <tr style=\"text-align: right;\">\n",
       "      <th></th>\n",
       "      <th>a</th>\n",
       "      <th>b</th>\n",
       "      <th>c</th>\n",
       "      <th>d</th>\n",
       "      <th>e</th>\n",
       "    </tr>\n",
       "  </thead>\n",
       "  <tbody>\n",
       "    <tr>\n",
       "      <th>0</th>\n",
       "      <td>0</td>\n",
       "      <td>20190701213837629</td>\n",
       "      <td>조작조작조작\\n한마디로 자유사기꾼들의 일상은 아침에 일어나서 잠 들 때까지 조작 인생이다</td>\n",
       "      <td>35171</td>\n",
       "      <td>1115</td>\n",
       "    </tr>\n",
       "    <tr>\n",
       "      <th>1</th>\n",
       "      <td>1</td>\n",
       "      <td>20190701213837629</td>\n",
       "      <td>자칭 보수라는  애국자들\\n대한민국 국민이 맞는지\\n의심이 간다</td>\n",
       "      <td>11369</td>\n",
       "      <td>591</td>\n",
       "    </tr>\n",
       "    <tr>\n",
       "      <th>2</th>\n",
       "      <td>2</td>\n",
       "      <td>20190701213837629</td>\n",
       "      <td>정말  가짜뉴스   어쩔수없는거냐</td>\n",
       "      <td>9082</td>\n",
       "      <td>305</td>\n",
       "    </tr>\n",
       "    <tr>\n",
       "      <th>3</th>\n",
       "      <td>3</td>\n",
       "      <td>20190701213837629</td>\n",
       "      <td>어쩌면 이렇게도 집요하게 한 나라의 대통령과 영부인의 흠을 잡기위해 발광을 하는가\\...</td>\n",
       "      <td>6343</td>\n",
       "      <td>272</td>\n",
       "    </tr>\n",
       "    <tr>\n",
       "      <th>4</th>\n",
       "      <td>4</td>\n",
       "      <td>20190701213837629</td>\n",
       "      <td>이걸 유튜브로 50만이나 봤다니 ㄷㄷㄷ 진짜 국민들 정신 똑바로 차려야한다 저들은 ...</td>\n",
       "      <td>2992</td>\n",
       "      <td>180</td>\n",
       "    </tr>\n",
       "  </tbody>\n",
       "</table>\n",
       "</div>"
      ],
      "text/plain": [
       "   a                  b                                                  c  \\\n",
       "0  0  20190701213837629  조작조작조작\\n한마디로 자유사기꾼들의 일상은 아침에 일어나서 잠 들 때까지 조작 인생이다   \n",
       "1  1  20190701213837629                자칭 보수라는  애국자들\\n대한민국 국민이 맞는지\\n의심이 간다   \n",
       "2  2  20190701213837629                                 정말  가짜뉴스   어쩔수없는거냐   \n",
       "3  3  20190701213837629  어쩌면 이렇게도 집요하게 한 나라의 대통령과 영부인의 흠을 잡기위해 발광을 하는가\\...   \n",
       "4  4  20190701213837629  이걸 유튜브로 50만이나 봤다니 ㄷㄷㄷ 진짜 국민들 정신 똑바로 차려야한다 저들은 ...   \n",
       "\n",
       "       d     e  \n",
       "0  35171  1115  \n",
       "1  11369   591  \n",
       "2   9082   305  \n",
       "3   6343   272  \n",
       "4   2992   180  "
      ]
     },
     "execution_count": 4,
     "metadata": {},
     "output_type": "execute_result"
    }
   ],
   "source": [
    "df.head()"
   ]
  },
  {
   "cell_type": "code",
   "execution_count": 5,
   "metadata": {},
   "outputs": [
    {
     "data": {
      "text/plain": [
       "11418"
      ]
     },
     "execution_count": 5,
     "metadata": {},
     "output_type": "execute_result"
    }
   ],
   "source": [
    "len(df)"
   ]
  },
  {
   "cell_type": "code",
   "execution_count": 6,
   "metadata": {},
   "outputs": [
    {
     "data": {
      "text/html": [
       "<div>\n",
       "<style scoped>\n",
       "    .dataframe tbody tr th:only-of-type {\n",
       "        vertical-align: middle;\n",
       "    }\n",
       "\n",
       "    .dataframe tbody tr th {\n",
       "        vertical-align: top;\n",
       "    }\n",
       "\n",
       "    .dataframe thead th {\n",
       "        text-align: right;\n",
       "    }\n",
       "</style>\n",
       "<table border=\"1\" class=\"dataframe\">\n",
       "  <thead>\n",
       "    <tr style=\"text-align: right;\">\n",
       "      <th></th>\n",
       "      <th>c</th>\n",
       "    </tr>\n",
       "  </thead>\n",
       "  <tbody>\n",
       "    <tr>\n",
       "      <th>0</th>\n",
       "      <td>조작조작조작\\n한마디로 자유사기꾼들의 일상은 아침에 일어나서 잠 들 때까지 조작 인생이다</td>\n",
       "    </tr>\n",
       "    <tr>\n",
       "      <th>1</th>\n",
       "      <td>자칭 보수라는  애국자들\\n대한민국 국민이 맞는지\\n의심이 간다</td>\n",
       "    </tr>\n",
       "    <tr>\n",
       "      <th>2</th>\n",
       "      <td>정말  가짜뉴스   어쩔수없는거냐</td>\n",
       "    </tr>\n",
       "    <tr>\n",
       "      <th>3</th>\n",
       "      <td>어쩌면 이렇게도 집요하게 한 나라의 대통령과 영부인의 흠을 잡기위해 발광을 하는가\\...</td>\n",
       "    </tr>\n",
       "    <tr>\n",
       "      <th>4</th>\n",
       "      <td>이걸 유튜브로 50만이나 봤다니 ㄷㄷㄷ 진짜 국민들 정신 똑바로 차려야한다 저들은 ...</td>\n",
       "    </tr>\n",
       "  </tbody>\n",
       "</table>\n",
       "</div>"
      ],
      "text/plain": [
       "                                                   c\n",
       "0  조작조작조작\\n한마디로 자유사기꾼들의 일상은 아침에 일어나서 잠 들 때까지 조작 인생이다\n",
       "1                자칭 보수라는  애국자들\\n대한민국 국민이 맞는지\\n의심이 간다\n",
       "2                                 정말  가짜뉴스   어쩔수없는거냐\n",
       "3  어쩌면 이렇게도 집요하게 한 나라의 대통령과 영부인의 흠을 잡기위해 발광을 하는가\\...\n",
       "4  이걸 유튜브로 50만이나 봤다니 ㄷㄷㄷ 진짜 국민들 정신 똑바로 차려야한다 저들은 ..."
      ]
     },
     "execution_count": 6,
     "metadata": {},
     "output_type": "execute_result"
    }
   ],
   "source": [
    "pd.read_csv(corpus_path, encoding='utf-8').head()"
   ]
  },
  {
   "cell_type": "code",
   "execution_count": 7,
   "metadata": {},
   "outputs": [],
   "source": [
    "from soynlp.utils import DoublespaceLineCorpus\n",
    "from soynlp.noun import LRNounExtractor_v2\n",
    "\n",
    "sents = DoublespaceLineCorpus(corpus_path, iter_sent=True)"
   ]
  },
  {
   "cell_type": "code",
   "execution_count": 8,
   "metadata": {},
   "outputs": [
    {
     "name": "stdout",
     "output_type": "stream",
     "text": [
      "[Noun Extractor] use default predictors\n",
      "[Noun Extractor] num features: pos=1260, neg=1173, common=12\n",
      "[Noun Extractor] counting eojeols\n",
      "[EojeolCounter] n eojeol = 85226 from 45845 sents. mem=0.150 Gb                    \n",
      "[Noun Extractor] complete eojeol counter -> lr graph\n",
      "[Noun Extractor] has been trained. #eojeols=198606, mem=0.313 Gb\n",
      "[Noun Extractor] counting eojeols\n",
      "[EojeolCounter] n eojeol = 85226 from 45845 sents. mem=0.318 Gb                    \n",
      "[Noun Extractor] complete eojeol counter -> lr graph\n",
      "[Noun Extractor] has been trained. #eojeols=198606, mem=0.377 Gb\n",
      "[Noun Extractor] batch prediction was completed for 31807 words\n",
      "[Noun Extractor] checked compounds. discovered 8736 compounds\n",
      "[Noun Extractor] postprocessing detaching_features : 128 -> 128\n",
      "[Noun Extractor] postprocessing ignore_features : 128 -> 117\n",
      "[Noun Extractor] postprocessing ignore_NJ : 117 -> 116\n",
      "[Noun Extractor] 116 nouns (8736 compounds) with min frequency=114\n",
      "[Noun Extractor] flushing was done. mem=0.387 Gb                    \n",
      "[Noun Extractor] 20.39 % eojeols are covered\n"
     ]
    }
   ],
   "source": [
    "noun_extractor = LRNounExtractor_v2(verbose=True, extract_compound=True)\n",
    "noun_extractor.train(sents)\n",
    "nouns = noun_extractor.train_extract(sents, min_noun_frequency=114,\n",
    "                                     min_noun_score=0.6)"
   ]
  },
  {
   "cell_type": "code",
   "execution_count": 9,
   "metadata": {},
   "outputs": [
    {
     "data": {
      "text/plain": [
       "89"
      ]
     },
     "execution_count": 9,
     "metadata": {},
     "output_type": "execute_result"
    }
   ],
   "source": [
    "a = [noun for noun, score in nouns.items() if len(noun) > 1]\n",
    "a = [i.replace('\"', '') for i in a] \n",
    "a = [i.replace(\"'\", '') for i in a] \n",
    "len(a)"
   ]
  },
  {
   "cell_type": "code",
   "execution_count": 10,
   "metadata": {},
   "outputs": [
    {
     "data": {
      "text/html": [
       "<div>\n",
       "<style scoped>\n",
       "    .dataframe tbody tr th:only-of-type {\n",
       "        vertical-align: middle;\n",
       "    }\n",
       "\n",
       "    .dataframe tbody tr th {\n",
       "        vertical-align: top;\n",
       "    }\n",
       "\n",
       "    .dataframe thead th {\n",
       "        text-align: right;\n",
       "    }\n",
       "</style>\n",
       "<table border=\"1\" class=\"dataframe\">\n",
       "  <thead>\n",
       "    <tr style=\"text-align: right;\">\n",
       "      <th></th>\n",
       "      <th>word</th>\n",
       "      <th>pos</th>\n",
       "    </tr>\n",
       "  </thead>\n",
       "  <tbody>\n",
       "    <tr>\n",
       "      <th>0</th>\n",
       "      <td>불매운동</td>\n",
       "      <td>NNP</td>\n",
       "    </tr>\n",
       "    <tr>\n",
       "      <th>1</th>\n",
       "      <td>토착왜구</td>\n",
       "      <td>NNP</td>\n",
       "    </tr>\n",
       "    <tr>\n",
       "      <th>2</th>\n",
       "      <td>국회의원</td>\n",
       "      <td>NNP</td>\n",
       "    </tr>\n",
       "    <tr>\n",
       "      <th>3</th>\n",
       "      <td>일본제품</td>\n",
       "      <td>NNP</td>\n",
       "    </tr>\n",
       "    <tr>\n",
       "      <th>4</th>\n",
       "      <td>우리나라</td>\n",
       "      <td>NNP</td>\n",
       "    </tr>\n",
       "  </tbody>\n",
       "</table>\n",
       "</div>"
      ],
      "text/plain": [
       "   word  pos\n",
       "0  불매운동  NNP\n",
       "1  토착왜구  NNP\n",
       "2  국회의원  NNP\n",
       "3  일본제품  NNP\n",
       "4  우리나라  NNP"
      ]
     },
     "execution_count": 10,
     "metadata": {},
     "output_type": "execute_result"
    }
   ],
   "source": [
    "a = pd.DataFrame(a, columns=['word'])\n",
    "a['pos'] = 'NNP'\n",
    "a = a[a['word'].str[-1] != '들']\n",
    "a = a.drop_duplicates()\n",
    "a.head()"
   ]
  },
  {
   "cell_type": "code",
   "execution_count": 11,
   "metadata": {},
   "outputs": [],
   "source": [
    "a.to_csv(corpus_path, encoding='utf-8', index=False, header=False)"
   ]
  },
  {
   "cell_type": "code",
   "execution_count": null,
   "metadata": {},
   "outputs": [],
   "source": []
  }
 ],
 "metadata": {
  "kernelspec": {
   "display_name": "Python 3",
   "language": "python",
   "name": "python3"
  },
  "language_info": {
   "codemirror_mode": {
    "name": "ipython",
    "version": 3
   },
   "file_extension": ".py",
   "mimetype": "text/x-python",
   "name": "python",
   "nbconvert_exporter": "python",
   "pygments_lexer": "ipython3",
   "version": "3.7.3"
  }
 },
 "nbformat": 4,
 "nbformat_minor": 2
}
