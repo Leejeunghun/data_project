{
 "cells": [
  {
   "cell_type": "code",
   "execution_count": 1,
   "metadata": {},
   "outputs": [],
   "source": [
    "import numpy as np # linear algebra\n",
    "import pandas as pd # data processing, CSV file I/O (e.g. pd.read_csv)\n",
    "import matplotlib.pyplot as plt\n",
    "import seaborn as sns\n",
    "%matplotlib inline\n",
    "import nltk\n",
    "from nltk import wordpunct_tokenize\n",
    "from nltk.corpus import stopwords\n",
    "from wordcloud import WordCloud,STOPWORDS\n",
    "from nltk.stem.wordnet import WordNetLemmatizer\n",
    "from sklearn.feature_extraction.text import TfidfVectorizer, CountVectorizer\n",
    "from sklearn.decomposition import NMF, LatentDirichletAllocation\n",
    "import string\n",
    "\n",
    "import textblob as tb\n",
    "from tqdm import tqdm\n",
    "\n",
    "# Input data files are available in the \"../input/\" directory.\n",
    "# For example, running this (by clicking run or pressing Shift+Enter) will list the files in the input directory"
   ]
  },
  {
   "cell_type": "code",
   "execution_count": 2,
   "metadata": {},
   "outputs": [
    {
     "name": "stdout",
     "output_type": "stream",
     "text": [
      "                                  title\n",
      "0            \"팔짱 낀 김정숙 여사 외교 결례\"? 진실은..\n",
      "1                     독이 된 황교안의 '가벼운 입'\n",
      "2                  밀착 보좌' 현송월..지켜보는 김여정\n",
      "3        합참 \"중부전선 DMZ서 레이더에 정체불명 항적 포착\"\n",
      "4  '김영철 후임' 北장금철, 판문점회동 참석한 듯..남측에 '첫선'\n",
      "300\n"
     ]
    }
   ],
   "source": [
    "# 데이터 읽기\n",
    "\n",
    "df = pd.read_csv('daum_title.csv', encoding='utf-8')\n",
    "df.columns = ['title']\n",
    "\n",
    "print(df.head())\n",
    "print(len(df))"
   ]
  },
  {
   "cell_type": "code",
   "execution_count": 3,
   "metadata": {},
   "outputs": [
    {
     "data": {
      "text/plain": [
       "False"
      ]
     },
     "execution_count": 3,
     "metadata": {},
     "output_type": "execute_result"
    }
   ],
   "source": [
    "df['title'].isnull().values.any()"
   ]
  },
  {
   "cell_type": "code",
   "execution_count": 4,
   "metadata": {},
   "outputs": [],
   "source": [
    "# 1일 데이터\n",
    "\n",
    "df1 = df.loc[270:300]"
   ]
  },
  {
   "cell_type": "code",
   "execution_count": 5,
   "metadata": {},
   "outputs": [],
   "source": [
    "# 한자 한국어로 매칭\n",
    "\n",
    "def change_string(x):\n",
    "    return x.replace('靑','청와대').replace('軍','군대').replace('北','북한').replace('美','미국').replace('日','일본').replace('韓', '한국').replace('與', '여당').replace('野', '야당').replace('中', '중국').replace('黃', '황교안').replace('文', '문재인')"
   ]
  },
  {
   "cell_type": "code",
   "execution_count": 6,
   "metadata": {},
   "outputs": [
    {
     "name": "stderr",
     "output_type": "stream",
     "text": [
      "C:\\ProgramData\\Anaconda3\\lib\\site-packages\\ipykernel_launcher.py:1: SettingWithCopyWarning: \n",
      "A value is trying to be set on a copy of a slice from a DataFrame.\n",
      "Try using .loc[row_indexer,col_indexer] = value instead\n",
      "\n",
      "See the caveats in the documentation: http://pandas.pydata.org/pandas-docs/stable/indexing.html#indexing-view-versus-copy\n",
      "  \"\"\"Entry point for launching an IPython kernel.\n"
     ]
    }
   ],
   "source": [
    "df1['title'] = df1['title'].map(lambda x : change_string(x))"
   ]
  },
  {
   "cell_type": "code",
   "execution_count": 7,
   "metadata": {},
   "outputs": [
    {
     "data": {
      "text/plain": [
       "30"
      ]
     },
     "execution_count": 7,
     "metadata": {},
     "output_type": "execute_result"
    }
   ],
   "source": [
    "news_title = [] # 리스트 선언\n",
    "news_title.extend(list(df1.title.values)) # 헤드라인의 값들을 리스트로 저장\n",
    "# news_title = [n for n in news_title if len(n) >=10]\n",
    "len(news_title) # 제거 후 샘플의 개수"
   ]
  },
  {
   "cell_type": "code",
   "execution_count": 8,
   "metadata": {},
   "outputs": [],
   "source": [
    "# 특수문자, 숫자 제거\n",
    "\n",
    "from string import punctuation\n",
    "import re\n",
    "\n",
    "def clean_text(text):\n",
    "#     cleaned_text = [''.join(c for c in text).lower()]\n",
    "#     cleaned_text = re.sub('[^가-힣a-zA-Z文 ]', '', text)\n",
    "    cleaned_text = re.sub('[0-9]', ' ', text)\n",
    "    cleaned_text = re.sub('[\\{\\}\\[\\]\\/?.,;:|\\)*~`!^\\-_+<>@\\#$%&\\\\\\=\\(\\'\\\"\\'\\·]',\n",
    "                          ' ', cleaned_text)\n",
    "    cleaned_text = re.sub(r'\\s+', ' ', cleaned_text)\n",
    "    return cleaned_text"
   ]
  },
  {
   "cell_type": "code",
   "execution_count": 9,
   "metadata": {},
   "outputs": [
    {
     "data": {
      "text/html": [
       "<div>\n",
       "<style scoped>\n",
       "    .dataframe tbody tr th:only-of-type {\n",
       "        vertical-align: middle;\n",
       "    }\n",
       "\n",
       "    .dataframe tbody tr th {\n",
       "        vertical-align: top;\n",
       "    }\n",
       "\n",
       "    .dataframe thead th {\n",
       "        text-align: right;\n",
       "    }\n",
       "</style>\n",
       "<table border=\"1\" class=\"dataframe\">\n",
       "  <thead>\n",
       "    <tr style=\"text-align: right;\">\n",
       "      <th></th>\n",
       "      <th>title</th>\n",
       "    </tr>\n",
       "  </thead>\n",
       "  <tbody>\n",
       "    <tr>\n",
       "      <th>0</th>\n",
       "      <td>위증으로 역전된 윤석열 검증 한국 바른미래 공조 카드는</td>\n",
       "    </tr>\n",
       "    <tr>\n",
       "      <th>1</th>\n",
       "      <td>파묻었던 일제 만행 봉인 열릴까 두려운 아베</td>\n",
       "    </tr>\n",
       "    <tr>\n",
       "      <th>2</th>\n",
       "      <td>홍남기 반도체 몇개월치 완제품 재고 기업 걱정은 소재 부품</td>\n",
       "    </tr>\n",
       "    <tr>\n",
       "      <th>3</th>\n",
       "      <td>박지원 조국 법무장관 기용될 것 윤석열 임명돼야</td>\n",
       "    </tr>\n",
       "    <tr>\n",
       "      <th>4</th>\n",
       "      <td>홍준표 윤석열 변호사법 위반 논란에 단순 정보제공 별 문제 안 돼</td>\n",
       "    </tr>\n",
       "  </tbody>\n",
       "</table>\n",
       "</div>"
      ],
      "text/plain": [
       "                                   title\n",
       "0         위증으로 역전된 윤석열 검증 한국 바른미래 공조 카드는\n",
       "1               파묻었던 일제 만행 봉인 열릴까 두려운 아베\n",
       "2      홍남기 반도체 몇개월치 완제품 재고 기업 걱정은 소재 부품 \n",
       "3            박지원 조국 법무장관 기용될 것 윤석열 임명돼야 \n",
       "4  홍준표 윤석열 변호사법 위반 논란에 단순 정보제공 별 문제 안 돼 "
      ]
     },
     "execution_count": 9,
     "metadata": {},
     "output_type": "execute_result"
    }
   ],
   "source": [
    "text = [clean_text(x) for x in news_title]\n",
    "text = pd.DataFrame(text, columns=['title'])\n",
    "text.head()"
   ]
  },
  {
   "cell_type": "code",
   "execution_count": 10,
   "metadata": {},
   "outputs": [
    {
     "name": "stderr",
     "output_type": "stream",
     "text": [
      "C:\\ProgramData\\Anaconda3\\lib\\site-packages\\jpype\\_core.py:210: UserWarning: \n",
      "-------------------------------------------------------------------------------\n",
      "Deprecated: convertStrings was not specified when starting the JVM. The default\n",
      "behavior in JPype will be False starting in JPype 0.8. The recommended setting\n",
      "for new code is convertStrings=False.  The legacy value of True was assumed for\n",
      "this session. If you are a user of an application that reported this warning,\n",
      "please file a ticket with the developer.\n",
      "-------------------------------------------------------------------------------\n",
      "\n",
      "  \"\"\")\n"
     ]
    },
    {
     "data": {
      "text/html": [
       "<div>\n",
       "<style scoped>\n",
       "    .dataframe tbody tr th:only-of-type {\n",
       "        vertical-align: middle;\n",
       "    }\n",
       "\n",
       "    .dataframe tbody tr th {\n",
       "        vertical-align: top;\n",
       "    }\n",
       "\n",
       "    .dataframe thead th {\n",
       "        text-align: right;\n",
       "    }\n",
       "</style>\n",
       "<table border=\"1\" class=\"dataframe\">\n",
       "  <thead>\n",
       "    <tr style=\"text-align: right;\">\n",
       "      <th></th>\n",
       "      <th>title</th>\n",
       "    </tr>\n",
       "  </thead>\n",
       "  <tbody>\n",
       "    <tr>\n",
       "      <th>0</th>\n",
       "      <td>[위증, 역전, 윤석열, 검증, 한국, 바른, 미래, 공조, 카드]</td>\n",
       "    </tr>\n",
       "    <tr>\n",
       "      <th>1</th>\n",
       "      <td>[일제, 만행, 봉인, 아베]</td>\n",
       "    </tr>\n",
       "    <tr>\n",
       "      <th>2</th>\n",
       "      <td>[홍, 남, 반도체, 개월, 완제품, 재고, 기업, 걱정, 소재, 부품]</td>\n",
       "    </tr>\n",
       "    <tr>\n",
       "      <th>3</th>\n",
       "      <td>[박지원, 조국, 법무장관, 기용, 윤석열, 임명]</td>\n",
       "    </tr>\n",
       "    <tr>\n",
       "      <th>4</th>\n",
       "      <td>[홍준표, 윤석열, 변호사법, 위반, 논란, 정보, 제공, 문제]</td>\n",
       "    </tr>\n",
       "  </tbody>\n",
       "</table>\n",
       "</div>"
      ],
      "text/plain": [
       "                                      title\n",
       "0     [위증, 역전, 윤석열, 검증, 한국, 바른, 미래, 공조, 카드]\n",
       "1                          [일제, 만행, 봉인, 아베]\n",
       "2  [홍, 남, 반도체, 개월, 완제품, 재고, 기업, 걱정, 소재, 부품]\n",
       "3              [박지원, 조국, 법무장관, 기용, 윤석열, 임명]\n",
       "4      [홍준표, 윤석열, 변호사법, 위반, 논란, 정보, 제공, 문제]"
      ]
     },
     "execution_count": 10,
     "metadata": {},
     "output_type": "execute_result"
    }
   ],
   "source": [
    "from konlpy.tag import Komoran\n",
    "\n",
    "stopwords = set(['신문', '종합', '단독', '상보', '속보', '것', '내일'])\n",
    "dicpath = 'user_dict.txt' # 텍스트 파일주소로, 사용자 사전의 구조는 위와 같습니다.\n",
    "\n",
    "komoran = Komoran(userdic=dicpath)\n",
    "text['title'] = text.apply(lambda row: komoran.nouns(row['title']), axis=1)\n",
    "text['title'] = text['title'].apply(lambda x: [word for word in x if word not in stopwords])\n",
    "text.head()"
   ]
  },
  {
   "cell_type": "code",
   "execution_count": 92,
   "metadata": {},
   "outputs": [
    {
     "data": {
      "text/plain": [
       "0    [위증, 역전, 윤석열, 검증, 한국, 바른, 미래, 공조, 카드]\n",
       "1                         [일제, 만행, 봉인, 아베]\n",
       "2       [반도체, 개월, 완제품, 재고, 기업, 걱정, 소재, 부품]\n",
       "3            [지원, 조국, 법무, 장관, 기용, 윤석열, 임명]\n",
       "4     [홍준표, 윤석열, 변호사법, 위반, 논란, 정보, 제공, 문제]\n",
       "Name: title, dtype: object"
      ]
     },
     "execution_count": 92,
     "metadata": {},
     "output_type": "execute_result"
    }
   ],
   "source": [
    "# 한 글자 단어 제거\n",
    "\n",
    "tokenized_doc = text['title'].apply(lambda x: [word for word in x if len(word) >1])\n",
    "tokenized_doc.head()"
   ]
  },
  {
   "cell_type": "code",
   "execution_count": 93,
   "metadata": {},
   "outputs": [
    {
     "data": {
      "text/plain": [
       "['위증 역전 윤석열 검증 한국 바른 미래 공조 카드',\n",
       " '일제 만행 봉인 아베',\n",
       " '반도체 개월 완제품 재고 기업 걱정 소재 부품',\n",
       " '지원 조국 법무 장관 기용 윤석열 임명',\n",
       " '홍준표 윤석열 변호사법 위반 논란 정보 제공 문제']"
      ]
     },
     "execution_count": 93,
     "metadata": {},
     "output_type": "execute_result"
    }
   ],
   "source": [
    "# 역 토큰화\n",
    "\n",
    "documents = []\n",
    "for i in range(len(text)):\n",
    "    t = ' '.join(tokenized_doc[i])\n",
    "    documents.append(t)\n",
    "    \n",
    "documents[:5]"
   ]
  },
  {
   "cell_type": "code",
   "execution_count": 94,
   "metadata": {},
   "outputs": [],
   "source": [
    "import re\n",
    "import numpy as np\n",
    "import pandas as pd\n",
    "from pprint import pprint\n",
    "\n",
    "# Gensim\n",
    "import gensim\n",
    "import gensim.corpora as corpora\n",
    "from gensim.utils import simple_preprocess\n",
    "from gensim.models import CoherenceModel\n",
    "\n",
    "# spacy for lemmatization\n",
    "import spacy\n",
    "\n",
    "# Plotting tools\n",
    "import pyLDAvis\n",
    "import pyLDAvis.gensim  # don't skip this\n",
    "import matplotlib.pyplot as plt\n",
    "%matplotlib inline\n",
    "\n",
    "# Enable logging for gensim - optional\n",
    "import logging\n",
    "logging.basicConfig(format='%(asctime)s : %(levelname)s : %(message)s', level=logging.ERROR)\n",
    "\n",
    "import warnings\n",
    "warnings.filterwarnings(\"ignore\",category=DeprecationWarning)"
   ]
  },
  {
   "cell_type": "code",
   "execution_count": 95,
   "metadata": {},
   "outputs": [
    {
     "name": "stdout",
     "output_type": "stream",
     "text": [
      "[[(0, 1), (1, 1), (2, 1), (3, 1), (4, 1), (5, 1), (6, 1), (7, 1), (8, 1)]]\n"
     ]
    }
   ],
   "source": [
    "id2word = corpora.Dictionary(tokenized_doc)\n",
    "\n",
    "texts = tokenized_doc\n",
    "\n",
    "corpus = [id2word.doc2bow(text) for text in texts]\n",
    "\n",
    "print(corpus[:1])"
   ]
  },
  {
   "cell_type": "code",
   "execution_count": 96,
   "metadata": {},
   "outputs": [
    {
     "data": {
      "text/plain": [
       "[[('검증', 1),\n",
       "  ('공조', 1),\n",
       "  ('미래', 1),\n",
       "  ('바른', 1),\n",
       "  ('역전', 1),\n",
       "  ('위증', 1),\n",
       "  ('윤석열', 1),\n",
       "  ('카드', 1),\n",
       "  ('한국', 1)]]"
      ]
     },
     "execution_count": 96,
     "metadata": {},
     "output_type": "execute_result"
    }
   ],
   "source": [
    "# Human readable format of corpus (term-frequency)\n",
    "[[(id2word[id], freq) for id, freq in cp] for cp in corpus[:1]]"
   ]
  },
  {
   "cell_type": "code",
   "execution_count": 101,
   "metadata": {},
   "outputs": [],
   "source": [
    "import os\n",
    "from gensim.models.wrappers import LdaMallet\n",
    "\n",
    "# os.environ['MALLET_HOME'] = 'C:\\\\Users\\\\camel\\\\mallet-2.0.8'\n",
    "os.environ['MALLET_HOME'] = 'D:\\\\ML_DL_study\\\\mallet-2.0.8'\n",
    "\n",
    "# mallet_path = 'C:/Users/camel/mallet-2.0.8/bin/mallet'\n",
    "mallet_path = 'D:/ML_DL_study/mallet-2.0.8/bin/mallet'"
   ]
  },
  {
   "cell_type": "code",
   "execution_count": 102,
   "metadata": {},
   "outputs": [],
   "source": [
    "def compute_coherence_values(dictionary, corpus, texts, limit, start=2, step=3):\n",
    "    \"\"\"\n",
    "    Compute c_v coherence for various number of topics\n",
    "\n",
    "    Parameters:\n",
    "    ----------\n",
    "    dictionary : Gensim dictionary\n",
    "    corpus : Gensim corpus\n",
    "    texts : List of input texts\n",
    "    limit : Max num of topics\n",
    "\n",
    "    Returns:\n",
    "    -------\n",
    "    model_list : List of LDA topic models\n",
    "    coherence_values : Coherence values corresponding to the LDA model with respective number of topics\n",
    "    \"\"\"\n",
    "    coherence_values = []\n",
    "    model_list = []\n",
    "    for num_topics in range(start, limit, step):\n",
    "        model = gensim.models.wrappers.LdaMallet(mallet_path, corpus=corpus, num_topics=num_topics, id2word=id2word)\n",
    "        model_list.append(model)\n",
    "        coherencemodel = CoherenceModel(model=model, texts=texts, dictionary=dictionary, coherence='c_v')\n",
    "        coherence_values.append(coherencemodel.get_coherence())\n",
    "\n",
    "    return model_list, coherence_values"
   ]
  },
  {
   "cell_type": "code",
   "execution_count": 103,
   "metadata": {},
   "outputs": [],
   "source": [
    "model_list, coherence_values = compute_coherence_values(dictionary=id2word, corpus=corpus, texts=tokenized_doc, start=1, limit=16, step=3)"
   ]
  },
  {
   "cell_type": "code",
   "execution_count": 104,
   "metadata": {},
   "outputs": [
    {
     "data": {
      "image/png": "[encoded data removed]",
      "text/plain": [
       "<Figure size 432x288 with 1 Axes>"
      ]
     },
     "metadata": {
      "needs_background": "light"
     },
     "output_type": "display_data"
    }
   ],
   "source": [
    "# Show graph\n",
    "limit = 16; start=1; step=3;\n",
    "x = range(start, limit, step)\n",
    "plt.plot(x, coherence_values)\n",
    "plt.xlabel('Num Topics')\n",
    "plt.ylabel('Coherence score')\n",
    "plt.legend(('coherence_values'), loc='best')\n",
    "plt.show()"
   ]
  },
  {
   "cell_type": "code",
   "execution_count": 105,
   "metadata": {},
   "outputs": [
    {
     "name": "stdout",
     "output_type": "stream",
     "text": [
      "Num Topics = 1  has Coherence Value of 0.5646\n",
      "Num Topics = 4  has Coherence Value of 0.6913\n",
      "Num Topics = 7  has Coherence Value of 0.7343\n",
      "Num Topics = 10  has Coherence Value of 0.7187\n",
      "Num Topics = 13  has Coherence Value of 0.6853\n",
      "Num Topics = 16  has Coherence Value of 0.6674\n",
      "Num Topics = 19  has Coherence Value of 0.6356\n"
     ]
    }
   ],
   "source": [
    "for m, cv in zip(x, coherence_values):\n",
    "    print('Num Topics =', m, \" has Coherence Value of\", round(cv, 4))"
   ]
  },
  {
   "cell_type": "code",
   "execution_count": 139,
   "metadata": {},
   "outputs": [],
   "source": [
    "# # Select the model and print the topics\n",
    "# optimal_model = model_list[3]\n",
    "# model_topics = optimal_model.show_topics(formatted=False)\n",
    "# pprint(optimal_model.print_topics(num_words=10))"
   ]
  },
  {
   "cell_type": "code",
   "execution_count": 138,
   "metadata": {},
   "outputs": [],
   "source": [
    "# ldamallet = gensim.models.wrappers.LdaMallet(mallet_path, corpus=corpus, num_topics=7, id2word=id2word)\n",
    "\n",
    "# import gensim    \n",
    "# mallet_model = gensim.models.wrappers.ldamallet.malletmodel2ldamodel(ldamallet)"
   ]
  },
  {
   "cell_type": "code",
   "execution_count": 137,
   "metadata": {},
   "outputs": [],
   "source": [
    "# # Visualize the topics\n",
    "# pyLDAvis.enable_notebook()\n",
    "# vis = pyLDAvis.gensim.prepare(mallet_model, corpus, id2word)\n",
    "# vis"
   ]
  },
  {
   "cell_type": "code",
   "execution_count": 109,
   "metadata": {},
   "outputs": [],
   "source": [
    "# Build LDA model\n",
    "lda_model = gensim.models.ldamodel.LdaModel(corpus=corpus,\n",
    "                                           id2word=id2word,\n",
    "                                           num_topics=7, \n",
    "                                           random_state=100,\n",
    "                                           update_every=1,\n",
    "                                           chunksize=100,\n",
    "                                           passes=7,\n",
    "                                           alpha='auto',\n",
    "                                           per_word_topics=True)"
   ]
  },
  {
   "cell_type": "code",
   "execution_count": 110,
   "metadata": {},
   "outputs": [
    {
     "name": "stdout",
     "output_type": "stream",
     "text": [
      "[(0,\n",
      "  '0.007*\"일본\" + 0.007*\"윤석열\" + 0.007*\"한국\" + 0.007*\"文대통령\" + 0.007*\"일제\" + '\n",
      "  '0.007*\"만행\" + 0.007*\"임명\" + 0.007*\"봉인\" + 0.007*\"아베\" + 0.007*\"비상\"'),\n",
      " (1,\n",
      "  '0.030*\"소재\" + 0.030*\"반도체\" + 0.030*\"부품\" + 0.030*\"걱정\" + 0.030*\"재고\" + '\n",
      "  '0.030*\"개월\" + 0.030*\"기업\" + 0.030*\"완제품\" + 0.030*\"일제\" + 0.030*\"아베\"'),\n",
      " (2,\n",
      "  '0.044*\"조치\" + 0.044*\"일본\" + 0.023*\"강도\" + 0.023*\"금수\" + 0.023*\"북한\" + '\n",
      "  '0.023*\"뒷받침\" + 0.023*\"비난\" + 0.023*\"기업인\" + 0.023*\"한일\" + 0.023*\"정부\"'),\n",
      " (3,\n",
      "  '0.033*\"사린\" + 0.033*\"조국\" + 0.033*\"지원\" + 0.033*\"전용\" + 0.033*\"장관\" + '\n",
      "  '0.033*\"수출규제\" + 0.033*\"법무\" + 0.033*\"기용\" + 0.033*\"가스\" + 0.033*\"우려\"'),\n",
      " (4,\n",
      "  '0.026*\"창당\" + 0.026*\"반당\" + 0.026*\"신당\" + 0.026*\"분당\" + 0.026*\"나경원\" + '\n",
      "  '0.026*\"모임\" + 0.026*\"반대\" + 0.026*\"평화\" + 0.026*\"사용\" + 0.026*\"민간인\"'),\n",
      " (5,\n",
      "  '0.081*\"일본\" + 0.042*\"경고\" + 0.042*\"文대통령\" + 0.042*\"비상\" + 0.042*\"생각\" + '\n",
      "  '0.023*\"한국\" + 0.022*\"WTO\" + 0.022*\"선포\" + 0.022*\"정부\" + 0.022*\"맞지\"'),\n",
      " (6,\n",
      "  '0.053*\"윤석열\" + 0.040*\"위증\" + 0.027*\"일본\" + 0.027*\"임명\" + 0.027*\"공조\" + '\n",
      "  '0.027*\"검증\" + 0.027*\"카드\" + 0.027*\"한국\" + 0.027*\"미래\" + 0.027*\"바른\"')]\n"
     ]
    }
   ],
   "source": [
    "# Print the Keyword in the 10 topics\n",
    "pprint(lda_model.print_topics())\n",
    "doc_lda = lda_model[corpus]"
   ]
  },
  {
   "cell_type": "code",
   "execution_count": 111,
   "metadata": {},
   "outputs": [
    {
     "name": "stdout",
     "output_type": "stream",
     "text": [
      "\n",
      "Perplexity:  -5.5944418894208\n",
      "\n",
      "Coherence Score:  0.39521224839372365\n"
     ]
    }
   ],
   "source": [
    "# Compute Perplexity\n",
    "print('\\nPerplexity: ', lda_model.log_perplexity(corpus))  # a measure of how good the model is. lower the better.\n",
    "\n",
    "# Compute Coherence Score\n",
    "coherence_model_lda = CoherenceModel(model=lda_model, texts=tokenized_doc, dictionary=id2word, coherence='c_v')\n",
    "coherence_lda = coherence_model_lda.get_coherence()\n",
    "print('\\nCoherence Score: ', coherence_lda)"
   ]
  },
  {
   "cell_type": "code",
   "execution_count": 112,
   "metadata": {},
   "outputs": [
    {
     "name": "stderr",
     "output_type": "stream",
     "text": [
      "C:\\ProgramData\\Anaconda3\\lib\\site-packages\\pyLDAvis\\_prepare.py:257: FutureWarning: Sorting because non-concatenation axis is not aligned. A future version\n",
      "of pandas will change to not sort by default.\n",
      "\n",
      "To accept the future behavior, pass 'sort=False'.\n",
      "\n",
      "To retain the current behavior and silence the warning, pass 'sort=True'.\n",
      "\n",
      "  return pd.concat([default_term_info] + list(topic_dfs))\n"
     ]
    },
    {
     "data": {
      "text/html": [
       "\n",
       "<link rel=\"stylesheet\" type=\"text/css\" href=\"https://cdn.rawgit.com/bmabey/pyLDAvis/files/ldavis.v1.0.0.css\">\n",
       "\n",
       "\n",
       "<div id=\"ldavis_el2163618938204099206348910573\"></div>\n",
       "<script type=\"text/javascript\">\n",
       "\n",
       "var ldavis_el2163618938204099206348910573_data = {\"mdsDat\": {\"x\": [0.1025600646286823, -0.15076047902641934, 0.05974704460200169, 0.04831363323511352, -0.0791795753739475, 0.031886247419958526, -0.01256693548538894], \"y\": [-0.12989771472097422, -0.06876272025512756, 0.06371889455109161, 0.0957135465692965, 0.061392056332051186, -0.02009315824847851, -0.002070904227858838], \"topics\": [1, 2, 3, 4, 5, 6, 7], \"cluster\": [1, 1, 1, 1, 1, 1, 1], \"Freq\": [27.584657669067383, 23.64617156982422, 14.999958992004395, 14.015997886657715, 11.614038467407227, 7.536975383758545, 0.6021979451179504]}, \"tinfo\": {\"Category\": [\"Default\", \"Default\", \"Default\", \"Default\", \"Default\", \"Default\", \"Default\", \"Default\", \"Default\", \"Default\", \"Default\", \"Default\", \"Default\", \"Default\", \"Default\", \"Default\", \"Default\", \"Default\", \"Default\", \"Default\", \"Default\", \"Default\", \"Default\", \"Default\", \"Default\", \"Default\", \"Default\", \"Default\", \"Default\", \"Default\", \"Topic1\", \"Topic1\", \"Topic1\", \"Topic1\", \"Topic1\", \"Topic1\", \"Topic1\", \"Topic1\", \"Topic1\", \"Topic1\", \"Topic1\", \"Topic1\", \"Topic1\", \"Topic1\", \"Topic1\", \"Topic1\", \"Topic1\", \"Topic1\", \"Topic1\", \"Topic1\", \"Topic1\", \"Topic1\", \"Topic1\", \"Topic1\", \"Topic1\", \"Topic1\", \"Topic1\", \"Topic1\", \"Topic1\", \"Topic1\", \"Topic1\", \"Topic1\", \"Topic1\", \"Topic1\", \"Topic1\", \"Topic1\", \"Topic1\", \"Topic1\", \"Topic1\", \"Topic1\", \"Topic1\", \"Topic1\", \"Topic1\", \"Topic2\", \"Topic2\", \"Topic2\", \"Topic2\", \"Topic2\", \"Topic2\", \"Topic2\", \"Topic2\", \"Topic2\", \"Topic2\", \"Topic2\", \"Topic2\", \"Topic2\", \"Topic2\", \"Topic2\", \"Topic2\", \"Topic2\", \"Topic2\", \"Topic2\", \"Topic2\", \"Topic2\", \"Topic2\", \"Topic2\", \"Topic2\", \"Topic2\", \"Topic2\", \"Topic2\", \"Topic2\", \"Topic2\", \"Topic2\", \"Topic2\", \"Topic2\", \"Topic3\", \"Topic3\", \"Topic3\", \"Topic3\", \"Topic3\", \"Topic3\", \"Topic3\", \"Topic3\", \"Topic3\", \"Topic3\", \"Topic3\", \"Topic3\", \"Topic3\", \"Topic3\", \"Topic3\", \"Topic3\", \"Topic3\", \"Topic3\", \"Topic3\", \"Topic3\", \"Topic3\", \"Topic3\", \"Topic3\", \"Topic3\", \"Topic3\", \"Topic3\", \"Topic3\", \"Topic3\", \"Topic3\", \"Topic3\", \"Topic3\", \"Topic3\", \"Topic3\", \"Topic3\", \"Topic3\", \"Topic3\", \"Topic3\", \"Topic3\", \"Topic3\", \"Topic4\", \"Topic4\", \"Topic4\", \"Topic4\", \"Topic4\", \"Topic4\", \"Topic4\", \"Topic4\", \"Topic4\", \"Topic4\", \"Topic4\", \"Topic4\", \"Topic4\", \"Topic4\", \"Topic4\", \"Topic4\", \"Topic4\", \"Topic4\", \"Topic4\", \"Topic4\", \"Topic4\", \"Topic4\", \"Topic4\", \"Topic4\", \"Topic4\", \"Topic4\", \"Topic4\", \"Topic4\", \"Topic4\", \"Topic4\", \"Topic4\", \"Topic4\", \"Topic4\", \"Topic5\", \"Topic5\", \"Topic5\", \"Topic5\", \"Topic5\", \"Topic5\", \"Topic5\", \"Topic5\", \"Topic5\", \"Topic5\", \"Topic5\", \"Topic5\", \"Topic5\", \"Topic5\", \"Topic5\", \"Topic5\", \"Topic5\", \"Topic5\", \"Topic5\", \"Topic5\", \"Topic5\", \"Topic5\", \"Topic5\", \"Topic5\", \"Topic5\", \"Topic5\", \"Topic5\", \"Topic5\", \"Topic5\", \"Topic5\", \"Topic5\", \"Topic5\", \"Topic5\", \"Topic5\", \"Topic5\", \"Topic5\", \"Topic6\", \"Topic6\", \"Topic6\", \"Topic6\", \"Topic6\", \"Topic6\", \"Topic6\", \"Topic6\", \"Topic6\", \"Topic6\", \"Topic6\", \"Topic6\", \"Topic6\", \"Topic6\", \"Topic6\", \"Topic6\", \"Topic6\", \"Topic6\", \"Topic6\", \"Topic6\", \"Topic6\", \"Topic6\", \"Topic6\", \"Topic6\", \"Topic6\", \"Topic6\", \"Topic6\", \"Topic6\", \"Topic6\", \"Topic6\", \"Topic6\", \"Topic6\", \"Topic6\", \"Topic6\", \"Topic6\", \"Topic6\", \"Topic6\", \"Topic6\", \"Topic6\", \"Topic6\", \"Topic6\", \"Topic6\", \"Topic6\", \"Topic7\", \"Topic7\", \"Topic7\", \"Topic7\", \"Topic7\", \"Topic7\", \"Topic7\", \"Topic7\", \"Topic7\", \"Topic7\", \"Topic7\", \"Topic7\", \"Topic7\", \"Topic7\", \"Topic7\", \"Topic7\", \"Topic7\", \"Topic7\", \"Topic7\", \"Topic7\", \"Topic7\", \"Topic7\", \"Topic7\", \"Topic7\", \"Topic7\", \"Topic7\", \"Topic7\", \"Topic7\", \"Topic7\", \"Topic7\", \"Topic7\", \"Topic7\", \"Topic7\", \"Topic7\", \"Topic7\", \"Topic7\", \"Topic7\", \"Topic7\", \"Topic7\", \"Topic7\", \"Topic7\", \"Topic7\", \"Topic7\", \"Topic7\", \"Topic7\", \"Topic7\", \"Topic7\", \"Topic7\", \"Topic7\", \"Topic7\", \"Topic7\", \"Topic7\", \"Topic7\", \"Topic7\", \"Topic7\", \"Topic7\", \"Topic7\"], \"Freq\": [7.0, 2.0, 2.0, 1.0, 5.0, 1.0, 1.0, 2.0, 2.0, 2.0, 2.0, 2.0, 3.0, 0.0, 0.0, 0.0, 0.0, 0.0, 0.0, 0.0, 0.0, 0.0, 1.0, 1.0, 1.0, 1.0, 1.0, 1.0, 1.0, 1.0, 2.2816591262817383, 1.5547566413879395, 1.554504632949829, 1.553212285041809, 1.5526022911071777, 1.5523762702941895, 0.8325268030166626, 0.8325266242027283, 0.8325265049934387, 0.8325266242027283, 0.8325266242027283, 0.8325262069702148, 0.8325257897377014, 0.832525372505188, 0.8325251340866089, 0.8325251936912537, 0.8325249552726746, 0.8325249552726746, 0.8325240612030029, 0.8325231671333313, 0.8325228095054626, 0.8325228095054626, 0.8325215578079224, 0.8325212597846985, 0.8325203061103821, 0.8325204253196716, 0.832520067691803, 0.8325188159942627, 0.83251953125, 0.8325191140174866, 1.561008095741272, 1.5541690587997437, 3.010305643081665, 1.553342580795288, 1.5611642599105835, 0.8325577974319458, 0.8325576186180115, 0.8325434923171997, 0.8325413465499878, 0.8325371742248535, 0.8325369954109192, 0.8325300812721252, 0.8325287103652954, 1.4830026626586914, 1.4830013513565063, 1.483000636100769, 1.4830002784729004, 1.4829990863800049, 1.482998251914978, 1.4829909801483154, 1.482985258102417, 1.4829826354980469, 1.4829838275909424, 0.8013242483139038, 0.8013230562210083, 0.801322877407074, 0.8013213872909546, 0.8013213872909546, 0.8013209700584412, 0.8013195991516113, 0.8013192415237427, 0.8013182878494263, 0.8013184666633606, 0.8013180494308472, 0.8013179302215576, 0.8013181090354919, 0.8013179302215576, 0.801308810710907, 0.8013073801994324, 1.4830108880996704, 1.4830102920532227, 0.8013316988945007, 0.8013268709182739, 0.8013221621513367, 0.8013168573379517, 1.298602819442749, 1.298598289489746, 0.6925846934318542, 0.6925843954086304, 0.6925841569900513, 0.6925835013389587, 0.6925835609436035, 0.692582905292511, 0.6925824284553528, 0.692581832408905, 0.6925816535949707, 0.6925813555717468, 0.6925809383392334, 0.6925799250602722, 0.6925780773162842, 1.298598289489746, 0.6925868391990662, 0.6925846934318542, 0.6925801634788513, 0.6925780773162842, 1.298600435256958, 2.5106379985809326, 0.6925804615020752, 0.6989846229553223, 0.08657638728618622, 0.0865762010216713, 0.08657617121934891, 0.08657607436180115, 0.08657611906528473, 0.08657607436180115, 0.08657599985599518, 0.09374910593032837, 0.0935608521103859, 0.09305430948734283, 0.0919785276055336, 0.09176764637231827, 0.0930730327963829, 0.09227467328310013, 0.09309453517198563, 1.265095829963684, 0.674717128276825, 0.674717128276825, 0.6747164726257324, 0.6747165322303772, 0.6747165322303772, 0.6747162342071533, 0.6747159957885742, 0.6747156381607056, 0.674715518951416, 0.6747153997421265, 0.6747153401374817, 0.6747151017189026, 0.6747148633003235, 0.6747141480445862, 0.6747142672538757, 0.6747139692306519, 0.6747134923934937, 0.6747131943702698, 0.6747096180915833, 0.6747092008590698, 0.6747157573699951, 0.674713671207428, 0.6747115254402161, 0.6747076511383057, 1.265091896057129, 0.6746582388877869, 0.08434319496154785, 0.08434290438890457, 0.0843428447842598, 0.08434886485338211, 0.08434826135635376, 0.08434738963842392, 0.6224151253700256, 0.6224150061607361, 0.6224145889282227, 0.6224140524864197, 0.6224138736724854, 0.6224138736724854, 0.6224129796028137, 0.622413158416748, 0.622413158416748, 0.622413158416748, 0.6224125623703003, 0.6224120855331421, 0.6224122643470764, 0.6224110126495361, 0.6224108338356018, 0.6224109530448914, 0.622409999370575, 0.6224033236503601, 0.6224009990692139, 0.6224001049995422, 0.6224055886268616, 0.6224086880683899, 0.6224082112312317, 0.6224027872085571, 0.07780496031045914, 0.07780494540929794, 0.07780466228723526, 0.07780459523200989, 0.07780447602272034, 0.07780451327562332, 0.0778118222951889, 0.07781046628952026, 0.07780960947275162, 0.07780924439430237, 0.07780873775482178, 0.07780870050191879, 0.5073587894439697, 0.5073585510253906, 0.5073583126068115, 0.507358193397522, 0.5073573589324951, 0.5073572397232056, 0.5073570609092712, 0.5073570013046265, 0.507357120513916, 0.507348358631134, 0.5073446035385132, 0.5073573589324951, 0.5073521733283997, 0.5073345303535461, 0.5073545575141907, 0.06342390924692154, 0.06342364847660065, 0.0634232610464096, 0.06342239677906036, 0.06342224776744843, 0.06342218816280365, 0.06342218071222305, 0.06342212855815887, 0.06342209875583649, 0.06342208385467529, 0.06342209875583649, 0.06342199444770813, 0.06342190504074097, 0.06342191994190216, 0.06342189013957977, 0.06342736631631851, 0.0634256973862648, 0.06342502683401108, 0.0634249672293663, 0.06342439353466034, 0.06342406570911407, 0.06342390924692154, 0.06342360377311707, 0.06342361122369766, 0.06342358142137527, 0.06342355161905289, 0.06342349946498871, 0.0634232684969902, 0.008840733207762241, 0.00884073507040739, 0.008840691298246384, 0.008840689435601234, 0.008840673603117466, 0.00884066428989172, 0.008840653114020824, 0.008840648457407951, 0.008840643800795078, 0.008840976282954216, 0.00884093064814806, 0.00884091854095459, 0.008840758353471756, 0.008840753696858883, 0.008840744383633137, 0.008840741589665413, 0.008840713649988174, 0.008840711787343025, 0.008840714581310749, 0.008840711787343025, 0.00884070061147213, 0.008840687572956085, 0.008840675465762615, 0.008840675465762615, 0.008840670809149742, 0.008840666152536869, 0.008840656839311123, 0.008840644732117653, 0.008840632624924183, 0.008840817958116531, 0.008841972798109055, 0.008841581642627716, 0.008841452188789845, 0.008841386996209621, 0.00884131621569395, 0.008841150440275669, 0.00884111039340496, 0.008841080591082573, 0.008841068483889103, 0.008840995840728283, 0.008840985596179962, 0.008840976282954216, 0.008840943686664104, 0.008840938098728657, 0.008840922266244888, 0.008840913884341717, 0.008840903639793396, 0.008840893395245075, 0.008840886875987053, 0.008840886875987053, 0.008840879425406456, 0.008840875700116158, 0.008840872906148434, 0.008840872906148434, 0.00884086824953556, 0.00884086824953556, 0.008840852417051792], \"Term\": [\"\\uc77c\\ubcf8\", \"\\uc784\\uba85\", \"\\uce74\\ub4dc\", \"\\uc870\\uce58\", \"\\uc724\\uc11d\\uc5f4\", \"\\uacbd\\uace0\", \"\\uc0dd\\uac01\", \"\\ube44\\uc0c1\", \"\\uc704\\uc99d\", \"\\uc218\\ucd9c\\uaddc\\uc81c\", \"\\ubc18\\ub3c4\\uccb4\", \"\\uc18c\\uc7ac\", \"\\ud55c\\uad6d\", \"\\uc0ac\\ub9b0\", \"\\uc870\\uad6d\", \"\\uc804\\uc6a9\", \"\\uc7a5\\uad00\", \"\\uc9c0\\uc6d0\", \"\\uc6b0\\ub824\", \"\\ubc95\\ubb34\", \"\\uac00\\uc2a4\", \"\\uae30\\uc6a9\", \"\\uc77c\\uc81c\", \"\\uc7ac\\uace0\", \"\\uae30\\uc5c5\", \"\\uac71\\uc815\", \"\\uac1c\\uc6d4\", \"\\uc644\\uc81c\\ud488\", \"\\ubd80\\ud488\", \"\\ub9cc\\ud589\", \"\\uc704\\uc99d\", \"\\uacf5\\uc870\", \"\\uac80\\uc99d\", \"\\ubbf8\\ub798\", \"\\ubc14\\ub978\", \"\\uc5ed\\uc804\", \"\\ud63c\\ub780\", \"\\uc2dc\\uac04\", \"\\ud574\\ubc95\", \"\\ucd1d\\ub9ac\", \"\\ud1a0\\ub860\", \"\\uccad\\uc640\\ub300\", \"\\ud30c\\uc0b0\", \"\\uc120\\uace0\", \"\\ud558\\uba74\", \"\\ubcf4\\ubcf5\", \"\\ub3c4\\ub355\", \"\\ubd84\\uc704\\uae30\", \"IMF\", \"\\ud56b\\ub77c\\uc778\", \"\\uac10\\uc815\", \"\\uc815\\ucc45\\uc2e4\\uc7a5\", \"\\uac00\\uc5f4\", \"\\uc81c\\uc548\", \"\\uac00\\uc2b4\", \"\\uae40\\uc815\\uc740\", \"\\uae40\\uc77c\\uc131\", \"\\uc57c\\ub2f9\", \"\\uae40\\uc815\\uc77c\", \"\\uc804\\ub840\", \"\\uc784\\uba85\", \"\\uce74\\ub4dc\", \"\\uc724\\uc11d\\uc5f4\", \"\\ud55c\\uad6d\", \"\\uc77c\\ubcf8\", \"\\u6587\\ub300\\ud1b5\\ub839\", \"\\uc218\\ucd9c\\uaddc\\uc81c\", \"\\ub300\\uae30\\uc5c5\", \"\\ud5c8\\uc2ec\\ud0c4\\ud68c\", \"\\ud64d\\uc900\\ud45c\", \"\\ub300\\uc751\", \"\\ub17c\\ub780\", \"\\ube44\\uc0c1\", \"\\ubd80\\ud488\", \"\\uac71\\uc815\", \"\\uc7ac\\uace0\", \"\\uac1c\\uc6d4\", \"\\uae30\\uc5c5\", \"\\uc644\\uc81c\\ud488\", \"\\uc77c\\uc81c\", \"\\uc544\\ubca0\", \"\\ub9cc\\ud589\", \"\\ubd09\\uc778\", \"\\ubb38\\uc81c\", \"\\ubcc0\\ud638\\uc0ac\\ubc95\", \"\\uac00\\ubd80\", \"\\uc815\\ubcf4\", \"\\ud68c\\ub3d9\", \"\\ud669\\uad50\\uc548\", \"\\uc774\\uc57c\\uae30\", \"\\uac04\\ub2f4\\ud68c\", \"\\ube4c\\ubbf8\", \"\\ubbfc\\uc8fc\", \"\\uac70\\uc808\", \"\\ub300\\ud1b5\\ub839\", \"\\uc81c\\uacf5\", \"\\ucd1d\\ucd9c\\ub3d9\", \"\\ubc18\\uaca9\", \"\\uc0b0\\uc5c5\\ubd80\", \"\\uc18c\\uc7ac\", \"\\ubc18\\ub3c4\\uccb4\", \"\\ub300\\ud45c\", \"\\uc704\\ubc18\", \"\\ub17c\\ub780\", \"\\ud64d\\uc900\\ud45c\", \"\\uacbd\\uace0\", \"\\uc0dd\\uac01\", \"\\uc120\\ud3ec\", \"\\ub9de\\uc9c0\", \"\\uc9c0\\uc801\", \"\\uac15\\uc870\", \"\\ucca0\\ud68c\", \"\\uc678\\uad50\", \"\\ud574\\uacb0\", \"\\uac01\\uc624\", \"\\ub2e8\\ud638\", \"\\ud574\\uc9c4\", \"\\uad50\\uccb4\", \"\\uacbd\\uc81c\", \"\\uc815\\uad8c\", \"\\ube44\\uc0c1\", \"WTO\", \"\\uc815\\ubd80\", \"\\uc704\\ubc18\", \"\\ub300\\uc751\", \"\\u6587\\ub300\\ud1b5\\ub839\", \"\\uc77c\\ubcf8\", \"\\uc218\\ucd9c\\uaddc\\uc81c\", \"\\ud55c\\uad6d\", \"\\uc6b0\\ub824\", \"\\uc9c0\\uc6d0\", \"\\uac00\\uc2a4\", \"\\uc7a5\\uad00\", \"\\uae30\\uc6a9\", \"\\ubc95\\ubb34\", \"\\uc0ac\\ub9b0\", \"\\uc5ed\\uc804\", \"\\ubc14\\ub978\", \"\\ubbf8\\ub798\", \"\\uac80\\uc99d\", \"\\uacf5\\uc870\", \"\\uc704\\uc99d\", \"\\uce74\\ub4dc\", \"\\uc724\\uc11d\\uc5f4\", \"\\uc870\\uce58\", \"\\uae08\\uc218\", \"\\uac15\\ub3c4\", \"\\ube44\\ub09c\", \"\\ubd81\\ud55c\", \"\\ub4b7\\ubc1b\\uce68\", \"\\uae30\\uc5c5\\uc778\", \"\\ud55c\\uc77c\", \"\\uc810\\uc785\\uac00\\uacbd\", \"\\uac70\\uc9d3\\ub9d0\", \"\\ub300\\uc77c\", \"\\uaca9\\ub860\", \"\\uae08\\ud0dc\\uc12d\", \"\\uc544\\ub0d0\", \"\\uc9c0\\ud558\\uc790\\uc6d0\", \"\\uc0c1\\uc2dd\", \"\\ubaa8\\ub4e0\", \"\\uc870\\uc120\", \"\\ubbfc\\uc8fc\\ub2f9\", \"\\uc0ac\\uacfc\", \"\\ucd5c\\ub300\", \"\\uc815\\ubd80\", \"WTO\", \"\\uc218\\ucd9c\\uaddc\\uc81c\", \"\\u6587\\ub300\\ud1b5\\ub839\", \"\\uc77c\\ubcf8\", \"\\uc724\\uc11d\\uc5f4\", \"\\uac00\\uc2a4\", \"\\uc7a5\\uad00\", \"\\ubc95\\ubb34\", \"\\uc544\\ubca0\", \"\\ud55c\\uad6d\", \"\\uc784\\uba85\", \"\\ucc3d\\ub2f9\", \"\\ubc18\\ub2f9\", \"\\uc2e0\\ub2f9\", \"\\ubd84\\ub2f9\", \"\\ub098\\uacbd\\uc6d0\", \"\\ubaa8\\uc784\", \"\\ubbfc\\uac04\\uc778\", \"\\uc0ac\\uc6a9\", \"\\ud3c9\\ud654\", \"\\ubc18\\ub300\", \"\\uae30\\uc815\\uc0ac\\uc2e4\", \"\\uc81c\\uc7ac\", \"\\ud310\\ub9e4\", \"\\ud2b9\\ubcc4\\ubc95\", \"\\uc644\\ud654\", \"\\uacb0\\uc131\", \"\\ud559\\uc0b4\", \"\\uc815\\uc548\", \"\\ucd5c\\uc800\\uc784\\uae08\", \"\\uc81c\\ucd9c\", \"\\ub300\\ud45c\", \"\\ubc18\\ub3c4\\uccb4\", \"\\uc18c\\uc7ac\", \"\\uc77c\\ubcf8\", \"\\uc870\\uad6d\", \"\\uac00\\uc2a4\", \"\\uae30\\uc6a9\", \"\\uc804\\uc6a9\", \"\\uc7a5\\uad00\", \"\\uc9c0\\uc6d0\", \"\\uc724\\uc11d\\uc5f4\", \"\\ud55c\\uad6d\", \"\\u6587\\ub300\\ud1b5\\ub839\", \"\\uc77c\\uc81c\", \"\\ub9cc\\ud589\", \"\\uc544\\ubca0\", \"\\uc0ac\\ub9b0\", \"\\uc870\\uad6d\", \"\\uc9c0\\uc6d0\", \"\\uc804\\uc6a9\", \"\\uc7a5\\uad00\", \"\\ubc95\\ubb34\", \"\\uac00\\uc2a4\", \"\\uc6b0\\ub824\", \"\\uae30\\uc6a9\", \"\\uce74\\ub4dc\", \"\\uc784\\uba85\", \"\\uc218\\ucd9c\\uaddc\\uc81c\", \"\\ud55c\\uad6d\", \"\\uc724\\uc11d\\uc5f4\", \"\\uc77c\\ubcf8\", \"\\ucd5c\\uc800\\uc784\\uae08\", \"\\uc81c\\ucd9c\", \"\\uc815\\uc548\", \"\\ud559\\uc0b4\", \"\\uae30\\uc815\\uc0ac\\uc2e4\", \"\\uacb0\\uc131\", \"\\ud310\\ub9e4\", \"\\uc644\\ud654\", \"\\uc81c\\uc7ac\", \"\\ud2b9\\ubcc4\\ubc95\", \"\\ubc18\\ub300\", \"\\uc0ac\\uc6a9\", \"\\ubbfc\\uac04\\uc778\", \"\\ubd84\\ub2f9\", \"\\ud3c9\\ud654\", \"\\u6587\\ub300\\ud1b5\\ub839\", \"\\uc544\\ubca0\", \"\\ubd09\\uc778\", \"\\ub9cc\\ud589\", \"\\uc77c\\uc81c\", \"\\ub300\\uae30\\uc5c5\", \"\\ube44\\uc0c1\", \"\\ub300\\ud45c\", \"\\uc18c\\uc7ac\", \"\\uc0b0\\uc5c5\\ubd80\", \"\\uc644\\uc81c\\ud488\", \"\\uc815\\ubd80\", \"WTO\", \"\\uc7a5\\uad00\", \"\\uc6b0\\ub824\", \"\\uac00\\uc2a4\", \"\\ubc95\\ubb34\", \"\\uc804\\uc6a9\", \"\\uae30\\uc6a9\", \"\\uc870\\uad6d\", \"\\uc9c0\\uc6d0\", \"\\uc0ac\\ub9b0\", \"\\uc81c\\ucd9c\", \"\\ucd5c\\uc800\\uc784\\uae08\", \"\\uc815\\uc548\", \"\\ud2b9\\ubcc4\\ubc95\", \"\\ud559\\uc0b4\", \"\\uc644\\ud654\", \"\\uc81c\\uc7ac\", \"\\ubbfc\\uac04\\uc778\", \"\\uae30\\uc815\\uc0ac\\uc2e4\", \"\\uacb0\\uc131\", \"\\uc0ac\\uc6a9\", \"\\ud3c9\\ud654\", \"\\ud310\\ub9e4\", \"\\ubc18\\ub300\", \"\\ub098\\uacbd\\uc6d0\", \"\\ucc3d\\ub2f9\", \"\\ubd84\\ub2f9\", \"\\uc2e0\\ub2f9\", \"\\ubaa8\\uc784\", \"\\ubc18\\ub2f9\", \"\\ucd5c\\ub300\", \"\\uc77c\\ubcf8\", \"\\uc724\\uc11d\\uc5f4\", \"\\ud55c\\uad6d\", \"\\u6587\\ub300\\ud1b5\\ub839\", \"\\uc77c\\uc81c\", \"\\ub9cc\\ud589\", \"\\uc784\\uba85\", \"\\ubd09\\uc778\", \"\\uc544\\ubca0\", \"\\ube44\\uc0c1\", \"\\uc218\\ucd9c\\uaddc\\uc81c\", \"\\uce74\\ub4dc\", \"\\uc704\\uc99d\", \"\\ubc18\\ub3c4\\uccb4\", \"\\ubc18\\uaca9\", \"\\ub300\\ud45c\", \"WTO\", \"\\uc18c\\uc7ac\", \"\\uae30\\uc5c5\", \"\\uc0b0\\uc5c5\\ubd80\", \"\\uc644\\uc81c\\ud488\", \"\\uc815\\ubd80\", \"\\ud5c8\\uc2ec\\ud0c4\\ud68c\", \"\\uc870\\uce58\", \"\\ub300\\uae30\\uc5c5\", \"\\uc7ac\\uace0\", \"\\uc57c\\ub2f9\"], \"Total\": [7.0, 2.0, 2.0, 1.0, 5.0, 1.0, 1.0, 2.0, 2.0, 2.0, 2.0, 2.0, 3.0, 0.0, 0.0, 0.0, 0.0, 0.0, 0.0, 0.0, 0.0, 0.0, 1.0, 1.0, 1.0, 1.0, 1.0, 1.0, 1.0, 1.0, 2.709320306777954, 1.9811079502105713, 1.9810658693313599, 1.9808485507965088, 1.9807461500167847, 1.9807078838348389, 1.2536805868148804, 1.2536803483963013, 1.2536805868148804, 1.2536811828613281, 1.2536811828613281, 1.25368070602417, 1.2536803483963013, 1.253679871559143, 1.2536802291870117, 1.2536805868148804, 1.2536803483963013, 1.2536804676055908, 1.2536797523498535, 1.2536793947219849, 1.2536792755126953, 1.2536792755126953, 1.2536790370941162, 1.2536786794662476, 1.2536780834197998, 1.2536784410476685, 1.2536784410476685, 1.253677248954773, 1.2536784410476685, 1.2536779642105103, 2.4261064529418945, 2.424957275390625, 5.173312187194824, 3.731987476348877, 7.276747703552246, 3.7572591304779053, 2.894028425216675, 1.9548395872116089, 1.9548399448394775, 1.954842209815979, 1.859696865081787, 1.954841136932373, 2.46571683883667, 1.9283055067062378, 1.928303599357605, 1.9283043146133423, 1.9283041954040527, 1.928303599357605, 1.9283030033111572, 1.9282951354980469, 1.9282968044281006, 1.928296685218811, 1.928298830986023, 1.2263776063919067, 1.2263773679733276, 1.2263773679733276, 1.2263764142990112, 1.2263767719268799, 1.2263760566711426, 1.2263760566711426, 1.226375699043274, 1.2263752222061157, 1.226375699043274, 1.2263752222061157, 1.2263752222061157, 1.2263755798339844, 1.2263754606246948, 1.2263715267181396, 1.2263718843460083, 2.4729251861572266, 2.4729247093200684, 1.770994782447815, 1.8323918581008911, 1.954841136932373, 1.954842209815979, 1.7372536659240723, 1.7372527122497559, 1.1312317848205566, 1.131231665611267, 1.131231427192688, 1.1312308311462402, 1.1312315464019775, 1.1312311887741089, 1.1312313079833984, 1.1312311887741089, 1.1312310695648193, 1.1312311887741089, 1.1312310695648193, 1.1312308311462402, 1.1312302350997925, 2.46571683883667, 1.721611738204956, 1.7216119766235352, 1.8323918581008911, 1.859696865081787, 3.7572591304779053, 7.276747703552246, 2.894028425216675, 3.731987476348877, 0.9691607356071472, 0.9691609740257263, 0.969160795211792, 0.9691603779792786, 0.9691612720489502, 0.9691609740257263, 0.9691607356071472, 1.9807078838348389, 1.9807461500167847, 1.9808485507965088, 1.9810658693313599, 1.9811079502105713, 2.709320306777954, 2.424957275390625, 5.173312187194824, 1.7059842348098755, 1.1155976057052612, 1.1155977249145508, 1.1155976057052612, 1.1155978441238403, 1.1155979633331299, 1.1155977249145508, 1.1155978441238403, 1.1155977249145508, 1.1155976057052612, 1.1155972480773926, 1.1155977249145508, 1.1155977249145508, 1.1155977249145508, 1.115597128868103, 1.1155973672866821, 1.1155973672866821, 1.1155967712402344, 1.1155970096588135, 1.1155966520309448, 1.1155962944030762, 1.7216119766235352, 1.721611738204956, 2.894028425216675, 3.7572591304779053, 7.276747703552246, 5.173312187194824, 0.969160795211792, 0.9691603779792786, 0.9691609740257263, 1.9282968044281006, 3.731987476348877, 2.4261064529418945, 1.069833517074585, 1.0698339939117432, 1.069833755493164, 1.0698338747024536, 1.069833755493164, 1.0698339939117432, 1.0698331594467163, 1.0698333978652954, 1.069833517074585, 1.069833755493164, 1.0698331594467163, 1.0698332786560059, 1.0698336362838745, 1.0698333978652954, 1.0698332786560059, 1.0698336362838745, 1.0698333978652954, 1.0698322057724, 1.0698322057724, 1.0698320865631104, 1.770994782447815, 2.4729247093200684, 2.4729251861572266, 7.276747703552246, 0.9691605567932129, 0.969160795211792, 0.9691612720489502, 0.9691606760025024, 0.9691603779792786, 0.9691609740257263, 5.173312187194824, 3.731987476348877, 3.7572591304779053, 1.9282951354980469, 1.928296685218811, 1.9282968044281006, 0.9691607356071472, 0.9691605567932129, 0.9691609740257263, 0.9691606760025024, 0.9691603779792786, 0.9691609740257263, 0.969160795211792, 0.9691607356071472, 0.9691612720489502, 2.424957275390625, 2.4261064529418945, 2.894028425216675, 3.731987476348877, 5.173312187194824, 7.276747703552246, 1.0698322057724, 1.0698320865631104, 1.0698322057724, 1.0698333978652954, 1.0698331594467163, 1.0698336362838745, 1.0698336362838745, 1.0698332786560059, 1.0698332786560059, 1.0698333978652954, 1.069833755493164, 1.0698333978652954, 1.0698331594467163, 1.0698338747024536, 1.069833517074585, 3.7572591304779053, 1.9282968044281006, 1.928298830986023, 1.928296685218811, 1.9282951354980469, 1.9548395872116089, 2.46571683883667, 1.770994782447815, 2.4729251861572266, 1.2263718843460083, 1.9283030033111572, 1.7216119766235352, 1.721611738204956, 0.9691603779792786, 0.9691607356071472, 0.969160795211792, 0.9691609740257263, 0.9691606760025024, 0.9691612720489502, 0.9691605567932129, 0.9691609740257263, 0.9691607356071472, 1.0698320865631104, 1.0698322057724, 1.0698322057724, 1.0698333978652954, 1.0698333978652954, 1.0698332786560059, 1.0698332786560059, 1.0698331594467163, 1.0698331594467163, 1.0698336362838745, 1.0698333978652954, 1.069833517074585, 1.0698336362838745, 1.069833755493164, 1.069833755493164, 1.069833517074585, 1.0698338747024536, 1.069833755493164, 1.0698339939117432, 1.0698339939117432, 1.1155962944030762, 7.276747703552246, 5.173312187194824, 3.731987476348877, 3.7572591304779053, 1.9282951354980469, 1.928296685218811, 2.4261064529418945, 1.928298830986023, 1.9282968044281006, 2.46571683883667, 2.894028425216675, 2.424957275390625, 2.709320306777954, 2.4729247093200684, 1.2263715267181396, 1.770994782447815, 1.721611738204956, 2.4729251861572266, 1.928303599357605, 1.2263718843460083, 1.9283030033111572, 1.7216119766235352, 1.9548399448394775, 1.7059842348098755, 1.9548395872116089, 1.9283043146133423, 1.253677248954773], \"loglift\": [30.0, 29.0, 28.0, 27.0, 26.0, 25.0, 24.0, 23.0, 22.0, 21.0, 20.0, 19.0, 18.0, 17.0, 16.0, 15.0, 14.0, 13.0, 12.0, 11.0, 10.0, 9.0, 8.0, 7.0, 6.0, 5.0, 4.0, 3.0, 2.0, 1.0, 1.1160999536514282, 1.0456000566482544, 1.0454000234603882, 1.044700026512146, 1.0443999767303467, 1.0441999435424805, 0.8784999847412109, 0.8784999847412109, 0.8784999847412109, 0.8784999847412109, 0.8784999847412109, 0.8784999847412109, 0.8784999847412109, 0.8784999847412109, 0.8784999847412109, 0.8784999847412109, 0.8784999847412109, 0.8784999847412109, 0.8784999847412109, 0.8784999847412109, 0.8784999847412109, 0.8784999847412109, 0.8784999847412109, 0.8784999847412109, 0.8784999847412109, 0.8784999847412109, 0.8784999847412109, 0.8784999847412109, 0.8784999847412109, 0.8784999847412109, 0.847000002861023, 0.8429999947547913, 0.746399998664856, 0.4113999903202057, -0.25130000710487366, -0.21899999678134918, 0.041999999433755875, 0.4343000054359436, 0.4343000054359436, 0.4343000054359436, 0.48420000076293945, 0.4343000054359436, 0.2020999938249588, 1.1793999671936035, 1.1793999671936035, 1.1793999671936035, 1.1793999671936035, 1.1793999671936035, 1.1793999671936035, 1.1793999671936035, 1.1793999671936035, 1.1793999671936035, 1.1793999671936035, 1.0163999795913696, 1.0163999795913696, 1.0163999795913696, 1.0163999795913696, 1.0163999795913696, 1.0163999795913696, 1.0163999795913696, 1.0163999795913696, 1.0163999795913696, 1.0163999795913696, 1.0163999795913696, 1.0163999795913696, 1.0163999795913696, 1.0163999795913696, 1.0163999795913696, 1.0163999795913696, 0.9305999875068665, 0.9305999875068665, 0.6488999724388123, 0.6148999929428101, 0.5501999855041504, 0.5501999855041504, 1.6060999631881714, 1.6060999631881714, 1.406499981880188, 1.406499981880188, 1.406499981880188, 1.406499981880188, 1.406499981880188, 1.406499981880188, 1.406499981880188, 1.406499981880188, 1.406499981880188, 1.406499981880188, 1.406499981880188, 1.406499981880188, 1.406499981880188, 1.2559000253677368, 0.9865000247955322, 0.9865000247955322, 0.9241999983787537, 0.9093999862670898, 0.8346999883651733, 0.8330000042915344, 0.46709999442100525, 0.22210000455379486, -0.5182999968528748, -0.5182999968528748, -0.5182999968528748, -0.5182999968528748, -0.5182999968528748, -0.5182999968528748, -0.5182999968528748, -1.153499960899353, -1.155500054359436, -1.1610000133514404, -1.172700047492981, -1.1749999523162842, -1.4738999605178833, -1.3717000484466553, -2.120500087738037, 1.6660000085830688, 1.4621000289916992, 1.4621000289916992, 1.4621000289916992, 1.4621000289916992, 1.4621000289916992, 1.4621000289916992, 1.4621000289916992, 1.4621000289916992, 1.4621000289916992, 1.4621000289916992, 1.4621000289916992, 1.4621000289916992, 1.4621000289916992, 1.4621000289916992, 1.4621000289916992, 1.4621000289916992, 1.4621000289916992, 1.4621000289916992, 1.4621000289916992, 1.4621000289916992, 1.0282000303268433, 1.0282000303268433, 0.508899986743927, 0.24779999256134033, 0.21539999544620514, -0.07209999859333038, -0.4765999913215637, -0.4765999913215637, -0.4765999913215637, -1.1644999980926514, -1.8248000144958496, -1.3940999507904053, 1.611299991607666, 1.611299991607666, 1.611299991607666, 1.611299991607666, 1.611299991607666, 1.611299991607666, 1.611299991607666, 1.611299991607666, 1.611299991607666, 1.611299991607666, 1.611299991607666, 1.611299991607666, 1.611299991607666, 1.611299991607666, 1.611299991607666, 1.611299991607666, 1.611299991607666, 1.611299991607666, 1.611299991607666, 1.611299991607666, 1.107300043106079, 0.7734000086784363, 0.7734000086784363, -0.3059000074863434, -0.3693000078201294, -0.3693000078201294, -0.3693000078201294, -0.3693000078201294, -0.3693000078201294, -0.3693000078201294, -2.0439999103546143, -1.7174999713897705, -1.7242000102996826, -1.0571999549865723, -1.0571999549865723, -1.0571999549865723, 1.938099980354309, 1.938099980354309, 1.938099980354309, 1.938099980354309, 1.938099980354309, 1.938099980354309, 1.938099980354309, 1.938099980354309, 1.938099980354309, 1.0210000276565552, 1.0204999446868896, 0.8442000150680542, 0.589900016784668, 0.26330000162124634, -0.0778999999165535, -0.24009999632835388, -0.24009999632835388, -0.24009999632835388, -0.24009999632835388, -0.24009999632835388, -0.24009999632835388, -0.24009999632835388, -0.24009999632835388, -0.24009999632835388, -0.24009999632835388, -0.24009999632835388, -0.24009999632835388, -0.24009999632835388, -0.24009999632835388, -0.24009999632835388, -1.4961999654769897, -0.829200029373169, -0.829200029373169, -0.829200029373169, -0.829200029373169, -0.8428999781608582, -1.0750000476837158, -0.7440999746322632, -1.0779999494552612, -0.3765999972820282, -0.829200029373169, -0.7157999873161316, -0.7157999873161316, 0.41530001163482666, 0.41530001163482666, 0.41530001163482666, 0.41530001163482666, 0.41530001163482666, 0.41530001163482666, 0.41530001163482666, 0.41530001163482666, 0.41530001163482666, 0.3165000081062317, 0.3165000081062317, 0.3165000081062317, 0.3165000081062317, 0.3165000081062317, 0.3165000081062317, 0.3165000081062317, 0.3163999915122986, 0.3163999915122986, 0.3163999915122986, 0.3163999915122986, 0.3163999915122986, 0.3163999915122986, 0.3163999915122986, 0.3163999915122986, 0.3163999915122986, 0.3163999915122986, 0.3163999915122986, 0.3163999915122986, 0.3163999915122986, 0.27459999918937683, -1.600600004196167, -1.2595000267028809, -0.9329000115394592, -0.9397000074386597, -0.272599995136261, -0.272599995136261, -0.5023000240325928, -0.272599995136261, -0.272599995136261, -0.5184999704360962, -0.6786999702453613, -0.501800000667572, -0.6126999855041504, -0.521399974822998, 0.17990000545978546, -0.1876000016927719, -0.15929999947547913, -0.521399974822998, -0.2727000117301941, 0.17990000545978546, -0.2727000117301941, -0.15929999947547913, -0.28630000352859497, -0.1501999944448471, -0.28630000352859497, -0.2727000117301941, 0.15790000557899475], \"logprob\": [30.0, 29.0, 28.0, 27.0, 26.0, 25.0, 24.0, 23.0, 22.0, 21.0, 20.0, 19.0, 18.0, 17.0, 16.0, 15.0, 14.0, 13.0, 12.0, 11.0, 10.0, 9.0, 8.0, 7.0, 6.0, 5.0, 4.0, 3.0, 2.0, 1.0, -3.219899892807007, -3.6034998893737793, -3.6036999225616455, -3.6045000553131104, -3.6048998832702637, -3.6050000190734863, -4.228099822998047, -4.228099822998047, -4.228099822998047, -4.228099822998047, -4.228099822998047, -4.228099822998047, -4.228099822998047, -4.228099822998047, -4.228099822998047, -4.228099822998047, -4.228099822998047, -4.228099822998047, -4.228099822998047, -4.228099822998047, -4.228099822998047, -4.228099822998047, -4.228099822998047, -4.228099822998047, -4.228099822998047, -4.228099822998047, -4.228099822998047, -4.228099822998047, -4.228099822998047, -4.228099822998047, -3.5994999408721924, -3.6038999557495117, -2.9428000450134277, -3.6043999195098877, -3.599400043487549, -4.228099822998047, -4.228099822998047, -4.228099822998047, -4.228099822998047, -4.228099822998047, -4.228099822998047, -4.228099822998047, -4.228099822998047, -3.4967000484466553, -3.4967000484466553, -3.4967000484466553, -3.4967000484466553, -3.4967000484466553, -3.4967000484466553, -3.4967000484466553, -3.4967000484466553, -3.4967000484466553, -3.4967000484466553, -4.112199783325195, -4.112199783325195, -4.112199783325195, -4.112199783325195, -4.112199783325195, -4.112199783325195, -4.112199783325195, -4.112199783325195, -4.112199783325195, -4.112199783325195, -4.112199783325195, -4.112199783325195, -4.112199783325195, -4.112199783325195, -4.112299919128418, -4.112299919128418, -3.4967000484466553, -3.4967000484466553, -4.112199783325195, -4.112199783325195, -4.112199783325195, -4.112199783325195, -3.174299955368042, -3.174299955368042, -3.8029000759124756, -3.8029000759124756, -3.8029000759124756, -3.8029000759124756, -3.8029000759124756, -3.8029000759124756, -3.8029000759124756, -3.8029000759124756, -3.8029000759124756, -3.8029000759124756, -3.8029000759124756, -3.8029000759124756, -3.8029000759124756, -3.174299955368042, -3.8029000759124756, -3.8029000759124756, -3.8029000759124756, -3.8029000759124756, -3.174299955368042, -2.5151000022888184, -3.8029000759124756, -3.7936999797821045, -5.882299900054932, -5.882299900054932, -5.882299900054932, -5.882299900054932, -5.882299900054932, -5.882299900054932, -5.882299900054932, -5.802700042724609, -5.804699897766113, -5.810200214385986, -5.821800231933594, -5.824100017547607, -5.809999942779541, -5.818600177764893, -5.809700012207031, -3.1326000690460205, -3.761199951171875, -3.761199951171875, -3.761199951171875, -3.761199951171875, -3.761199951171875, -3.761199951171875, -3.761199951171875, -3.761199951171875, -3.761199951171875, -3.761199951171875, -3.761199951171875, -3.761199951171875, -3.761199951171875, -3.761199951171875, -3.761199951171875, -3.761199951171875, -3.761199951171875, -3.761199951171875, -3.761199951171875, -3.761199951171875, -3.761199951171875, -3.761199951171875, -3.761199951171875, -3.761199951171875, -3.1326000690460205, -3.7613000869750977, -5.84060001373291, -5.84060001373291, -5.84060001373291, -5.8404998779296875, -5.8404998779296875, -5.84060001373291, -3.653899908065796, -3.653899908065796, -3.653899908065796, -3.653899908065796, -3.653899908065796, -3.653899908065796, -3.653899908065796, -3.653899908065796, -3.653899908065796, -3.653899908065796, -3.653899908065796, -3.653899908065796, -3.653899908065796, -3.653899908065796, -3.653899908065796, -3.653899908065796, -3.653899908065796, -3.653899908065796, -3.653899908065796, -3.653899908065796, -3.653899908065796, -3.653899908065796, -3.653899908065796, -3.653899908065796, -5.73330020904541, -5.73330020904541, -5.73330020904541, -5.73330020904541, -5.73330020904541, -5.73330020904541, -5.7332000732421875, -5.7332000732421875, -5.73330020904541, -5.73330020904541, -5.73330020904541, -5.73330020904541, -3.4258999824523926, -3.4258999824523926, -3.4258999824523926, -3.4258999824523926, -3.4258999824523926, -3.4258999824523926, -3.4258999824523926, -3.4258999824523926, -3.4258999824523926, -3.4258999824523926, -3.4258999824523926, -3.4258999824523926, -3.4258999824523926, -3.4260001182556152, -3.4258999824523926, -5.505300045013428, -5.505300045013428, -5.505300045013428, -5.505300045013428, -5.505300045013428, -5.505300045013428, -5.505300045013428, -5.505300045013428, -5.505300045013428, -5.505300045013428, -5.505300045013428, -5.505300045013428, -5.505300045013428, -5.505300045013428, -5.505300045013428, -5.505199909210205, -5.505300045013428, -5.505300045013428, -5.505300045013428, -5.505300045013428, -5.505300045013428, -5.505300045013428, -5.505300045013428, -5.505300045013428, -5.505300045013428, -5.505300045013428, -5.505300045013428, -5.505300045013428, -4.948800086975098, -4.948800086975098, -4.948800086975098, -4.948800086975098, -4.948800086975098, -4.948800086975098, -4.948800086975098, -4.948800086975098, -4.948800086975098, -4.948699951171875, -4.948699951171875, -4.948699951171875, -4.948800086975098, -4.948800086975098, -4.948800086975098, -4.948800086975098, -4.948800086975098, -4.948800086975098, -4.948800086975098, -4.948800086975098, -4.948800086975098, -4.948800086975098, -4.948800086975098, -4.948800086975098, -4.948800086975098, -4.948800086975098, -4.948800086975098, -4.948800086975098, -4.948800086975098, -4.948800086975098, -4.948599815368652, -4.948699951171875, -4.948699951171875, -4.948699951171875, -4.948699951171875, -4.948699951171875, -4.948699951171875, -4.948699951171875, -4.948699951171875, -4.948699951171875, -4.948699951171875, -4.948699951171875, -4.948699951171875, -4.948699951171875, -4.948699951171875, -4.948699951171875, -4.948699951171875, -4.948699951171875, -4.948699951171875, -4.948699951171875, -4.948699951171875, -4.948699951171875, -4.948699951171875, -4.948699951171875, -4.948699951171875, -4.948699951171875, -4.948800086975098]}, \"token.table\": {\"Topic\": [1, 3, 4, 1, 2, 3, 4, 2, 6, 1, 1, 3, 2, 1, 4, 3, 2, 2, 4, 2, 1, 4, 5, 3, 3, 1, 3, 4, 4, 2, 4, 6, 5, 1, 1, 1, 5, 1, 2, 3, 1, 2, 1, 3, 4, 2, 2, 5, 1, 4, 2, 3, 4, 5, 2, 1, 5, 2, 4, 1, 2, 5, 5, 2, 5, 6, 2, 1, 2, 2, 4, 5, 1, 4, 1, 3, 2, 4, 6, 5, 2, 4, 3, 1, 3, 2, 5, 1, 3, 4, 6, 1, 5, 4, 2, 1, 1, 2, 5, 3, 6, 2, 3, 1, 1, 2, 4, 6, 2, 1, 2, 3, 4, 5, 6, 2, 1, 6, 6, 2, 1, 6, 4, 3, 2, 3, 4, 5, 1, 2, 1, 5, 5, 6, 4, 4, 6, 3, 4, 5, 3, 1, 1, 2, 4, 5, 1, 6, 1, 5, 1, 5, 5, 1, 5, 1, 2, 3, 6, 4, 1, 3, 1, 3, 1, 2, 1, 1, 2, 2, 2], \"Freq\": [0.7976518869400024, 0.5808510780334473, 0.5808510780334473, 0.26615145802497864, 0.26615145802497864, 0.26615145802497864, 0.26615145802497864, 0.8154097199440002, 1.03182053565979, 0.7976529598236084, 0.7976523041725159, 0.883992612361908, 0.8154107928276062, 0.7976521849632263, 0.8963804841041565, 0.8839928507804871, 0.5185903906822205, 0.8154111504554749, 0.8963805437088013, 0.51859050989151, 1.0095576047897339, 0.8963804841041565, 0.934724748134613, 0.5756211876869202, 0.8839928507804871, 1.0095361471176147, 0.8839926719665527, 0.8963805437088013, 0.8963804841041565, 0.51859050989151, 0.8963804841041565, 1.0318200588226318, 0.9347251653671265, 0.7976527214050293, 0.7976527214050293, 0.7976527214050293, 0.9347246885299683, 0.5115505456924438, 0.5115505456924438, 0.8839926719665527, 0.5115509033203125, 0.5115509033203125, 0.5377220511436462, 0.5377220511436462, 0.8963808417320251, 0.8154111504554749, 0.5646544098854065, 0.5646544098854065, 0.797651469707489, 0.8963802456855774, 0.5185924172401428, 0.8839922547340393, 0.8963807225227356, 0.9347244501113892, 0.8154095411300659, 1.0096683502197266, 0.9347251653671265, 0.8154107928276062, 0.8963810205459595, 1.0097204446792603, 0.8154135942459106, 0.9347244501113892, 0.9347246885299683, 0.4043794870376587, 0.4043794870376587, 1.031820297241211, 0.8154097199440002, 0.7976513504981995, 0.5185918211936951, 0.5185900330543518, 0.8963803648948669, 0.9347245693206787, 0.7976514101028442, 0.8963805437088013, 0.40556156635284424, 0.40556156635284424, 0.8154111504554749, 0.8963813185691833, 1.03182053565979, 0.9347249865531921, 0.8154133558273315, 0.8963807225227356, 0.575621485710144, 0.7976517677307129, 0.8839921355247498, 0.40437939763069153, 0.40437939763069153, 0.3455390930175781, 0.3455390930175781, 0.3455390930175781, 0.3455390930175781, 0.797651469707489, 0.9347246885299683, 0.8963804841041565, 0.518592357635498, 0.7976534366607666, 1.0097399950027466, 0.5185906887054443, 0.9347251057624817, 0.883992612361908, 1.03182053565979, 0.5457348227500916, 0.5457348227500916, 0.7381924986839294, 0.579899251461029, 0.19329975545406342, 0.19329975545406342, 0.19329975545406342, 0.8154105544090271, 0.274848073720932, 0.137424036860466, 0.4122720956802368, 0.137424036860466, 0.137424036860466, 0.137424036860466, 0.5185928344726562, 0.8243661522865295, 0.41218307614326477, 1.0318210124969482, 0.5185903310775757, 0.7976530194282532, 1.0318206548690796, 0.8963804841041565, 0.8839933276176453, 0.815410315990448, 0.5808509588241577, 0.5808509588241577, 0.9347259998321533, 0.7976521849632263, 0.8154109120368958, 0.797652542591095, 0.9347251057624817, 0.9347261190414429, 1.0318207740783691, 0.8963811993598938, 0.5861718654632568, 1.031820297241211, 0.8839924335479736, 0.8963809609413147, 0.9347248673439026, 0.8839923143386841, 0.7976512908935547, 0.797650933265686, 0.8154109716415405, 0.8963816165924072, 0.9347259998321533, 0.8247568011283875, 0.4123784005641937, 0.797650933265686, 0.9347249865531921, 0.797651469707489, 0.934724748134613, 0.9347248673439026, 0.7976515889167786, 0.9347249865531921, 0.535907506942749, 0.2679537534713745, 0.2679537534713745, 0.2679537534713745, 0.8963803648948669, 0.7976521253585815, 0.8839924931526184, 0.7976513504981995, 0.883992612361908, 0.5115508437156677, 0.5115508437156677, 0.7976513504981995, 0.51155024766922, 0.51155024766922, 0.8154105544090271, 0.8154100775718689], \"Term\": [\"IMF\", \"WTO\", \"WTO\", \"\\u6587\\ub300\\ud1b5\\ub839\", \"\\u6587\\ub300\\ud1b5\\ub839\", \"\\u6587\\ub300\\ud1b5\\ub839\", \"\\u6587\\ub300\\ud1b5\\ub839\", \"\\uac00\\ubd80\", \"\\uac00\\uc2a4\", \"\\uac00\\uc2b4\", \"\\uac00\\uc5f4\", \"\\uac01\\uc624\", \"\\uac04\\ub2f4\\ud68c\", \"\\uac10\\uc815\", \"\\uac15\\ub3c4\", \"\\uac15\\uc870\", \"\\uac1c\\uc6d4\", \"\\uac70\\uc808\", \"\\uac70\\uc9d3\\ub9d0\", \"\\uac71\\uc815\", \"\\uac80\\uc99d\", \"\\uaca9\\ub860\", \"\\uacb0\\uc131\", \"\\uacbd\\uace0\", \"\\uacbd\\uc81c\", \"\\uacf5\\uc870\", \"\\uad50\\uccb4\", \"\\uae08\\uc218\", \"\\uae08\\ud0dc\\uc12d\", \"\\uae30\\uc5c5\", \"\\uae30\\uc5c5\\uc778\", \"\\uae30\\uc6a9\", \"\\uae30\\uc815\\uc0ac\\uc2e4\", \"\\uae40\\uc77c\\uc131\", \"\\uae40\\uc815\\uc740\", \"\\uae40\\uc815\\uc77c\", \"\\ub098\\uacbd\\uc6d0\", \"\\ub17c\\ub780\", \"\\ub17c\\ub780\", \"\\ub2e8\\ud638\", \"\\ub300\\uae30\\uc5c5\", \"\\ub300\\uae30\\uc5c5\", \"\\ub300\\uc751\", \"\\ub300\\uc751\", \"\\ub300\\uc77c\", \"\\ub300\\ud1b5\\ub839\", \"\\ub300\\ud45c\", \"\\ub300\\ud45c\", \"\\ub3c4\\ub355\", \"\\ub4b7\\ubc1b\\uce68\", \"\\ub9cc\\ud589\", \"\\ub9de\\uc9c0\", \"\\ubaa8\\ub4e0\", \"\\ubaa8\\uc784\", \"\\ubb38\\uc81c\", \"\\ubbf8\\ub798\", \"\\ubbfc\\uac04\\uc778\", \"\\ubbfc\\uc8fc\", \"\\ubbfc\\uc8fc\\ub2f9\", \"\\ubc14\\ub978\", \"\\ubc18\\uaca9\", \"\\ubc18\\ub2f9\", \"\\ubc18\\ub300\", \"\\ubc18\\ub3c4\\uccb4\", \"\\ubc18\\ub3c4\\uccb4\", \"\\ubc95\\ubb34\", \"\\ubcc0\\ud638\\uc0ac\\ubc95\", \"\\ubcf4\\ubcf5\", \"\\ubd09\\uc778\", \"\\ubd80\\ud488\", \"\\ubd81\\ud55c\", \"\\ubd84\\ub2f9\", \"\\ubd84\\uc704\\uae30\", \"\\ube44\\ub09c\", \"\\ube44\\uc0c1\", \"\\ube44\\uc0c1\", \"\\ube4c\\ubbf8\", \"\\uc0ac\\uacfc\", \"\\uc0ac\\ub9b0\", \"\\uc0ac\\uc6a9\", \"\\uc0b0\\uc5c5\\ubd80\", \"\\uc0c1\\uc2dd\", \"\\uc0dd\\uac01\", \"\\uc120\\uace0\", \"\\uc120\\ud3ec\", \"\\uc18c\\uc7ac\", \"\\uc18c\\uc7ac\", \"\\uc218\\ucd9c\\uaddc\\uc81c\", \"\\uc218\\ucd9c\\uaddc\\uc81c\", \"\\uc218\\ucd9c\\uaddc\\uc81c\", \"\\uc218\\ucd9c\\uaddc\\uc81c\", \"\\uc2dc\\uac04\", \"\\uc2e0\\ub2f9\", \"\\uc544\\ub0d0\", \"\\uc544\\ubca0\", \"\\uc57c\\ub2f9\", \"\\uc5ed\\uc804\", \"\\uc644\\uc81c\\ud488\", \"\\uc644\\ud654\", \"\\uc678\\uad50\", \"\\uc6b0\\ub824\", \"\\uc704\\ubc18\", \"\\uc704\\ubc18\", \"\\uc704\\uc99d\", \"\\uc724\\uc11d\\uc5f4\", \"\\uc724\\uc11d\\uc5f4\", \"\\uc724\\uc11d\\uc5f4\", \"\\uc724\\uc11d\\uc5f4\", \"\\uc774\\uc57c\\uae30\", \"\\uc77c\\ubcf8\", \"\\uc77c\\ubcf8\", \"\\uc77c\\ubcf8\", \"\\uc77c\\ubcf8\", \"\\uc77c\\ubcf8\", \"\\uc77c\\ubcf8\", \"\\uc77c\\uc81c\", \"\\uc784\\uba85\", \"\\uc784\\uba85\", \"\\uc7a5\\uad00\", \"\\uc7ac\\uace0\", \"\\uc804\\ub840\", \"\\uc804\\uc6a9\", \"\\uc810\\uc785\\uac00\\uacbd\", \"\\uc815\\uad8c\", \"\\uc815\\ubcf4\", \"\\uc815\\ubd80\", \"\\uc815\\ubd80\", \"\\uc815\\uc548\", \"\\uc815\\ucc45\\uc2e4\\uc7a5\", \"\\uc81c\\uacf5\", \"\\uc81c\\uc548\", \"\\uc81c\\uc7ac\", \"\\uc81c\\ucd9c\", \"\\uc870\\uad6d\", \"\\uc870\\uc120\", \"\\uc870\\uce58\", \"\\uc9c0\\uc6d0\", \"\\uc9c0\\uc801\", \"\\uc9c0\\ud558\\uc790\\uc6d0\", \"\\ucc3d\\ub2f9\", \"\\ucca0\\ud68c\", \"\\uccad\\uc640\\ub300\", \"\\ucd1d\\ub9ac\", \"\\ucd1d\\ucd9c\\ub3d9\", \"\\ucd5c\\ub300\", \"\\ucd5c\\uc800\\uc784\\uae08\", \"\\uce74\\ub4dc\", \"\\uce74\\ub4dc\", \"\\ud1a0\\ub860\", \"\\ud2b9\\ubcc4\\ubc95\", \"\\ud30c\\uc0b0\", \"\\ud310\\ub9e4\", \"\\ud3c9\\ud654\", \"\\ud558\\uba74\", \"\\ud559\\uc0b4\", \"\\ud55c\\uad6d\", \"\\ud55c\\uad6d\", \"\\ud55c\\uad6d\", \"\\ud55c\\uad6d\", \"\\ud55c\\uc77c\", \"\\ud56b\\ub77c\\uc778\", \"\\ud574\\uacb0\", \"\\ud574\\ubc95\", \"\\ud574\\uc9c4\", \"\\ud5c8\\uc2ec\\ud0c4\\ud68c\", \"\\ud5c8\\uc2ec\\ud0c4\\ud68c\", \"\\ud63c\\ub780\", \"\\ud64d\\uc900\\ud45c\", \"\\ud64d\\uc900\\ud45c\", \"\\ud669\\uad50\\uc548\", \"\\ud68c\\ub3d9\"]}, \"R\": 30, \"lambda.step\": 0.01, \"plot.opts\": {\"xlab\": \"PC1\", \"ylab\": \"PC2\"}, \"topic.order\": [7, 2, 6, 3, 5, 4, 1]};\n",
       "\n",
       "function LDAvis_load_lib(url, callback){\n",
       "  var s = document.createElement('script');\n",
       "  s.src = url;\n",
       "  s.async = true;\n",
       "  s.onreadystatechange = s.onload = callback;\n",
       "  s.onerror = function(){console.warn(\"failed to load library \" + url);};\n",
       "  document.getElementsByTagName(\"head\")[0].appendChild(s);\n",
       "}\n",
       "\n",
       "if(typeof(LDAvis) !== \"undefined\"){\n",
       "   // already loaded: just create the visualization\n",
       "   !function(LDAvis){\n",
       "       new LDAvis(\"#\" + \"ldavis_el2163618938204099206348910573\", ldavis_el2163618938204099206348910573_data);\n",
       "   }(LDAvis);\n",
       "}else if(typeof define === \"function\" && define.amd){\n",
       "   // require.js is available: use it to load d3/LDAvis\n",
       "   require.config({paths: {d3: \"https://cdnjs.cloudflare.com/ajax/libs/d3/3.5.5/d3.min\"}});\n",
       "   require([\"d3\"], function(d3){\n",
       "      window.d3 = d3;\n",
       "      LDAvis_load_lib(\"https://cdn.rawgit.com/bmabey/pyLDAvis/files/ldavis.v1.0.0.js\", function(){\n",
       "        new LDAvis(\"#\" + \"ldavis_el2163618938204099206348910573\", ldavis_el2163618938204099206348910573_data);\n",
       "      });\n",
       "    });\n",
       "}else{\n",
       "    // require.js not available: dynamically load d3 & LDAvis\n",
       "    LDAvis_load_lib(\"https://cdnjs.cloudflare.com/ajax/libs/d3/3.5.5/d3.min.js\", function(){\n",
       "         LDAvis_load_lib(\"https://cdn.rawgit.com/bmabey/pyLDAvis/files/ldavis.v1.0.0.js\", function(){\n",
       "                 new LDAvis(\"#\" + \"ldavis_el2163618938204099206348910573\", ldavis_el2163618938204099206348910573_data);\n",
       "            })\n",
       "         });\n",
       "}\n",
       "</script>"
      ],
      "text/plain": [
       "PreparedData(topic_coordinates=              x         y  topics  cluster       Freq\n",
       "topic                                                \n",
       "6      0.102560 -0.129898       1        1  27.584658\n",
       "1     -0.150760 -0.068763       2        1  23.646172\n",
       "5      0.059747  0.063719       3        1  14.999959\n",
       "2      0.048314  0.095714       4        1  14.015998\n",
       "4     -0.079180  0.061392       5        1  11.614038\n",
       "3      0.031886 -0.020093       6        1   7.536975\n",
       "0     -0.012567 -0.002071       7        1   0.602198, topic_info=    Category      Freq  Term     Total  loglift  logprob\n",
       "44   Default  7.000000    일본  7.000000  30.0000  30.0000\n",
       "23   Default  2.000000    임명  2.000000  29.0000  29.0000\n",
       "7    Default  2.000000    카드  2.000000  28.0000  28.0000\n",
       "64   Default  1.000000    조치  1.000000  27.0000  27.0000\n",
       "6    Default  5.000000   윤석열  5.000000  26.0000  26.0000\n",
       "126  Default  1.000000    경고  1.000000  25.0000  25.0000\n",
       "42   Default  1.000000    생각  1.000000  24.0000  24.0000\n",
       "34   Default  2.000000    비상  2.000000  23.0000  23.0000\n",
       "5    Default  2.000000    위증  2.000000  22.0000  22.0000\n",
       "43   Default  2.000000  수출규제  2.000000  21.0000  21.0000\n",
       "16   Default  2.000000   반도체  2.000000  20.0000  20.0000\n",
       "18   Default  2.000000    소재  2.000000  19.0000  19.0000\n",
       "8    Default  3.000000    한국  3.000000  18.0000  18.0000\n",
       "49   Default  0.000000    사린  0.000000  17.0000  17.0000\n",
       "25   Default  0.000000    조국  0.000000  16.0000  16.0000\n",
       "51   Default  0.000000    전용  0.000000  15.0000  15.0000\n",
       "24   Default  0.000000    장관  0.000000  14.0000  14.0000\n",
       "26   Default  0.000000    지원  0.000000  13.0000  13.0000\n",
       "50   Default  0.000000    우려  0.000000  12.0000  12.0000\n",
       "22   Default  0.000000    법무  0.000000  11.0000  11.0000\n",
       "48   Default  0.000000    가스  0.000000  10.0000  10.0000\n",
       "21   Default  0.000000    기용  0.000000   9.0000   9.0000\n",
       "12   Default  1.000000    일제  1.000000   8.0000   8.0000\n",
       "20   Default  1.000000    재고  1.000000   7.0000   7.0000\n",
       "15   Default  1.000000    기업  1.000000   6.0000   6.0000\n",
       "14   Default  1.000000    걱정  1.000000   5.0000   5.0000\n",
       "13   Default  1.000000    개월  1.000000   4.0000   4.0000\n",
       "19   Default  1.000000   완제품  1.000000   3.0000   3.0000\n",
       "17   Default  1.000000    부품  1.000000   2.0000   2.0000\n",
       "9    Default  1.000000    만행  1.000000   1.0000   1.0000\n",
       "..       ...       ...   ...       ...      ...      ...\n",
       "54    Topic7  0.008841    모임  1.069834   0.3164  -4.9488\n",
       "55    Topic7  0.008841    반당  1.069834   0.3164  -4.9488\n",
       "65    Topic7  0.008841    최대  1.115596   0.2746  -4.9488\n",
       "44    Topic7  0.008842    일본  7.276748  -1.6006  -4.9486\n",
       "6     Topic7  0.008842   윤석열  5.173312  -1.2595  -4.9487\n",
       "8     Topic7  0.008841    한국  3.731987  -0.9329  -4.9487\n",
       "60    Topic7  0.008841  文대통령  3.757259  -0.9397  -4.9487\n",
       "12    Topic7  0.008841    일제  1.928295  -0.2726  -4.9487\n",
       "9     Topic7  0.008841    만행  1.928297  -0.2726  -4.9487\n",
       "23    Topic7  0.008841    임명  2.426106  -0.5023  -4.9487\n",
       "10    Topic7  0.008841    봉인  1.928299  -0.2726  -4.9487\n",
       "11    Topic7  0.008841    아베  1.928297  -0.2726  -4.9487\n",
       "34    Topic7  0.008841    비상  2.465717  -0.5185  -4.9487\n",
       "43    Topic7  0.008841  수출규제  2.894028  -0.6787  -4.9487\n",
       "7     Topic7  0.008841    카드  2.424957  -0.5018  -4.9487\n",
       "5     Topic7  0.008841    위증  2.709320  -0.6127  -4.9487\n",
       "16    Topic7  0.008841   반도체  2.472925  -0.5214  -4.9487\n",
       "138   Topic7  0.008841    반격  1.226372   0.1799  -4.9487\n",
       "90    Topic7  0.008841    대표  1.770995  -0.1876  -4.9487\n",
       "40    Topic7  0.008841   WTO  1.721612  -0.1593  -4.9487\n",
       "18    Topic7  0.008841    소재  2.472925  -0.5214  -4.9487\n",
       "15    Topic7  0.008841    기업  1.928304  -0.2727  -4.9487\n",
       "140   Topic7  0.008841   산업부  1.226372   0.1799  -4.9487\n",
       "19    Topic7  0.008841   완제품  1.928303  -0.2727  -4.9487\n",
       "45    Topic7  0.008841    정부  1.721612  -0.1593  -4.9487\n",
       "119   Topic7  0.008841  허심탄회  1.954840  -0.2863  -4.9487\n",
       "64    Topic7  0.008841    조치  1.705984  -0.1502  -4.9487\n",
       "115   Topic7  0.008841   대기업  1.954840  -0.2863  -4.9487\n",
       "20    Topic7  0.008841    재고  1.928304  -0.2727  -4.9487\n",
       "84    Topic7  0.008841    야당  1.253677   0.1579  -4.9488\n",
       "\n",
       "[313 rows x 6 columns], token_table=      Topic      Freq  Term\n",
       "term                       \n",
       "94        1  0.797652   IMF\n",
       "40        3  0.580851   WTO\n",
       "40        4  0.580851   WTO\n",
       "60        1  0.266151  文대통령\n",
       "60        2  0.266151  文대통령\n",
       "60        3  0.266151  文대통령\n",
       "60        4  0.266151  文대통령\n",
       "87        2  0.815410    가부\n",
       "48        6  1.031821    가스\n",
       "73        1  0.797653    가슴\n",
       "133       1  0.797652    가열\n",
       "135       3  0.883993    각오\n",
       "130       2  0.815411   간담회\n",
       "95        1  0.797652    감정\n",
       "103       4  0.896380    강도\n",
       "125       3  0.883993    강조\n",
       "13        2  0.518590    개월\n",
       "88        2  0.815411    거절\n",
       "120       4  0.896381   거짓말\n",
       "14        2  0.518591    걱정\n",
       "0         1  1.009558    검증\n",
       "66        4  0.896380    격론\n",
       "52        5  0.934725    결성\n",
       "126       3  0.575621    경고\n",
       "100       3  0.883993    경제\n",
       "1         1  1.009536    공조\n",
       "101       3  0.883993    교체\n",
       "67        4  0.896381    금수\n",
       "121       4  0.896380   금태섭\n",
       "15        2  0.518591    기업\n",
       "...     ...       ...   ...\n",
       "85        1  0.797651   청와대\n",
       "38        1  0.797651    총리\n",
       "132       2  0.815411   총출동\n",
       "65        4  0.896382    최대\n",
       "72        5  0.934726  최저임금\n",
       "7         1  0.824757    카드\n",
       "7         6  0.412378    카드\n",
       "117       1  0.797651    토론\n",
       "113       5  0.934725   특별법\n",
       "86        1  0.797651    파산\n",
       "81        5  0.934725    판매\n",
       "59        5  0.934725    평화\n",
       "98        1  0.797652    하면\n",
       "114       5  0.934725    학살\n",
       "8         1  0.535908    한국\n",
       "8         2  0.267954    한국\n",
       "8         3  0.267954    한국\n",
       "8         6  0.267954    한국\n",
       "69        4  0.896380    한일\n",
       "39        1  0.797652   핫라인\n",
       "129       3  0.883992    해결\n",
       "118       1  0.797651    해법\n",
       "137       3  0.883993    해진\n",
       "119       1  0.511551  허심탄회\n",
       "119       2  0.511551  허심탄회\n",
       "99        1  0.797651    혼란\n",
       "33        1  0.511550   홍준표\n",
       "33        2  0.511550   홍준표\n",
       "92        2  0.815411   황교안\n",
       "93        2  0.815410    회동\n",
       "\n",
       "[171 rows x 3 columns], R=30, lambda_step=0.01, plot_opts={'xlab': 'PC1', 'ylab': 'PC2'}, topic_order=[7, 2, 6, 3, 5, 4, 1])"
      ]
     },
     "execution_count": 112,
     "metadata": {},
     "output_type": "execute_result"
    }
   ],
   "source": [
    "# Visualize the topics\n",
    "pyLDAvis.enable_notebook()\n",
    "vis = pyLDAvis.gensim.prepare(lda_model, corpus, id2word)\n",
    "vis"
   ]
  },
  {
   "cell_type": "markdown",
   "metadata": {},
   "source": [
    "blahblah"
   ]
  }
 ],
 "metadata": {
  "kernelspec": {
   "display_name": "Python 3",
   "language": "python",
   "name": "python3"
  },
  "language_info": {
   "codemirror_mode": {
    "name": "ipython",
    "version": 3
   },
   "file_extension": ".py",
   "mimetype": "text/x-python",
   "name": "python",
   "nbconvert_exporter": "python",
   "pygments_lexer": "ipython3",
   "version": "3.7.3"
  }
 },
 "nbformat": 4,
 "nbformat_minor": 2
}
