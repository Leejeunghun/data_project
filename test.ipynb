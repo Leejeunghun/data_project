{
 "cells": [
  {
   "cell_type": "code",
   "execution_count": 20,
   "metadata": {},
   "outputs": [],
   "source": [
    "# 좋아요 싫어요 추가 버젼 \n",
    "import time\n",
    "import pandas as pd\n",
    "from selenium import webdriver\n",
    "from bs4 import BeautifulSoup\n",
    "\n",
    "comments = open(\"comments.txt\", 'w' , encoding='utf-8' )\n",
    "browser = 'chromedriver.exe'\n",
    "driver = webdriver.Chrome(browser)\n",
    "article_box='https:/news.naver.com/main/ranking/popularDay.nhn?rankingType=popular_day&date=20190812'\n",
    "\n",
    "driver.get(article_box) \n",
    "a=driver.find_elements_by_xpath(\"//*[@id='wrap']/table/tbody/tr/td[2]/div/div[4]/ol/li[2]/dl/dt/a\")\n",
    "\n",
    "html = driver.page_source\n",
    "\n"
   ]
  },
  {
   "cell_type": "code",
   "execution_count": 15,
   "metadata": {},
   "outputs": [],
   "source": [
    "article_list = []\n",
    "def article_Scraping():\n",
    "    driver = webdriver.Chrome()\n",
    "    for i in range(1, 11):\n",
    "        driver.get(\"http://news.naver.com/main/main.nhn?\\\n",
    "        mode=LSD&mid=shm&sid1=111#&date=%2000:00:00&page=\" + str(i))\n",
    "        time.sleep(1)\n",
    "        articles = driver.find_elements_by_css_selector('#section_body > ul > li > dl > dt > a')\n",
    "        for article in articles:\n",
    "            if article.text == \"동영상기사\":\n",
    "                pass\n",
    "            elif len(article.text) != 0:\n",
    "                article_list.append(article.text)                \n",
    "    driver.quit()\n",
    "    for article in article_list:\n",
    "        print(article)\n",
    "                \n",
    "article_Scraping()"
   ]
  },
  {
   "cell_type": "code",
   "execution_count": 23,
   "metadata": {},
   "outputs": [
    {
     "data": {
      "text/plain": [
       "[<selenium.webdriver.remote.webelement.WebElement (session=\"b42e368c0198e9cba10d0b967e9ac7e3\", element=\"b50f6816-9c64-4208-8ccc-97d27c4a61c1\")>]"
      ]
     },
     "execution_count": 23,
     "metadata": {},
     "output_type": "execute_result"
    }
   ],
   "source": [
    "a"
   ]
  }
 ],
 "metadata": {
  "kernelspec": {
   "display_name": "Python 3",
   "language": "python",
   "name": "python3"
  },
  "language_info": {
   "codemirror_mode": {
    "name": "ipython",
    "version": 3
   },
   "file_extension": ".py",
   "mimetype": "text/x-python",
   "name": "python",
   "nbconvert_exporter": "python",
   "pygments_lexer": "ipython3",
   "version": "3.7.3"
  }
 },
 "nbformat": 4,
 "nbformat_minor": 2
}
