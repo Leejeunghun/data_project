{
 "cells": [
  {
   "cell_type": "code",
   "execution_count": 26,
   "metadata": {},
   "outputs": [
    {
     "name": "stdout",
     "output_type": "stream",
     "text": [
      "Collecting pyLDAvis\n",
      "  Downloading https://files.pythonhosted.org/packages/a5/3a/af82e070a8a96e13217c8f362f9a73e82d61ac8fff3a2561946a97f96266/pyLDAvis-2.1.2.tar.gz (1.6MB)\n",
      "Requirement already satisfied: wheel>=0.23.0 in c:\\users\\leejeunghun\\anaconda3\\lib\\site-packages (from pyLDAvis) (0.33.4)\n",
      "Requirement already satisfied: numpy>=1.9.2 in c:\\users\\leejeunghun\\anaconda3\\lib\\site-packages (from pyLDAvis) (1.16.4)\n",
      "Requirement already satisfied: scipy>=0.18.0 in c:\\users\\leejeunghun\\anaconda3\\lib\\site-packages (from pyLDAvis) (1.2.1)\n",
      "Requirement already satisfied: pandas>=0.17.0 in c:\\users\\leejeunghun\\anaconda3\\lib\\site-packages (from pyLDAvis) (0.24.2)\n",
      "Requirement already satisfied: joblib>=0.8.4 in c:\\users\\leejeunghun\\anaconda3\\lib\\site-packages (from pyLDAvis) (0.13.2)\n",
      "Requirement already satisfied: jinja2>=2.7.2 in c:\\users\\leejeunghun\\anaconda3\\lib\\site-packages (from pyLDAvis) (2.10.1)\n",
      "Requirement already satisfied: numexpr in c:\\users\\leejeunghun\\anaconda3\\lib\\site-packages (from pyLDAvis) (2.6.9)\n",
      "Requirement already satisfied: pytest in c:\\users\\leejeunghun\\anaconda3\\lib\\site-packages (from pyLDAvis) (5.0.1)\n",
      "Requirement already satisfied: future in c:\\users\\leejeunghun\\anaconda3\\lib\\site-packages (from pyLDAvis) (0.17.1)\n",
      "Collecting funcy (from pyLDAvis)\n",
      "  Downloading https://files.pythonhosted.org/packages/eb/3a/fc8323f913e8a9c6f33f7203547f8a2171223da5ed965f2541dafb10aa09/funcy-1.13-py2.py3-none-any.whl\n",
      "Requirement already satisfied: pytz>=2011k in c:\\users\\leejeunghun\\anaconda3\\lib\\site-packages (from pandas>=0.17.0->pyLDAvis) (2019.1)\n",
      "Requirement already satisfied: python-dateutil>=2.5.0 in c:\\users\\leejeunghun\\anaconda3\\lib\\site-packages (from pandas>=0.17.0->pyLDAvis) (2.8.0)\n",
      "Requirement already satisfied: MarkupSafe>=0.23 in c:\\users\\leejeunghun\\anaconda3\\lib\\site-packages (from jinja2>=2.7.2->pyLDAvis) (1.1.1)\n",
      "Requirement already satisfied: py>=1.5.0 in c:\\users\\leejeunghun\\anaconda3\\lib\\site-packages (from pytest->pyLDAvis) (1.8.0)\n",
      "Requirement already satisfied: packaging in c:\\users\\leejeunghun\\anaconda3\\lib\\site-packages (from pytest->pyLDAvis) (19.0)\n",
      "Requirement already satisfied: attrs>=17.4.0 in c:\\users\\leejeunghun\\anaconda3\\lib\\site-packages (from pytest->pyLDAvis) (19.1.0)\n",
      "Requirement already satisfied: more-itertools>=4.0.0 in c:\\users\\leejeunghun\\anaconda3\\lib\\site-packages (from pytest->pyLDAvis) (7.0.0)\n",
      "Requirement already satisfied: atomicwrites>=1.0 in c:\\users\\leejeunghun\\anaconda3\\lib\\site-packages (from pytest->pyLDAvis) (1.3.0)\n",
      "Requirement already satisfied: pluggy<1.0,>=0.12 in c:\\users\\leejeunghun\\anaconda3\\lib\\site-packages (from pytest->pyLDAvis) (0.12.0)\n",
      "Requirement already satisfied: importlib-metadata>=0.12 in c:\\users\\leejeunghun\\anaconda3\\lib\\site-packages (from pytest->pyLDAvis) (0.17)\n",
      "Requirement already satisfied: wcwidth in c:\\users\\leejeunghun\\anaconda3\\lib\\site-packages (from pytest->pyLDAvis) (0.1.7)\n",
      "Requirement already satisfied: colorama in c:\\users\\leejeunghun\\anaconda3\\lib\\site-packages (from pytest->pyLDAvis) (0.4.1)\n",
      "Requirement already satisfied: six>=1.5 in c:\\users\\leejeunghun\\anaconda3\\lib\\site-packages (from python-dateutil>=2.5.0->pandas>=0.17.0->pyLDAvis) (1.12.0)\n",
      "Requirement already satisfied: pyparsing>=2.0.2 in c:\\users\\leejeunghun\\anaconda3\\lib\\site-packages (from packaging->pytest->pyLDAvis) (2.4.0)\n",
      "Requirement already satisfied: zipp>=0.5 in c:\\users\\leejeunghun\\anaconda3\\lib\\site-packages (from importlib-metadata>=0.12->pytest->pyLDAvis) (0.5.1)\n",
      "Building wheels for collected packages: pyLDAvis\n",
      "  Building wheel for pyLDAvis (setup.py): started\n",
      "  Building wheel for pyLDAvis (setup.py): finished with status 'done'\n",
      "  Stored in directory: C:\\Users\\LeeJeungHun\\AppData\\Local\\pip\\Cache\\wheels\\98\\71\\24\\513a99e58bb6b8465bae4d2d5e9dba8f0bef8179e3051ac414\n",
      "Successfully built pyLDAvis\n",
      "Installing collected packages: funcy, pyLDAvis\n",
      "Successfully installed funcy-1.13 pyLDAvis-2.1.2\n",
      "Note: you may need to restart the kernel to use updated packages.\n"
     ]
    }
   ],
   "source": [
    "pip install pyLDAvis"
   ]
  },
  {
   "cell_type": "code",
   "execution_count": 2,
   "metadata": {},
   "outputs": [],
   "source": [
    "import numpy as np # linear algebra\n",
    "import pandas as pd # data processing, CSV file I/O (e.g. pd.read_csv)\n",
    "import matplotlib.pyplot as plt\n",
    "import seaborn as sns\n",
    "%matplotlib inline\n",
    "import nltk\n",
    "from nltk import wordpunct_tokenize\n",
    "from nltk.corpus import stopwords\n",
    "from wordcloud import WordCloud,STOPWORDS\n",
    "from nltk.stem.wordnet import WordNetLemmatizer\n",
    "from sklearn.feature_extraction.text import TfidfVectorizer, CountVectorizer\n",
    "from sklearn.decomposition import NMF, LatentDirichletAllocation\n",
    "import string\n",
    "\n",
    "import textblob as tb\n",
    "from tqdm import tqdm\n",
    "\n",
    "# Input data files are available in the \"../input/\" directory.\n",
    "# For example, running this (by clicking run or pressing Shift+Enter) will list the files in the input directory"
   ]
  },
  {
   "cell_type": "code",
   "execution_count": 3,
   "metadata": {},
   "outputs": [
    {
     "name": "stdout",
     "output_type": "stream",
     "text": [
      "                                         title\n",
      "0                            독이 된 황교안의 ‘가벼운 입’\n",
      "1  “Fantastic Woman” 틈만 나면 김정숙 여사 특급 칭찬한 트럼프 …\n",
      "2                              강효상 ‘빗나간 예측’ 망신\n",
      "3      \"민주당, 나경원 살리고 심상정 버렸다\" 정의당 반발에… 與, 공조 …\n",
      "4             탁현민 \"준비안된 남북미 만남…인공기·성조기 바닥에 끌려\"\n",
      "300\n"
     ]
    }
   ],
   "source": [
    "# 데이터 읽기\n",
    "\n",
    "# colnames = ['comment', 'like', 'dislike', 'month']\n",
    "colnames = ['title']\n",
    "# df = pd.read_csv('/content/gdrive/My Drive/Dongkuk_project/토막글 생성/LSTM/naver/naver_comments.csv')\n",
    "df = pd.read_csv('naver_titles_0701_0710.csv', encoding='utf-8', header=None, names=colnames)\n",
    "\n",
    "df.columns\n",
    "print(df.head())\n",
    "print(len(df))"
   ]
  },
  {
   "cell_type": "code",
   "execution_count": 4,
   "metadata": {},
   "outputs": [],
   "source": [
    "df = df.loc[:29]"
   ]
  },
  {
   "cell_type": "code",
   "execution_count": 5,
   "metadata": {},
   "outputs": [
    {
     "data": {
      "text/plain": [
       "False"
      ]
     },
     "execution_count": 5,
     "metadata": {},
     "output_type": "execute_result"
    }
   ],
   "source": [
    "df['title'].isnull().values.any()"
   ]
  },
  {
   "cell_type": "code",
   "execution_count": 6,
   "metadata": {},
   "outputs": [],
   "source": [
    "# 한글 단어 바꾸기\n",
    "def change_string(x):\n",
    "    return x.replace('靑','청와대').replace('軍','군대').replace('北','북한').replace('美','미국').replace('日','일본').replace('韓', '한국').replace('與', '여당').replace('野', '야당').replace('中', '중국').replace('黃', '황교안')"
   ]
  },
  {
   "cell_type": "code",
   "execution_count": 7,
   "metadata": {},
   "outputs": [],
   "source": [
    "df['title'] = df['title'].map(lambda x : change_string(x))"
   ]
  },
  {
   "cell_type": "code",
   "execution_count": 8,
   "metadata": {},
   "outputs": [
    {
     "data": {
      "text/plain": [
       "30"
      ]
     },
     "execution_count": 8,
     "metadata": {},
     "output_type": "execute_result"
    }
   ],
   "source": [
    "news_title = [] # 리스트 선언\n",
    "news_title.extend(list(df.title.values)) # 헤드라인의 값들을 리스트로 저장\n",
    "# news_title = [n for n in news_title if len(n) >=10]\n",
    "len(news_title) # 제거 후 샘플의 개수"
   ]
  },
  {
   "cell_type": "code",
   "execution_count": 9,
   "metadata": {},
   "outputs": [],
   "source": [
    "from string import punctuation\n",
    "import re\n",
    "\n",
    "def clean_text(text):\n",
    "#     cleaned_text = [''.join(c for c in text).lower()]\n",
    "#     cleaned_text = re.sub('[^가-힣a-zA-Z文 ]', '', text)\n",
    "    cleaned_text = re.sub('[0-9]', ' ', text)\n",
    "    cleaned_text = re.sub('[\\{\\}\\[\\]\\/?.,;:|\\)*~`!^\\-_+<>@\\#$%&\\\\\\=\\(\\'\\\"\\'\\·]',\n",
    "                          ' ', cleaned_text)\n",
    "    cleaned_text = re.sub(r'\\s+', ' ', cleaned_text)\n",
    "    return cleaned_text"
   ]
  },
  {
   "cell_type": "code",
   "execution_count": 11,
   "metadata": {},
   "outputs": [
    {
     "data": {
      "text/html": [
       "<div>\n",
       "<style scoped>\n",
       "    .dataframe tbody tr th:only-of-type {\n",
       "        vertical-align: middle;\n",
       "    }\n",
       "\n",
       "    .dataframe tbody tr th {\n",
       "        vertical-align: top;\n",
       "    }\n",
       "\n",
       "    .dataframe thead th {\n",
       "        text-align: right;\n",
       "    }\n",
       "</style>\n",
       "<table border=\"1\" class=\"dataframe\">\n",
       "  <thead>\n",
       "    <tr style=\"text-align: right;\">\n",
       "      <th></th>\n",
       "      <th>title</th>\n",
       "    </tr>\n",
       "  </thead>\n",
       "  <tbody>\n",
       "    <tr>\n",
       "      <th>0</th>\n",
       "      <td>독이 된 황교안의 ‘가벼운 입’</td>\n",
       "    </tr>\n",
       "    <tr>\n",
       "      <th>1</th>\n",
       "      <td>“Fantastic Woman” 틈만 나면 김정숙 여사 특급 칭찬한 트럼프 …</td>\n",
       "    </tr>\n",
       "    <tr>\n",
       "      <th>2</th>\n",
       "      <td>강효상 ‘빗나간 예측’ 망신</td>\n",
       "    </tr>\n",
       "    <tr>\n",
       "      <th>3</th>\n",
       "      <td>민주당 나경원 살리고 심상정 버렸다 정의당 반발에… 여당 공조 …</td>\n",
       "    </tr>\n",
       "    <tr>\n",
       "      <th>4</th>\n",
       "      <td>탁현민 준비안된 남북미 만남…인공기 성조기 바닥에 끌려</td>\n",
       "    </tr>\n",
       "    <tr>\n",
       "      <th>5</th>\n",
       "      <td>남북미 판문점 회동 이방카 김여정 한자리에…MDL 찾은 이방카 …</td>\n",
       "    </tr>\n",
       "    <tr>\n",
       "      <th>6</th>\n",
       "      <td>여당에 뿔난 정의당 앞으로 돕는일 없다 …범진보진영 역풍 우려 종…</td>\n",
       "    </tr>\n",
       "    <tr>\n",
       "      <th>7</th>\n",
       "      <td>나경원 文 운전자에서 객 으로 전락…통미봉남 고착화 우려</td>\n",
       "    </tr>\n",
       "    <tr>\n",
       "      <th>8</th>\n",
       "      <td>한국당 지도부 일제히 트럼프 비판 자국우선주의</td>\n",
       "    </tr>\n",
       "    <tr>\n",
       "      <th>9</th>\n",
       "      <td>트럼프 말 끝나자마자 손짓 주목받은 김정은 영어실력</td>\n",
       "    </tr>\n",
       "  </tbody>\n",
       "</table>\n",
       "</div>"
      ],
      "text/plain": [
       "                                         title\n",
       "0                            독이 된 황교안의 ‘가벼운 입’\n",
       "1  “Fantastic Woman” 틈만 나면 김정숙 여사 특급 칭찬한 트럼프 …\n",
       "2                              강효상 ‘빗나간 예측’ 망신\n",
       "3         민주당 나경원 살리고 심상정 버렸다 정의당 반발에… 여당 공조 …\n",
       "4              탁현민 준비안된 남북미 만남…인공기 성조기 바닥에 끌려 \n",
       "5         남북미 판문점 회동 이방카 김여정 한자리에…MDL 찾은 이방카 …\n",
       "6        여당에 뿔난 정의당 앞으로 돕는일 없다 …범진보진영 역풍 우려 종…\n",
       "7             나경원 文 운전자에서 객 으로 전락…통미봉남 고착화 우려 \n",
       "8                   한국당 지도부 일제히 트럼프 비판 자국우선주의 \n",
       "9                 트럼프 말 끝나자마자 손짓 주목받은 김정은 영어실력"
      ]
     },
     "execution_count": 11,
     "metadata": {},
     "output_type": "execute_result"
    }
   ],
   "source": [
    "text = [clean_text(x) for x in news_title]\n",
    "text = pd.DataFrame(text, columns=['title'])\n",
    "text[:10]"
   ]
  },
  {
   "cell_type": "code",
   "execution_count": 12,
   "metadata": {},
   "outputs": [
    {
     "data": {
      "text/html": [
       "<div>\n",
       "<style scoped>\n",
       "    .dataframe tbody tr th:only-of-type {\n",
       "        vertical-align: middle;\n",
       "    }\n",
       "\n",
       "    .dataframe tbody tr th {\n",
       "        vertical-align: top;\n",
       "    }\n",
       "\n",
       "    .dataframe thead th {\n",
       "        text-align: right;\n",
       "    }\n",
       "</style>\n",
       "<table border=\"1\" class=\"dataframe\">\n",
       "  <thead>\n",
       "    <tr style=\"text-align: right;\">\n",
       "      <th></th>\n",
       "      <th>title</th>\n",
       "    </tr>\n",
       "  </thead>\n",
       "  <tbody>\n",
       "    <tr>\n",
       "      <th>0</th>\n",
       "      <td>[독, 황교안, 입]</td>\n",
       "    </tr>\n",
       "    <tr>\n",
       "      <th>1</th>\n",
       "      <td>[틈, 김정숙, 여사, 특급, 칭찬, 트럼프]</td>\n",
       "    </tr>\n",
       "    <tr>\n",
       "      <th>2</th>\n",
       "      <td>[강, 효, 예측, 망신]</td>\n",
       "    </tr>\n",
       "    <tr>\n",
       "      <th>3</th>\n",
       "      <td>[민주당, 나경원, 심상정, 정의당, 반발, 여당, 공조]</td>\n",
       "    </tr>\n",
       "    <tr>\n",
       "      <th>4</th>\n",
       "      <td>[탁현민, 준비, 안, 남북, 미, 만남, 인공, 성조기, 바닥]</td>\n",
       "    </tr>\n",
       "  </tbody>\n",
       "</table>\n",
       "</div>"
      ],
      "text/plain": [
       "                                  title\n",
       "0                           [독, 황교안, 입]\n",
       "1             [틈, 김정숙, 여사, 특급, 칭찬, 트럼프]\n",
       "2                        [강, 효, 예측, 망신]\n",
       "3      [민주당, 나경원, 심상정, 정의당, 반발, 여당, 공조]\n",
       "4  [탁현민, 준비, 안, 남북, 미, 만남, 인공, 성조기, 바닥]"
      ]
     },
     "execution_count": 12,
     "metadata": {},
     "output_type": "execute_result"
    }
   ],
   "source": [
    "from konlpy.tag import Komoran\n",
    "#형태소 분석기 \n",
    "komoran = Komoran(userdic='./user_dic.txt')\n",
    "text['title'] = text.apply(lambda row: komoran.nouns(row['title']), axis=1)\n",
    "text.head()\n",
    "# text.to_csv('noun.csv', encoding='utf-8')"
   ]
  },
  {
   "cell_type": "code",
   "execution_count": 13,
   "metadata": {},
   "outputs": [
    {
     "data": {
      "text/html": [
       "<div>\n",
       "<style scoped>\n",
       "    .dataframe tbody tr th:only-of-type {\n",
       "        vertical-align: middle;\n",
       "    }\n",
       "\n",
       "    .dataframe tbody tr th {\n",
       "        vertical-align: top;\n",
       "    }\n",
       "\n",
       "    .dataframe thead th {\n",
       "        text-align: right;\n",
       "    }\n",
       "</style>\n",
       "<table border=\"1\" class=\"dataframe\">\n",
       "  <thead>\n",
       "    <tr style=\"text-align: right;\">\n",
       "      <th></th>\n",
       "      <th>title</th>\n",
       "    </tr>\n",
       "  </thead>\n",
       "  <tbody>\n",
       "    <tr>\n",
       "      <th>0</th>\n",
       "      <td>[독, 황교안, 입]</td>\n",
       "    </tr>\n",
       "    <tr>\n",
       "      <th>1</th>\n",
       "      <td>[틈, 김정숙, 여사, 특급, 칭찬, 트럼프]</td>\n",
       "    </tr>\n",
       "    <tr>\n",
       "      <th>2</th>\n",
       "      <td>[강, 효, 예측, 망신]</td>\n",
       "    </tr>\n",
       "    <tr>\n",
       "      <th>3</th>\n",
       "      <td>[민주당, 나경원, 심상정, 정의당, 반발, 여당, 공조]</td>\n",
       "    </tr>\n",
       "    <tr>\n",
       "      <th>4</th>\n",
       "      <td>[탁현민, 준비, 안, 남북, 미, 만남, 인공, 성조기, 바닥]</td>\n",
       "    </tr>\n",
       "  </tbody>\n",
       "</table>\n",
       "</div>"
      ],
      "text/plain": [
       "                                  title\n",
       "0                           [독, 황교안, 입]\n",
       "1             [틈, 김정숙, 여사, 특급, 칭찬, 트럼프]\n",
       "2                        [강, 효, 예측, 망신]\n",
       "3      [민주당, 나경원, 심상정, 정의당, 반발, 여당, 공조]\n",
       "4  [탁현민, 준비, 안, 남북, 미, 만남, 인공, 성조기, 바닥]"
      ]
     },
     "execution_count": 13,
     "metadata": {},
     "output_type": "execute_result"
    }
   ],
   "source": [
    "stop_words = ['신문', '종합', '단독', '상보', '속보', '것', '뉴스', '내일']\n",
    "text['title'] = text['title'].apply(lambda x: [word for word in x\n",
    "                                                    if word not in stop_words \n",
    "                                                    ])\n",
    "text.head()"
   ]
  },
  {
   "cell_type": "code",
   "execution_count": 15,
   "metadata": {},
   "outputs": [
    {
     "data": {
      "text/plain": [
       "0                               [황교안]\n",
       "1              [김정숙, 여사, 특급, 칭찬, 트럼프]\n",
       "2                            [예측, 망신]\n",
       "3    [민주당, 나경원, 심상정, 정의당, 반발, 여당, 공조]\n",
       "4      [탁현민, 준비, 남북, 만남, 인공, 성조기, 바닥]\n",
       "Name: title, dtype: object"
      ]
     },
     "execution_count": 15,
     "metadata": {},
     "output_type": "execute_result"
    }
   ],
   "source": [
    "# 한글짜 지우기\n",
    "tokenized_doc = text['title'].apply(lambda x: [word for word in x if len(word) >1])\n",
    "tokenized_doc.head()"
   ]
  },
  {
   "cell_type": "code",
   "execution_count": 17,
   "metadata": {},
   "outputs": [
    {
     "data": {
      "text/plain": [
       "['황교안',\n",
       " '김정숙 여사 특급 칭찬 트럼프',\n",
       " '예측 망신',\n",
       " '민주당 나경원 심상정 정의당 반발 여당 공조',\n",
       " '탁현민 준비 남북 만남 인공 성조기 바닥']"
      ]
     },
     "execution_count": 17,
     "metadata": {},
     "output_type": "execute_result"
    }
   ],
   "source": [
    "# 역 토큰화\n",
    "\n",
    "documents = []\n",
    "for i in range(len(text)):\n",
    "    t = ' '.join(tokenized_doc[i])\n",
    "    documents.append(t)\n",
    "    \n",
    "documents[:5]"
   ]
  },
  {
   "cell_type": "markdown",
   "metadata": {},
   "source": [
    "blahblah"
   ]
  },
  {
   "cell_type": "code",
   "execution_count": 69,
   "metadata": {},
   "outputs": [],
   "source": [
    "import re\n",
    "import numpy as np\n",
    "import pandas as pd\n",
    "from pprint import pprint\n",
    "\n",
    "# Gensim\n",
    "import gensim\n",
    "import gensim.corpora as corpora\n",
    "from gensim.utils import simple_preprocess\n",
    "from gensim.models import CoherenceModel\n",
    "\n",
    "# spacy for lemmatization\n",
    "import spacy\n",
    "\n",
    "# Plotting tools\n",
    "import pyLDAvis\n",
    "import pyLDAvis.gensim  # don't skip this\n",
    "import matplotlib.pyplot as plt\n",
    "%matplotlib inline\n",
    "\n",
    "# Enable logging for gensim - optional\n",
    "import logging\n",
    "logging.basicConfig(format='%(asctime)s : %(levelname)s : %(message)s', level=logging.ERROR)\n",
    "\n",
    "import warnings\n",
    "warnings.filterwarnings(\"ignore\",category=DeprecationWarning)"
   ]
  },
  {
   "cell_type": "code",
   "execution_count": 70,
   "metadata": {},
   "outputs": [
    {
     "name": "stdout",
     "output_type": "stream",
     "text": [
      "[[(0, 1)]]\n"
     ]
    }
   ],
   "source": [
    "id2word = corpora.Dictionary(tokenized_doc)\n",
    "\n",
    "texts = tokenized_doc\n",
    "\n",
    "corpus = [id2word.doc2bow(text) for text in texts]\n",
    "\n",
    "print(corpus[:1])"
   ]
  },
  {
   "cell_type": "code",
   "execution_count": null,
   "metadata": {},
   "outputs": [],
   "source": []
  },
  {
   "cell_type": "code",
   "execution_count": 71,
   "metadata": {},
   "outputs": [
    {
     "data": {
      "text/plain": [
       "[[('황교안', 1)]]"
      ]
     },
     "execution_count": 71,
     "metadata": {},
     "output_type": "execute_result"
    }
   ],
   "source": [
    "# Human readable format of corpus (term-frequency)\n",
    "[[(id2word[id], freq) for id, freq in cp] for cp in corpus[:1]]"
   ]
  },
  {
   "cell_type": "code",
   "execution_count": 72,
   "metadata": {},
   "outputs": [],
   "source": [
    "# Build LDA model\n",
    "lda_model = gensim.models.ldamodel.LdaModel(corpus=corpus,\n",
    "                                           id2word=id2word,\n",
    "                                           num_topics=10, \n",
    "                                           random_state=100,\n",
    "                                           update_every=1,\n",
    "                                           chunksize=100,\n",
    "                                           passes=7,\n",
    "                                           alpha='auto',\n",
    "                                           per_word_topics=True)"
   ]
  },
  {
   "cell_type": "code",
   "execution_count": 73,
   "metadata": {},
   "outputs": [
    {
     "name": "stdout",
     "output_type": "stream",
     "text": [
      "[(0,\n",
      "  '0.074*\"트럼프\" + 0.039*\"한국당\" + 0.039*\"예측\" + 0.039*\"지도부\" + 0.039*\"우선주\" + '\n",
      "  '0.039*\"비판\" + 0.039*\"여사\" + 0.039*\"칭찬\" + 0.039*\"다행\" + 0.039*\"특급\"'),\n",
      " (1,\n",
      "  '0.065*\"성조기\" + 0.044*\"남북\" + 0.044*\"이방\" + 0.044*\"탁현민\" + 0.044*\"바닥\" + '\n",
      "  '0.023*\"황교안\" + 0.023*\"판문점\" + 0.023*\"준비\" + 0.023*\"김여정\" + 0.023*\"회동\"'),\n",
      " (2,\n",
      "  '0.054*\"고착\" + 0.054*\"나경원\" + 0.054*\"미봉\" + 0.054*\"전락\" + 0.054*\"우려\" + '\n",
      "  '0.054*\"운전자\" + 0.054*\"예측\" + 0.054*\"망신\" + 0.005*\"황교안\" + 0.005*\"트럼프\"'),\n",
      " (3,\n",
      "  '0.042*\"불명\" + 0.042*\"전투기\" + 0.042*\"선희\" + 0.042*\"확인\" + 0.042*\"교체\" + '\n",
      "  '0.042*\"리용호\" + 0.042*\"하노이\" + 0.042*\"부전선\" + 0.042*\"정체\" + 0.042*\"상항\"'),\n",
      " (4,\n",
      "  '0.059*\"부전선\" + 0.059*\"포착\" + 0.059*\"합참\" + 0.031*\"불명\" + 0.031*\"수출\" + '\n",
      "  '0.031*\"정체\" + 0.031*\"핵심\" + 0.031*\"상항\" + 0.031*\"규제\" + 0.031*\"레이더\"'),\n",
      " (5,\n",
      "  '0.090*\"김정은\" + 0.090*\"트럼프\" + 0.047*\"영어\" + 0.047*\"손짓\" + 0.047*\"귓속말\" + '\n",
      "  '0.047*\"회담\" + 0.047*\"주목\" + 0.047*\"실력\" + 0.047*\"판문점\" + 0.004*\"황교안\"'),\n",
      " (6,\n",
      "  '0.057*\"반발\" + 0.057*\"민주당\" + 0.057*\"공조\" + 0.057*\"나경원\" + 0.057*\"심상정\" + '\n",
      "  '0.057*\"여당\" + 0.057*\"정의당\" + 0.005*\"황교안\" + 0.005*\"트럼프\" + 0.005*\"판문점\"'),\n",
      " (7,\n",
      "  '0.052*\"트럼프\" + 0.046*\"황교안\" + 0.027*\"북한\" + 0.027*\"정체\" + 0.027*\"브로치\" + '\n",
      "  '0.027*\"불명\" + 0.027*\"나비\" + 0.027*\"진실\" + 0.027*\"전투기\" + 0.027*\"파란\"'),\n",
      " (8,\n",
      "  '0.040*\"트럼프\" + 0.040*\"실력\" + 0.040*\"도보\" + 0.040*\"인정\" + 0.040*\"영상\" + '\n",
      "  '0.040*\"연출\" + 0.040*\"다리\" + 0.040*\"통역\" + 0.040*\"영어\" + 0.040*\"시즌\"'),\n",
      " (9,\n",
      "  '0.036*\"트럼프\" + 0.036*\"김정은\" + 0.036*\"자처\" + 0.036*\"조연\" + 0.036*\"직거래\" + '\n",
      "  '0.036*\"대선\" + 0.036*\"소동\" + 0.036*\"추적\" + 0.036*\"미국\" + 0.036*\"치적\"')]\n"
     ]
    }
   ],
   "source": [
    "# Print the Keyword in the 10 topics\n",
    "pprint(lda_model.print_topics())\n",
    "doc_lda = lda_model[corpus]"
   ]
  },
  {
   "cell_type": "code",
   "execution_count": 74,
   "metadata": {},
   "outputs": [],
   "source": [
    "a_0=lda_model.print_topics()[0]\n",
    "a_1=lda_model.print_topics()[1]\n",
    "a_2=lda_model.print_topics()[2]\n",
    "a_3=lda_model.print_topics()[3]\n",
    "a_4=lda_model.print_topics()[4]\n",
    "a_5=lda_model.print_topics()[5]\n",
    "a_6=lda_model.print_topics()[6]\n",
    "a_7=lda_model.print_topics()[7]\n",
    "a_8=lda_model.print_topics()[8]\n",
    "a_9=lda_model.print_topics()[9]\n",
    "L_0=list(a_0)\n",
    "L_1=list(a_1)\n",
    "L_2=list(a_2)\n",
    "L_3=list(a_3)\n",
    "L_4=list(a_4)\n",
    "L_5=list(a_5)\n",
    "L_6=list(a_6)\n",
    "L_7=list(a_7)\n",
    "L_8=list(a_8)\n",
    "L_9=list(a_9)\n",
    "L_0[0]='트럼프 여사 칭찬'\n",
    "L_1[0]='성조기 바닥'\n",
    "L_2[0]='나경원 전략'\n",
    "L_3[0]='북한 전략'\n",
    "L_4[0]='미확인 물체'\n",
    "L_5[0]='김정은 영어 '\n",
    "L_6[0]='트럼프 '\n",
    "L_7[0]='트럼프 '\n",
    "L_8[0]='트럼프 '\n",
    "L_9[0]='트럼프 '\n",
    "t_0 = tuple(L_0)\n",
    "t_1 = tuple(L_1)\n",
    "t_2 = tuple(L_2)\n",
    "t_3 = tuple(L_3)\n",
    "t_4 = tuple(L_4)\n",
    "t_5 = tuple(L_5)\n",
    "t_6 = tuple(L_6)\n",
    "t_7 = tuple(L_7)\n",
    "t_8 = tuple(L_8)\n",
    "t_9 = tuple(L_9)\n",
    "\n",
    "T=[t_0,t_1,t_2,t_3,t_4,t_5,t_6,t_7,t_8,t_9]\n",
    "\n",
    "\n",
    "lda_model=T"
   ]
  },
  {
   "cell_type": "code",
   "execution_count": 78,
   "metadata": {},
   "outputs": [
    {
     "ename": "AttributeError",
     "evalue": "'list' object has no attribute 'log_perplexity'",
     "output_type": "error",
     "traceback": [
      "\u001b[1;31m---------------------------------------------------------------------------\u001b[0m",
      "\u001b[1;31mAttributeError\u001b[0m                            Traceback (most recent call last)",
      "\u001b[1;32m<ipython-input-78-49f4fe9600be>\u001b[0m in \u001b[0;36m<module>\u001b[1;34m\u001b[0m\n\u001b[0;32m      1\u001b[0m \u001b[1;31m# Compute Perplexity\u001b[0m\u001b[1;33m\u001b[0m\u001b[1;33m\u001b[0m\u001b[1;33m\u001b[0m\u001b[0m\n\u001b[1;32m----> 2\u001b[1;33m \u001b[0mprint\u001b[0m\u001b[1;33m(\u001b[0m\u001b[1;34m'\\nPerplexity: '\u001b[0m\u001b[1;33m,\u001b[0m \u001b[0mlda_model\u001b[0m\u001b[1;33m.\u001b[0m\u001b[0mlog_perplexity\u001b[0m\u001b[1;33m(\u001b[0m\u001b[0mcorpus\u001b[0m\u001b[1;33m)\u001b[0m\u001b[1;33m)\u001b[0m  \u001b[1;31m# a measure of how good the model is. lower the better.\u001b[0m\u001b[1;33m\u001b[0m\u001b[1;33m\u001b[0m\u001b[0m\n\u001b[0m\u001b[0;32m      3\u001b[0m \u001b[1;33m\u001b[0m\u001b[0m\n\u001b[0;32m      4\u001b[0m \u001b[1;31m# Compute Coherence Score\u001b[0m\u001b[1;33m\u001b[0m\u001b[1;33m\u001b[0m\u001b[1;33m\u001b[0m\u001b[0m\n\u001b[0;32m      5\u001b[0m \u001b[0mcoherence_model_lda\u001b[0m \u001b[1;33m=\u001b[0m \u001b[0mCoherenceModel\u001b[0m\u001b[1;33m(\u001b[0m\u001b[0mmodel\u001b[0m\u001b[1;33m=\u001b[0m\u001b[0mlda_model\u001b[0m\u001b[1;33m,\u001b[0m \u001b[0mtexts\u001b[0m\u001b[1;33m=\u001b[0m\u001b[0mtokenized_doc\u001b[0m\u001b[1;33m,\u001b[0m \u001b[0mdictionary\u001b[0m\u001b[1;33m=\u001b[0m\u001b[0mid2word\u001b[0m\u001b[1;33m,\u001b[0m \u001b[0mcoherence\u001b[0m\u001b[1;33m=\u001b[0m\u001b[1;34m'c_v'\u001b[0m\u001b[1;33m)\u001b[0m\u001b[1;33m\u001b[0m\u001b[1;33m\u001b[0m\u001b[0m\n",
      "\u001b[1;31mAttributeError\u001b[0m: 'list' object has no attribute 'log_perplexity'"
     ]
    }
   ],
   "source": [
    "# Compute Perplexity\n",
    "print('\\nPerplexity: ', lda_model.log_perplexity(corpus))  # a measure of how good the model is. lower the better.\n",
    "\n",
    "# Compute Coherence Score\n",
    "coherence_model_lda = CoherenceModel(model=lda_model, texts=tokenized_doc, dictionary=id2word, coherence='c_v')\n",
    "coherence_lda = coherence_model_lda.get_coherence()\n",
    "print('\\nCoherence Score: ', coherence_lda)"
   ]
  },
  {
   "cell_type": "code",
   "execution_count": 79,
   "metadata": {},
   "outputs": [
    {
     "data": {
      "text/plain": [
       "[('트럼프 여사 칭찬',\n",
       "  '0.074*\"트럼프\" + 0.039*\"한국당\" + 0.039*\"예측\" + 0.039*\"지도부\" + 0.039*\"우선주\" + 0.039*\"비판\" + 0.039*\"여사\" + 0.039*\"칭찬\" + 0.039*\"다행\" + 0.039*\"특급\"'),\n",
       " ('성조기 바닥',\n",
       "  '0.065*\"성조기\" + 0.044*\"남북\" + 0.044*\"이방\" + 0.044*\"탁현민\" + 0.044*\"바닥\" + 0.023*\"황교안\" + 0.023*\"판문점\" + 0.023*\"준비\" + 0.023*\"김여정\" + 0.023*\"회동\"'),\n",
       " ('나경원 전략',\n",
       "  '0.054*\"고착\" + 0.054*\"나경원\" + 0.054*\"미봉\" + 0.054*\"전락\" + 0.054*\"우려\" + 0.054*\"운전자\" + 0.054*\"예측\" + 0.054*\"망신\" + 0.005*\"황교안\" + 0.005*\"트럼프\"'),\n",
       " ('북한 전략',\n",
       "  '0.042*\"불명\" + 0.042*\"전투기\" + 0.042*\"선희\" + 0.042*\"확인\" + 0.042*\"교체\" + 0.042*\"리용호\" + 0.042*\"하노이\" + 0.042*\"부전선\" + 0.042*\"정체\" + 0.042*\"상항\"'),\n",
       " ('미확인 물체',\n",
       "  '0.059*\"부전선\" + 0.059*\"포착\" + 0.059*\"합참\" + 0.031*\"불명\" + 0.031*\"수출\" + 0.031*\"정체\" + 0.031*\"핵심\" + 0.031*\"상항\" + 0.031*\"규제\" + 0.031*\"레이더\"'),\n",
       " ('김정은 영어 ',\n",
       "  '0.090*\"김정은\" + 0.090*\"트럼프\" + 0.047*\"영어\" + 0.047*\"손짓\" + 0.047*\"귓속말\" + 0.047*\"회담\" + 0.047*\"주목\" + 0.047*\"실력\" + 0.047*\"판문점\" + 0.004*\"황교안\"'),\n",
       " ('트럼프 ',\n",
       "  '0.057*\"반발\" + 0.057*\"민주당\" + 0.057*\"공조\" + 0.057*\"나경원\" + 0.057*\"심상정\" + 0.057*\"여당\" + 0.057*\"정의당\" + 0.005*\"황교안\" + 0.005*\"트럼프\" + 0.005*\"판문점\"'),\n",
       " ('트럼프 ',\n",
       "  '0.052*\"트럼프\" + 0.046*\"황교안\" + 0.027*\"북한\" + 0.027*\"정체\" + 0.027*\"브로치\" + 0.027*\"불명\" + 0.027*\"나비\" + 0.027*\"진실\" + 0.027*\"전투기\" + 0.027*\"파란\"'),\n",
       " ('트럼프 ',\n",
       "  '0.040*\"트럼프\" + 0.040*\"실력\" + 0.040*\"도보\" + 0.040*\"인정\" + 0.040*\"영상\" + 0.040*\"연출\" + 0.040*\"다리\" + 0.040*\"통역\" + 0.040*\"영어\" + 0.040*\"시즌\"'),\n",
       " ('트럼프 ',\n",
       "  '0.036*\"트럼프\" + 0.036*\"김정은\" + 0.036*\"자처\" + 0.036*\"조연\" + 0.036*\"직거래\" + 0.036*\"대선\" + 0.036*\"소동\" + 0.036*\"추적\" + 0.036*\"미국\" + 0.036*\"치적\"')]"
      ]
     },
     "execution_count": 79,
     "metadata": {},
     "output_type": "execute_result"
    }
   ],
   "source": [
    "lda_model"
   ]
  },
  {
   "cell_type": "code",
   "execution_count": 51,
   "metadata": {},
   "outputs": [
    {
     "name": "stderr",
     "output_type": "stream",
     "text": [
      "C:\\Users\\LeeJeungHun\\Anaconda3\\lib\\site-packages\\pyLDAvis\\_prepare.py:257: FutureWarning: Sorting because non-concatenation axis is not aligned. A future version\n",
      "of pandas will change to not sort by default.\n",
      "\n",
      "To accept the future behavior, pass 'sort=False'.\n",
      "\n",
      "To retain the current behavior and silence the warning, pass 'sort=True'.\n",
      "\n",
      "  return pd.concat([default_term_info] + list(topic_dfs))\n"
     ]
    },
    {
     "data": {
      "text/html": [
       "\n",
       "<link rel=\"stylesheet\" type=\"text/css\" href=\"https://cdn.rawgit.com/bmabey/pyLDAvis/files/ldavis.v1.0.0.css\">\n",
       "\n",
       "\n",
       "<div id=\"ldavis_el923618004638174887129254268\"></div>\n",
       "<script type=\"text/javascript\">\n",
       "\n",
       "var ldavis_el923618004638174887129254268_data = {\"mdsDat\": {\"x\": [0.17713867594452526, -0.0840127388907713, -0.12099614841763129, -0.0427321542231404, 0.049977713688609954, 0.05780904213636694, -0.11387289527003083, 0.024433643778917973, 0.023404582638761006, 0.028850278614392717], \"y\": [-0.09868137119459534, 0.09994314924948178, -0.12132249318467767, 0.0673225698805748, 0.05309627926765059, 0.05320279795009669, -0.07076716463762128, 0.07715978023129136, -0.024010850248083297, -0.035942697314117186], \"topics\": [1, 2, 3, 4, 5, 6, 7, 8, 9, 10], \"cluster\": [1, 1, 1, 1, 1, 1, 1, 1, 1, 1], \"Freq\": [19.35289764404297, 15.575706481933594, 12.966568946838379, 10.265877723693848, 9.126646995544434, 8.764819145202637, 8.196048736572266, 6.493983268737793, 4.820472717285156, 4.43697452545166]}, \"tinfo\": {\"Category\": [\"Default\", \"Default\", \"Default\", \"Default\", \"Default\", \"Default\", \"Default\", \"Default\", \"Default\", \"Default\", \"Default\", \"Default\", \"Default\", \"Default\", \"Default\", \"Default\", \"Default\", \"Default\", \"Default\", \"Default\", \"Default\", \"Default\", \"Default\", \"Default\", \"Default\", \"Default\", \"Default\", \"Default\", \"Default\", \"Default\", \"Topic1\", \"Topic1\", \"Topic1\", \"Topic1\", \"Topic1\", \"Topic1\", \"Topic1\", \"Topic1\", \"Topic1\", \"Topic1\", \"Topic1\", \"Topic1\", \"Topic1\", \"Topic1\", \"Topic1\", \"Topic1\", \"Topic1\", \"Topic1\", \"Topic1\", \"Topic1\", \"Topic1\", \"Topic1\", \"Topic1\", \"Topic1\", \"Topic1\", \"Topic1\", \"Topic1\", \"Topic1\", \"Topic1\", \"Topic1\", \"Topic1\", \"Topic1\", \"Topic1\", \"Topic2\", \"Topic2\", \"Topic2\", \"Topic2\", \"Topic2\", \"Topic2\", \"Topic2\", \"Topic2\", \"Topic2\", \"Topic2\", \"Topic2\", \"Topic2\", \"Topic2\", \"Topic2\", \"Topic2\", \"Topic2\", \"Topic2\", \"Topic2\", \"Topic2\", \"Topic2\", \"Topic2\", \"Topic2\", \"Topic2\", \"Topic2\", \"Topic2\", \"Topic2\", \"Topic2\", \"Topic2\", \"Topic2\", \"Topic2\", \"Topic2\", \"Topic2\", \"Topic2\", \"Topic2\", \"Topic3\", \"Topic3\", \"Topic3\", \"Topic3\", \"Topic3\", \"Topic3\", \"Topic3\", \"Topic3\", \"Topic3\", \"Topic3\", \"Topic3\", \"Topic3\", \"Topic3\", \"Topic3\", \"Topic3\", \"Topic3\", \"Topic3\", \"Topic3\", \"Topic3\", \"Topic3\", \"Topic3\", \"Topic3\", \"Topic3\", \"Topic3\", \"Topic3\", \"Topic3\", \"Topic3\", \"Topic3\", \"Topic3\", \"Topic3\", \"Topic3\", \"Topic3\", \"Topic3\", \"Topic3\", \"Topic3\", \"Topic3\", \"Topic3\", \"Topic3\", \"Topic4\", \"Topic4\", \"Topic4\", \"Topic4\", \"Topic4\", \"Topic4\", \"Topic4\", \"Topic4\", \"Topic4\", \"Topic4\", \"Topic4\", \"Topic4\", \"Topic4\", \"Topic4\", \"Topic4\", \"Topic4\", \"Topic4\", \"Topic4\", \"Topic4\", \"Topic4\", \"Topic4\", \"Topic4\", \"Topic4\", \"Topic4\", \"Topic4\", \"Topic4\", \"Topic4\", \"Topic4\", \"Topic4\", \"Topic4\", \"Topic4\", \"Topic4\", \"Topic4\", \"Topic4\", \"Topic4\", \"Topic4\", \"Topic4\", \"Topic4\", \"Topic4\", \"Topic4\", \"Topic4\", \"Topic4\", \"Topic5\", \"Topic5\", \"Topic5\", \"Topic5\", \"Topic5\", \"Topic5\", \"Topic5\", \"Topic5\", \"Topic5\", \"Topic5\", \"Topic5\", \"Topic5\", \"Topic5\", \"Topic5\", \"Topic5\", \"Topic5\", \"Topic5\", \"Topic5\", \"Topic5\", \"Topic5\", \"Topic5\", \"Topic5\", \"Topic5\", \"Topic5\", \"Topic5\", \"Topic5\", \"Topic5\", \"Topic5\", \"Topic5\", \"Topic5\", \"Topic5\", \"Topic5\", \"Topic5\", \"Topic5\", \"Topic5\", \"Topic5\", \"Topic5\", \"Topic5\", \"Topic5\", \"Topic5\", \"Topic5\", \"Topic5\", \"Topic5\", \"Topic5\", \"Topic5\", \"Topic5\", \"Topic6\", \"Topic6\", \"Topic6\", \"Topic6\", \"Topic6\", \"Topic6\", \"Topic6\", \"Topic6\", \"Topic6\", \"Topic6\", \"Topic6\", \"Topic6\", \"Topic6\", \"Topic6\", \"Topic6\", \"Topic6\", \"Topic6\", \"Topic6\", \"Topic6\", \"Topic6\", \"Topic6\", \"Topic6\", \"Topic6\", \"Topic6\", \"Topic6\", \"Topic6\", \"Topic6\", \"Topic6\", \"Topic6\", \"Topic6\", \"Topic6\", \"Topic6\", \"Topic6\", \"Topic6\", \"Topic6\", \"Topic6\", \"Topic6\", \"Topic6\", \"Topic6\", \"Topic6\", \"Topic6\", \"Topic6\", \"Topic6\", \"Topic6\", \"Topic6\", \"Topic6\", \"Topic7\", \"Topic7\", \"Topic7\", \"Topic7\", \"Topic7\", \"Topic7\", \"Topic7\", \"Topic7\", \"Topic7\", \"Topic7\", \"Topic7\", \"Topic7\", \"Topic7\", \"Topic7\", \"Topic7\", \"Topic7\", \"Topic7\", \"Topic7\", \"Topic7\", \"Topic7\", \"Topic7\", \"Topic7\", \"Topic7\", \"Topic7\", \"Topic7\", \"Topic7\", \"Topic7\", \"Topic7\", \"Topic7\", \"Topic7\", \"Topic7\", \"Topic7\", \"Topic7\", \"Topic7\", \"Topic7\", \"Topic7\", \"Topic7\", \"Topic7\", \"Topic7\", \"Topic7\", \"Topic7\", \"Topic7\", \"Topic7\", \"Topic7\", \"Topic7\", \"Topic7\", \"Topic7\", \"Topic7\", \"Topic8\", \"Topic8\", \"Topic8\", \"Topic8\", \"Topic8\", \"Topic8\", \"Topic8\", \"Topic8\", \"Topic8\", \"Topic8\", \"Topic8\", \"Topic8\", \"Topic8\", \"Topic8\", \"Topic8\", \"Topic8\", \"Topic8\", \"Topic8\", \"Topic8\", \"Topic8\", \"Topic8\", \"Topic8\", \"Topic8\", \"Topic8\", \"Topic8\", \"Topic8\", \"Topic8\", \"Topic8\", \"Topic8\", \"Topic8\", \"Topic8\", \"Topic8\", \"Topic8\", \"Topic8\", \"Topic8\", \"Topic8\", \"Topic8\", \"Topic8\", \"Topic8\", \"Topic8\", \"Topic8\", \"Topic8\", \"Topic8\", \"Topic8\", \"Topic8\", \"Topic8\", \"Topic8\", \"Topic8\", \"Topic8\", \"Topic8\", \"Topic8\", \"Topic8\", \"Topic9\", \"Topic9\", \"Topic9\", \"Topic9\", \"Topic9\", \"Topic9\", \"Topic9\", \"Topic9\", \"Topic9\", \"Topic9\", \"Topic9\", \"Topic9\", \"Topic9\", \"Topic9\", \"Topic9\", \"Topic9\", \"Topic9\", \"Topic9\", \"Topic9\", \"Topic9\", \"Topic9\", \"Topic9\", \"Topic9\", \"Topic9\", \"Topic9\", \"Topic9\", \"Topic9\", \"Topic9\", \"Topic9\", \"Topic9\", \"Topic9\", \"Topic9\", \"Topic9\", \"Topic9\", \"Topic9\", \"Topic9\", \"Topic9\", \"Topic9\", \"Topic9\", \"Topic9\", \"Topic9\", \"Topic9\", \"Topic9\", \"Topic9\", \"Topic9\", \"Topic9\", \"Topic9\", \"Topic9\", \"Topic9\", \"Topic9\", \"Topic9\", \"Topic9\", \"Topic10\", \"Topic10\", \"Topic10\", \"Topic10\", \"Topic10\", \"Topic10\", \"Topic10\", \"Topic10\", \"Topic10\", \"Topic10\", \"Topic10\", \"Topic10\", \"Topic10\", \"Topic10\", \"Topic10\", \"Topic10\", \"Topic10\", \"Topic10\", \"Topic10\", \"Topic10\", \"Topic10\", \"Topic10\", \"Topic10\", \"Topic10\", \"Topic10\", \"Topic10\", \"Topic10\", \"Topic10\", \"Topic10\", \"Topic10\", \"Topic10\", \"Topic10\", \"Topic10\", \"Topic10\", \"Topic10\", \"Topic10\", \"Topic10\", \"Topic10\", \"Topic10\", \"Topic10\", \"Topic10\", \"Topic10\", \"Topic10\", \"Topic10\", \"Topic10\", \"Topic10\", \"Topic10\", \"Topic10\", \"Topic10\", \"Topic10\", \"Topic10\", \"Topic10\"], \"Freq\": [5.0, 2.0, 1.0, 2.0, 2.0, 2.0, 1.0, 1.0, 1.0, 1.0, 3.0, 1.0, 1.0, 2.0, 0.0, 0.0, 0.0, 0.0, 2.0, 0.0, 0.0, 0.0, 0.0, 0.0, 2.0, 3.0, 3.0, 1.0, 1.0, 1.0, 2.214972496032715, 1.500463843345642, 1.5004626512527466, 0.7859535813331604, 0.7859535813331604, 0.7859535217285156, 0.7859533429145813, 0.7859534025192261, 0.7859532833099365, 0.785953164100647, 0.7859528660774231, 0.7859528660774231, 0.7859528660774231, 0.7859527468681335, 0.7859527468681335, 0.785952627658844, 0.7859522700309753, 0.7859522700309753, 0.7859516143798828, 1.500463843345642, 1.5004665851593018, 0.7859538197517395, 0.7859535217285156, 0.7859539985656738, 0.7859545946121216, 0.7859545350074768, 0.7859545350074768, 0.785961389541626, 0.7859577536582947, 0.0714511051774025, 0.0714511051774025, 0.0714510902762413, 0.0714520514011383, 0.7465548515319824, 0.7465547919273376, 0.7465547919273376, 0.7465547919273376, 0.7465544939041138, 0.7465544939041138, 0.7465546727180481, 0.7465544939041138, 0.7465546727180481, 0.7465546131134033, 0.7465546131134033, 0.746554434299469, 0.746554434299469, 0.7465542554855347, 0.746554434299469, 0.7465540766716003, 0.7465531229972839, 0.746552586555481, 1.2637430429458618, 0.7465550303459167, 0.7465547919273376, 0.7465544939041138, 0.746554434299469, 1.4252461194992065, 0.7465549111366272, 0.7465548515319824, 0.06786926835775375, 0.06786925345659256, 0.06786924600601196, 0.06786923855543137, 0.06786976009607315, 0.06786956638097763, 0.06786952912807465, 0.06786952167749405, 0.7003934383392334, 0.7003934383392334, 0.7003932595252991, 0.7003931403160095, 0.7003931403160095, 0.7003931403160095, 0.7003931403160095, 0.7003931403160095, 0.7003930807113647, 0.7003923654556274, 0.7003922462463379, 0.7003923654556274, 0.7003920078277588, 1.3371189832687378, 1.3371189832687378, 1.3371187448501587, 0.7003933191299438, 0.7003941535949707, 0.7003934383392334, 0.7003926038742065, 0.2151719033718109, 0.06367269903421402, 0.06367269903421402, 0.06367269903421402, 0.06367267668247223, 0.06367286294698715, 0.06367272883653641, 0.06367271393537521, 0.06367267668247223, 0.06367266178131104, 0.06367330998182297, 0.06367295980453491, 0.06367295235395432, 0.06367291510105133, 0.06367290019989014, 0.06367283314466476, 0.06367281824350357, 0.06367281824350357, 0.6500580310821533, 0.6500579714775085, 0.650057852268219, 0.6500577330589294, 0.6500577330589294, 0.6500577330589294, 0.6500577330589294, 0.6500576734542847, 0.6500575542449951, 0.6500570774078369, 0.6500571966171265, 0.6500570774078369, 0.6500576138496399, 0.6500560641288757, 0.6500580310821533, 0.6500575542449951, 0.6500570774078369, 0.6500584483146667, 0.05909664183855057, 0.059096645563840866, 0.05909663438796997, 0.05909663066267967, 0.05909683555364609, 0.059096693992614746, 0.05909666046500206, 0.05909664183855057, 0.05909661576151848, 0.059096675366163254, 0.059096649289131165, 0.05909663438796997, 0.05909663438796997, 0.0590972974896431, 0.059097059071063995, 0.05909698083996773, 0.05909685790538788, 0.059096843004226685, 0.05909684672951698, 0.05909682437777519, 0.05909677594900131, 0.05909678339958191, 0.05909675359725952, 0.05909674987196922, 0.6186177730560303, 0.618617594242096, 0.618617594242096, 0.618617594242096, 0.6186173558235168, 0.6186174154281616, 0.6186174154281616, 0.6186172366142273, 0.6186169385910034, 0.6186177134513855, 0.6186171174049377, 0.6186168789863586, 0.6186155080795288, 1.1810005903244019, 0.618615984916687, 0.05623844265937805, 0.05623842403292656, 0.05623840540647507, 0.05623839423060417, 0.0562385693192482, 0.05623845010995865, 0.05623842775821686, 0.056238409131765366, 0.05623839423060417, 0.05623844265937805, 0.05623843893408775, 0.05623842403292656, 0.056238431483507156, 0.05623845383524895, 0.05623843893408775, 0.05623842030763626, 0.05623840540647507, 0.05623890832066536, 0.05623868852853775, 0.05623864382505417, 0.05623858422040939, 0.05623859539628029, 0.05623858422040939, 0.0562385618686676, 0.0562385655939579, 0.056238528341054916, 0.05623854696750641, 0.056238528341054916, 0.056238532066345215, 0.05623851716518402, 0.05623850226402283, 0.6157747507095337, 0.6157746315002441, 0.6157746315002441, 0.6157746315002441, 0.6157745718955994, 0.6157745122909546, 0.6157744526863098, 0.615774393081665, 0.6157748103141785, 0.6157744526863098, 0.6157737970352173, 0.6157733201980591, 0.6157744526863098, 0.6157740950584412, 0.6157754063606262, 0.05597992613911629, 0.055979933589696884, 0.055979933589696884, 0.05597991123795509, 0.055980123579502106, 0.05597997084259987, 0.05597994476556778, 0.05597992613911629, 0.055979907512664795, 0.05597994104027748, 0.05597994849085808, 0.05597994104027748, 0.05597991868853569, 0.05597994849085808, 0.05597992613911629, 0.05597992241382599, 0.05597991496324539, 0.055980436503887177, 0.05598020181059837, 0.055980123579502106, 0.055980127304792404, 0.055980127304792404, 0.05598011240363121, 0.05598008632659912, 0.05598008260130882, 0.05598005652427673, 0.05598006024956703, 0.05598004534840584, 0.05598001554608345, 0.05598002299666405, 0.05598001927137375, 0.5976266264915466, 0.5976265668869019, 0.5976265072822571, 0.5976265072822571, 0.5976265072822571, 0.5976262092590332, 0.597626268863678, 0.5976266860961914, 0.597626268863678, 0.597626268863678, 0.5976262092590332, 0.5976260900497437, 0.597626805305481, 0.597626268863678, 0.05433009937405586, 0.05433010309934616, 0.05433008819818497, 0.05433008447289467, 0.054330188781023026, 0.05433012545108795, 0.05433010309934616, 0.05433008819818497, 0.05433008074760437, 0.054330114275217056, 0.05433010309934616, 0.05433009937405586, 0.05433007329702377, 0.05433010309934616, 0.054330095648765564, 0.05433008074760437, 0.05433007702231407, 0.05433007702231407, 0.05433007702231407, 0.05433069169521332, 0.05433054268360138, 0.054330360144376755, 0.05433029681444168, 0.05433029681444168, 0.05433029681444168, 0.054330240935087204, 0.054330214858055115, 0.05433022975921631, 0.05433021858334541, 0.05433019995689392, 0.05433020740747452, 0.054330188781023026, 0.05433017387986183, 0.05433018133044243, 0.5342250466346741, 0.5342251062393188, 0.5342249870300293, 0.5342249274253845, 1.0198867321014404, 0.5342252254486084, 0.5342247486114502, 1.0198860168457031, 0.5342243313789368, 0.04856627434492111, 0.04856626316905022, 0.04856625944375992, 0.04856624826788902, 0.04856645315885544, 0.048566270619630814, 0.048566270619630814, 0.04856626316905022, 0.04856625199317932, 0.048566270619630814, 0.04856626316905022, 0.04856626316905022, 0.04856625944375992, 0.04856625199317932, 0.04856625199317932, 0.04856625944375992, 0.04856625944375992, 0.04856625944375992, 0.04856624826788902, 0.048566240817308426, 0.048566240817308426, 0.048566240817308426, 0.048566240817308426, 0.04856692627072334, 0.04856652393937111, 0.048566486686468124, 0.04856647551059723, 0.04856644198298454, 0.048566415905952454, 0.048566434532403946, 0.04856639727950096, 0.04856637492775917, 0.048566386103630066, 0.04856637120246887, 0.04856637120246887, 0.04856636002659798, 0.04856635257601738, 0.048566363751888275, 0.04856635257601738, 0.04856634885072708, 0.048566337674856186, 0.04856633394956589, 0.048566337674856186, 0.4548715651035309, 0.4548712968826294, 0.4548712968826294, 0.45487096905708313, 0.45486968755722046, 0.4548712968826294, 0.45486974716186523, 0.45487096905708313, 0.04135221615433693, 0.04135220870375633, 0.041352201253175735, 0.04135219752788544, 0.04135223478078842, 0.04135221615433693, 0.04135220870375633, 0.041352204978466034, 0.04135223478078842, 0.04135221242904663, 0.04135221242904663, 0.041352201253175735, 0.041352201253175735, 0.04135219380259514, 0.04135221987962723, 0.04135220870375633, 0.04135220870375633, 0.04135219380259514, 0.04135219752788544, 0.04135219007730484, 0.04135219007730484, 0.04135218635201454, 0.04135284945368767, 0.04135257005691528, 0.041352562606334686, 0.04135238006711006, 0.04135237634181976, 0.041352372616529465, 0.04135235771536827, 0.04135233163833618, 0.04135233163833618, 0.04135232791304588, 0.041352320462465286, 0.041352301836013794, 0.0413522869348526, 0.0413522943854332, 0.04135226830840111, 0.041352275758981705, 0.041352275758981705, 0.041352275758981705, 0.041352275758981705, 0.041352279484272, 0.041352275758981705, 0.04135226458311081, 0.4402649998664856, 0.44026491045951843, 0.4402649402618408, 0.4402647912502289, 0.44026491045951843, 0.4402647912502289, 0.44026440382003784, 0.04002445191144943, 0.040024351328611374, 0.040024347603321075, 0.040024347603321075, 0.04002431780099869, 0.040024351328611374, 0.04002433642745018, 0.040024347603321075, 0.040024347603321075, 0.04002434387803078, 0.04002434015274048, 0.04002433642745018, 0.04002432897686958, 0.04002432897686958, 0.040024325251579285, 0.04002433642745018, 0.04002433270215988, 0.04002432897686958, 0.04002432897686958, 0.040024325251579285, 0.040024325251579285, 0.040024325251579285, 0.04002431407570839, 0.0400247760117054, 0.040024761110544205, 0.040024567395448685, 0.0400245375931263, 0.04002448916435242, 0.040024492889642715, 0.040024466812610626, 0.04002447426319122, 0.04002445936203003, 0.04002444073557854, 0.04002443701028824, 0.04002442583441734, 0.04002444073557854, 0.04002440720796585, 0.040024418383836746, 0.04002440720796585, 0.04002441465854645, 0.04002440720796585, 0.040024422109127045, 0.040024399757385254, 0.04002438858151436, 0.04002438858151436], \"Term\": [\"\\ud2b8\\ub7fc\\ud504\", \"\\uae40\\uc815\\uc740\", \"\\ub098\\uacbd\\uc6d0\", \"\\ud569\\ucc38\", \"\\ubd80\\uc804\\uc120\", \"\\ud3ec\\ucc29\", \"\\uc5ec\\ub2f9\", \"\\uc815\\uc758\\ub2f9\", \"\\uc608\\uce21\", \"\\uc6b0\\ub824\", \"\\ud310\\ubb38\\uc810\", \"\\uc601\\uc5b4\", \"\\uc2e4\\ub825\", \"\\uc131\\uc870\\uae30\", \"\\ubbfc\\uc8fc\\ub2f9\", \"\\ubc18\\ubc1c\", \"\\uacf5\\uc870\", \"\\uc2ec\\uc0c1\\uc815\", \"\\ud0c1\\ud604\\ubbfc\", \"\\uace0\\ucc29\", \"\\ubbf8\\ubd09\", \"\\uc804\\ub77d\", \"\\uc6b4\\uc804\\uc790\", \"\\ub9dd\\uc2e0\", \"\\ub0a8\\ubd81\", \"\\ubd88\\uba85\", \"\\uc815\\uccb4\", \"\\uc0c1\\ud56d\", \"\\uc804\\ud22c\\uae30\", \"\\ubd81\\ud55c\", \"\\uc131\\uc870\\uae30\", \"\\uc774\\ubc29\", \"\\ubc14\\ub2e5\", \"\\ub9cc\\ub0a8\", \"MDL\", \"\\ud55c\\uc790\\ub9ac\", \"\\uc9c4\\uc601\", \"\\uc778\\uacf5\", \"\\uc9c4\\ubcf4\", \"\\uc5ed\\ud48d\", \"\\uacf5\\ud654\\ub2f9\", \"\\uc784\\uba85\", \"\\ucde8\\uc18c\", \"\\uc778\\uacf5\\uae30\", \"\\uc790\\uc720\", \"\\uc9c0\\uc801\", \"\\uc2a4\\ud15d\", \"\\uce68\\ubb35\", \"\\uc6b0\\ub9ac\", \"\\ud0c1\\ud604\\ubbfc\", \"\\ub0a8\\ubd81\", \"\\uc815\\uc758\\ub2f9\", \"\\uc5ec\\ub2f9\", \"\\uc6b0\\ub824\", \"\\uc900\\ube44\", \"\\ud68c\\ub3d9\", \"\\uae40\\uc5ec\\uc815\", \"\\ud669\\uad50\\uc548\", \"\\ud310\\ubb38\\uc810\", \"\\uc2ec\\uc0c1\\uc815\", \"\\uacf5\\uc870\", \"\\ubc18\\ubc1c\", \"\\ud2b8\\ub7fc\\ud504\", \"\\ube0c\\ub85c\\uce58\", \"\\uc9c4\\uc2e4\", \"\\ud30c\\ub780\", \"\\ub098\\ube44\", \"\\uc544\\ub4e4\", \"\\uc2a4\\ud399\", \"\\uc624\\uc778\", \"\\ucd9c\\uaca9\", \"\\uba54\\uc2dc\\uc9c0\", \"\\ubc18\\ub300\", \"\\uc0ac\\ub4dc\", \"\\uc790\\ub791\", \"\\uac80\\ucc30\", \"\\uc218\\uc0ac\", \"\\ubaa9\\uc11c\", \"\\ud569\\uaca9\", \"\\uc774\\ub840\", \"\\uc5b8\\uae09\", \"\\ud669\\uad50\\uc548\", \"\\ubd81\\ud55c\", \"\\uc804\\ud22c\\uae30\", \"\\uae40\\uc815\\uc219\", \"\\uad70\\ub300\", \"\\ud2b8\\ub7fc\\ud504\", \"\\uc815\\uccb4\", \"\\ubd88\\uba85\", \"\\uc2ec\\uc0c1\\uc815\", \"\\ubbfc\\uc8fc\\ub2f9\", \"\\ubc18\\ubc1c\", \"\\uacf5\\uc870\", \"\\ud310\\ubb38\\uc810\", \"\\uc608\\uce21\", \"\\ud0c1\\ud604\\ubbfc\", \"\\ub9dd\\uc2e0\", \"\\uc218\\ucd9c\", \"\\ud575\\uc2ec\", \"\\uaddc\\uc81c\", \"\\ud55c\\uad6d\", \"\\ub808\\uc774\\ub354\", \"\\uc77c\\ubcf8\", \"\\uc545\\uc218\", \"\\uc18c\\uc7ac\", \"\\ubc18\\ub3c4\\uccb4\", \"\\ub4dc\\ub77c\\ub9c8\", \"\\ub300\\ud1b5\\ub839\", \"\\uac15\\uc6d0\", \"\\uac01\\ubcf8\", \"\\ud3ec\\ucc29\", \"\\ubd80\\uc804\\uc120\", \"\\ud569\\ucc38\", \"\\uc0c1\\ud56d\", \"\\ubd88\\uba85\", \"\\uc815\\uccb4\", \"\\ud310\\ubb38\\uc810\", \"\\ud669\\uad50\\uc548\", \"\\uc2ec\\uc0c1\\uc815\", \"\\uacf5\\uc870\", \"\\ubbfc\\uc8fc\\ub2f9\", \"\\ubc18\\ubc1c\", \"\\ub9dd\\uc2e0\", \"\\uc6b4\\uc804\\uc790\", \"\\ubbf8\\ubd09\", \"\\uc804\\ub77d\", \"\\uace0\\ucc29\", \"\\ud2b8\\ub7fc\\ud504\", \"\\uc608\\uce21\", \"\\uae40\\uc815\\uc740\", \"\\uc131\\uc870\\uae30\", \"\\ud0c1\\ud604\\ubbfc\", \"\\uae40\\uc815\\uc219\", \"\\uc6b0\\ub824\", \"\\ubc14\\ub2e5\", \"\\uc790\\ucc98\", \"\\uc870\\uc5f0\", \"\\uc9c1\\uac70\\ub798\", \"\\ub300\\uc120\", \"\\ubbf8\\uad6d\", \"\\ucd94\\uc801\", \"\\uc18c\\ub3d9\", \"\\uce58\\uc801\", \"\\uc2dc\\uac04\", \"\\ubc00\\ucc29\", \"\\ubcf4\\uc88c\", \"\\ud604\\uc1a1\\uc6d4\", \"\\uad70\\ub300\", \"\\uae40\\uc5ec\\uc815\", \"\\uae40\\uc815\\uc740\", \"\\uc815\\uccb4\", \"\\ubd88\\uba85\", \"\\ud2b8\\ub7fc\\ud504\", \"\\uc2ec\\uc0c1\\uc815\", \"\\ubbfc\\uc8fc\\ub2f9\", \"\\uacf5\\uc870\", \"\\ubc18\\ubc1c\", \"\\ub9dd\\uc2e0\", \"\\uc6b4\\uc804\\uc790\", \"\\ubbf8\\ubd09\", \"\\uc804\\ub77d\", \"\\uace0\\ucc29\", \"\\ud68c\\ub2f4\", \"\\uc190\\uc9d3\", \"\\uc8fc\\ubaa9\", \"\\uadd3\\uc18d\\ub9d0\", \"\\ud669\\uad50\\uc548\", \"\\ud310\\ubb38\\uc810\", \"\\uc608\\uce21\", \"\\ud0c1\\ud604\\ubbfc\", \"\\ubd80\\uc804\\uc120\", \"\\ud3ec\\ucc29\", \"\\ud569\\ucc38\", \"\\uc5ec\\ub2f9\", \"\\uc131\\uc870\\uae30\", \"\\uac01\\ubcf8\", \"\\ubc14\\ub2e5\", \"\\ud55c\\uad6d\\ub2f9\", \"\\uc9c0\\ub3c4\\ubd80\", \"\\ube44\\ud310\", \"\\uc6b0\\uc120\\uc8fc\", \"\\ub2e4\\ud589\", \"\\uce6d\\ucc2c\", \"\\uc5ec\\uc0ac\", \"\\ud2b9\\uae09\", \"\\uc790\\uad6d\", \"\\uc608\\uce21\", \"\\uae40\\uc815\\uc219\", \"\\ud68c\\ub3d9\", \"\\ub0a8\\ubd81\", \"\\ud2b8\\ub7fc\\ud504\", \"\\ud310\\ubb38\\uc810\", \"\\uc2ec\\uc0c1\\uc815\", \"\\uacf5\\uc870\", \"\\ubbfc\\uc8fc\\ub2f9\", \"\\ubc18\\ubc1c\", \"\\ub9dd\\uc2e0\", \"\\uc6b4\\uc804\\uc790\", \"\\uc804\\ub77d\", \"\\ubbf8\\ubd09\", \"\\uace0\\ucc29\", \"\\uc8fc\\ubaa9\", \"\\uadd3\\uc18d\\ub9d0\", \"\\ud68c\\ub2f4\", \"\\uc190\\uc9d3\", \"\\ud611\\uc0c1\", \"\\ub9ac\\uc6a9\\ud638\", \"\\uc120\\ud76c\", \"\\uad50\\uccb4\", \"\\ud669\\uad50\\uc548\", \"\\ubd88\\uba85\", \"\\uc815\\uccb4\", \"\\ud569\\ucc38\", \"\\uae40\\uc815\\uc740\", \"\\ubd80\\uc804\\uc120\", \"\\uc131\\uc870\\uae30\", \"\\ud3ec\\ucc29\", \"\\uae40\\uc5ec\\uc815\", \"\\ud0c1\\ud604\\ubbfc\", \"\\ubc14\\ub2e5\", \"\\uc5ec\\ub2f9\", \"\\uc0c1\\ud56d\", \"\\uc900\\ube44\", \"\\ub3c4\\ubcf4\", \"\\uc601\\uc0c1\", \"\\uc778\\uc815\", \"\\uc5f0\\ucd9c\", \"\\ub2e4\\ub9ac\", \"\\ud1b5\\uc5ed\", \"\\uc2dc\\uc98c\", \"\\uad00\\uc758\", \"\\uc2e4\\ub825\", \"\\uc601\\uc5b4\", \"\\uc900\\ube44\", \"\\ud0c1\\ud604\\ubbfc\", \"\\uae40\\uc815\\uc740\", \"\\ud310\\ubb38\\uc810\", \"\\ud2b8\\ub7fc\\ud504\", \"\\uc2ec\\uc0c1\\uc815\", \"\\ubbfc\\uc8fc\\ub2f9\", \"\\uacf5\\uc870\", \"\\ubc18\\ubc1c\", \"\\ub9dd\\uc2e0\", \"\\uc6b4\\uc804\\uc790\", \"\\uc804\\ub77d\", \"\\ubbf8\\ubd09\", \"\\uace0\\ucc29\", \"\\ud68c\\ub2f4\", \"\\uc8fc\\ubaa9\", \"\\uadd3\\uc18d\\ub9d0\", \"\\uc190\\uc9d3\", \"\\ud611\\uc0c1\", \"\\ub9ac\\uc6a9\\ud638\", \"\\ud655\\uc778\", \"\\uad50\\uccb4\", \"\\ud669\\uad50\\uc548\", \"\\uc608\\uce21\", \"\\ubd88\\uba85\", \"\\uc815\\uccb4\", \"\\ud3ec\\ucc29\", \"\\ubd80\\uc804\\uc120\", \"\\ubc14\\ub2e5\", \"\\ud569\\ucc38\", \"\\ub0a8\\ubd81\", \"\\ub098\\uacbd\\uc6d0\", \"\\uc131\\uc870\\uae30\", \"\\uc0c1\\ud56d\", \"\\uae40\\uc5ec\\uc815\", \"\\uc2a4\\ud15d\", \"\\uc120\\ud76c\", \"\\ud655\\uc778\", \"\\ud558\\ub178\\uc774\", \"\\ub9ac\\uc6a9\\ud638\", \"\\uad50\\uccb4\", \"\\ud611\\uc0c1\", \"\\uc0c1\\ud56d\", \"\\uc804\\ud22c\\uae30\", \"\\ubd81\\ud55c\", \"\\ubd80\\uc804\\uc120\", \"\\ud569\\ucc38\", \"\\ud3ec\\ucc29\", \"\\ubd88\\uba85\", \"\\uc815\\uccb4\", \"\\uc2ec\\uc0c1\\uc815\", \"\\uacf5\\uc870\", \"\\ubc18\\ubc1c\", \"\\ubbfc\\uc8fc\\ub2f9\", \"\\ub9dd\\uc2e0\", \"\\uc6b4\\uc804\\uc790\", \"\\uc804\\ub77d\", \"\\ubbf8\\ubd09\", \"\\uace0\\ucc29\", \"\\ud68c\\ub2f4\", \"\\uc8fc\\ubaa9\", \"\\uc190\\uc9d3\", \"\\uadd3\\uc18d\\ub9d0\", \"\\uad00\\uc758\", \"\\uc2dc\\uc98c\", \"\\uc778\\uc815\", \"\\ub2e4\\ub9ac\", \"\\ub3c4\\ubcf4\", \"\\uc5f0\\ucd9c\", \"\\ud2b8\\ub7fc\\ud504\", \"\\ud669\\uad50\\uc548\", \"\\ud310\\ubb38\\uc810\", \"\\uae40\\uc815\\uc740\", \"\\uc608\\uce21\", \"\\ud0c1\\ud604\\ubbfc\", \"\\uc6b0\\ub9ac\", \"\\ubc14\\ub2e5\", \"\\ub0a8\\ubd81\", \"\\uc131\\uc870\\uae30\", \"\\uc2e4\\ub825\", \"\\uae40\\uc815\\uc219\", \"\\uac01\\ubcf8\", \"\\uc815\\uc758\\ub2f9\", \"\\uc5b8\\uae09\", \"\\uadd3\\uc18d\\ub9d0\", \"\\uc190\\uc9d3\", \"\\ud68c\\ub2f4\", \"\\uc8fc\\ubaa9\", \"\\uae40\\uc815\\uc740\", \"\\uc601\\uc5b4\", \"\\uc2e4\\ub825\", \"\\ud2b8\\ub7fc\\ud504\", \"\\ud310\\ubb38\\uc810\", \"\\uacf5\\uc870\", \"\\uc2ec\\uc0c1\\uc815\", \"\\ubc18\\ubc1c\", \"\\ubbfc\\uc8fc\\ub2f9\", \"\\ub9dd\\uc2e0\", \"\\ubbf8\\ubd09\", \"\\uc6b4\\uc804\\uc790\", \"\\uc804\\ub77d\", \"\\uace0\\ucc29\", \"\\ub9ac\\uc6a9\\ud638\", \"\\ud655\\uc778\", \"\\ud611\\uc0c1\", \"\\uad50\\uccb4\", \"\\ud558\\ub178\\uc774\", \"\\uc120\\ud76c\", \"\\uad00\\uc758\", \"\\ub2e4\\ub9ac\", \"\\uc778\\uc815\", \"\\ud1b5\\uc5ed\", \"\\ub3c4\\ubcf4\", \"\\uc5f0\\ucd9c\", \"\\uc2dc\\uc98c\", \"\\uc601\\uc0c1\", \"\\ud669\\uad50\\uc548\", \"\\uc815\\uccb4\", \"\\uc608\\uce21\", \"\\ud569\\ucc38\", \"\\ud0c1\\ud604\\ubbfc\", \"\\ubd80\\uc804\\uc120\", \"\\ud3ec\\ucc29\", \"\\ubd88\\uba85\", \"\\ubc14\\ub2e5\", \"\\ub0a8\\ubd81\", \"\\uc6b0\\ub9ac\", \"\\uc815\\uc758\\ub2f9\", \"\\uae40\\uc815\\uc219\", \"\\uae40\\uc5ec\\uc815\", \"\\uc131\\uc870\\uae30\", \"\\uc5ec\\ub2f9\", \"\\uac01\\ubcf8\", \"\\uc5b8\\uae09\", \"\\uc6b0\\ub824\", \"\\ub300\\ud1b5\\ub839\", \"\\uace0\\ucc29\", \"\\uc804\\ub77d\", \"\\ubbf8\\ubd09\", \"\\uc6b4\\uc804\\uc790\", \"\\ub9dd\\uc2e0\", \"\\ub098\\uacbd\\uc6d0\", \"\\uc608\\uce21\", \"\\uc6b0\\ub824\", \"\\ubbfc\\uc8fc\\ub2f9\", \"\\uc2ec\\uc0c1\\uc815\", \"\\uacf5\\uc870\", \"\\ubc18\\ubc1c\", \"\\uc8fc\\ubaa9\", \"\\uadd3\\uc18d\\ub9d0\", \"\\ud68c\\ub2f4\", \"\\uc190\\uc9d3\", \"\\ud611\\uc0c1\", \"\\ub9ac\\uc6a9\\ud638\", \"\\ud558\\ub178\\uc774\", \"\\ud655\\uc778\", \"\\uad50\\uccb4\", \"\\uc120\\ud76c\", \"\\uc2dc\\uc98c\", \"\\uad00\\uc758\", \"\\ub2e4\\ub9ac\", \"\\ud1b5\\uc5ed\", \"\\ub3c4\\ubcf4\", \"\\uc5f0\\ucd9c\", \"\\uc601\\uc0c1\", \"\\uc778\\uc815\", \"\\ud669\\uad50\\uc548\", \"\\ud2b8\\ub7fc\\ud504\", \"\\ud310\\ubb38\\uc810\", \"\\ubd88\\uba85\", \"\\ud0c1\\ud604\\ubbfc\", \"\\ud569\\ucc38\", \"\\uc815\\uccb4\", \"\\uae40\\uc815\\uc740\", \"\\uae40\\uc5ec\\uc815\", \"\\uc131\\uc870\\uae30\", \"\\ubd80\\uc804\\uc120\", \"\\ub0a8\\ubd81\", \"\\uc815\\uc758\\ub2f9\", \"\\ud3ec\\ucc29\", \"\\uad70\\ub300\", \"\\uce68\\ubb35\", \"\\ubc14\\ub2e5\", \"\\uc6b0\\ub9ac\", \"\\uc2e4\\ub825\", \"\\ud68c\\ub3d9\", \"\\uc5b8\\uae09\", \"\\uc774\\ub840\", \"\\ubc18\\ubc1c\", \"\\uacf5\\uc870\", \"\\ubbfc\\uc8fc\\ub2f9\", \"\\uc2ec\\uc0c1\\uc815\", \"\\ub098\\uacbd\\uc6d0\", \"\\uc5ec\\ub2f9\", \"\\uc815\\uc758\\ub2f9\", \"\\ub9dd\\uc2e0\", \"\\ubbf8\\ubd09\", \"\\uc804\\ub77d\", \"\\uc6b4\\uc804\\uc790\", \"\\uace0\\ucc29\", \"\\uc8fc\\ubaa9\", \"\\ud68c\\ub2f4\", \"\\uc190\\uc9d3\", \"\\uadd3\\uc18d\\ub9d0\", \"\\ud558\\ub178\\uc774\", \"\\uad50\\uccb4\", \"\\ud611\\uc0c1\", \"\\ub9ac\\uc6a9\\ud638\", \"\\ud655\\uc778\", \"\\uc120\\ud76c\", \"\\uad00\\uc758\", \"\\ud1b5\\uc5ed\", \"\\uc601\\uc0c1\", \"\\uc2dc\\uc98c\", \"\\ub2e4\\ub9ac\", \"\\uc5f0\\ucd9c\", \"\\uc778\\uc815\", \"\\ub3c4\\ubcf4\", \"\\ud669\\uad50\\uc548\", \"\\ud2b8\\ub7fc\\ud504\", \"\\ud310\\ubb38\\uc810\", \"\\uc608\\uce21\", \"\\ud569\\ucc38\", \"\\ud0c1\\ud604\\ubbfc\", \"\\uae40\\uc815\\uc740\", \"\\ud3ec\\ucc29\", \"\\uc815\\uccb4\", \"\\uc131\\uc870\\uae30\", \"\\ubd88\\uba85\", \"\\uae40\\uc815\\uc219\", \"\\uc6b0\\ub9ac\", \"\\uc5b8\\uae09\", \"\\ubd80\\uc804\\uc120\", \"\\uc0c1\\ud56d\", \"\\ubc14\\ub2e5\", \"\\ub0a8\\ubd81\", \"\\uae40\\uc5ec\\uc815\", \"\\uc6b0\\ub824\", \"\\uc790\\uad6d\", \"\\uc601\\uc5b4\"], \"Total\": [5.0, 2.0, 1.0, 2.0, 2.0, 2.0, 1.0, 1.0, 1.0, 1.0, 3.0, 1.0, 1.0, 2.0, 0.0, 0.0, 0.0, 0.0, 2.0, 0.0, 0.0, 0.0, 0.0, 0.0, 2.0, 3.0, 3.0, 1.0, 1.0, 1.0, 2.702103614807129, 1.9875940084457397, 1.987593412399292, 1.273083209991455, 1.273083209991455, 1.273083209991455, 1.273082971572876, 1.273083209991455, 1.2730830907821655, 1.2730830907821655, 1.2730827331542969, 1.2730828523635864, 1.2730830907821655, 1.2730828523635864, 1.2730828523635864, 1.2730828523635864, 1.2730826139450073, 1.2730827331542969, 1.2730821371078491, 2.5473883152008057, 2.549974203109741, 1.6733243465423584, 1.6733245849609375, 1.6866031885147095, 1.8328787088394165, 1.8354636430740356, 1.8640445470809937, 2.6204679012298584, 3.517638921737671, 0.9588214159011841, 0.9588215351104736, 0.9588214755058289, 5.162800312042236, 1.2372663021087646, 1.2372663021087646, 1.2372663021087646, 1.2372663021087646, 1.237265944480896, 1.237265944480896, 1.237266182899475, 1.237265944480896, 1.237266182899475, 1.2372660636901855, 1.2372660636901855, 1.237265944480896, 1.237265944480896, 1.2372658252716064, 1.237266182899475, 1.2372658252716064, 1.2372653484344482, 1.2372649908065796, 2.6204679012298584, 1.780563235282898, 1.7805633544921875, 1.7996457815170288, 1.8282277584075928, 5.162800312042236, 3.0082459449768066, 3.0082461833953857, 0.9588214159011841, 0.9588215351104736, 0.9588214755058289, 0.9588215351104736, 3.517638921737671, 1.5344798564910889, 2.5473883152008057, 0.972100019454956, 1.1953014135360718, 1.1953015327453613, 1.1953012943267822, 1.1953011751174927, 1.1953012943267822, 1.1953012943267822, 1.1953011751174927, 1.1953011751174927, 1.1953012943267822, 1.1953010559082031, 1.1953010559082031, 1.1953011751174927, 1.1953009366989136, 2.3753244876861572, 2.3753244876861572, 2.3753244876861572, 1.7385984659194946, 3.0082461833953857, 3.0082459449768066, 3.517638921737671, 2.6204679012298584, 0.9588214159011841, 0.9588215351104736, 0.9588215351104736, 0.9588214755058289, 0.972100019454956, 0.9721000790596008, 0.9721000790596008, 0.9721000790596008, 0.9721000790596008, 5.162800312042236, 1.5344798564910889, 2.6806585788726807, 2.702103614807129, 2.5473883152008057, 1.7996457815170288, 1.6866031885147095, 1.987593412399292, 1.1495420932769775, 1.149541974067688, 1.1495418548583984, 1.1495417356491089, 1.1495417356491089, 1.1495418548583984, 1.1495418548583984, 1.1495418548583984, 1.1495418548583984, 1.1495416164398193, 1.1495418548583984, 1.1495417356491089, 1.8282277584075928, 1.8640445470809937, 2.6806585788726807, 3.0082459449768066, 3.0082461833953857, 5.162800312042236, 0.9588214159011841, 0.9588215351104736, 0.9588215351104736, 0.9588214755058289, 0.972100019454956, 0.9721000790596008, 0.9721000790596008, 0.9721000790596008, 0.9721000790596008, 1.0442396402359009, 1.04423987865448, 1.04423987865448, 1.04423987865448, 2.6204679012298584, 3.517638921737671, 1.5344798564910889, 2.5473883152008057, 2.3753244876861572, 2.3753244876861572, 2.3753244876861572, 1.6733245849609375, 2.702103614807129, 1.1953009366989136, 1.987593412399292, 1.1209601163864136, 1.120959997177124, 1.1209601163864136, 1.1209601163864136, 1.1209601163864136, 1.1209601163864136, 1.1209602355957031, 1.1209602355957031, 1.120959997177124, 1.5344798564910889, 1.7996457815170288, 1.8354636430740356, 2.549974203109741, 5.162800312042236, 3.517638921737671, 0.9588214159011841, 0.9588215351104736, 0.9588215351104736, 0.9588214755058289, 0.972100019454956, 0.9721000790596008, 0.9721000790596008, 0.9721000790596008, 0.9721000790596008, 1.04423987865448, 1.04423987865448, 1.0442396402359009, 1.04423987865448, 1.101877212524414, 1.101877212524414, 1.101877212524414, 1.101877212524414, 2.6204679012298584, 3.0082461833953857, 3.0082459449768066, 2.3753244876861572, 2.6806585788726807, 2.3753244876861572, 2.702103614807129, 2.3753244876861572, 1.8640445470809937, 2.5473883152008057, 1.987593412399292, 1.6733245849609375, 1.7385984659194946, 1.8328787088394165, 1.118375539779663, 1.1183754205703735, 1.1183754205703735, 1.1183754205703735, 1.1183754205703735, 1.118375301361084, 1.1183754205703735, 1.118375301361084, 1.6040350198745728, 1.6040350198745728, 1.8328787088394165, 2.5473883152008057, 2.6806585788726807, 3.517638921737671, 5.162800312042236, 0.9588214159011841, 0.9588215351104736, 0.9588215351104736, 0.9588214755058289, 0.972100019454956, 0.9721000790596008, 0.9721000790596008, 0.9721000790596008, 0.9721000790596008, 1.0442396402359009, 1.04423987865448, 1.04423987865448, 1.04423987865448, 1.101877212524414, 1.101877212524414, 1.101877212524414, 1.101877212524414, 2.6204679012298584, 1.5344798564910889, 3.0082461833953857, 3.0082459449768066, 2.3753244876861572, 2.3753244876861572, 1.987593412399292, 2.3753244876861572, 2.549974203109741, 1.372341275215149, 2.702103614807129, 1.7385984659194946, 1.8640445470809937, 1.2730826139450073, 1.101877212524414, 1.101877212524414, 1.1018773317337036, 1.101877212524414, 1.101877212524414, 1.101877212524414, 1.7385984659194946, 1.7805633544921875, 1.780563235282898, 2.3753244876861572, 2.3753244876861572, 2.3753244876861572, 3.0082461833953857, 3.0082459449768066, 0.9588214159011841, 0.9588215351104736, 0.9588214755058289, 0.9588215351104736, 0.972100019454956, 0.9721000790596008, 0.9721000790596008, 0.9721000790596008, 0.9721000790596008, 1.0442396402359009, 1.04423987865448, 1.04423987865448, 1.04423987865448, 1.118375301361084, 1.1183754205703735, 1.1183754205703735, 1.1183754205703735, 1.118375539779663, 1.1183754205703735, 5.162800312042236, 2.6204679012298584, 3.517638921737671, 2.6806585788726807, 1.5344798564910889, 2.5473883152008057, 1.2730821371078491, 1.987593412399292, 2.549974203109741, 2.702103614807129, 1.6040350198745728, 1.7996457815170288, 1.1953009366989136, 1.6733243465423584, 1.2372649908065796, 1.04423987865448, 1.04423987865448, 1.0442396402359009, 1.04423987865448, 2.6806585788726807, 1.6040350198745728, 1.6040350198745728, 5.162800312042236, 3.517638921737671, 0.9588215351104736, 0.9588214159011841, 0.9588214755058289, 0.9588215351104736, 0.972100019454956, 0.9721000790596008, 0.9721000790596008, 0.9721000790596008, 0.9721000790596008, 1.101877212524414, 1.101877212524414, 1.101877212524414, 1.101877212524414, 1.1018773317337036, 1.101877212524414, 1.118375301361084, 1.1183754205703735, 1.1183754205703735, 1.118375301361084, 1.118375539779663, 1.1183754205703735, 1.1183754205703735, 1.1183754205703735, 2.6204679012298584, 3.0082459449768066, 1.5344798564910889, 2.3753244876861572, 2.5473883152008057, 2.3753244876861572, 2.3753244876861572, 3.0082461833953857, 1.987593412399292, 2.549974203109741, 1.2730821371078491, 1.6733243465423584, 1.7996457815170288, 1.8640445470809937, 2.702103614807129, 1.6733245849609375, 1.1953009366989136, 1.2372649908065796, 1.6866031885147095, 1.1953010559082031, 0.9721000790596008, 0.9721000790596008, 0.9721000790596008, 0.9721000790596008, 0.972100019454956, 1.372341275215149, 1.5344798564910889, 1.6866031885147095, 0.9588215351104736, 0.9588214159011841, 0.9588215351104736, 0.9588214755058289, 1.04423987865448, 1.04423987865448, 1.0442396402359009, 1.04423987865448, 1.101877212524414, 1.101877212524414, 1.1018773317337036, 1.101877212524414, 1.101877212524414, 1.101877212524414, 1.1183754205703735, 1.118375301361084, 1.1183754205703735, 1.118375301361084, 1.118375539779663, 1.1183754205703735, 1.1183754205703735, 1.1183754205703735, 2.6204679012298584, 5.162800312042236, 3.517638921737671, 3.0082461833953857, 2.5473883152008057, 2.3753244876861572, 3.0082459449768066, 2.6806585788726807, 1.8640445470809937, 2.702103614807129, 2.3753244876861572, 2.549974203109741, 1.6733243465423584, 2.3753244876861572, 1.8282277584075928, 1.2730827331542969, 1.987593412399292, 1.2730821371078491, 1.6040350198745728, 1.8354636430740356, 1.2372649908065796, 1.2372653484344482, 0.9588214755058289, 0.9588215351104736, 0.9588215351104736, 0.9588214159011841, 1.372341275215149, 1.6733245849609375, 1.6733243465423584, 0.972100019454956, 0.9721000790596008, 0.9721000790596008, 0.9721000790596008, 0.9721000790596008, 1.04423987865448, 1.0442396402359009, 1.04423987865448, 1.04423987865448, 1.1018773317337036, 1.101877212524414, 1.101877212524414, 1.101877212524414, 1.101877212524414, 1.101877212524414, 1.118375301361084, 1.118375301361084, 1.1183754205703735, 1.1183754205703735, 1.1183754205703735, 1.1183754205703735, 1.1183754205703735, 1.118375539779663, 2.6204679012298584, 5.162800312042236, 3.517638921737671, 1.5344798564910889, 2.3753244876861572, 2.5473883152008057, 2.6806585788726807, 2.3753244876861572, 3.0082459449768066, 2.702103614807129, 3.0082461833953857, 1.7996457815170288, 1.2730821371078491, 1.2372649908065796, 2.3753244876861572, 1.7385984659194946, 1.987593412399292, 2.549974203109741, 1.8640445470809937, 1.6866031885147095, 1.120959997177124, 1.6040350198745728], \"loglift\": [30.0, 29.0, 28.0, 27.0, 26.0, 25.0, 24.0, 23.0, 22.0, 21.0, 20.0, 19.0, 18.0, 17.0, 16.0, 15.0, 14.0, 13.0, 12.0, 11.0, 10.0, 9.0, 8.0, 7.0, 6.0, 5.0, 4.0, 3.0, 2.0, 1.0, 1.44350004196167, 1.361199975013733, 1.361199975013733, 1.159999966621399, 1.159999966621399, 1.159999966621399, 1.159999966621399, 1.159999966621399, 1.159999966621399, 1.159999966621399, 1.159999966621399, 1.159999966621399, 1.159999966621399, 1.159999966621399, 1.159999966621399, 1.159999966621399, 1.159999966621399, 1.159999966621399, 1.159999966621399, 1.1130000352859497, 1.1119999885559082, 0.8866999745368958, 0.8866999745368958, 0.8787999749183655, 0.7955999970436096, 0.7942000031471252, 0.7786999940872192, 0.43810001015663147, 0.1437000036239624, -0.9544000029563904, -0.9544000029563904, -0.9544000029563904, -2.6379001140594482, 1.3543000221252441, 1.3543000221252441, 1.3543000221252441, 1.3543000221252441, 1.3543000221252441, 1.3543000221252441, 1.3543000221252441, 1.3543000221252441, 1.3543000221252441, 1.3543000221252441, 1.3543000221252441, 1.3543000221252441, 1.3543000221252441, 1.3543000221252441, 1.3543000221252441, 1.3543000221252441, 1.3543000221252441, 1.3543000221252441, 1.1302000284194946, 0.9901999831199646, 0.9901999831199646, 0.9796000123023987, 0.9638000130653381, 0.5723000168800354, 0.4657999873161316, 0.4657999873161316, -0.7886999845504761, -0.7886999845504761, -0.7886999845504761, -0.7886999845504761, -2.0885000228881836, -1.2589000463485718, -1.7657999992370605, -0.8023999929428101, 1.5082999467849731, 1.5082999467849731, 1.5082999467849731, 1.5082999467849731, 1.5082999467849731, 1.5082999467849731, 1.5082999467849731, 1.5082999467849731, 1.5082999467849731, 1.5082999467849731, 1.5082999467849731, 1.5082999467849731, 1.5082999467849731, 1.4681999683380127, 1.4681999683380127, 1.4681999683380127, 1.1335999965667725, 0.5853000283241272, 0.5853000283241272, 0.42890000343322754, -0.4569000005722046, -0.6692000031471252, -0.6692000031471252, -0.6692000031471252, -0.6692000031471252, -0.6829000115394592, -0.6829000115394592, -0.6829000115394592, -0.6829000115394592, -0.6829000115394592, -2.3526999950408936, -1.1394000053405762, -1.6972999572753906, -1.705199956893921, -1.646299958229065, -1.298799991607666, -1.2338999509811401, -1.3981000185012817, 1.7063000202178955, 1.7063000202178955, 1.7063000202178955, 1.7063000202178955, 1.7063000202178955, 1.7063000202178955, 1.7063000202178955, 1.7063000202178955, 1.7063000202178955, 1.7063000202178955, 1.7063000202178955, 1.7063000202178955, 1.242300033569336, 1.2229000329971313, 0.8596000075340271, 0.7443000078201294, 0.7443000078201294, 0.20419999957084656, -0.510200023651123, -0.510200023651123, -0.510200023651123, -0.510200023651123, -0.5238999724388123, -0.5238999724388123, -0.5238999724388123, -0.5238999724388123, -0.5238999724388123, -0.5954999923706055, -0.5954999923706055, -0.5954999923706055, -0.5954999923706055, -1.5155999660491943, -1.809999942779541, -0.980400025844574, -1.4873000383377075, -1.4174000024795532, -1.4174000024795532, -1.4174000024795532, -1.0670000314712524, -1.5463000535964966, -0.7305999994277954, -1.2391999959945679, 1.7994999885559082, 1.7994999885559082, 1.7994999885559082, 1.7994999885559082, 1.7994999885559082, 1.7994999885559082, 1.7994999885559082, 1.7994999885559082, 1.7994999885559082, 1.4854999780654907, 1.3260999917984009, 1.306399941444397, 0.9775999784469604, 0.9189000129699707, 0.6559000015258789, -0.44209998846054077, -0.44209998846054077, -0.44209998846054077, -0.44209998846054077, -0.45590001344680786, -0.45590001344680786, -0.45590001344680786, -0.45590001344680786, -0.45590001344680786, -0.5274999737739563, -0.5274999737739563, -0.5274999737739563, -0.5274999737739563, -0.5812000036239624, -0.5812000036239624, -0.5812000036239624, -0.5812000036239624, -1.4474999904632568, -1.5855000019073486, -1.5855000019073486, -1.3493000268936157, -1.4701999425888062, -1.3493000268936157, -1.4781999588012695, -1.3493000268936157, -1.1068999767303467, -1.4191999435424805, -1.1711000204086304, -0.9990000128746033, -1.0372999906539917, -1.0901000499725342, 1.8377000093460083, 1.8377000093460083, 1.8377000093460083, 1.8377000093460083, 1.8377000093460083, 1.8377000093460083, 1.8377000093460083, 1.8377000093460083, 1.4769999980926514, 1.4769999980926514, 1.3437000513076782, 1.0145000219345093, 0.9635000228881836, 0.6917999982833862, 0.30809998512268066, -0.40630000829696655, -0.40630000829696655, -0.40630000829696655, -0.40630000829696655, -0.41999998688697815, -0.41999998688697815, -0.41999998688697815, -0.41999998688697815, -0.41999998688697815, -0.49160000681877136, -0.49160000681877136, -0.49160000681877136, -0.49160000681877136, -0.5454000234603882, -0.5454000234603882, -0.5454000234603882, -0.5454000234603882, -1.4117000102996826, -0.8765000104904175, -1.5497000217437744, -1.5497000217437744, -1.3135000467300415, -1.3135000467300415, -1.1353000402450562, -1.3135000467300415, -1.3844000101089478, -0.7649000287055969, -1.4423999786376953, -1.0013999938964844, -1.0710999965667725, -0.6898000240325928, 1.8897000551223755, 1.8897000551223755, 1.8897000551223755, 1.8897000551223755, 1.8897000551223755, 1.8897000551223755, 1.4335999488830566, 1.4098000526428223, 1.4098000526428223, 1.1216000318527222, 1.1216000318527222, 1.1216000318527222, 0.8853999972343445, 0.8853999972343445, -0.36910000443458557, -0.36910000443458557, -0.36910000443458557, -0.36910000443458557, -0.3828999996185303, -0.3828999996185303, -0.3828999996185303, -0.3828999996185303, -0.3828999996185303, -0.4544000029563904, -0.4544000029563904, -0.4544000029563904, -0.4544000029563904, -0.5230000019073486, -0.5230000019073486, -0.5230000019073486, -0.5230000019073486, -0.5230000019073486, -0.5230000019073486, -2.0525999069213867, -1.374500036239624, -1.6689000129699707, -1.3971999883651733, -0.8392999768257141, -1.3461999893188477, -0.6525999903678894, -1.098099946975708, -1.3472000360488892, -1.4052000045776367, -0.8837000131607056, -0.9987000226974487, -0.5896000266075134, -0.9259999990463257, -0.6241000294685364, 2.0641000270843506, 2.0641000270843506, 2.0641000270843506, 2.0641000270843506, 1.767899990081787, 1.6347999572753906, 1.6347999572753906, 1.1124999523162842, 0.8496000170707703, -0.2485000044107437, -0.2485000044107437, -0.2485000044107437, -0.2485000044107437, -0.2621999979019165, -0.2621999979019165, -0.2621999979019165, -0.2621999979019165, -0.2621999979019165, -0.38749998807907104, -0.38749998807907104, -0.38749998807907104, -0.38749998807907104, -0.38749998807907104, -0.38749998807907104, -0.4023999869823456, -0.4023999869823456, -0.4023999869823456, -0.4023999869823456, -0.4023999869823456, -0.4023999869823456, -0.4023999869823456, -0.4023999869823456, -1.2539000511169434, -1.3918999433517456, -0.7186999917030334, -1.1556999683380127, -1.225600004196167, -1.1556999683380127, -1.1556999683380127, -1.3918999433517456, -0.9775000214576721, -1.2266000509262085, -0.5320000052452087, -0.8052999973297119, -0.8780999779701233, -0.9132999777793884, -1.284600019454956, -0.8052999973297119, -0.46889999508857727, -0.5034000277519226, -0.8131999969482422, -0.46889999508857727, 2.272900104522705, 2.272900104522705, 2.272900104522705, 2.272900104522705, 2.272900104522705, 1.9279999732971191, 1.8164000511169434, 1.7217999696731567, -0.11129999905824661, -0.11129999905824661, -0.11129999905824661, -0.11129999905824661, -0.19660000503063202, -0.19660000503063202, -0.19660000503063202, -0.19660000503063202, -0.25029999017715454, -0.25029999017715454, -0.25029999017715454, -0.25029999017715454, -0.25029999017715454, -0.25029999017715454, -0.2651999890804291, -0.2651999890804291, -0.2651999890804291, -0.2651999890804291, -0.2651999890804291, -0.2651999890804291, -0.2651999890804291, -0.2651999890804291, -1.1167000532150269, -1.794800043106079, -1.4111000299453735, -1.254699945449829, -1.0884000062942505, -1.0184999704360962, -1.254699945449829, -1.1394000053405762, -0.7760999798774719, -1.1474000215530396, -1.0184999704360962, -1.089400053024292, -0.6680999994277954, -1.0184999704360962, -0.7566999793052673, -0.39480000734329224, -0.8403000235557556, -0.39480000734329224, -0.6258999705314636, -0.7605999708175659, -0.3662000000476837, -0.3662000000476837, 2.336899995803833, 2.336899995803833, 2.336899995803833, 2.336899995803833, 1.9782999753952026, 1.7799999713897705, 1.7799999713897705, -0.07479999959468842, -0.07479999959468842, -0.07479999959468842, -0.07479999959468842, -0.07479999959468842, -0.14640000462532043, -0.14640000462532043, -0.14640000462532043, -0.14640000462532043, -0.20010000467300415, -0.20010000467300415, -0.20010000467300415, -0.20010000467300415, -0.20010000467300415, -0.20010000467300415, -0.21490000188350677, -0.21490000188350677, -0.21490000188350677, -0.21490000188350677, -0.21490000188350677, -0.21490000188350677, -0.21490000188350677, -0.21490000188350677, -1.0664000511169434, -1.7445000410079956, -1.3609000444412231, -0.5313000082969666, -0.9682000279426575, -1.038100004196167, -1.0891000032424927, -0.9682000279426575, -1.2043999433517456, -1.097100019454956, -1.2043999433517456, -0.6906999945640564, -0.34450000524520874, -0.3160000145435333, -0.9682000279426575, -0.6560999751091003, -0.7900000214576721, -1.039199948310852, -0.7257999777793884, -0.6258000135421753, -0.21729999780654907, -0.5756000280380249], \"logprob\": [30.0, 29.0, 28.0, 27.0, 26.0, 25.0, 24.0, 23.0, 22.0, 21.0, 20.0, 19.0, 18.0, 17.0, 16.0, 15.0, 14.0, 13.0, 12.0, 11.0, 10.0, 9.0, 8.0, 7.0, 6.0, 5.0, 4.0, 3.0, 2.0, 1.0, -2.7272000312805176, -3.1166999340057373, -3.1166999340057373, -3.7632999420166016, -3.7632999420166016, -3.7632999420166016, -3.7632999420166016, -3.7632999420166016, -3.7632999420166016, -3.7632999420166016, -3.7632999420166016, -3.7632999420166016, -3.7632999420166016, -3.7632999420166016, -3.7632999420166016, -3.7632999420166016, -3.7632999420166016, -3.7632999420166016, -3.7632999420166016, -3.1166999340057373, -3.1166999340057373, -3.7632999420166016, -3.7632999420166016, -3.7632999420166016, -3.7632999420166016, -3.7632999420166016, -3.7632999420166016, -3.7632999420166016, -3.7632999420166016, -6.161200046539307, -6.161200046539307, -6.161200046539307, -6.161200046539307, -3.597599983215332, -3.597599983215332, -3.597599983215332, -3.597599983215332, -3.597599983215332, -3.597599983215332, -3.597599983215332, -3.597599983215332, -3.597599983215332, -3.597599983215332, -3.597599983215332, -3.597599983215332, -3.597599983215332, -3.597599983215332, -3.597599983215332, -3.597599983215332, -3.597599983215332, -3.597599983215332, -3.0713000297546387, -3.597599983215332, -3.597599983215332, -3.597599983215332, -3.597599983215332, -2.9509999752044678, -3.597599983215332, -3.597599983215332, -5.995500087738037, -5.995500087738037, -5.995500087738037, -5.995500087738037, -5.995500087738037, -5.995500087738037, -5.995500087738037, -5.995500087738037, -3.478100061416626, -3.478100061416626, -3.478100061416626, -3.478100061416626, -3.478100061416626, -3.478100061416626, -3.478100061416626, -3.478100061416626, -3.478100061416626, -3.478100061416626, -3.478100061416626, -3.478100061416626, -3.478100061416626, -2.8315000534057617, -2.8315000534057617, -2.8315000534057617, -3.478100061416626, -3.478100061416626, -3.478100061416626, -3.478100061416626, -4.658299922943115, -5.875999927520752, -5.875999927520752, -5.875999927520752, -5.875999927520752, -5.875999927520752, -5.875999927520752, -5.875999927520752, -5.875999927520752, -5.875999927520752, -5.875999927520752, -5.875999927520752, -5.875999927520752, -5.875999927520752, -5.875999927520752, -5.875999927520752, -5.875999927520752, -5.875999927520752, -3.3190999031066895, -3.3190999031066895, -3.3190999031066895, -3.3190999031066895, -3.3190999031066895, -3.3190999031066895, -3.3190999031066895, -3.3190999031066895, -3.3190999031066895, -3.3190999031066895, -3.3190999031066895, -3.3190999031066895, -3.3190999031066895, -3.3190999031066895, -3.3190999031066895, -3.3190999031066895, -3.3190999031066895, -3.3190999031066895, -5.7170000076293945, -5.7170000076293945, -5.7170000076293945, -5.7170000076293945, -5.7170000076293945, -5.7170000076293945, -5.7170000076293945, -5.7170000076293945, -5.7170000076293945, -5.7170000076293945, -5.7170000076293945, -5.7170000076293945, -5.7170000076293945, -5.7170000076293945, -5.7170000076293945, -5.7170000076293945, -5.7170000076293945, -5.7170000076293945, -5.7170000076293945, -5.7170000076293945, -5.7170000076293945, -5.7170000076293945, -5.7170000076293945, -5.7170000076293945, -3.2511000633239746, -3.2511000633239746, -3.2511000633239746, -3.2511000633239746, -3.2511000633239746, -3.2511000633239746, -3.2511000633239746, -3.2511000633239746, -3.2511000633239746, -3.2511000633239746, -3.2511000633239746, -3.2511000633239746, -3.2511000633239746, -2.6045000553131104, -3.2511000633239746, -5.64900016784668, -5.64900016784668, -5.64900016784668, -5.64900016784668, -5.64900016784668, -5.64900016784668, -5.64900016784668, -5.64900016784668, -5.64900016784668, -5.64900016784668, -5.64900016784668, -5.64900016784668, -5.64900016784668, -5.64900016784668, -5.64900016784668, -5.64900016784668, -5.64900016784668, -5.64900016784668, -5.64900016784668, -5.64900016784668, -5.64900016784668, -5.64900016784668, -5.64900016784668, -5.64900016784668, -5.64900016784668, -5.64900016784668, -5.64900016784668, -5.64900016784668, -5.64900016784668, -5.64900016784668, -5.64900016784668, -3.2151999473571777, -3.2151999473571777, -3.2151999473571777, -3.2151999473571777, -3.2151999473571777, -3.2151999473571777, -3.2151999473571777, -3.2151999473571777, -3.2151999473571777, -3.2151999473571777, -3.2151999473571777, -3.2151999473571777, -3.2151999473571777, -3.2151999473571777, -3.2151999473571777, -5.613100051879883, -5.613100051879883, -5.613100051879883, -5.613100051879883, -5.613100051879883, -5.613100051879883, -5.613100051879883, -5.613100051879883, -5.613100051879883, -5.613100051879883, -5.613100051879883, -5.613100051879883, -5.613100051879883, -5.613100051879883, -5.613100051879883, -5.613100051879883, -5.613100051879883, -5.613100051879883, -5.613100051879883, -5.613100051879883, -5.613100051879883, -5.613100051879883, -5.613100051879883, -5.613100051879883, -5.613100051879883, -5.613100051879883, -5.613100051879883, -5.613100051879883, -5.613100051879883, -5.613100051879883, -5.613100051879883, -3.178100109100342, -3.178100109100342, -3.178100109100342, -3.178100109100342, -3.178100109100342, -3.178100109100342, -3.178100109100342, -3.178100109100342, -3.178100109100342, -3.178100109100342, -3.178100109100342, -3.178100109100342, -3.178100109100342, -3.178100109100342, -5.575900077819824, -5.575900077819824, -5.575900077819824, -5.575900077819824, -5.575900077819824, -5.575900077819824, -5.575900077819824, -5.575900077819824, -5.575900077819824, -5.575900077819824, -5.575900077819824, -5.575900077819824, -5.575900077819824, -5.575900077819824, -5.575900077819824, -5.575900077819824, -5.575900077819824, -5.575900077819824, -5.575900077819824, -5.575900077819824, -5.575900077819824, -5.575900077819824, -5.575900077819824, -5.575900077819824, -5.575900077819824, -5.575900077819824, -5.575900077819824, -5.575900077819824, -5.575900077819824, -5.575900077819824, -5.575900077819824, -5.575900077819824, -5.575900077819824, -5.575900077819824, -3.0573999881744385, -3.0573999881744385, -3.0573999881744385, -3.0573999881744385, -2.410799980163574, -3.0573999881744385, -3.0573999881744385, -2.410799980163574, -3.0573999881744385, -5.4552998542785645, -5.4552998542785645, -5.4552998542785645, -5.4552998542785645, -5.4552998542785645, -5.4552998542785645, -5.4552998542785645, -5.4552998542785645, -5.4552998542785645, -5.4552998542785645, -5.4552998542785645, -5.4552998542785645, -5.4552998542785645, -5.4552998542785645, -5.4552998542785645, -5.4552998542785645, -5.4552998542785645, -5.4552998542785645, -5.4552998542785645, -5.4552998542785645, -5.4552998542785645, -5.4552998542785645, -5.4552998542785645, -5.4552998542785645, -5.4552998542785645, -5.4552998542785645, -5.4552998542785645, -5.4552998542785645, -5.4552998542785645, -5.4552998542785645, -5.4552998542785645, -5.4552998542785645, -5.4552998542785645, -5.4552998542785645, -5.4552998542785645, -5.4552998542785645, -5.4552998542785645, -5.4552998542785645, -5.4552998542785645, -5.4552998542785645, -5.4552998542785645, -5.4552998542785645, -5.4552998542785645, -2.9202001094818115, -2.9202001094818115, -2.9202001094818115, -2.9202001094818115, -2.9202001094818115, -2.9202001094818115, -2.9202001094818115, -2.9202001094818115, -5.3180999755859375, -5.3180999755859375, -5.3180999755859375, -5.3180999755859375, -5.3180999755859375, -5.3180999755859375, -5.3180999755859375, -5.3180999755859375, -5.3180999755859375, -5.3180999755859375, -5.3180999755859375, -5.3180999755859375, -5.3180999755859375, -5.3180999755859375, -5.3180999755859375, -5.3180999755859375, -5.3180999755859375, -5.3180999755859375, -5.3180999755859375, -5.3180999755859375, -5.3180999755859375, -5.3180999755859375, -5.3180999755859375, -5.3180999755859375, -5.3180999755859375, -5.3180999755859375, -5.3180999755859375, -5.3180999755859375, -5.3180999755859375, -5.3180999755859375, -5.3180999755859375, -5.3180999755859375, -5.3180999755859375, -5.3180999755859375, -5.3180999755859375, -5.3180999755859375, -5.3180999755859375, -5.3180999755859375, -5.3180999755859375, -5.3180999755859375, -5.3180999755859375, -5.3180999755859375, -5.3180999755859375, -5.3180999755859375, -2.869999885559082, -2.869999885559082, -2.869999885559082, -2.869999885559082, -2.869999885559082, -2.869999885559082, -2.869999885559082, -5.267899990081787, -5.267899990081787, -5.267899990081787, -5.267899990081787, -5.267899990081787, -5.267899990081787, -5.267899990081787, -5.267899990081787, -5.267899990081787, -5.267899990081787, -5.267899990081787, -5.267899990081787, -5.267899990081787, -5.267899990081787, -5.267899990081787, -5.267899990081787, -5.267899990081787, -5.267899990081787, -5.267899990081787, -5.267899990081787, -5.267899990081787, -5.267899990081787, -5.267899990081787, -5.2677998542785645, -5.2677998542785645, -5.267899990081787, -5.267899990081787, -5.267899990081787, -5.267899990081787, -5.267899990081787, -5.267899990081787, -5.267899990081787, -5.267899990081787, -5.267899990081787, -5.267899990081787, -5.267899990081787, -5.267899990081787, -5.267899990081787, -5.267899990081787, -5.267899990081787, -5.267899990081787, -5.267899990081787, -5.267899990081787, -5.267899990081787, -5.267899990081787]}, \"token.table\": {\"Topic\": [1, 3, 3, 2, 1, 6, 7, 2, 4, 8, 3, 1, 4, 2, 5, 4, 6, 8, 2, 1, 5, 6, 5, 4, 3, 6, 3, 3, 7, 1, 2, 2, 4, 4, 1, 2, 3, 4, 3, 7, 2, 7, 2, 3, 4, 7, 2, 5, 2, 3, 7, 7, 1, 4, 3, 8, 2, 3, 1, 2, 4, 6, 6, 8, 2, 3, 2, 1, 5, 1, 6, 6, 6, 8, 5, 2, 1, 1, 5, 2, 1, 1, 1, 6, 3, 1, 5, 2, 1, 4, 2, 7, 1, 2, 3, 4, 7, 4, 8, 1, 6, 5, 1, 4, 1, 2, 1, 4, 2, 1, 4, 1, 5, 1, 6, 6, 2, 4, 5, 6, 8, 5, 2, 1, 3, 5, 6, 8, 3, 7, 7, 3, 5, 1, 2, 3, 7, 3, 4, 7, 7, 1, 2, 8, 1, 5], \"Freq\": [0.7854946255683899, 0.836609423160553, 0.8366092443466187, 0.8082336783409119, 0.7854949235916138, 0.8941542506217957, 0.9075421094894409, 0.5469778180122375, 0.5469778180122375, 0.9576343894004822, 0.8366091251373291, 0.5364678502082825, 0.5364678502082825, 0.5556648969650269, 0.5556648969650269, 0.37304264307022095, 0.37304264307022095, 0.37304264307022095, 0.8082334399223328, 0.784321665763855, 0.3921608328819275, 0.8941541314125061, 0.8920924067497253, 0.8699118494987488, 0.8366093039512634, 0.8941540122032166, 0.8366093039512634, 0.8366091251373291, 0.9075421094894409, 0.7854946255683899, 0.8082334995269775, 0.8082334995269775, 0.8699118494987488, 0.8699119687080383, 1.006242036819458, 0.8082336187362671, 0.8366091251373291, 0.869911789894104, 0.4209951162338257, 0.4209951162338257, 0.5616200566291809, 0.5616200566291809, 0.33241960406303406, 0.33241960406303406, 0.33241960406303406, 0.33241960406303406, 0.8082334399223328, 0.8920924067497253, 0.8082336187362671, 0.575175940990448, 0.575175940990448, 0.9075421094894409, 0.740164041519165, 0.869911789894104, 0.8366092443466187, 0.9576343894004822, 0.8082337379455566, 0.8366090655326843, 0.7854949831962585, 0.8082336783409119, 0.869911789894104, 0.8941541314125061, 0.6234278082847595, 0.6234278082847595, 0.8082336783409119, 0.8366092443466187, 0.8082342743873596, 0.5976126790046692, 0.8920922875404358, 0.7854946851730347, 0.8941541314125061, 0.8941541314125061, 0.6234278082847595, 0.6234278082847595, 0.6516866087913513, 0.8082334995269775, 0.5929076671600342, 0.7854952812194824, 0.8920924067497253, 0.8082340359687805, 1.0062416791915894, 0.7854946255683899, 0.7854948043823242, 0.8941541314125061, 0.8366091251373291, 0.7854948043823242, 0.8920924663543701, 0.8082336783409119, 0.7854948043823242, 0.8699116110801697, 0.5616199970245361, 0.5616199970245361, 0.5976127982139587, 0.33241963386535645, 0.33241963386535645, 0.33241963386535645, 0.33241963386535645, 0.8699116706848145, 0.9576343894004822, 0.5455898642539978, 0.5455898642539978, 0.8920924663543701, 0.7854948043823242, 0.869911789894104, 0.7854946851730347, 0.8082334399223328, 0.7854947447776794, 0.869911789894104, 0.8082336783409119, 0.7854946851730347, 0.869911789894104, 0.7854949235916138, 0.8920924067497253, 0.7851178646087646, 0.3925589323043823, 0.8941542506217957, 0.1936933398246765, 0.1936933398246765, 0.1936933398246765, 0.1936933398246765, 0.1936933398246765, 0.8920922875404358, 0.8082334399223328, 0.28428158164024353, 0.28428158164024353, 0.28428158164024353, 0.28428158164024353, 0.28428158164024353, 0.4209951162338257, 0.4209951162338257, 0.9075420498847961, 0.8366092443466187, 0.8920924067497253, 0.7854946255683899, 0.8082337379455566, 0.4209951162338257, 0.4209951162338257, 0.8366090059280396, 0.8699118494987488, 0.9075421094894409, 0.9075421094894409, 0.3816112279891968, 0.3816112279891968, 0.9576345682144165, 0.5448214411735535, 0.5448214411735535], \"Term\": [\"MDL\", \"\\uac01\\ubcf8\", \"\\uac15\\uc6d0\", \"\\uac80\\ucc30\", \"\\uacf5\\ud654\\ub2f9\", \"\\uad00\\uc758\", \"\\uad50\\uccb4\", \"\\uad70\\ub300\", \"\\uad70\\ub300\", \"\\uadd3\\uc18d\\ub9d0\", \"\\uaddc\\uc81c\", \"\\uae40\\uc5ec\\uc815\", \"\\uae40\\uc5ec\\uc815\", \"\\uae40\\uc815\\uc219\", \"\\uae40\\uc815\\uc219\", \"\\uae40\\uc815\\uc740\", \"\\uae40\\uc815\\uc740\", \"\\uae40\\uc815\\uc740\", \"\\ub098\\ube44\", \"\\ub0a8\\ubd81\", \"\\ub0a8\\ubd81\", \"\\ub2e4\\ub9ac\", \"\\ub2e4\\ud589\", \"\\ub300\\uc120\", \"\\ub300\\ud1b5\\ub839\", \"\\ub3c4\\ubcf4\", \"\\ub4dc\\ub77c\\ub9c8\", \"\\ub808\\uc774\\ub354\", \"\\ub9ac\\uc6a9\\ud638\", \"\\ub9cc\\ub0a8\", \"\\uba54\\uc2dc\\uc9c0\", \"\\ubaa9\\uc11c\", \"\\ubbf8\\uad6d\", \"\\ubc00\\ucc29\", \"\\ubc14\\ub2e5\", \"\\ubc18\\ub300\", \"\\ubc18\\ub3c4\\uccb4\", \"\\ubcf4\\uc88c\", \"\\ubd80\\uc804\\uc120\", \"\\ubd80\\uc804\\uc120\", \"\\ubd81\\ud55c\", \"\\ubd81\\ud55c\", \"\\ubd88\\uba85\", \"\\ubd88\\uba85\", \"\\ubd88\\uba85\", \"\\ubd88\\uba85\", \"\\ube0c\\ub85c\\uce58\", \"\\ube44\\ud310\", \"\\uc0ac\\ub4dc\", \"\\uc0c1\\ud56d\", \"\\uc0c1\\ud56d\", \"\\uc120\\ud76c\", \"\\uc131\\uc870\\uae30\", \"\\uc18c\\ub3d9\", \"\\uc18c\\uc7ac\", \"\\uc190\\uc9d3\", \"\\uc218\\uc0ac\", \"\\uc218\\ucd9c\", \"\\uc2a4\\ud15d\", \"\\uc2a4\\ud399\", \"\\uc2dc\\uac04\", \"\\uc2dc\\uc98c\", \"\\uc2e4\\ub825\", \"\\uc2e4\\ub825\", \"\\uc544\\ub4e4\", \"\\uc545\\uc218\", \"\\uc5b8\\uae09\", \"\\uc5ec\\ub2f9\", \"\\uc5ec\\uc0ac\", \"\\uc5ed\\ud48d\", \"\\uc5f0\\ucd9c\", \"\\uc601\\uc0c1\", \"\\uc601\\uc5b4\", \"\\uc601\\uc5b4\", \"\\uc608\\uce21\", \"\\uc624\\uc778\", \"\\uc6b0\\ub824\", \"\\uc6b0\\ub9ac\", \"\\uc6b0\\uc120\\uc8fc\", \"\\uc774\\ub840\", \"\\uc774\\ubc29\", \"\\uc778\\uacf5\", \"\\uc778\\uacf5\\uae30\", \"\\uc778\\uc815\", \"\\uc77c\\ubcf8\", \"\\uc784\\uba85\", \"\\uc790\\uad6d\", \"\\uc790\\ub791\", \"\\uc790\\uc720\", \"\\uc790\\ucc98\", \"\\uc804\\ud22c\\uae30\", \"\\uc804\\ud22c\\uae30\", \"\\uc815\\uc758\\ub2f9\", \"\\uc815\\uccb4\", \"\\uc815\\uccb4\", \"\\uc815\\uccb4\", \"\\uc815\\uccb4\", \"\\uc870\\uc5f0\", \"\\uc8fc\\ubaa9\", \"\\uc900\\ube44\", \"\\uc900\\ube44\", \"\\uc9c0\\ub3c4\\ubd80\", \"\\uc9c0\\uc801\", \"\\uc9c1\\uac70\\ub798\", \"\\uc9c4\\ubcf4\", \"\\uc9c4\\uc2e4\", \"\\uc9c4\\uc601\", \"\\ucd94\\uc801\", \"\\ucd9c\\uaca9\", \"\\ucde8\\uc18c\", \"\\uce58\\uc801\", \"\\uce68\\ubb35\", \"\\uce6d\\ucc2c\", \"\\ud0c1\\ud604\\ubbfc\", \"\\ud0c1\\ud604\\ubbfc\", \"\\ud1b5\\uc5ed\", \"\\ud2b8\\ub7fc\\ud504\", \"\\ud2b8\\ub7fc\\ud504\", \"\\ud2b8\\ub7fc\\ud504\", \"\\ud2b8\\ub7fc\\ud504\", \"\\ud2b8\\ub7fc\\ud504\", \"\\ud2b9\\uae09\", \"\\ud30c\\ub780\", \"\\ud310\\ubb38\\uc810\", \"\\ud310\\ubb38\\uc810\", \"\\ud310\\ubb38\\uc810\", \"\\ud310\\ubb38\\uc810\", \"\\ud310\\ubb38\\uc810\", \"\\ud3ec\\ucc29\", \"\\ud3ec\\ucc29\", \"\\ud558\\ub178\\uc774\", \"\\ud55c\\uad6d\", \"\\ud55c\\uad6d\\ub2f9\", \"\\ud55c\\uc790\\ub9ac\", \"\\ud569\\uaca9\", \"\\ud569\\ucc38\", \"\\ud569\\ucc38\", \"\\ud575\\uc2ec\", \"\\ud604\\uc1a1\\uc6d4\", \"\\ud611\\uc0c1\", \"\\ud655\\uc778\", \"\\ud669\\uad50\\uc548\", \"\\ud669\\uad50\\uc548\", \"\\ud68c\\ub2f4\", \"\\ud68c\\ub3d9\", \"\\ud68c\\ub3d9\"]}, \"R\": 30, \"lambda.step\": 0.01, \"plot.opts\": {\"xlab\": \"PC1\", \"ylab\": \"PC2\"}, \"topic.order\": [2, 8, 5, 10, 1, 9, 4, 6, 3, 7]};\n",
       "\n",
       "function LDAvis_load_lib(url, callback){\n",
       "  var s = document.createElement('script');\n",
       "  s.src = url;\n",
       "  s.async = true;\n",
       "  s.onreadystatechange = s.onload = callback;\n",
       "  s.onerror = function(){console.warn(\"failed to load library \" + url);};\n",
       "  document.getElementsByTagName(\"head\")[0].appendChild(s);\n",
       "}\n",
       "\n",
       "if(typeof(LDAvis) !== \"undefined\"){\n",
       "   // already loaded: just create the visualization\n",
       "   !function(LDAvis){\n",
       "       new LDAvis(\"#\" + \"ldavis_el923618004638174887129254268\", ldavis_el923618004638174887129254268_data);\n",
       "   }(LDAvis);\n",
       "}else if(typeof define === \"function\" && define.amd){\n",
       "   // require.js is available: use it to load d3/LDAvis\n",
       "   require.config({paths: {d3: \"https://cdnjs.cloudflare.com/ajax/libs/d3/3.5.5/d3.min\"}});\n",
       "   require([\"d3\"], function(d3){\n",
       "      window.d3 = d3;\n",
       "      LDAvis_load_lib(\"https://cdn.rawgit.com/bmabey/pyLDAvis/files/ldavis.v1.0.0.js\", function(){\n",
       "        new LDAvis(\"#\" + \"ldavis_el923618004638174887129254268\", ldavis_el923618004638174887129254268_data);\n",
       "      });\n",
       "    });\n",
       "}else{\n",
       "    // require.js not available: dynamically load d3 & LDAvis\n",
       "    LDAvis_load_lib(\"https://cdnjs.cloudflare.com/ajax/libs/d3/3.5.5/d3.min.js\", function(){\n",
       "         LDAvis_load_lib(\"https://cdn.rawgit.com/bmabey/pyLDAvis/files/ldavis.v1.0.0.js\", function(){\n",
       "                 new LDAvis(\"#\" + \"ldavis_el923618004638174887129254268\", ldavis_el923618004638174887129254268_data);\n",
       "            })\n",
       "         });\n",
       "}\n",
       "</script>"
      ],
      "text/plain": [
       "PreparedData(topic_coordinates=              x         y  topics  cluster       Freq\n",
       "topic                                                \n",
       "1      0.177139 -0.098681       1        1  19.352898\n",
       "7     -0.084013  0.099943       2        1  15.575706\n",
       "4     -0.120996 -0.121322       3        1  12.966569\n",
       "9     -0.042732  0.067323       4        1  10.265878\n",
       "0      0.049978  0.053096       5        1   9.126647\n",
       "8      0.057809  0.053203       6        1   8.764819\n",
       "3     -0.113873 -0.070767       7        1   8.196049\n",
       "5      0.024434  0.077160       8        1   6.493983\n",
       "2      0.023405 -0.024011       9        1   4.820473\n",
       "6      0.028850 -0.035943      10        1   4.436975, topic_info=    Category      Freq Term     Total  loglift  logprob\n",
       "4    Default  5.000000  트럼프  5.000000  30.0000  30.0000\n",
       "41   Default  2.000000  김정은  2.000000  29.0000  29.0000\n",
       "9    Default  1.000000  나경원  1.000000  28.0000  28.0000\n",
       "62   Default  2.000000   합참  2.000000  27.0000  27.0000\n",
       "59   Default  2.000000  부전선  2.000000  26.0000  26.0000\n",
       "61   Default  2.000000   포착  2.000000  25.0000  25.0000\n",
       "13   Default  1.000000   여당  1.000000  24.0000  24.0000\n",
       "14   Default  1.000000  정의당  1.000000  23.0000  23.0000\n",
       "7    Default  1.000000   예측  1.000000  22.0000  22.0000\n",
       "29   Default  1.000000   우려  1.000000  21.0000  21.0000\n",
       "25   Default  3.000000  판문점  3.000000  20.0000  20.0000\n",
       "44   Default  1.000000   영어  1.000000  19.0000  19.0000\n",
       "43   Default  1.000000   실력  1.000000  18.0000  18.0000\n",
       "18   Default  2.000000  성조기  2.000000  17.0000  17.0000\n",
       "10   Default  0.000000  민주당  0.000000  16.0000  16.0000\n",
       "11   Default  0.000000   반발  0.000000  15.0000  15.0000\n",
       "8    Default  0.000000   공조  0.000000  14.0000  14.0000\n",
       "12   Default  0.000000  심상정  0.000000  13.0000  13.0000\n",
       "21   Default  2.000000  탁현민  2.000000  12.0000  12.0000\n",
       "32   Default  0.000000   고착  0.000000  11.0000  11.0000\n",
       "33   Default  0.000000   미봉  0.000000  10.0000  10.0000\n",
       "35   Default  0.000000   전락  0.000000   9.0000   9.0000\n",
       "34   Default  0.000000  운전자  0.000000   8.0000   8.0000\n",
       "6    Default  0.000000   망신  0.000000   7.0000   7.0000\n",
       "15   Default  2.000000   남북  2.000000   6.0000   6.0000\n",
       "50   Default  3.000000   불명  3.000000   5.0000   5.0000\n",
       "53   Default  3.000000   정체  3.000000   4.0000   4.0000\n",
       "60   Default  1.000000   상항  1.000000   3.0000   3.0000\n",
       "52   Default  1.000000  전투기  1.000000   2.0000   2.0000\n",
       "49   Default  1.000000   북한  1.000000   1.0000   1.0000\n",
       "..       ...       ...  ...       ...      ...      ...\n",
       "106  Topic10  0.040024   관의  1.118375  -0.2149  -5.2679\n",
       "109  Topic10  0.040024   통역  1.118375  -0.2149  -5.2679\n",
       "107  Topic10  0.040024   영상  1.118375  -0.2149  -5.2679\n",
       "65   Topic10  0.040024   시즌  1.118375  -0.2149  -5.2679\n",
       "63   Topic10  0.040024   다리  1.118375  -0.2149  -5.2679\n",
       "66   Topic10  0.040024   연출  1.118375  -0.2149  -5.2679\n",
       "108  Topic10  0.040024   인정  1.118375  -0.2149  -5.2679\n",
       "64   Topic10  0.040024   도보  1.118376  -0.2149  -5.2679\n",
       "0    Topic10  0.040025  황교안  2.620468  -1.0664  -5.2678\n",
       "4    Topic10  0.040025  트럼프  5.162800  -1.7445  -5.2678\n",
       "25   Topic10  0.040025  판문점  3.517639  -1.3609  -5.2679\n",
       "7    Topic10  0.040025   예측  1.534480  -0.5313  -5.2679\n",
       "62   Topic10  0.040024   합참  2.375324  -0.9682  -5.2679\n",
       "21   Topic10  0.040024  탁현민  2.547388  -1.0381  -5.2679\n",
       "41   Topic10  0.040024  김정은  2.680659  -1.0891  -5.2679\n",
       "61   Topic10  0.040024   포착  2.375324  -0.9682  -5.2679\n",
       "53   Topic10  0.040024   정체  3.008246  -1.2044  -5.2679\n",
       "18   Topic10  0.040024  성조기  2.702104  -1.0971  -5.2679\n",
       "50   Topic10  0.040024   불명  3.008246  -1.2044  -5.2679\n",
       "1    Topic10  0.040024  김정숙  1.799646  -0.6907  -5.2679\n",
       "87   Topic10  0.040024   우리  1.273082  -0.3445  -5.2679\n",
       "97   Topic10  0.040024   언급  1.237265  -0.3160  -5.2679\n",
       "59   Topic10  0.040024  부전선  2.375324  -0.9682  -5.2679\n",
       "60   Topic10  0.040024   상항  1.738598  -0.6561  -5.2679\n",
       "17   Topic10  0.040024   바닥  1.987593  -0.7900  -5.2679\n",
       "15   Topic10  0.040024   남북  2.549974  -1.0392  -5.2679\n",
       "23   Topic10  0.040024  김여정  1.864045  -0.7258  -5.2679\n",
       "29   Topic10  0.040024   우려  1.686603  -0.6258  -5.2679\n",
       "38   Topic10  0.040024   자국  1.120960  -0.2173  -5.2679\n",
       "44   Topic10  0.040024   영어  1.604035  -0.5756  -5.2679\n",
       "\n",
       "[473 rows x 6 columns], token_table=      Topic      Freq Term\n",
       "term                      \n",
       "22        1  0.785495  MDL\n",
       "55        3  0.836609   각본\n",
       "58        3  0.836609   강원\n",
       "118       2  0.808234   검찰\n",
       "85        1  0.785495  공화당\n",
       "106       6  0.894154   관의\n",
       "112       7  0.907542   교체\n",
       "47        2  0.546978   군대\n",
       "47        4  0.546978   군대\n",
       "88        8  0.957634  귓속말\n",
       "77        3  0.836609   규제\n",
       "23        1  0.536468  김여정\n",
       "23        4  0.536468  김여정\n",
       "1         2  0.555665  김정숙\n",
       "1         5  0.555665  김정숙\n",
       "41        4  0.373043  김정은\n",
       "41        6  0.373043  김정은\n",
       "41        8  0.373043  김정은\n",
       "90        2  0.808233   나비\n",
       "15        1  0.784322   남북\n",
       "15        5  0.392161   남북\n",
       "63        6  0.894154   다리\n",
       "46        5  0.892092   다행\n",
       "99        4  0.869912   대선\n",
       "56        3  0.836609  대통령\n",
       "64        6  0.894154   도보\n",
       "57        3  0.836609  드라마\n",
       "105       3  0.836609  레이더\n",
       "113       7  0.907542  리용호\n",
       "16        1  0.785495   만남\n",
       "...     ...       ...  ...\n",
       "4         2  0.193693  트럼프\n",
       "4         4  0.193693  트럼프\n",
       "4         5  0.193693  트럼프\n",
       "4         6  0.193693  트럼프\n",
       "4         8  0.193693  트럼프\n",
       "5         5  0.892092   특급\n",
       "96        2  0.808233   파란\n",
       "25        1  0.284282  판문점\n",
       "25        3  0.284282  판문점\n",
       "25        5  0.284282  판문점\n",
       "25        6  0.284282  판문점\n",
       "25        8  0.284282  판문점\n",
       "61        3  0.420995   포착\n",
       "61        7  0.420995   포착\n",
       "115       7  0.907542  하노이\n",
       "83        3  0.836609   한국\n",
       "40        5  0.892092  한국당\n",
       "26        1  0.785495  한자리\n",
       "123       2  0.808234   합격\n",
       "62        3  0.420995   합참\n",
       "62        7  0.420995   합참\n",
       "84        3  0.836609   핵심\n",
       "76        4  0.869912  현송월\n",
       "116       7  0.907542   협상\n",
       "117       7  0.907542   확인\n",
       "0         1  0.381611  황교안\n",
       "0         2  0.381611  황교안\n",
       "89        8  0.957635   회담\n",
       "27        1  0.544821   회동\n",
       "27        5  0.544821   회동\n",
       "\n",
       "[146 rows x 3 columns], R=30, lambda_step=0.01, plot_opts={'xlab': 'PC1', 'ylab': 'PC2'}, topic_order=[2, 8, 5, 10, 1, 9, 4, 6, 3, 7])"
      ]
     },
     "execution_count": 51,
     "metadata": {},
     "output_type": "execute_result"
    }
   ],
   "source": [
    "# Visualize the topics\n",
    "pyLDAvis.enable_notebook()\n",
    "vis = pyLDAvis.gensim.prepare(lda_model, corpus, id2word)\n",
    "vis"
   ]
  },
  {
   "cell_type": "code",
   "execution_count": 40,
   "metadata": {},
   "outputs": [],
   "source": [
    "import os\n",
    "from gensim.models.wrappers import LdaMallet\n",
    "\n",
    "# os.environ['MALLET_HOME'] = 'C:\\\\Users\\\\camel\\\\mallet-2.0.8'\n",
    "os.environ['MALLET_HOME'] = 'C:/Users/LeeJeungHun/Desktop/데이터_프로젝트/drive-download-20190824T053948Z-001/mallet-2.0.8'\n",
    "\n",
    "# mallet_path = 'C:/Users/camel/mallet-2.0.8/bin/mallet'\n",
    "mallet_path = 'C:/Users/LeeJeungHun/Desktop/데이터_프로젝트/drive-download-20190824T053948Z-001/mallet-2.0.8/bin/mallet'\n",
    "ldamallet = gensim.models.wrappers.LdaMallet(mallet_path, corpus=corpus, num_topics=4, id2word=id2word)"
   ]
  },
  {
   "cell_type": "code",
   "execution_count": 41,
   "metadata": {},
   "outputs": [],
   "source": [
    "def compute_coherence_values(dictionary, corpus, texts, limit, start=2, step=3):\n",
    "    \"\"\"\n",
    "    Compute c_v coherence for various number of topics\n",
    "\n",
    "    Parameters:\n",
    "    ----------\n",
    "    dictionary : Gensim dictionary\n",
    "    corpus : Gensim corpus\n",
    "    texts : List of input texts\n",
    "    limit : Max num of topics\n",
    "\n",
    "    Returns:\n",
    "    -------\n",
    "    model_list : List of LDA topic models\n",
    "    coherence_values : Coherence values corresponding to the LDA model with respective number of topics\n",
    "    \"\"\"\n",
    "    coherence_values = []\n",
    "    model_list = []\n",
    "    for num_topics in range(start, limit, step):\n",
    "        model = gensim.models.wrappers.LdaMallet(mallet_path, corpus=corpus, num_topics=num_topics, id2word=id2word)\n",
    "        model_list.append(model)\n",
    "        coherencemodel = CoherenceModel(model=model, texts=texts, dictionary=dictionary, coherence='c_v')\n",
    "        coherence_values.append(coherencemodel.get_coherence())\n",
    "\n",
    "    return model_list, coherence_values"
   ]
  },
  {
   "cell_type": "code",
   "execution_count": 42,
   "metadata": {},
   "outputs": [],
   "source": [
    "model_list, coherence_values = compute_coherence_values(dictionary=id2word, corpus=corpus, texts=tokenized_doc, start=1, limit=25, step=3)"
   ]
  },
  {
   "cell_type": "code",
   "execution_count": 43,
   "metadata": {},
   "outputs": [
    {
     "data": {
      "image/png": "[encoded data removed]",
      "text/plain": [
       "<Figure size 432x288 with 1 Axes>"
      ]
     },
     "metadata": {
      "needs_background": "light"
     },
     "output_type": "display_data"
    }
   ],
   "source": [
    "# Show graph\n",
    "limit = 25; start=1; step=3;\n",
    "x = range(start, limit, step)\n",
    "plt.plot(x, coherence_values)\n",
    "plt.xlabel('Num Topics')\n",
    "plt.ylabel('Coherence score')\n",
    "plt.legend(('coherence_values'), loc='best')\n",
    "plt.show()"
   ]
  },
  {
   "cell_type": "code",
   "execution_count": 44,
   "metadata": {},
   "outputs": [
    {
     "name": "stdout",
     "output_type": "stream",
     "text": [
      "Num Topics = 1  has Coherence Value of 0.6311\n",
      "Num Topics = 4  has Coherence Value of 0.733\n",
      "Num Topics = 7  has Coherence Value of 0.743\n",
      "Num Topics = 10  has Coherence Value of 0.7402\n",
      "Num Topics = 13  has Coherence Value of 0.6852\n",
      "Num Topics = 16  has Coherence Value of 0.6655\n",
      "Num Topics = 19  has Coherence Value of 0.6523\n",
      "Num Topics = 22  has Coherence Value of 0.6371\n"
     ]
    }
   ],
   "source": [
    "for m, cv in zip(x, coherence_values):\n",
    "    print('Num Topics =', m, \" has Coherence Value of\", round(cv, 4))"
   ]
  },
  {
   "cell_type": "code",
   "execution_count": null,
   "metadata": {},
   "outputs": [],
   "source": []
  },
  {
   "cell_type": "markdown",
   "metadata": {},
   "source": [
    "blahblah"
   ]
  },
  {
   "cell_type": "code",
   "execution_count": 45,
   "metadata": {},
   "outputs": [
    {
     "name": "stdout",
     "output_type": "stream",
     "text": [
      "Collecting kiwipiepy\n",
      "  Downloading https://files.pythonhosted.org/packages/7e/ab/6fba4b344c393b2787e3b0d2ef86e11010ffd36a73769a6e0bfbc6b98298/kiwipiepy-0.6.5-cp37-cp37m-win_amd64.whl (58.0MB)\n",
      "Installing collected packages: kiwipiepy\n",
      "Successfully installed kiwipiepy-0.6.5\n"
     ]
    }
   ],
   "source": [
    "!pip install kiwipiepy"
   ]
  },
  {
   "cell_type": "code",
   "execution_count": 51,
   "metadata": {},
   "outputs": [],
   "source": [
    "from kiwipiepy import Kiwi\n",
    " \n",
    "kiwi = Kiwi()\n",
    "kiwi.prepare()\n",
    " \n",
    "# tokenize 함수를 정의합니다. 한국어 문장을 입력하면 형태소 단위로 분리하고,\n",
    "# 불용어 및 특수 문자 등을 제거한 뒤, list로 반환합니다.\n",
    "def tokenize(sent):\n",
    "    res, score = kiwi.analyze(sent)[0] # 첫번째 결과를 사용\n",
    "    return [word + ('다' if tag.startswith('V') else '') # 동사에는 '다'를 붙여줌\n",
    "            for word, tag, _, _ in res\n",
    "            if not tag.startswith('E') and not tag.startswith('J') and not tag.startswith('S')] # 조사, 어미, 특수기호는 제거\n"
   ]
  },
  {
   "cell_type": "code",
   "execution_count": 52,
   "metadata": {},
   "outputs": [],
   "source": [
    "from kiwipiepy import Kiwi\n",
    " \n",
    "kiwi = Kiwi()\n",
    "kiwi.prepare()\n",
    "stopwords = set([\"사람\", \"것\"])\n",
    "# tokenize 함수를 정의합니다. 한국어 문장을 입력하면 형태소 단위로 분리하고,\n",
    "# 불용어 및 특수 문자 등을 제거한 뒤, list로 반환합니다.\n",
    "def tokenize(sent):\n",
    "    res, score = kiwi.analyze(sent)[0] # 첫번째 결과를 사용\n",
    "    return [word + ('다' if tag.startswith('V') else '') # 동사에는 '다'를 붙여줌\n",
    "            for word, tag, _, _ in res\n",
    "            if not tag.startswith('E') and not tag.startswith('J') and not tag.startswith('S') and word not in stopwords] # 조사, 어미, 특수기호 및 stopwords에 포함된 단어는 제거\n"
   ]
  },
  {
   "cell_type": "code",
   "execution_count": 47,
   "metadata": {},
   "outputs": [],
   "source": [
    "from kiwipiepy import Kiwi\n",
    " \n",
    "kiwi = Kiwi()\n",
    "kiwi.prepare()\n",
    "stopwords = set([\"사람\", \"것\"])\n",
    "# tokenize 함수를 정의합니다. 한국어 문장을 입력하면 형태소 단위로 분리하고,\n",
    "# 불용어 및 특수 문자 등을 제거한 뒤, list로 반환합니다.\n",
    "def tokenize(sent):\n",
    "    res, score = kiwi.analyze(sent)[0] # 첫번째 결과를 사용\n",
    "    return [word + ('다' if tag.startswith('V') else '') # 동사에는 '다'를 붙여줌\n",
    "            for word, tag, _, _ in res\n",
    "            if tag.startswith('N') and word not in stopwords] # 조사, 어미, 특수기호 및 stopwords에 포함된 단어는 제거\n"
   ]
  },
  {
   "cell_type": "code",
   "execution_count": 48,
   "metadata": {},
   "outputs": [
    {
     "data": {
      "text/plain": [
       "['민주당', '나경원', '심상정', '정의당', '반발', '여당', '공조']"
      ]
     },
     "execution_count": 48,
     "metadata": {},
     "output_type": "execute_result"
    }
   ],
   "source": [
    "tokenize(df.title[3])"
   ]
  }
 ],
 "metadata": {
  "kernelspec": {
   "display_name": "Python 3",
   "language": "python",
   "name": "python3"
  },
  "language_info": {
   "codemirror_mode": {
    "name": "ipython",
    "version": 3
   },
   "file_extension": ".py",
   "mimetype": "text/x-python",
   "name": "python",
   "nbconvert_exporter": "python",
   "pygments_lexer": "ipython3",
   "version": "3.7.3"
  }
 },
 "nbformat": 4,
 "nbformat_minor": 2
}
